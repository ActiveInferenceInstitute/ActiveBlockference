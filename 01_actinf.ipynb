{
 "cells": [
  {
   "cell_type": "markdown",
   "metadata": {},
   "source": [
    "# Active Inference cadCAD model\n",
    "\n",
    "This notebook explores active inference agent modeling \n",
    "This notebook adds a frontend interface for visualizing the model outputs and playing around with the parameters.\n",
    "![](opsci_baseline_stock&flow.png)"
   ]
  },
  {
   "cell_type": "markdown",
   "metadata": {},
   "source": [
    "## Developing Active Inference Agents in cadCAD\n",
    "\n",
    "An active inference agent consists of the following matrices:\n",
    "- $A$ -> $P(o|s)$ the generative model's prior beliefs about how hidden states relate to observations\n",
    "- $B$ -> $𝑃(𝑠_𝑡∣𝑠_{𝑡−1},𝑢_{𝑡−1})$ the generative model's prior beliefs about controllable transitions between hidden states over time\n",
    "- $C$ -> $P(o)$ the biased generative model's prior preference for particular observations encoded in terms of probabilities\n",
    "- $D$ -> $P(s)$ the generative model's prior belief over hidden states at the first timestep "
   ]
  },
  {
   "cell_type": "markdown",
   "metadata": {},
   "source": [
    "## cadCAD Standard Notebook Layout"
   ]
  },
  {
   "cell_type": "markdown",
   "metadata": {},
   "source": [
    "### 0. Dependencies"
   ]
  },
  {
   "cell_type": "code",
   "execution_count": 1,
   "metadata": {},
   "outputs": [],
   "source": [
    "import pandas as pd\n",
    "import numpy as np\n",
    "from random import normalvariate, random\n",
    "import plotly.express as px\n",
    "import matplotlib.pyplot as plt\n",
    "import seaborn as sns\n",
    "\n",
    "from cadCAD.configuration.utils import config_sim\n",
    "from cadCAD.configuration import Experiment\n",
    "from cadCAD.engine import ExecutionContext, Executor\n",
    "from cadCAD import configs\n",
    "\n",
    "from pymdp import utils\n",
    "from pymdp.maths import softmax\n",
    "\n",
    "# Additional dependencies\n",
    "\n",
    "# For analytics\n",
    "import itertools\n",
    "\n",
    "# For visualization\n",
    "import plotly.express as px\n",
    "\n",
    "# local utils\n",
    "import utils as u"
   ]
  },
  {
   "cell_type": "markdown",
   "metadata": {},
   "source": [
    "### 0. Useful functions"
   ]
  },
  {
   "cell_type": "code",
   "execution_count": 2,
   "metadata": {},
   "outputs": [],
   "source": [
    "actions = [\"UP\", \"DOWN\", \"LEFT\", \"RIGHT\", \"STAY\"]\n",
    "\n",
    "def create_B_matrix():\n",
    "  B = np.zeros( (len(grid_locations), len(grid_locations), len(actions)) )\n",
    "\n",
    "  for action_id, action_label in enumerate(actions):\n",
    "\n",
    "    for curr_state, grid_location in enumerate(grid_locations):\n",
    "\n",
    "      y, x = grid_location\n",
    "\n",
    "      if action_label == \"UP\":\n",
    "        next_y = y - 1 if y > 0 else y \n",
    "        next_x = x\n",
    "      elif action_label == \"DOWN\":\n",
    "        next_y = y + 1 if y < 2 else y \n",
    "        next_x = x\n",
    "      elif action_label == \"LEFT\":\n",
    "        next_x = x - 1 if x > 0 else x \n",
    "        next_y = y\n",
    "      elif action_label == \"RIGHT\":\n",
    "        next_x = x + 1 if x < 2 else x \n",
    "        next_y = y\n",
    "      elif action_label == \"STAY\":\n",
    "        next_x = x\n",
    "        next_y = y\n",
    "      new_location = (next_y, next_x)\n",
    "      next_state = grid_locations.index(new_location)\n",
    "      B[next_state, curr_state, action_id] = 1.0\n",
    "  return B"
   ]
  },
  {
   "cell_type": "code",
   "execution_count": 3,
   "metadata": {},
   "outputs": [
    {
     "name": "stdout",
     "output_type": "stream",
     "text": [
      "Dimensionality of hidden states: 9\n",
      "Dimensionality of observations: 9\n"
     ]
    },
    {
     "data": {
      "image/png": "[encoded data removed]",
      "text/plain": [
       "<Figure size 432x288 with 1 Axes>"
      ]
     },
     "metadata": {},
     "output_type": "display_data"
    }
   ],
   "source": [
    "grid_locations = list(itertools.product(range(3), repeat = 2))\n",
    "n_states = len(grid_locations)\n",
    "n_observations = len(grid_locations)\n",
    "\n",
    "print(f'Dimensionality of hidden states: {n_states}')\n",
    "print(f'Dimensionality of observations: {n_observations}')\n",
    "u.plot_grid(grid_locations)"
   ]
  },
  {
   "cell_type": "code",
   "execution_count": 4,
   "metadata": {},
   "outputs": [
    {
     "data": {
      "text/plain": [
       "(0, 0)"
      ]
     },
     "execution_count": 4,
     "metadata": {},
     "output_type": "execute_result"
    }
   ],
   "source": [
    "grid_locations[0]"
   ]
  },
  {
   "cell_type": "code",
   "execution_count": 5,
   "metadata": {},
   "outputs": [],
   "source": [
    "\"\"\" Fill out the components of the generative model \"\"\"\n",
    "\n",
    "A = np.eye(n_observations, n_states)\n",
    "\n",
    "B = create_B_matrix()\n",
    "\n",
    "C = utils.onehot(grid_locations.index( (2, 2) ), n_observations) # make the agent prefer location (2,2) (lower right corner of grid world)\n",
    "\n",
    "D = utils.onehot(grid_locations.index( (1,2) ), n_states) # start the agent with the prior belief that it starts in location (1,2) \n",
    "\n",
    "actions = [\"UP\", \"DOWN\", \"LEFT\", \"RIGHT\", \"STAY\"]"
   ]
  },
  {
   "cell_type": "markdown",
   "metadata": {},
   "source": [
    "The pymdp inference loop has the following steps:\n",
    "- initialize prior to the D matrix\n",
    "- get observation index from `grid_locations`\n",
    "- (q_s) perform inference over hidden states with `infer_states`, passing in the observation index, the A matrix, and the prior\n",
    "- calculate expected free energy, passing in the A, B, C matrices, the inferences (q_s) from the previous step, and available actions\n",
    "- compute action posterior (it's the softmax of -G)\n",
    "- sample the action posterior the get the action\n",
    "- compute the prior for next state with the dot product of the B matrix (indexed with the chosen action) and the current inference (q_s)\n",
    "\n",
    "In cadCAD terms:\n",
    "- policy functions:\n",
    "    - `get_observation`\n",
    "    - `infer_states`\n",
    "    - `calc_efe`\n",
    "    - `calc_action_posterior`\n",
    "    - `sample_action`\n",
    "    - `calc_next_prior`\n",
    "    - `update_env_state`\n",
    "- states:\n",
    "    - `prior_A`\n",
    "    - `prior_B`\n",
    "    - `prior_C`\n",
    "    - `env_state`"
   ]
  },
  {
   "cell_type": "markdown",
   "metadata": {},
   "source": [
    "### 1. State Variables"
   ]
  },
  {
   "cell_type": "code",
   "execution_count": 6,
   "metadata": {},
   "outputs": [],
   "source": [
    "initial_state = {\n",
    "    'prior_A': A,\n",
    "    'prior_B': B,\n",
    "    'prior_C': C,\n",
    "    'prior': D,\n",
    "    'env': grid_locations[0]\n",
    "}"
   ]
  },
  {
   "cell_type": "markdown",
   "metadata": {},
   "source": [
    "### 2. System Parameters"
   ]
  },
  {
   "cell_type": "code",
   "execution_count": 7,
   "metadata": {},
   "outputs": [],
   "source": [
    "system_params = {\n",
    "    'prior_A': A,\n",
    "    'prior_B': B,\n",
    "    'prior_C': C,\n",
    "    'prior': D,\n",
    "    'env': grid_locations,\n",
    "    'actions': [\"UP\", \"DOWN\", \"LEFT\", \"RIGHT\", \"STAY\"]\n",
    "}"
   ]
  },
  {
   "cell_type": "markdown",
   "metadata": {},
   "source": [
    "### 3. Policy Functions\n",
    "\n",
    "- `get_observation`\n",
    "- `infer_states`\n",
    "- `calc_efe`\n",
    "- `calc_action_posterior`\n",
    "- `sample_action`\n",
    "- `calc_next_prior`\n",
    "- `update_env_state`"
   ]
  },
  {
   "cell_type": "code",
   "execution_count": 8,
   "metadata": {},
   "outputs": [],
   "source": [
    "def p_actinf(params, substep, state_history, previous_state):\n",
    "    # get obs_idx\n",
    "    obs_idx = grid_locations.index(previous_state['env_state'])\n",
    "\n",
    "    # infer_states\n",
    "    qs_current = u.infer_states(obs_idx, previous_state['prior_A'], previous_state['prior'])\n",
    "\n",
    "    # calc efe\n",
    "    G = u.calculate_G(previous_state['prior_A'], previous_state['prior_B'], previous_state['prior_C'], qs_current, params['actions'])\n",
    "\n",
    "    # calc action posterior\n",
    "    Q_u = softmax(-G)\n",
    "\n",
    "    # sample action\n",
    "    chosen_action = utils.sample(Q_u)\n",
    "\n",
    "    # calc next prior\n",
    "    prior = previous_state['prior_B'][:,:,chosen_action].dot(qs_current) \n",
    "\n",
    "    # update env state\n",
    "    action_label = params['actions'][chosen_action]\n",
    "\n",
    "    (Y, X) = previous_state['env_state']\n",
    "\n",
    "    if action_label == \"UP\": \n",
    "          \n",
    "        Y_new = Y - 1 if Y > 0 else Y\n",
    "        X_new = X\n",
    "\n",
    "    elif action_label == \"DOWN\": \n",
    "\n",
    "        Y_new = Y + 1 if Y < 2 else Y\n",
    "        X_new = X\n",
    "\n",
    "    elif action_label == \"LEFT\": \n",
    "        Y_new = Y\n",
    "        X_new = X - 1 if X > 0 else X\n",
    "\n",
    "    elif action_label == \"RIGHT\": \n",
    "        Y_new = Y\n",
    "        X_new = X +1 if X < 2 else X\n",
    "\n",
    "    elif action_label == \"STAY\":\n",
    "        Y_new, X_new = Y, X \n",
    "        \n",
    "    current_state = (Y_new, X_new) # store the new grid location\n",
    "\n",
    "    return {'update_prior': prior,\n",
    "            'update_env': current_state}"
   ]
  },
  {
   "cell_type": "markdown",
   "metadata": {},
   "source": [
    "### 4. State Update Functions"
   ]
  },
  {
   "cell_type": "code",
   "execution_count": 9,
   "metadata": {},
   "outputs": [],
   "source": [
    "def s_prior(params, substep, state_history, previous_state, policy_input):\n",
    "    updated_prior = policy_input['update_prior']\n",
    "    return 'prior', updated_prior\n",
    "\n",
    "def s_env(params, substep, state_history, previous_state, policy_input):\n",
    "    updated_env_state = policy_input['update_env']\n",
    "    return 'env_state', updated_env_state"
   ]
  },
  {
   "cell_type": "markdown",
   "metadata": {},
   "source": [
    "### 5. Partial State Update Blocks"
   ]
  },
  {
   "cell_type": "code",
   "execution_count": 10,
   "metadata": {},
   "outputs": [],
   "source": [
    "partial_state_update_blocks = [\n",
    "    {\n",
    "        'policies': {\n",
    "            'p_actinf': p_actinf\n",
    "        },\n",
    "        'variables': {\n",
    "            'prior': s_prior,\n",
    "            'env': s_env\n",
    "        }\n",
    "    }\n",
    "]"
   ]
  },
  {
   "cell_type": "markdown",
   "metadata": {},
   "source": [
    "### 6. Configuration"
   ]
  },
  {
   "cell_type": "code",
   "execution_count": 11,
   "metadata": {},
   "outputs": [],
   "source": [
    "def generate_sim_config(monte_carlo_runs=1,\n",
    "                   timesteps=1,\n",
    "                   system_params=system_params):\n",
    "    sim_config = config_sim({\n",
    "        'N': monte_carlo_runs, # the number of times we'll run the simulation (\"Monte Carlo runs\")\n",
    "        'T': range(timesteps), # the number of timesteps the simulation will run for\n",
    "        'M': system_params # the parameters of the system\n",
    "    })\n",
    "\n",
    "    return sim_config"
   ]
  },
  {
   "cell_type": "code",
   "execution_count": 12,
   "metadata": {},
   "outputs": [],
   "source": [
    "def configure_experiment(initial_state,\n",
    "                      partial_state_update_blocks,\n",
    "                      sim_config):\n",
    "    experiment = Experiment()\n",
    "    experiment.append_configs(\n",
    "        initial_state=initial_state,\n",
    "        partial_state_update_blocks=partial_state_update_blocks,\n",
    "        sim_configs=sim_config\n",
    "    )\n",
    "\n",
    "    return experiment"
   ]
  },
  {
   "cell_type": "code",
   "execution_count": 13,
   "metadata": {},
   "outputs": [],
   "source": [
    "del configs[:] # Clear any prior configs\n",
    "\n",
    "sim_config = generate_sim_config()\n",
    "experiment = configure_experiment(initial_state, partial_state_update_blocks, sim_config)"
   ]
  },
  {
   "cell_type": "code",
   "execution_count": 14,
   "metadata": {},
   "outputs": [
    {
     "name": "stdout",
     "output_type": "stream",
     "text": [
      "{'prior_A': array([[1., 0., 0., 0., 0., 0., 0., 0., 0.],\n",
      "       [0., 1., 0., 0., 0., 0., 0., 0., 0.],\n",
      "       [0., 0., 1., 0., 0., 0., 0., 0., 0.],\n",
      "       [0., 0., 0., 1., 0., 0., 0., 0., 0.],\n",
      "       [0., 0., 0., 0., 1., 0., 0., 0., 0.],\n",
      "       [0., 0., 0., 0., 0., 1., 0., 0., 0.],\n",
      "       [0., 0., 0., 0., 0., 0., 1., 0., 0.],\n",
      "       [0., 0., 0., 0., 0., 0., 0., 1., 0.],\n",
      "       [0., 0., 0., 0., 0., 0., 0., 0., 1.]]), 'prior_B': array([[[1., 0., 1., 0., 1.],\n",
      "        [0., 0., 1., 0., 0.],\n",
      "        [0., 0., 0., 0., 0.],\n",
      "        [1., 0., 0., 0., 0.],\n",
      "        [0., 0., 0., 0., 0.],\n",
      "        [0., 0., 0., 0., 0.],\n",
      "        [0., 0., 0., 0., 0.],\n",
      "        [0., 0., 0., 0., 0.],\n",
      "        [0., 0., 0., 0., 0.]],\n",
      "\n",
      "       [[0., 0., 0., 1., 0.],\n",
      "        [1., 0., 0., 0., 1.],\n",
      "        [0., 0., 1., 0., 0.],\n",
      "        [0., 0., 0., 0., 0.],\n",
      "        [1., 0., 0., 0., 0.],\n",
      "        [0., 0., 0., 0., 0.],\n",
      "        [0., 0., 0., 0., 0.],\n",
      "        [0., 0., 0., 0., 0.],\n",
      "        [0., 0., 0., 0., 0.]],\n",
      "\n",
      "       [[0., 0., 0., 0., 0.],\n",
      "        [0., 0., 0., 1., 0.],\n",
      "        [1., 0., 0., 1., 1.],\n",
      "        [0., 0., 0., 0., 0.],\n",
      "        [0., 0., 0., 0., 0.],\n",
      "        [1., 0., 0., 0., 0.],\n",
      "        [0., 0., 0., 0., 0.],\n",
      "        [0., 0., 0., 0., 0.],\n",
      "        [0., 0., 0., 0., 0.]],\n",
      "\n",
      "       [[0., 1., 0., 0., 0.],\n",
      "        [0., 0., 0., 0., 0.],\n",
      "        [0., 0., 0., 0., 0.],\n",
      "        [0., 0., 1., 0., 1.],\n",
      "        [0., 0., 1., 0., 0.],\n",
      "        [0., 0., 0., 0., 0.],\n",
      "        [1., 0., 0., 0., 0.],\n",
      "        [0., 0., 0., 0., 0.],\n",
      "        [0., 0., 0., 0., 0.]],\n",
      "\n",
      "       [[0., 0., 0., 0., 0.],\n",
      "        [0., 1., 0., 0., 0.],\n",
      "        [0., 0., 0., 0., 0.],\n",
      "        [0., 0., 0., 1., 0.],\n",
      "        [0., 0., 0., 0., 1.],\n",
      "        [0., 0., 1., 0., 0.],\n",
      "        [0., 0., 0., 0., 0.],\n",
      "        [1., 0., 0., 0., 0.],\n",
      "        [0., 0., 0., 0., 0.]],\n",
      "\n",
      "       [[0., 0., 0., 0., 0.],\n",
      "        [0., 0., 0., 0., 0.],\n",
      "        [0., 1., 0., 0., 0.],\n",
      "        [0., 0., 0., 0., 0.],\n",
      "        [0., 0., 0., 1., 0.],\n",
      "        [0., 0., 0., 1., 1.],\n",
      "        [0., 0., 0., 0., 0.],\n",
      "        [0., 0., 0., 0., 0.],\n",
      "        [1., 0., 0., 0., 0.]],\n",
      "\n",
      "       [[0., 0., 0., 0., 0.],\n",
      "        [0., 0., 0., 0., 0.],\n",
      "        [0., 0., 0., 0., 0.],\n",
      "        [0., 1., 0., 0., 0.],\n",
      "        [0., 0., 0., 0., 0.],\n",
      "        [0., 0., 0., 0., 0.],\n",
      "        [0., 1., 1., 0., 1.],\n",
      "        [0., 0., 1., 0., 0.],\n",
      "        [0., 0., 0., 0., 0.]],\n",
      "\n",
      "       [[0., 0., 0., 0., 0.],\n",
      "        [0., 0., 0., 0., 0.],\n",
      "        [0., 0., 0., 0., 0.],\n",
      "        [0., 0., 0., 0., 0.],\n",
      "        [0., 1., 0., 0., 0.],\n",
      "        [0., 0., 0., 0., 0.],\n",
      "        [0., 0., 0., 1., 0.],\n",
      "        [0., 1., 0., 0., 1.],\n",
      "        [0., 0., 1., 0., 0.]],\n",
      "\n",
      "       [[0., 0., 0., 0., 0.],\n",
      "        [0., 0., 0., 0., 0.],\n",
      "        [0., 0., 0., 0., 0.],\n",
      "        [0., 0., 0., 0., 0.],\n",
      "        [0., 0., 0., 0., 0.],\n",
      "        [0., 1., 0., 0., 0.],\n",
      "        [0., 0., 0., 0., 0.],\n",
      "        [0., 0., 0., 1., 0.],\n",
      "        [0., 1., 0., 1., 1.]]]), 'prior_C': array([0., 0., 0., 0., 0., 0., 0., 0., 1.]), 'prior': array([0., 0., 0., 0., 0., 1., 0., 0., 0.]), 'env': [(0, 0), (0, 1), (0, 2), (1, 0), (1, 1), (1, 2), (2, 0), (2, 1), (2, 2)], 'actions': ['UP', 'DOWN', 'LEFT', 'RIGHT', 'STAY']}\n"
     ]
    }
   ],
   "source": [
    "print(system_params)"
   ]
  },
  {
   "cell_type": "markdown",
   "metadata": {},
   "source": [
    "### 7. Execution"
   ]
  },
  {
   "cell_type": "code",
   "execution_count": 15,
   "metadata": {},
   "outputs": [],
   "source": [
    "def execute_simulation(experiment, configs):\n",
    "    exec_context = ExecutionContext()\n",
    "    configs = experiment.configs\n",
    "    simulation = Executor(exec_context=exec_context, configs=configs)\n",
    "    raw_result, tensor_field, sessions = simulation.execute()\n",
    "\n",
    "    return raw_result"
   ]
  },
  {
   "cell_type": "code",
   "execution_count": 16,
   "metadata": {},
   "outputs": [
    {
     "name": "stdout",
     "output_type": "stream",
     "text": [
      "\n",
      "                  ___________    ____\n",
      "  ________ __ ___/ / ____/   |  / __ \\\n",
      " / ___/ __` / __  / /   / /| | / / / /\n",
      "/ /__/ /_/ / /_/ / /___/ ___ |/ /_/ /\n",
      "\\___/\\__,_/\\__,_/\\____/_/  |_/_____/\n",
      "by cadCAD\n",
      "\n",
      "cadCAD Version: 0.4.28\n",
      "Execution Mode: local_proc\n",
      "Simulation Dimensions:\n",
      "Entire Simulation: (Models, Unique Timesteps, Params, Total Runs, Sub-States) = (1, 1, 1, 13, 5)\n",
      "     Simulation 0: (Timesteps, Params, Runs, Sub-States) = (1, 1, 13, 5)\n",
      "Execution Method: local_simulations\n",
      "Execution Mode: parallelized\n"
     ]
    }
   ],
   "source": [
    "exec_context = ExecutionContext()\n",
    "configs = experiment.configs\n",
    "simulation = Executor(exec_context=exec_context, configs=configs)\n",
    "raw_result, tensor_field, sessions = simulation.execute()"
   ]
  },
  {
   "cell_type": "markdown",
   "metadata": {},
   "source": [
    "### 8. Analysis"
   ]
  },
  {
   "cell_type": "code",
   "execution_count": 13,
   "metadata": {},
   "outputs": [],
   "source": [
    "pd.options.plotting.backend = \"plotly\""
   ]
  },
  {
   "cell_type": "code",
   "execution_count": 15,
   "metadata": {},
   "outputs": [
    {
     "data": {
      "text/html": [
       "<div>\n",
       "<style scoped>\n",
       "    .dataframe tbody tr th:only-of-type {\n",
       "        vertical-align: middle;\n",
       "    }\n",
       "\n",
       "    .dataframe tbody tr th {\n",
       "        vertical-align: top;\n",
       "    }\n",
       "\n",
       "    .dataframe thead th {\n",
       "        text-align: right;\n",
       "    }\n",
       "</style>\n",
       "<table border=\"1\" class=\"dataframe\">\n",
       "  <thead>\n",
       "    <tr style=\"text-align: right;\">\n",
       "      <th></th>\n",
       "      <th>funding_pool</th>\n",
       "      <th>researcher_value</th>\n",
       "      <th>journal_value</th>\n",
       "      <th>losses</th>\n",
       "      <th>simulation</th>\n",
       "      <th>subset</th>\n",
       "      <th>run</th>\n",
       "      <th>substep</th>\n",
       "      <th>timestep</th>\n",
       "    </tr>\n",
       "  </thead>\n",
       "  <tbody>\n",
       "    <tr>\n",
       "      <th>0</th>\n",
       "      <td>1000</td>\n",
       "      <td>100.0</td>\n",
       "      <td>0.0</td>\n",
       "      <td>0.0</td>\n",
       "      <td>0</td>\n",
       "      <td>0</td>\n",
       "      <td>1</td>\n",
       "      <td>0</td>\n",
       "      <td>0</td>\n",
       "    </tr>\n",
       "    <tr>\n",
       "      <th>1</th>\n",
       "      <td>1000</td>\n",
       "      <td>100.0</td>\n",
       "      <td>10.0</td>\n",
       "      <td>0.0</td>\n",
       "      <td>0</td>\n",
       "      <td>0</td>\n",
       "      <td>1</td>\n",
       "      <td>1</td>\n",
       "      <td>1</td>\n",
       "    </tr>\n",
       "    <tr>\n",
       "      <th>2</th>\n",
       "      <td>1000</td>\n",
       "      <td>100.0</td>\n",
       "      <td>20.0</td>\n",
       "      <td>0.0</td>\n",
       "      <td>0</td>\n",
       "      <td>0</td>\n",
       "      <td>1</td>\n",
       "      <td>1</td>\n",
       "      <td>2</td>\n",
       "    </tr>\n",
       "    <tr>\n",
       "      <th>3</th>\n",
       "      <td>1000</td>\n",
       "      <td>100.0</td>\n",
       "      <td>30.0</td>\n",
       "      <td>0.0</td>\n",
       "      <td>0</td>\n",
       "      <td>0</td>\n",
       "      <td>1</td>\n",
       "      <td>1</td>\n",
       "      <td>3</td>\n",
       "    </tr>\n",
       "    <tr>\n",
       "      <th>4</th>\n",
       "      <td>1000</td>\n",
       "      <td>100.0</td>\n",
       "      <td>40.0</td>\n",
       "      <td>0.0</td>\n",
       "      <td>0</td>\n",
       "      <td>0</td>\n",
       "      <td>1</td>\n",
       "      <td>1</td>\n",
       "      <td>4</td>\n",
       "    </tr>\n",
       "    <tr>\n",
       "      <th>...</th>\n",
       "      <td>...</td>\n",
       "      <td>...</td>\n",
       "      <td>...</td>\n",
       "      <td>...</td>\n",
       "      <td>...</td>\n",
       "      <td>...</td>\n",
       "      <td>...</td>\n",
       "      <td>...</td>\n",
       "      <td>...</td>\n",
       "    </tr>\n",
       "    <tr>\n",
       "      <th>94</th>\n",
       "      <td>400</td>\n",
       "      <td>104.0</td>\n",
       "      <td>170.0</td>\n",
       "      <td>540.0</td>\n",
       "      <td>0</td>\n",
       "      <td>8</td>\n",
       "      <td>9</td>\n",
       "      <td>1</td>\n",
       "      <td>6</td>\n",
       "    </tr>\n",
       "    <tr>\n",
       "      <th>95</th>\n",
       "      <td>300</td>\n",
       "      <td>103.0</td>\n",
       "      <td>200.0</td>\n",
       "      <td>630.0</td>\n",
       "      <td>0</td>\n",
       "      <td>8</td>\n",
       "      <td>9</td>\n",
       "      <td>1</td>\n",
       "      <td>7</td>\n",
       "    </tr>\n",
       "    <tr>\n",
       "      <th>96</th>\n",
       "      <td>200</td>\n",
       "      <td>102.0</td>\n",
       "      <td>230.0</td>\n",
       "      <td>720.0</td>\n",
       "      <td>0</td>\n",
       "      <td>8</td>\n",
       "      <td>9</td>\n",
       "      <td>1</td>\n",
       "      <td>8</td>\n",
       "    </tr>\n",
       "    <tr>\n",
       "      <th>97</th>\n",
       "      <td>100</td>\n",
       "      <td>101.0</td>\n",
       "      <td>260.0</td>\n",
       "      <td>810.0</td>\n",
       "      <td>0</td>\n",
       "      <td>8</td>\n",
       "      <td>9</td>\n",
       "      <td>1</td>\n",
       "      <td>9</td>\n",
       "    </tr>\n",
       "    <tr>\n",
       "      <th>98</th>\n",
       "      <td>0</td>\n",
       "      <td>100.0</td>\n",
       "      <td>290.0</td>\n",
       "      <td>900.0</td>\n",
       "      <td>0</td>\n",
       "      <td>8</td>\n",
       "      <td>9</td>\n",
       "      <td>1</td>\n",
       "      <td>10</td>\n",
       "    </tr>\n",
       "  </tbody>\n",
       "</table>\n",
       "<p>99 rows × 9 columns</p>\n",
       "</div>"
      ],
      "text/plain": [
       "    funding_pool  researcher_value  journal_value  losses  simulation  subset  \\\n",
       "0           1000             100.0            0.0     0.0           0       0   \n",
       "1           1000             100.0           10.0     0.0           0       0   \n",
       "2           1000             100.0           20.0     0.0           0       0   \n",
       "3           1000             100.0           30.0     0.0           0       0   \n",
       "4           1000             100.0           40.0     0.0           0       0   \n",
       "..           ...               ...            ...     ...         ...     ...   \n",
       "94           400             104.0          170.0   540.0           0       8   \n",
       "95           300             103.0          200.0   630.0           0       8   \n",
       "96           200             102.0          230.0   720.0           0       8   \n",
       "97           100             101.0          260.0   810.0           0       8   \n",
       "98             0             100.0          290.0   900.0           0       8   \n",
       "\n",
       "    run  substep  timestep  \n",
       "0     1        0         0  \n",
       "1     1        1         1  \n",
       "2     1        1         2  \n",
       "3     1        1         3  \n",
       "4     1        1         4  \n",
       "..  ...      ...       ...  \n",
       "94    9        1         6  \n",
       "95    9        1         7  \n",
       "96    9        1         8  \n",
       "97    9        1         9  \n",
       "98    9        1        10  \n",
       "\n",
       "[99 rows x 9 columns]"
      ]
     },
     "execution_count": 15,
     "metadata": {},
     "output_type": "execute_result"
    }
   ],
   "source": [
    "df = pd.DataFrame(raw_result)\n",
    "df"
   ]
  }
 ],
 "metadata": {
  "interpreter": {
   "hash": "1c40ef074ae3e469314ef3f88e628f0324534f8bca0228ef979810459d0a5ee0"
  },
  "kernelspec": {
   "display_name": "Python 3.8.0 ('cad')",
   "language": "python",
   "name": "python3"
  },
  "language_info": {
   "codemirror_mode": {
    "name": "ipython",
    "version": 3
   },
   "file_extension": ".py",
   "mimetype": "text/x-python",
   "name": "python",
   "nbconvert_exporter": "python",
   "pygments_lexer": "ipython3",
   "version": "3.8.0"
  },
  "orig_nbformat": 4
 },
 "nbformat": 4,
 "nbformat_minor": 2
}
