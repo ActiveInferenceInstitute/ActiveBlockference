{
 "cells": [
  {
   "cell_type": "markdown",
   "metadata": {},
   "source": [
    "# Active Inference cadCAD model\n",
    "\n",
    "This notebook explores active inference agent modeling in arbitrarily large grid worlds."
   ]
  },
  {
   "cell_type": "markdown",
   "metadata": {},
   "source": [
    "## Developing Active Inference Agents in cadCAD\n",
    "\n",
    "An active inference agent consists of the following matrices:\n",
    "- $A$ -> $P(o|s)$ the generative model's prior beliefs about how hidden states relate to observations\n",
    "- $B$ -> $𝑃(𝑠_𝑡∣𝑠_{𝑡−1},𝑢_{𝑡−1})$ the generative model's prior beliefs about controllable transitions between hidden states over time\n",
    "- $C$ -> $P(o)$ the biased generative model's prior preference for particular observations encoded in terms of probabilities\n",
    "- $D$ -> $P(s)$ the generative model's prior belief over hidden states at the first timestep\n",
    "- $E$ -> agent's affordances (in this notebook referred to as 'actions')"
   ]
  },
  {
   "cell_type": "markdown",
   "metadata": {},
   "source": [
    "## cadCAD Standard Notebook Layout"
   ]
  },
  {
   "cell_type": "markdown",
   "metadata": {},
   "source": [
    "### 0. Dependencies"
   ]
  },
  {
   "cell_type": "code",
   "execution_count": 1,
   "metadata": {},
   "outputs": [],
   "source": [
    "import pandas as pd\n",
    "import numpy as np\n",
    "from random import normalvariate, random\n",
    "import plotly.express as px\n",
    "import matplotlib.pyplot as plt\n",
    "import seaborn as sns\n",
    "\n",
    "from radcad import Model, Simulation, Experiment\n",
    "\n",
    "from model import ActiveGridference\n",
    "# Additional dependencies\n",
    "\n",
    "# For analytics\n",
    "import itertools\n",
    "\n",
    "# For visualization\n",
    "import plotly.express as px\n",
    "\n",
    "# local utils\n",
    "import utils as u\n",
    "from control import construct_policies"
   ]
  },
  {
   "cell_type": "markdown",
   "metadata": {},
   "source": [
    "### 0. Useful functions"
   ]
  },
  {
   "cell_type": "code",
   "execution_count": 2,
   "metadata": {},
   "outputs": [
    {
     "name": "stdout",
     "output_type": "stream",
     "text": [
      "[(0, 0), (0, 1), (0, 2), (0, 3), (0, 4), (0, 5), (0, 6), (0, 7), (0, 8), (0, 9), (1, 0), (1, 1), (1, 2), (1, 3), (1, 4), (1, 5), (1, 6), (1, 7), (1, 8), (1, 9), (2, 0), (2, 1), (2, 2), (2, 3), (2, 4), (2, 5), (2, 6), (2, 7), (2, 8), (2, 9), (3, 0), (3, 1), (3, 2), (3, 3), (3, 4), (3, 5), (3, 6), (3, 7), (3, 8), (3, 9), (4, 0), (4, 1), (4, 2), (4, 3), (4, 4), (4, 5), (4, 6), (4, 7), (4, 8), (4, 9), (5, 0), (5, 1), (5, 2), (5, 3), (5, 4), (5, 5), (5, 6), (5, 7), (5, 8), (5, 9), (6, 0), (6, 1), (6, 2), (6, 3), (6, 4), (6, 5), (6, 6), (6, 7), (6, 8), (6, 9), (7, 0), (7, 1), (7, 2), (7, 3), (7, 4), (7, 5), (7, 6), (7, 7), (7, 8), (7, 9), (8, 0), (8, 1), (8, 2), (8, 3), (8, 4), (8, 5), (8, 6), (8, 7), (8, 8), (8, 9), (9, 0), (9, 1), (9, 2), (9, 3), (9, 4), (9, 5), (9, 6), (9, 7), (9, 8), (9, 9)]\n",
      "9.0\n",
      "100\n"
     ]
    }
   ],
   "source": [
    "grid = list(itertools.product(range(10), repeat=2))\n",
    "print(grid)\n",
    "act = ActiveGridference(grid)\n",
    "act.get_C((9, 3))\n",
    "act.get_D((0, 0))\n",
    "print(act.border)\n",
    "print(len(grid))"
   ]
  },
  {
   "cell_type": "code",
   "execution_count": 3,
   "metadata": {},
   "outputs": [
    {
     "name": "stdout",
     "output_type": "stream",
     "text": [
      "[[0.02672363 0.00983107 0.00983107 ... 0.00983107 0.00983107 0.00983107]\n",
      " [0.00983107 0.02672363 0.00983107 ... 0.00983107 0.00983107 0.00983107]\n",
      " [0.00983107 0.00983107 0.02672363 ... 0.00983107 0.00983107 0.00983107]\n",
      " ...\n",
      " [0.00983107 0.00983107 0.00983107 ... 0.02672363 0.00983107 0.00983107]\n",
      " [0.00983107 0.00983107 0.00983107 ... 0.00983107 0.02672363 0.00983107]\n",
      " [0.00983107 0.00983107 0.00983107 ... 0.00983107 0.00983107 0.02672363]]\n"
     ]
    }
   ],
   "source": [
    "from pymdp.maths import softmax\n",
    "\n",
    "print(softmax(act.A))"
   ]
  },
  {
   "cell_type": "markdown",
   "metadata": {},
   "source": [
    "### 1. State Variables"
   ]
  },
  {
   "cell_type": "code",
   "execution_count": 4,
   "metadata": {},
   "outputs": [],
   "source": [
    "initial_state = {\n",
    "    'prior_A': softmax(act.A),\n",
    "    'prior_B': act.B,\n",
    "    'prior_C': act.C,\n",
    "    'prior': softmax(act.D),\n",
    "    'env_state': grid[0],\n",
    "    'action': '',\n",
    "    'current_inference': ''\n",
    "}"
   ]
  },
  {
   "cell_type": "markdown",
   "metadata": {},
   "source": [
    "### 2. System Parameters"
   ]
  },
  {
   "cell_type": "code",
   "execution_count": 5,
   "metadata": {},
   "outputs": [],
   "source": [
    "params = {\n",
    "    'prior_A': softmax(act.A),\n",
    "    'prior_B': act.B,\n",
    "    'prior_C': act.C,\n",
    "    'prior': softmax(act.D),\n",
    "    'env_state': grid,\n",
    "    'actions': act.E\n",
    "}"
   ]
  },
  {
   "cell_type": "markdown",
   "metadata": {},
   "source": [
    "### 3. Policy Functions\n",
    "\n",
    "- `get_observation`\n",
    "- `infer_states`\n",
    "- `calc_efe`\n",
    "- `calc_action_posterior`\n",
    "- `sample_action`\n",
    "- `calc_next_prior`\n",
    "- `update_env_state`"
   ]
  },
  {
   "cell_type": "code",
   "execution_count": 6,
   "metadata": {},
   "outputs": [],
   "source": [
    "def p_actinf(params, substep, state_history, previous_state):\n",
    "    policies = construct_policies([act.n_states], [len(act.E)], policy_len = act.policy_len)\n",
    "    # get obs_idx\n",
    "    obs_idx = grid.index(previous_state['env_state'])\n",
    "\n",
    "    # infer_states\n",
    "    qs_current = u.infer_states(obs_idx, previous_state['prior_A'], previous_state['prior'])\n",
    "\n",
    "    # calc efe\n",
    "    G = u.calculate_G_policies(previous_state['prior_A'], previous_state['prior_B'], previous_state['prior_C'], qs_current, policies=policies)\n",
    "\n",
    "    # calc action posterior\n",
    "    Q_pi = u.softmax(-G)\n",
    "\n",
    "    # compute the probability of each action\n",
    "    P_u = u.compute_prob_actions(act.E, policies, Q_pi)\n",
    "\n",
    "    # sample action\n",
    "    chosen_action = u.sample(P_u)\n",
    "\n",
    "    # calc next prior\n",
    "    prior = previous_state['prior_B'][:,:,chosen_action].dot(qs_current) \n",
    "\n",
    "    # update env state\n",
    "    # action_label = params['actions'][chosen_action]\n",
    "\n",
    "    (Y, X) = previous_state['env_state']\n",
    "    Y_new = Y\n",
    "    X_new = X\n",
    "\n",
    "    if chosen_action == 0: # UP\n",
    "          \n",
    "        Y_new = Y - 1 if Y > 0 else Y\n",
    "        X_new = X\n",
    "\n",
    "    elif chosen_action == 1: # DOWN\n",
    "\n",
    "        Y_new = Y + 1 if Y < act.border else Y\n",
    "        X_new = X\n",
    "\n",
    "    elif chosen_action == 2: # LEFT\n",
    "        Y_new = Y\n",
    "        X_new = X - 1 if X > 0 else X\n",
    "\n",
    "    elif chosen_action == 3: # RIGHT\n",
    "        Y_new = Y\n",
    "        X_new = X +1 if X < act.border else X\n",
    "\n",
    "    elif chosen_action == 4: # STAY\n",
    "        Y_new, X_new = Y, X \n",
    "        \n",
    "    current_state = (Y_new, X_new) # store the new grid location\n",
    "\n",
    "    return {'update_prior': prior,\n",
    "            'update_env': current_state,\n",
    "            'update_action': chosen_action,\n",
    "            'update_inference': qs_current}"
   ]
  },
  {
   "cell_type": "markdown",
   "metadata": {},
   "source": [
    "### 4. State Update Functions"
   ]
  },
  {
   "cell_type": "code",
   "execution_count": 7,
   "metadata": {},
   "outputs": [],
   "source": [
    "def s_prior(params, substep, state_history, previous_state, policy_input):\n",
    "    updated_prior = policy_input['update_prior']\n",
    "    return 'prior', updated_prior\n",
    "\n",
    "def s_env(params, substep, state_history, previous_state, policy_input):\n",
    "    updated_env_state = policy_input['update_env']\n",
    "    return 'env_state', updated_env_state\n",
    "\n",
    "def s_action(params, substep, state_history, previous_state, policy_input):\n",
    "    return 'action', policy_input['update_action']\n",
    "\n",
    "def s_qs(params, substep, state_history, previous_state, policy_input):\n",
    "    return 'current_inference', policy_input['update_inference']"
   ]
  },
  {
   "cell_type": "markdown",
   "metadata": {},
   "source": [
    "### 5. Partial State Update Blocks"
   ]
  },
  {
   "cell_type": "code",
   "execution_count": 8,
   "metadata": {},
   "outputs": [],
   "source": [
    "state_update_blocks = [\n",
    "    {\n",
    "        'policies': {\n",
    "            'p_actinf': p_actinf\n",
    "        },\n",
    "        'variables': {\n",
    "            'prior': s_prior,\n",
    "            'env_state': s_env,\n",
    "            'action': s_action,\n",
    "            'current_inference': s_qs\n",
    "        }\n",
    "    }\n",
    "]"
   ]
  },
  {
   "cell_type": "markdown",
   "metadata": {},
   "source": [
    "### 6. Configuration"
   ]
  },
  {
   "cell_type": "code",
   "execution_count": 9,
   "metadata": {},
   "outputs": [],
   "source": [
    "model = Model(\n",
    "    # Model initial state\n",
    "    initial_state=initial_state,\n",
    "    # Model Partial State Update Blocks\n",
    "    state_update_blocks=state_update_blocks,\n",
    "    # System Parameters\n",
    "    params=params\n",
    ")"
   ]
  },
  {
   "cell_type": "markdown",
   "metadata": {},
   "source": [
    "### 7. Execution"
   ]
  },
  {
   "cell_type": "code",
   "execution_count": 13,
   "metadata": {},
   "outputs": [],
   "source": [
    "simulation = Simulation(\n",
    "    model=model,\n",
    "    timesteps=100,  # Number of timesteps\n",
    "    runs=1  # Number of Monte Carlo Runs\n",
    ")"
   ]
  },
  {
   "cell_type": "code",
   "execution_count": 14,
   "metadata": {},
   "outputs": [],
   "source": [
    "result = simulation.run()"
   ]
  },
  {
   "cell_type": "markdown",
   "metadata": {},
   "source": [
    "### 8. Analysis"
   ]
  },
  {
   "cell_type": "code",
   "execution_count": 15,
   "metadata": {},
   "outputs": [
    {
     "data": {
      "text/html": [
       "<div>\n",
       "<style scoped>\n",
       "    .dataframe tbody tr th:only-of-type {\n",
       "        vertical-align: middle;\n",
       "    }\n",
       "\n",
       "    .dataframe tbody tr th {\n",
       "        vertical-align: top;\n",
       "    }\n",
       "\n",
       "    .dataframe thead th {\n",
       "        text-align: right;\n",
       "    }\n",
       "</style>\n",
       "<table border=\"1\" class=\"dataframe\">\n",
       "  <thead>\n",
       "    <tr style=\"text-align: right;\">\n",
       "      <th></th>\n",
       "      <th>prior_A</th>\n",
       "      <th>prior_B</th>\n",
       "      <th>prior_C</th>\n",
       "      <th>prior</th>\n",
       "      <th>env_state</th>\n",
       "      <th>action</th>\n",
       "      <th>current_inference</th>\n",
       "      <th>simulation</th>\n",
       "      <th>subset</th>\n",
       "      <th>run</th>\n",
       "      <th>substep</th>\n",
       "      <th>timestep</th>\n",
       "    </tr>\n",
       "  </thead>\n",
       "  <tbody>\n",
       "    <tr>\n",
       "      <th>0</th>\n",
       "      <td>[[0.02672363098939523, 0.009831074434450556, 0...</td>\n",
       "      <td>[[[1.0, 0.0, 1.0, 0.0, 1.0], [0.0, 0.0, 1.0, 0...</td>\n",
       "      <td>[0.0, 0.0, 0.0, 0.0, 0.0, 0.0, 0.0, 0.0, 0.0, ...</td>\n",
       "      <td>[0.02672363098939523, 0.009831074434450556, 0....</td>\n",
       "      <td>(0, 0)</td>\n",
       "      <td></td>\n",
       "      <td></td>\n",
       "      <td>0</td>\n",
       "      <td>0</td>\n",
       "      <td>1</td>\n",
       "      <td>0</td>\n",
       "      <td>0</td>\n",
       "    </tr>\n",
       "    <tr>\n",
       "      <th>1</th>\n",
       "      <td>[[0.02672363098939523, 0.009831074434450556, 0...</td>\n",
       "      <td>[[[1.0, 0.0, 1.0, 0.0, 1.0], [0.0, 0.0, 1.0, 0...</td>\n",
       "      <td>[0.0, 0.0, 0.0, 0.0, 0.0, 0.0, 0.0, 0.0, 0.0, ...</td>\n",
       "      <td>[0.0, 0.0, 0.0, 0.0, 0.0, 0.0, 0.0, 0.0, 0.0, ...</td>\n",
       "      <td>(1, 0)</td>\n",
       "      <td>1</td>\n",
       "      <td>[0.0694531596563796, 0.00939946303377394, 0.00...</td>\n",
       "      <td>0</td>\n",
       "      <td>0</td>\n",
       "      <td>1</td>\n",
       "      <td>1</td>\n",
       "      <td>1</td>\n",
       "    </tr>\n",
       "    <tr>\n",
       "      <th>2</th>\n",
       "      <td>[[0.02672363098939523, 0.009831074434450556, 0...</td>\n",
       "      <td>[[[1.0, 0.0, 1.0, 0.0, 1.0], [0.0, 0.0, 1.0, 0...</td>\n",
       "      <td>[0.0, 0.0, 0.0, 0.0, 0.0, 0.0, 0.0, 0.0, 0.0, ...</td>\n",
       "      <td>[0.0, 0.0, 0.0, 0.0, 0.0, 0.0, 0.0, 0.0, 0.0, ...</td>\n",
       "      <td>(2, 0)</td>\n",
       "      <td>1</td>\n",
       "      <td>[8.933835195079347e-17, 8.933835195079347e-17,...</td>\n",
       "      <td>0</td>\n",
       "      <td>0</td>\n",
       "      <td>1</td>\n",
       "      <td>1</td>\n",
       "      <td>2</td>\n",
       "    </tr>\n",
       "    <tr>\n",
       "      <th>3</th>\n",
       "      <td>[[0.02672363098939523, 0.009831074434450556, 0...</td>\n",
       "      <td>[[[1.0, 0.0, 1.0, 0.0, 1.0], [0.0, 0.0, 1.0, 0...</td>\n",
       "      <td>[0.0, 0.0, 0.0, 0.0, 0.0, 0.0, 0.0, 0.0, 0.0, ...</td>\n",
       "      <td>[2.2432570305759068e-16, 2.2432570305759068e-1...</td>\n",
       "      <td>(1, 0)</td>\n",
       "      <td>0</td>\n",
       "      <td>[7.753058021694265e-17, 7.753058021694265e-17,...</td>\n",
       "      <td>0</td>\n",
       "      <td>0</td>\n",
       "      <td>1</td>\n",
       "      <td>1</td>\n",
       "      <td>3</td>\n",
       "    </tr>\n",
       "    <tr>\n",
       "      <th>4</th>\n",
       "      <td>[[0.02672363098939523, 0.009831074434450556, 0...</td>\n",
       "      <td>[[[1.0, 0.0, 1.0, 0.0, 1.0], [0.0, 0.0, 1.0, 0...</td>\n",
       "      <td>[0.0, 0.0, 0.0, 0.0, 0.0, 0.0, 0.0, 0.0, 0.0, ...</td>\n",
       "      <td>[0.0, 0.0, 0.0, 0.0, 0.0, 0.0, 0.0, 0.0, 0.0, ...</td>\n",
       "      <td>(2, 0)</td>\n",
       "      <td>1</td>\n",
       "      <td>[2.0134671970778882e-16, 2.0134671970778882e-1...</td>\n",
       "      <td>0</td>\n",
       "      <td>0</td>\n",
       "      <td>1</td>\n",
       "      <td>1</td>\n",
       "      <td>4</td>\n",
       "    </tr>\n",
       "    <tr>\n",
       "      <th>...</th>\n",
       "      <td>...</td>\n",
       "      <td>...</td>\n",
       "      <td>...</td>\n",
       "      <td>...</td>\n",
       "      <td>...</td>\n",
       "      <td>...</td>\n",
       "      <td>...</td>\n",
       "      <td>...</td>\n",
       "      <td>...</td>\n",
       "      <td>...</td>\n",
       "      <td>...</td>\n",
       "      <td>...</td>\n",
       "    </tr>\n",
       "    <tr>\n",
       "      <th>10095</th>\n",
       "      <td>[[0.02672363098939523, 0.009831074434450556, 0...</td>\n",
       "      <td>[[[1.0, 0.0, 1.0, 0.0, 1.0], [0.0, 0.0, 1.0, 0...</td>\n",
       "      <td>[0.0, 0.0, 0.0, 0.0, 0.0, 0.0, 0.0, 0.0, 0.0, ...</td>\n",
       "      <td>[0.0, 5.032147244080602e-17, 5.032147244080602...</td>\n",
       "      <td>(8, 2)</td>\n",
       "      <td>3</td>\n",
       "      <td>[5.032147244080602e-17, 5.032147244080602e-17,...</td>\n",
       "      <td>0</td>\n",
       "      <td>99</td>\n",
       "      <td>1</td>\n",
       "      <td>1</td>\n",
       "      <td>96</td>\n",
       "    </tr>\n",
       "    <tr>\n",
       "      <th>10096</th>\n",
       "      <td>[[0.02672363098939523, 0.009831074434450556, 0...</td>\n",
       "      <td>[[[1.0, 0.0, 1.0, 0.0, 1.0], [0.0, 0.0, 1.0, 0...</td>\n",
       "      <td>[0.0, 0.0, 0.0, 0.0, 0.0, 0.0, 0.0, 0.0, 0.0, ...</td>\n",
       "      <td>[9.208812339473694e-17, 5.53001792775925e-17, ...</td>\n",
       "      <td>(8, 1)</td>\n",
       "      <td>2</td>\n",
       "      <td>[3.678794411714443e-17, 5.53001792775925e-17, ...</td>\n",
       "      <td>0</td>\n",
       "      <td>99</td>\n",
       "      <td>1</td>\n",
       "      <td>1</td>\n",
       "      <td>97</td>\n",
       "    </tr>\n",
       "    <tr>\n",
       "      <th>10097</th>\n",
       "      <td>[[0.02672363098939523, 0.009831074434450556, 0...</td>\n",
       "      <td>[[[1.0, 0.0, 1.0, 0.0, 1.0], [0.0, 0.0, 1.0, 0...</td>\n",
       "      <td>[0.0, 0.0, 0.0, 0.0, 0.0, 0.0, 0.0, 0.0, 0.0, ...</td>\n",
       "      <td>[7.066527149012729e-17, 5.71317431664662e-17, ...</td>\n",
       "      <td>(8, 1)</td>\n",
       "      <td>4</td>\n",
       "      <td>[7.066527149012729e-17, 5.71317431664662e-17, ...</td>\n",
       "      <td>0</td>\n",
       "      <td>99</td>\n",
       "      <td>1</td>\n",
       "      <td>1</td>\n",
       "      <td>98</td>\n",
       "    </tr>\n",
       "    <tr>\n",
       "      <th>10098</th>\n",
       "      <td>[[0.02672363098939523, 0.009831074434450556, 0...</td>\n",
       "      <td>[[[1.0, 0.0, 1.0, 0.0, 1.0], [0.0, 0.0, 1.0, 0...</td>\n",
       "      <td>[0.0, 0.0, 0.0, 0.0, 0.0, 0.0, 0.0, 0.0, 0.0, ...</td>\n",
       "      <td>[0.0, 0.0, 0.0, 0.0, 0.0, 0.0, 0.0, 0.0, 0.0, ...</td>\n",
       "      <td>(9, 1)</td>\n",
       "      <td>1</td>\n",
       "      <td>[6.278424470316125e-17, 5.780553786637451e-17,...</td>\n",
       "      <td>0</td>\n",
       "      <td>99</td>\n",
       "      <td>1</td>\n",
       "      <td>1</td>\n",
       "      <td>99</td>\n",
       "    </tr>\n",
       "    <tr>\n",
       "      <th>10099</th>\n",
       "      <td>[[0.02672363098939523, 0.009831074434450556, 0...</td>\n",
       "      <td>[[[1.0, 0.0, 1.0, 0.0, 1.0], [0.0, 0.0, 1.0, 0...</td>\n",
       "      <td>[0.0, 0.0, 0.0, 0.0, 0.0, 0.0, 0.0, 0.0, 0.0, ...</td>\n",
       "      <td>[0.0, 3.678794411714442e-17, 3.678794411714442...</td>\n",
       "      <td>(9, 2)</td>\n",
       "      <td>3</td>\n",
       "      <td>[3.678794411714442e-17, 3.678794411714442e-17,...</td>\n",
       "      <td>0</td>\n",
       "      <td>99</td>\n",
       "      <td>1</td>\n",
       "      <td>1</td>\n",
       "      <td>100</td>\n",
       "    </tr>\n",
       "  </tbody>\n",
       "</table>\n",
       "<p>10100 rows × 12 columns</p>\n",
       "</div>"
      ],
      "text/plain": [
       "                                                 prior_A  \\\n",
       "0      [[0.02672363098939523, 0.009831074434450556, 0...   \n",
       "1      [[0.02672363098939523, 0.009831074434450556, 0...   \n",
       "2      [[0.02672363098939523, 0.009831074434450556, 0...   \n",
       "3      [[0.02672363098939523, 0.009831074434450556, 0...   \n",
       "4      [[0.02672363098939523, 0.009831074434450556, 0...   \n",
       "...                                                  ...   \n",
       "10095  [[0.02672363098939523, 0.009831074434450556, 0...   \n",
       "10096  [[0.02672363098939523, 0.009831074434450556, 0...   \n",
       "10097  [[0.02672363098939523, 0.009831074434450556, 0...   \n",
       "10098  [[0.02672363098939523, 0.009831074434450556, 0...   \n",
       "10099  [[0.02672363098939523, 0.009831074434450556, 0...   \n",
       "\n",
       "                                                 prior_B  \\\n",
       "0      [[[1.0, 0.0, 1.0, 0.0, 1.0], [0.0, 0.0, 1.0, 0...   \n",
       "1      [[[1.0, 0.0, 1.0, 0.0, 1.0], [0.0, 0.0, 1.0, 0...   \n",
       "2      [[[1.0, 0.0, 1.0, 0.0, 1.0], [0.0, 0.0, 1.0, 0...   \n",
       "3      [[[1.0, 0.0, 1.0, 0.0, 1.0], [0.0, 0.0, 1.0, 0...   \n",
       "4      [[[1.0, 0.0, 1.0, 0.0, 1.0], [0.0, 0.0, 1.0, 0...   \n",
       "...                                                  ...   \n",
       "10095  [[[1.0, 0.0, 1.0, 0.0, 1.0], [0.0, 0.0, 1.0, 0...   \n",
       "10096  [[[1.0, 0.0, 1.0, 0.0, 1.0], [0.0, 0.0, 1.0, 0...   \n",
       "10097  [[[1.0, 0.0, 1.0, 0.0, 1.0], [0.0, 0.0, 1.0, 0...   \n",
       "10098  [[[1.0, 0.0, 1.0, 0.0, 1.0], [0.0, 0.0, 1.0, 0...   \n",
       "10099  [[[1.0, 0.0, 1.0, 0.0, 1.0], [0.0, 0.0, 1.0, 0...   \n",
       "\n",
       "                                                 prior_C  \\\n",
       "0      [0.0, 0.0, 0.0, 0.0, 0.0, 0.0, 0.0, 0.0, 0.0, ...   \n",
       "1      [0.0, 0.0, 0.0, 0.0, 0.0, 0.0, 0.0, 0.0, 0.0, ...   \n",
       "2      [0.0, 0.0, 0.0, 0.0, 0.0, 0.0, 0.0, 0.0, 0.0, ...   \n",
       "3      [0.0, 0.0, 0.0, 0.0, 0.0, 0.0, 0.0, 0.0, 0.0, ...   \n",
       "4      [0.0, 0.0, 0.0, 0.0, 0.0, 0.0, 0.0, 0.0, 0.0, ...   \n",
       "...                                                  ...   \n",
       "10095  [0.0, 0.0, 0.0, 0.0, 0.0, 0.0, 0.0, 0.0, 0.0, ...   \n",
       "10096  [0.0, 0.0, 0.0, 0.0, 0.0, 0.0, 0.0, 0.0, 0.0, ...   \n",
       "10097  [0.0, 0.0, 0.0, 0.0, 0.0, 0.0, 0.0, 0.0, 0.0, ...   \n",
       "10098  [0.0, 0.0, 0.0, 0.0, 0.0, 0.0, 0.0, 0.0, 0.0, ...   \n",
       "10099  [0.0, 0.0, 0.0, 0.0, 0.0, 0.0, 0.0, 0.0, 0.0, ...   \n",
       "\n",
       "                                                   prior env_state action  \\\n",
       "0      [0.02672363098939523, 0.009831074434450556, 0....    (0, 0)          \n",
       "1      [0.0, 0.0, 0.0, 0.0, 0.0, 0.0, 0.0, 0.0, 0.0, ...    (1, 0)      1   \n",
       "2      [0.0, 0.0, 0.0, 0.0, 0.0, 0.0, 0.0, 0.0, 0.0, ...    (2, 0)      1   \n",
       "3      [2.2432570305759068e-16, 2.2432570305759068e-1...    (1, 0)      0   \n",
       "4      [0.0, 0.0, 0.0, 0.0, 0.0, 0.0, 0.0, 0.0, 0.0, ...    (2, 0)      1   \n",
       "...                                                  ...       ...    ...   \n",
       "10095  [0.0, 5.032147244080602e-17, 5.032147244080602...    (8, 2)      3   \n",
       "10096  [9.208812339473694e-17, 5.53001792775925e-17, ...    (8, 1)      2   \n",
       "10097  [7.066527149012729e-17, 5.71317431664662e-17, ...    (8, 1)      4   \n",
       "10098  [0.0, 0.0, 0.0, 0.0, 0.0, 0.0, 0.0, 0.0, 0.0, ...    (9, 1)      1   \n",
       "10099  [0.0, 3.678794411714442e-17, 3.678794411714442...    (9, 2)      3   \n",
       "\n",
       "                                       current_inference  simulation  subset  \\\n",
       "0                                                                  0       0   \n",
       "1      [0.0694531596563796, 0.00939946303377394, 0.00...           0       0   \n",
       "2      [8.933835195079347e-17, 8.933835195079347e-17,...           0       0   \n",
       "3      [7.753058021694265e-17, 7.753058021694265e-17,...           0       0   \n",
       "4      [2.0134671970778882e-16, 2.0134671970778882e-1...           0       0   \n",
       "...                                                  ...         ...     ...   \n",
       "10095  [5.032147244080602e-17, 5.032147244080602e-17,...           0      99   \n",
       "10096  [3.678794411714443e-17, 5.53001792775925e-17, ...           0      99   \n",
       "10097  [7.066527149012729e-17, 5.71317431664662e-17, ...           0      99   \n",
       "10098  [6.278424470316125e-17, 5.780553786637451e-17,...           0      99   \n",
       "10099  [3.678794411714442e-17, 3.678794411714442e-17,...           0      99   \n",
       "\n",
       "       run  substep  timestep  \n",
       "0        1        0         0  \n",
       "1        1        1         1  \n",
       "2        1        1         2  \n",
       "3        1        1         3  \n",
       "4        1        1         4  \n",
       "...    ...      ...       ...  \n",
       "10095    1        1        96  \n",
       "10096    1        1        97  \n",
       "10097    1        1        98  \n",
       "10098    1        1        99  \n",
       "10099    1        1       100  \n",
       "\n",
       "[10100 rows x 12 columns]"
      ]
     },
     "execution_count": 15,
     "metadata": {},
     "output_type": "execute_result"
    }
   ],
   "source": [
    "df = pd.DataFrame(result)\n",
    "df"
   ]
  },
  {
   "cell_type": "markdown",
   "metadata": {},
   "source": []
  },
  {
   "cell_type": "code",
   "execution_count": 36,
   "metadata": {},
   "outputs": [
    {
     "data": {
      "image/png": "[encoded data removed]",
      "text/plain": [
       "<Figure size 432x288 with 1 Axes>"
      ]
     },
     "metadata": {
      "needs_background": "light"
     },
     "output_type": "display_data"
    }
   ],
   "source": [
    "u.plot_beliefs(df['prior'][99])"
   ]
  },
  {
   "cell_type": "code",
   "execution_count": null,
   "metadata": {},
   "outputs": [],
   "source": []
  }
 ],
 "metadata": {
  "interpreter": {
   "hash": "1c40ef074ae3e469314ef3f88e628f0324534f8bca0228ef979810459d0a5ee0"
  },
  "kernelspec": {
   "display_name": "Python 3.8.0 ('cad')",
   "language": "python",
   "name": "python3"
  },
  "language_info": {
   "codemirror_mode": {
    "name": "ipython",
    "version": 3
   },
   "file_extension": ".py",
   "mimetype": "text/x-python",
   "name": "python",
   "nbconvert_exporter": "python",
   "pygments_lexer": "ipython3",
   "version": "3.8.0"
  },
  "orig_nbformat": 4
 },
 "nbformat": 4,
 "nbformat_minor": 2
}
