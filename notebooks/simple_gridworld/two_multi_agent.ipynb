{
 "cells": [
  {
   "cell_type": "markdown",
   "metadata": {},
   "source": [
    "## The 2-agent multi-agent Active Blockference"
   ]
  },
  {
   "cell_type": "code",
   "execution_count": 43,
   "metadata": {},
   "outputs": [],
   "source": [
    "import itertools\n",
    "import numpy as np\n",
    "import seaborn as sns\n",
    "from pymdp import utils\n",
    "from copy import deepcopy\n",
    "import matplotlib.pyplot as plt\n",
    "import sys\n",
    "\n",
    "import matplotlib.pyplot as plt\n",
    "import matplotlib.patches as patches\n",
    "import matplotlib.cm as cm\n",
    "\n",
    "sys.path.insert(0, '../../')"
   ]
  },
  {
   "cell_type": "markdown",
   "metadata": {},
   "source": [
    "Now we define a helper plotting function"
   ]
  },
  {
   "cell_type": "markdown",
   "metadata": {
    "tags": []
   },
   "source": [
    "### Visualization functions"
   ]
  },
  {
   "cell_type": "code",
   "execution_count": 117,
   "metadata": {},
   "outputs": [],
   "source": [
    "def plot_grid(grid_locations, num_x = 3, num_y = 3 ):\n",
    "    \"\"\"\n",
    "    Plots the spatial coordinates of GridWorld as a heatmap, with each (X, Y) coordinate \n",
    "    labeled with its linear index (its `state id`)\n",
    "    \"\"\"\n",
    "\n",
    "    grid_heatmap = np.zeros((num_x, num_y))\n",
    "    for linear_idx, location in enumerate(grid_locations):\n",
    "      y, x = location\n",
    "      grid_heatmap[x, y] = linear_idx\n",
    "    sns.set(font_scale=1.5)\n",
    "    sns.heatmap(grid_heatmap, annot=True, cbar = False, fmt='.0f', cmap='crest')\n",
    "\n",
    "def agent_plot(agent_locs):\n",
    "    grid_dims = [3, 3]\n",
    "\n",
    "    num_grid_points = np.prod(grid_dims) # total number of grid locations (rows X columns)\n",
    "\n",
    "    # create a look-up table `loc_list` that maps linear indices to tuples of (y, x) coordinates \n",
    "    grid = np.arange(num_grid_points).reshape(grid_dims)\n",
    "    it = np.nditer(grid, flags=[\"multi_index\"])\n",
    "\n",
    "    loc_list = []\n",
    "    while not it.finished:\n",
    "        loc_list.append(it.multi_index)\n",
    "        it.iternext()\n",
    "\n",
    "\n",
    "    agent_loc_names = ['Agent1', 'Agent2']\n",
    "    agent_locations = agent_locs\n",
    "\n",
    "    fig, ax = plt.subplots(figsize=(10, 6)) \n",
    "\n",
    "    # create the grid visualization\n",
    "    X, Y = np.meshgrid(np.arange(grid_dims[1]+1), np.arange(grid_dims[0]+1))\n",
    "    h = ax.pcolormesh(X, Y, np.ones(grid_dims), edgecolors='k', vmin = 0, vmax = 30, linewidth=3, cmap = 'coolwarm')\n",
    "    # ax.invert_yaxis()\n",
    "\n",
    "    text_offsets = [0.4, 0.6]\n",
    "\n",
    "    cue_grid = np.ones(grid_dims)\n",
    "    for ii, loc_ii in enumerate(agent_locations):\n",
    "      row_coord, column_coord = loc_ii\n",
    "      cue_grid[row_coord, column_coord] = 5.0\n",
    "      ax.text(column_coord+text_offsets[0], row_coord+text_offsets[1], agent_loc_names[ii], fontsize = 15, color='k')\n",
    "    h.set_array(cue_grid.ravel())"
   ]
  },
  {
   "cell_type": "markdown",
   "metadata": {},
   "source": [
    "Next we define the gridworld the agents will occupy"
   ]
  },
  {
   "cell_type": "code",
   "execution_count": 104,
   "metadata": {},
   "outputs": [
    {
     "name": "stdout",
     "output_type": "stream",
     "text": [
      "Position dictionary is {0: (0, 0), 1: (0, 1), 2: (0, 2), 3: (1, 0), 4: (1, 1), 5: (1, 2), 6: (2, 0), 7: (2, 1), 8: (2, 2)}\n",
      "Grid locations are [(0, 0), (0, 1), (0, 2), (1, 0), (1, 1), (1, 2), (2, 0), (2, 1), (2, 2)]\n"
     ]
    },
    {
     "data": {
      "image/png": "[encoded data removed]",
      "text/plain": [
       "<Figure size 432x288 with 1 Axes>"
      ]
     },
     "metadata": {},
     "output_type": "display_data"
    }
   ],
   "source": [
    "grid_locations = list(itertools.product(range(3), repeat=2))\n",
    "num_grid_points = len(grid_locations)\n",
    "\n",
    "pos_dict = {}\n",
    "for i in range(0, len(grid_locations)):\n",
    "    pos_dict[i] = grid_locations[i]\n",
    "plot_grid(grid_locations)\n",
    "print(f'Position dictionary is {pos_dict}')\n",
    "print(f'Grid locations are {grid_locations}')"
   ]
  },
  {
   "cell_type": "markdown",
   "metadata": {},
   "source": [
    "## Construct the A matrix\n",
    "\n",
    "The A matrix represents the likelihood mapping between agents' observations and their hidden states.\n",
    "\n",
    "In the 2 agent case, a single agents observes:\n",
    "1. its current location (1 out of 9 for a 3x3 grid world)\n",
    "2. the location of the other agent (1 out of 9 for a 3x3 grid world)\n",
    "\n",
    "This means the A matrix needs to be a rank 2 tensor with each submatrix representing beliefs over a location, given an observation of my location and the observation of the other agent's location.\n",
    "\n",
    "The number of possible locations for both agents is the same (9).\n",
    "\n",
    "**The resulting shape of the A matrix should be (2,) with each submatrix being (9, 9, 9).**"
   ]
  },
  {
   "cell_type": "markdown",
   "metadata": {},
   "source": [
    "#### States and observations in the 3x3 grid world for 2 agents\n",
    "\n",
    "The first agent has 9 possible locations to visit in the grid world. The second agent does as well.\n",
    "\n",
    "We will encode the number of states in a sparse representation, by modality. The first modality is the location of the agent receiving the observation, the second is the location of the other agent."
   ]
  },
  {
   "cell_type": "code",
   "execution_count": 46,
   "metadata": {},
   "outputs": [
    {
     "data": {
      "text/plain": [
       "[9, 9]"
      ]
     },
     "execution_count": 46,
     "metadata": {},
     "output_type": "execute_result"
    }
   ],
   "source": [
    "num_states = [len(grid_locations), len(grid_locations)]; num_states"
   ]
  },
  {
   "cell_type": "code",
   "execution_count": 47,
   "metadata": {},
   "outputs": [
    {
     "data": {
      "text/plain": [
       "2"
      ]
     },
     "execution_count": 47,
     "metadata": {},
     "output_type": "execute_result"
    }
   ],
   "source": [
    "num_factors = len(num_states); num_factors"
   ]
  },
  {
   "cell_type": "markdown",
   "metadata": {},
   "source": [
    "The number of observations is the same as the number of states (hidden states)."
   ]
  },
  {
   "cell_type": "code",
   "execution_count": 48,
   "metadata": {},
   "outputs": [],
   "source": [
    "num_obs = [len(grid_locations), len(grid_locations)]"
   ]
  },
  {
   "cell_type": "markdown",
   "metadata": {},
   "source": [
    "The shape of the A matrix is determined by the dimension of each respective modality and the number thereof.\n",
    "\n",
    "To recap, the number of modalities is 2: The first modality is the location of the agent receiving the observation, the second is the location of the other agent.\n",
    "\n",
    "The dimension of each modality is 9x9 (same as the grid world).\n",
    "\n",
    "Hence, we can define the shape of the A matrix as [[9, 9], [9, 9]]."
   ]
  },
  {
   "cell_type": "code",
   "execution_count": 49,
   "metadata": {},
   "outputs": [
    {
     "data": {
      "text/plain": [
       "[[9, 9, 9], [9, 9, 9]]"
      ]
     },
     "execution_count": 49,
     "metadata": {},
     "output_type": "execute_result"
    }
   ],
   "source": [
    "A_m_shapes = [[9, 9, 9], [9, 9, 9]]; A_m_shapes"
   ]
  },
  {
   "cell_type": "markdown",
   "metadata": {},
   "source": [
    "From the general shape, we construct the A matrix with the help of pymdp's `obj_array_zeros` function, which will just initialize the matrix with null entries (we'll fill in the correct entries later)."
   ]
  },
  {
   "cell_type": "code",
   "execution_count": 50,
   "metadata": {},
   "outputs": [
    {
     "data": {
      "text/plain": [
       "array([array([[[0., 0., 0., 0., 0., 0., 0., 0., 0.],\n",
       "               [0., 0., 0., 0., 0., 0., 0., 0., 0.],\n",
       "               [0., 0., 0., 0., 0., 0., 0., 0., 0.],\n",
       "               [0., 0., 0., 0., 0., 0., 0., 0., 0.],\n",
       "               [0., 0., 0., 0., 0., 0., 0., 0., 0.],\n",
       "               [0., 0., 0., 0., 0., 0., 0., 0., 0.],\n",
       "               [0., 0., 0., 0., 0., 0., 0., 0., 0.],\n",
       "               [0., 0., 0., 0., 0., 0., 0., 0., 0.],\n",
       "               [0., 0., 0., 0., 0., 0., 0., 0., 0.]],\n",
       "\n",
       "              [[0., 0., 0., 0., 0., 0., 0., 0., 0.],\n",
       "               [0., 0., 0., 0., 0., 0., 0., 0., 0.],\n",
       "               [0., 0., 0., 0., 0., 0., 0., 0., 0.],\n",
       "               [0., 0., 0., 0., 0., 0., 0., 0., 0.],\n",
       "               [0., 0., 0., 0., 0., 0., 0., 0., 0.],\n",
       "               [0., 0., 0., 0., 0., 0., 0., 0., 0.],\n",
       "               [0., 0., 0., 0., 0., 0., 0., 0., 0.],\n",
       "               [0., 0., 0., 0., 0., 0., 0., 0., 0.],\n",
       "               [0., 0., 0., 0., 0., 0., 0., 0., 0.]],\n",
       "\n",
       "              [[0., 0., 0., 0., 0., 0., 0., 0., 0.],\n",
       "               [0., 0., 0., 0., 0., 0., 0., 0., 0.],\n",
       "               [0., 0., 0., 0., 0., 0., 0., 0., 0.],\n",
       "               [0., 0., 0., 0., 0., 0., 0., 0., 0.],\n",
       "               [0., 0., 0., 0., 0., 0., 0., 0., 0.],\n",
       "               [0., 0., 0., 0., 0., 0., 0., 0., 0.],\n",
       "               [0., 0., 0., 0., 0., 0., 0., 0., 0.],\n",
       "               [0., 0., 0., 0., 0., 0., 0., 0., 0.],\n",
       "               [0., 0., 0., 0., 0., 0., 0., 0., 0.]],\n",
       "\n",
       "              [[0., 0., 0., 0., 0., 0., 0., 0., 0.],\n",
       "               [0., 0., 0., 0., 0., 0., 0., 0., 0.],\n",
       "               [0., 0., 0., 0., 0., 0., 0., 0., 0.],\n",
       "               [0., 0., 0., 0., 0., 0., 0., 0., 0.],\n",
       "               [0., 0., 0., 0., 0., 0., 0., 0., 0.],\n",
       "               [0., 0., 0., 0., 0., 0., 0., 0., 0.],\n",
       "               [0., 0., 0., 0., 0., 0., 0., 0., 0.],\n",
       "               [0., 0., 0., 0., 0., 0., 0., 0., 0.],\n",
       "               [0., 0., 0., 0., 0., 0., 0., 0., 0.]],\n",
       "\n",
       "              [[0., 0., 0., 0., 0., 0., 0., 0., 0.],\n",
       "               [0., 0., 0., 0., 0., 0., 0., 0., 0.],\n",
       "               [0., 0., 0., 0., 0., 0., 0., 0., 0.],\n",
       "               [0., 0., 0., 0., 0., 0., 0., 0., 0.],\n",
       "               [0., 0., 0., 0., 0., 0., 0., 0., 0.],\n",
       "               [0., 0., 0., 0., 0., 0., 0., 0., 0.],\n",
       "               [0., 0., 0., 0., 0., 0., 0., 0., 0.],\n",
       "               [0., 0., 0., 0., 0., 0., 0., 0., 0.],\n",
       "               [0., 0., 0., 0., 0., 0., 0., 0., 0.]],\n",
       "\n",
       "              [[0., 0., 0., 0., 0., 0., 0., 0., 0.],\n",
       "               [0., 0., 0., 0., 0., 0., 0., 0., 0.],\n",
       "               [0., 0., 0., 0., 0., 0., 0., 0., 0.],\n",
       "               [0., 0., 0., 0., 0., 0., 0., 0., 0.],\n",
       "               [0., 0., 0., 0., 0., 0., 0., 0., 0.],\n",
       "               [0., 0., 0., 0., 0., 0., 0., 0., 0.],\n",
       "               [0., 0., 0., 0., 0., 0., 0., 0., 0.],\n",
       "               [0., 0., 0., 0., 0., 0., 0., 0., 0.],\n",
       "               [0., 0., 0., 0., 0., 0., 0., 0., 0.]],\n",
       "\n",
       "              [[0., 0., 0., 0., 0., 0., 0., 0., 0.],\n",
       "               [0., 0., 0., 0., 0., 0., 0., 0., 0.],\n",
       "               [0., 0., 0., 0., 0., 0., 0., 0., 0.],\n",
       "               [0., 0., 0., 0., 0., 0., 0., 0., 0.],\n",
       "               [0., 0., 0., 0., 0., 0., 0., 0., 0.],\n",
       "               [0., 0., 0., 0., 0., 0., 0., 0., 0.],\n",
       "               [0., 0., 0., 0., 0., 0., 0., 0., 0.],\n",
       "               [0., 0., 0., 0., 0., 0., 0., 0., 0.],\n",
       "               [0., 0., 0., 0., 0., 0., 0., 0., 0.]],\n",
       "\n",
       "              [[0., 0., 0., 0., 0., 0., 0., 0., 0.],\n",
       "               [0., 0., 0., 0., 0., 0., 0., 0., 0.],\n",
       "               [0., 0., 0., 0., 0., 0., 0., 0., 0.],\n",
       "               [0., 0., 0., 0., 0., 0., 0., 0., 0.],\n",
       "               [0., 0., 0., 0., 0., 0., 0., 0., 0.],\n",
       "               [0., 0., 0., 0., 0., 0., 0., 0., 0.],\n",
       "               [0., 0., 0., 0., 0., 0., 0., 0., 0.],\n",
       "               [0., 0., 0., 0., 0., 0., 0., 0., 0.],\n",
       "               [0., 0., 0., 0., 0., 0., 0., 0., 0.]],\n",
       "\n",
       "              [[0., 0., 0., 0., 0., 0., 0., 0., 0.],\n",
       "               [0., 0., 0., 0., 0., 0., 0., 0., 0.],\n",
       "               [0., 0., 0., 0., 0., 0., 0., 0., 0.],\n",
       "               [0., 0., 0., 0., 0., 0., 0., 0., 0.],\n",
       "               [0., 0., 0., 0., 0., 0., 0., 0., 0.],\n",
       "               [0., 0., 0., 0., 0., 0., 0., 0., 0.],\n",
       "               [0., 0., 0., 0., 0., 0., 0., 0., 0.],\n",
       "               [0., 0., 0., 0., 0., 0., 0., 0., 0.],\n",
       "               [0., 0., 0., 0., 0., 0., 0., 0., 0.]]]),\n",
       "       array([[[0., 0., 0., 0., 0., 0., 0., 0., 0.],\n",
       "               [0., 0., 0., 0., 0., 0., 0., 0., 0.],\n",
       "               [0., 0., 0., 0., 0., 0., 0., 0., 0.],\n",
       "               [0., 0., 0., 0., 0., 0., 0., 0., 0.],\n",
       "               [0., 0., 0., 0., 0., 0., 0., 0., 0.],\n",
       "               [0., 0., 0., 0., 0., 0., 0., 0., 0.],\n",
       "               [0., 0., 0., 0., 0., 0., 0., 0., 0.],\n",
       "               [0., 0., 0., 0., 0., 0., 0., 0., 0.],\n",
       "               [0., 0., 0., 0., 0., 0., 0., 0., 0.]],\n",
       "\n",
       "              [[0., 0., 0., 0., 0., 0., 0., 0., 0.],\n",
       "               [0., 0., 0., 0., 0., 0., 0., 0., 0.],\n",
       "               [0., 0., 0., 0., 0., 0., 0., 0., 0.],\n",
       "               [0., 0., 0., 0., 0., 0., 0., 0., 0.],\n",
       "               [0., 0., 0., 0., 0., 0., 0., 0., 0.],\n",
       "               [0., 0., 0., 0., 0., 0., 0., 0., 0.],\n",
       "               [0., 0., 0., 0., 0., 0., 0., 0., 0.],\n",
       "               [0., 0., 0., 0., 0., 0., 0., 0., 0.],\n",
       "               [0., 0., 0., 0., 0., 0., 0., 0., 0.]],\n",
       "\n",
       "              [[0., 0., 0., 0., 0., 0., 0., 0., 0.],\n",
       "               [0., 0., 0., 0., 0., 0., 0., 0., 0.],\n",
       "               [0., 0., 0., 0., 0., 0., 0., 0., 0.],\n",
       "               [0., 0., 0., 0., 0., 0., 0., 0., 0.],\n",
       "               [0., 0., 0., 0., 0., 0., 0., 0., 0.],\n",
       "               [0., 0., 0., 0., 0., 0., 0., 0., 0.],\n",
       "               [0., 0., 0., 0., 0., 0., 0., 0., 0.],\n",
       "               [0., 0., 0., 0., 0., 0., 0., 0., 0.],\n",
       "               [0., 0., 0., 0., 0., 0., 0., 0., 0.]],\n",
       "\n",
       "              [[0., 0., 0., 0., 0., 0., 0., 0., 0.],\n",
       "               [0., 0., 0., 0., 0., 0., 0., 0., 0.],\n",
       "               [0., 0., 0., 0., 0., 0., 0., 0., 0.],\n",
       "               [0., 0., 0., 0., 0., 0., 0., 0., 0.],\n",
       "               [0., 0., 0., 0., 0., 0., 0., 0., 0.],\n",
       "               [0., 0., 0., 0., 0., 0., 0., 0., 0.],\n",
       "               [0., 0., 0., 0., 0., 0., 0., 0., 0.],\n",
       "               [0., 0., 0., 0., 0., 0., 0., 0., 0.],\n",
       "               [0., 0., 0., 0., 0., 0., 0., 0., 0.]],\n",
       "\n",
       "              [[0., 0., 0., 0., 0., 0., 0., 0., 0.],\n",
       "               [0., 0., 0., 0., 0., 0., 0., 0., 0.],\n",
       "               [0., 0., 0., 0., 0., 0., 0., 0., 0.],\n",
       "               [0., 0., 0., 0., 0., 0., 0., 0., 0.],\n",
       "               [0., 0., 0., 0., 0., 0., 0., 0., 0.],\n",
       "               [0., 0., 0., 0., 0., 0., 0., 0., 0.],\n",
       "               [0., 0., 0., 0., 0., 0., 0., 0., 0.],\n",
       "               [0., 0., 0., 0., 0., 0., 0., 0., 0.],\n",
       "               [0., 0., 0., 0., 0., 0., 0., 0., 0.]],\n",
       "\n",
       "              [[0., 0., 0., 0., 0., 0., 0., 0., 0.],\n",
       "               [0., 0., 0., 0., 0., 0., 0., 0., 0.],\n",
       "               [0., 0., 0., 0., 0., 0., 0., 0., 0.],\n",
       "               [0., 0., 0., 0., 0., 0., 0., 0., 0.],\n",
       "               [0., 0., 0., 0., 0., 0., 0., 0., 0.],\n",
       "               [0., 0., 0., 0., 0., 0., 0., 0., 0.],\n",
       "               [0., 0., 0., 0., 0., 0., 0., 0., 0.],\n",
       "               [0., 0., 0., 0., 0., 0., 0., 0., 0.],\n",
       "               [0., 0., 0., 0., 0., 0., 0., 0., 0.]],\n",
       "\n",
       "              [[0., 0., 0., 0., 0., 0., 0., 0., 0.],\n",
       "               [0., 0., 0., 0., 0., 0., 0., 0., 0.],\n",
       "               [0., 0., 0., 0., 0., 0., 0., 0., 0.],\n",
       "               [0., 0., 0., 0., 0., 0., 0., 0., 0.],\n",
       "               [0., 0., 0., 0., 0., 0., 0., 0., 0.],\n",
       "               [0., 0., 0., 0., 0., 0., 0., 0., 0.],\n",
       "               [0., 0., 0., 0., 0., 0., 0., 0., 0.],\n",
       "               [0., 0., 0., 0., 0., 0., 0., 0., 0.],\n",
       "               [0., 0., 0., 0., 0., 0., 0., 0., 0.]],\n",
       "\n",
       "              [[0., 0., 0., 0., 0., 0., 0., 0., 0.],\n",
       "               [0., 0., 0., 0., 0., 0., 0., 0., 0.],\n",
       "               [0., 0., 0., 0., 0., 0., 0., 0., 0.],\n",
       "               [0., 0., 0., 0., 0., 0., 0., 0., 0.],\n",
       "               [0., 0., 0., 0., 0., 0., 0., 0., 0.],\n",
       "               [0., 0., 0., 0., 0., 0., 0., 0., 0.],\n",
       "               [0., 0., 0., 0., 0., 0., 0., 0., 0.],\n",
       "               [0., 0., 0., 0., 0., 0., 0., 0., 0.],\n",
       "               [0., 0., 0., 0., 0., 0., 0., 0., 0.]],\n",
       "\n",
       "              [[0., 0., 0., 0., 0., 0., 0., 0., 0.],\n",
       "               [0., 0., 0., 0., 0., 0., 0., 0., 0.],\n",
       "               [0., 0., 0., 0., 0., 0., 0., 0., 0.],\n",
       "               [0., 0., 0., 0., 0., 0., 0., 0., 0.],\n",
       "               [0., 0., 0., 0., 0., 0., 0., 0., 0.],\n",
       "               [0., 0., 0., 0., 0., 0., 0., 0., 0.],\n",
       "               [0., 0., 0., 0., 0., 0., 0., 0., 0.],\n",
       "               [0., 0., 0., 0., 0., 0., 0., 0., 0.],\n",
       "               [0., 0., 0., 0., 0., 0., 0., 0., 0.]]])], dtype=object)"
      ]
     },
     "execution_count": 50,
     "metadata": {},
     "output_type": "execute_result"
    }
   ],
   "source": [
    "A = utils.obj_array_zeros(A_m_shapes); A"
   ]
  },
  {
   "cell_type": "markdown",
   "metadata": {},
   "source": [
    "For instance, `A[0][3,1,4]` encodes the likelihood of seeing myself in location 3, given that I am in location 1 and my neighbour is in location 4.\n",
    "\n",
    "For the fully observable case, the indexes `A[0][n, n, m]` where n != m is 1, all other indexes are 0.\n",
    "Equivalently, we have `A[1][n, m, n] = 1` for n != m."
   ]
  },
  {
   "cell_type": "code",
   "execution_count": 51,
   "metadata": {},
   "outputs": [],
   "source": [
    "# # for A[0]\n",
    "# for i in range(0, 9):\n",
    "#     for j in range(0, 9):\n",
    "#         if i != j:\n",
    "#             A[0][i, i, j] = 1 / 8\n",
    "\n",
    "# # for A[1]\n",
    "# for i in range(0, 9):\n",
    "#     for j in range(0, 9):\n",
    "#         if i != j:\n",
    "#             A[1][i, j, i] = 1.0\n",
    "\n",
    "# To avoid pymdp normalization error, NOTE: This does not encode the fact that the agents cannot collide.\n",
    "# for A[0]\n",
    "for i in range(0, 9):\n",
    "    for j in range(0, 9):\n",
    "        A[0][i, i, j] = 1.0\n",
    "\n",
    "# for A[1]\n",
    "for i in range(0, 9):\n",
    "    for j in range(0, 9):\n",
    "        A[1][i, j, i] = 1.0"
   ]
  },
  {
   "cell_type": "code",
   "execution_count": 52,
   "metadata": {},
   "outputs": [
    {
     "data": {
      "text/plain": [
       "array([array([[[1., 1., 1., 1., 1., 1., 1., 1., 1.],\n",
       "               [0., 0., 0., 0., 0., 0., 0., 0., 0.],\n",
       "               [0., 0., 0., 0., 0., 0., 0., 0., 0.],\n",
       "               [0., 0., 0., 0., 0., 0., 0., 0., 0.],\n",
       "               [0., 0., 0., 0., 0., 0., 0., 0., 0.],\n",
       "               [0., 0., 0., 0., 0., 0., 0., 0., 0.],\n",
       "               [0., 0., 0., 0., 0., 0., 0., 0., 0.],\n",
       "               [0., 0., 0., 0., 0., 0., 0., 0., 0.],\n",
       "               [0., 0., 0., 0., 0., 0., 0., 0., 0.]],\n",
       "\n",
       "              [[0., 0., 0., 0., 0., 0., 0., 0., 0.],\n",
       "               [1., 1., 1., 1., 1., 1., 1., 1., 1.],\n",
       "               [0., 0., 0., 0., 0., 0., 0., 0., 0.],\n",
       "               [0., 0., 0., 0., 0., 0., 0., 0., 0.],\n",
       "               [0., 0., 0., 0., 0., 0., 0., 0., 0.],\n",
       "               [0., 0., 0., 0., 0., 0., 0., 0., 0.],\n",
       "               [0., 0., 0., 0., 0., 0., 0., 0., 0.],\n",
       "               [0., 0., 0., 0., 0., 0., 0., 0., 0.],\n",
       "               [0., 0., 0., 0., 0., 0., 0., 0., 0.]],\n",
       "\n",
       "              [[0., 0., 0., 0., 0., 0., 0., 0., 0.],\n",
       "               [0., 0., 0., 0., 0., 0., 0., 0., 0.],\n",
       "               [1., 1., 1., 1., 1., 1., 1., 1., 1.],\n",
       "               [0., 0., 0., 0., 0., 0., 0., 0., 0.],\n",
       "               [0., 0., 0., 0., 0., 0., 0., 0., 0.],\n",
       "               [0., 0., 0., 0., 0., 0., 0., 0., 0.],\n",
       "               [0., 0., 0., 0., 0., 0., 0., 0., 0.],\n",
       "               [0., 0., 0., 0., 0., 0., 0., 0., 0.],\n",
       "               [0., 0., 0., 0., 0., 0., 0., 0., 0.]],\n",
       "\n",
       "              [[0., 0., 0., 0., 0., 0., 0., 0., 0.],\n",
       "               [0., 0., 0., 0., 0., 0., 0., 0., 0.],\n",
       "               [0., 0., 0., 0., 0., 0., 0., 0., 0.],\n",
       "               [1., 1., 1., 1., 1., 1., 1., 1., 1.],\n",
       "               [0., 0., 0., 0., 0., 0., 0., 0., 0.],\n",
       "               [0., 0., 0., 0., 0., 0., 0., 0., 0.],\n",
       "               [0., 0., 0., 0., 0., 0., 0., 0., 0.],\n",
       "               [0., 0., 0., 0., 0., 0., 0., 0., 0.],\n",
       "               [0., 0., 0., 0., 0., 0., 0., 0., 0.]],\n",
       "\n",
       "              [[0., 0., 0., 0., 0., 0., 0., 0., 0.],\n",
       "               [0., 0., 0., 0., 0., 0., 0., 0., 0.],\n",
       "               [0., 0., 0., 0., 0., 0., 0., 0., 0.],\n",
       "               [0., 0., 0., 0., 0., 0., 0., 0., 0.],\n",
       "               [1., 1., 1., 1., 1., 1., 1., 1., 1.],\n",
       "               [0., 0., 0., 0., 0., 0., 0., 0., 0.],\n",
       "               [0., 0., 0., 0., 0., 0., 0., 0., 0.],\n",
       "               [0., 0., 0., 0., 0., 0., 0., 0., 0.],\n",
       "               [0., 0., 0., 0., 0., 0., 0., 0., 0.]],\n",
       "\n",
       "              [[0., 0., 0., 0., 0., 0., 0., 0., 0.],\n",
       "               [0., 0., 0., 0., 0., 0., 0., 0., 0.],\n",
       "               [0., 0., 0., 0., 0., 0., 0., 0., 0.],\n",
       "               [0., 0., 0., 0., 0., 0., 0., 0., 0.],\n",
       "               [0., 0., 0., 0., 0., 0., 0., 0., 0.],\n",
       "               [1., 1., 1., 1., 1., 1., 1., 1., 1.],\n",
       "               [0., 0., 0., 0., 0., 0., 0., 0., 0.],\n",
       "               [0., 0., 0., 0., 0., 0., 0., 0., 0.],\n",
       "               [0., 0., 0., 0., 0., 0., 0., 0., 0.]],\n",
       "\n",
       "              [[0., 0., 0., 0., 0., 0., 0., 0., 0.],\n",
       "               [0., 0., 0., 0., 0., 0., 0., 0., 0.],\n",
       "               [0., 0., 0., 0., 0., 0., 0., 0., 0.],\n",
       "               [0., 0., 0., 0., 0., 0., 0., 0., 0.],\n",
       "               [0., 0., 0., 0., 0., 0., 0., 0., 0.],\n",
       "               [0., 0., 0., 0., 0., 0., 0., 0., 0.],\n",
       "               [1., 1., 1., 1., 1., 1., 1., 1., 1.],\n",
       "               [0., 0., 0., 0., 0., 0., 0., 0., 0.],\n",
       "               [0., 0., 0., 0., 0., 0., 0., 0., 0.]],\n",
       "\n",
       "              [[0., 0., 0., 0., 0., 0., 0., 0., 0.],\n",
       "               [0., 0., 0., 0., 0., 0., 0., 0., 0.],\n",
       "               [0., 0., 0., 0., 0., 0., 0., 0., 0.],\n",
       "               [0., 0., 0., 0., 0., 0., 0., 0., 0.],\n",
       "               [0., 0., 0., 0., 0., 0., 0., 0., 0.],\n",
       "               [0., 0., 0., 0., 0., 0., 0., 0., 0.],\n",
       "               [0., 0., 0., 0., 0., 0., 0., 0., 0.],\n",
       "               [1., 1., 1., 1., 1., 1., 1., 1., 1.],\n",
       "               [0., 0., 0., 0., 0., 0., 0., 0., 0.]],\n",
       "\n",
       "              [[0., 0., 0., 0., 0., 0., 0., 0., 0.],\n",
       "               [0., 0., 0., 0., 0., 0., 0., 0., 0.],\n",
       "               [0., 0., 0., 0., 0., 0., 0., 0., 0.],\n",
       "               [0., 0., 0., 0., 0., 0., 0., 0., 0.],\n",
       "               [0., 0., 0., 0., 0., 0., 0., 0., 0.],\n",
       "               [0., 0., 0., 0., 0., 0., 0., 0., 0.],\n",
       "               [0., 0., 0., 0., 0., 0., 0., 0., 0.],\n",
       "               [0., 0., 0., 0., 0., 0., 0., 0., 0.],\n",
       "               [1., 1., 1., 1., 1., 1., 1., 1., 1.]]]),\n",
       "       array([[[1., 0., 0., 0., 0., 0., 0., 0., 0.],\n",
       "               [1., 0., 0., 0., 0., 0., 0., 0., 0.],\n",
       "               [1., 0., 0., 0., 0., 0., 0., 0., 0.],\n",
       "               [1., 0., 0., 0., 0., 0., 0., 0., 0.],\n",
       "               [1., 0., 0., 0., 0., 0., 0., 0., 0.],\n",
       "               [1., 0., 0., 0., 0., 0., 0., 0., 0.],\n",
       "               [1., 0., 0., 0., 0., 0., 0., 0., 0.],\n",
       "               [1., 0., 0., 0., 0., 0., 0., 0., 0.],\n",
       "               [1., 0., 0., 0., 0., 0., 0., 0., 0.]],\n",
       "\n",
       "              [[0., 1., 0., 0., 0., 0., 0., 0., 0.],\n",
       "               [0., 1., 0., 0., 0., 0., 0., 0., 0.],\n",
       "               [0., 1., 0., 0., 0., 0., 0., 0., 0.],\n",
       "               [0., 1., 0., 0., 0., 0., 0., 0., 0.],\n",
       "               [0., 1., 0., 0., 0., 0., 0., 0., 0.],\n",
       "               [0., 1., 0., 0., 0., 0., 0., 0., 0.],\n",
       "               [0., 1., 0., 0., 0., 0., 0., 0., 0.],\n",
       "               [0., 1., 0., 0., 0., 0., 0., 0., 0.],\n",
       "               [0., 1., 0., 0., 0., 0., 0., 0., 0.]],\n",
       "\n",
       "              [[0., 0., 1., 0., 0., 0., 0., 0., 0.],\n",
       "               [0., 0., 1., 0., 0., 0., 0., 0., 0.],\n",
       "               [0., 0., 1., 0., 0., 0., 0., 0., 0.],\n",
       "               [0., 0., 1., 0., 0., 0., 0., 0., 0.],\n",
       "               [0., 0., 1., 0., 0., 0., 0., 0., 0.],\n",
       "               [0., 0., 1., 0., 0., 0., 0., 0., 0.],\n",
       "               [0., 0., 1., 0., 0., 0., 0., 0., 0.],\n",
       "               [0., 0., 1., 0., 0., 0., 0., 0., 0.],\n",
       "               [0., 0., 1., 0., 0., 0., 0., 0., 0.]],\n",
       "\n",
       "              [[0., 0., 0., 1., 0., 0., 0., 0., 0.],\n",
       "               [0., 0., 0., 1., 0., 0., 0., 0., 0.],\n",
       "               [0., 0., 0., 1., 0., 0., 0., 0., 0.],\n",
       "               [0., 0., 0., 1., 0., 0., 0., 0., 0.],\n",
       "               [0., 0., 0., 1., 0., 0., 0., 0., 0.],\n",
       "               [0., 0., 0., 1., 0., 0., 0., 0., 0.],\n",
       "               [0., 0., 0., 1., 0., 0., 0., 0., 0.],\n",
       "               [0., 0., 0., 1., 0., 0., 0., 0., 0.],\n",
       "               [0., 0., 0., 1., 0., 0., 0., 0., 0.]],\n",
       "\n",
       "              [[0., 0., 0., 0., 1., 0., 0., 0., 0.],\n",
       "               [0., 0., 0., 0., 1., 0., 0., 0., 0.],\n",
       "               [0., 0., 0., 0., 1., 0., 0., 0., 0.],\n",
       "               [0., 0., 0., 0., 1., 0., 0., 0., 0.],\n",
       "               [0., 0., 0., 0., 1., 0., 0., 0., 0.],\n",
       "               [0., 0., 0., 0., 1., 0., 0., 0., 0.],\n",
       "               [0., 0., 0., 0., 1., 0., 0., 0., 0.],\n",
       "               [0., 0., 0., 0., 1., 0., 0., 0., 0.],\n",
       "               [0., 0., 0., 0., 1., 0., 0., 0., 0.]],\n",
       "\n",
       "              [[0., 0., 0., 0., 0., 1., 0., 0., 0.],\n",
       "               [0., 0., 0., 0., 0., 1., 0., 0., 0.],\n",
       "               [0., 0., 0., 0., 0., 1., 0., 0., 0.],\n",
       "               [0., 0., 0., 0., 0., 1., 0., 0., 0.],\n",
       "               [0., 0., 0., 0., 0., 1., 0., 0., 0.],\n",
       "               [0., 0., 0., 0., 0., 1., 0., 0., 0.],\n",
       "               [0., 0., 0., 0., 0., 1., 0., 0., 0.],\n",
       "               [0., 0., 0., 0., 0., 1., 0., 0., 0.],\n",
       "               [0., 0., 0., 0., 0., 1., 0., 0., 0.]],\n",
       "\n",
       "              [[0., 0., 0., 0., 0., 0., 1., 0., 0.],\n",
       "               [0., 0., 0., 0., 0., 0., 1., 0., 0.],\n",
       "               [0., 0., 0., 0., 0., 0., 1., 0., 0.],\n",
       "               [0., 0., 0., 0., 0., 0., 1., 0., 0.],\n",
       "               [0., 0., 0., 0., 0., 0., 1., 0., 0.],\n",
       "               [0., 0., 0., 0., 0., 0., 1., 0., 0.],\n",
       "               [0., 0., 0., 0., 0., 0., 1., 0., 0.],\n",
       "               [0., 0., 0., 0., 0., 0., 1., 0., 0.],\n",
       "               [0., 0., 0., 0., 0., 0., 1., 0., 0.]],\n",
       "\n",
       "              [[0., 0., 0., 0., 0., 0., 0., 1., 0.],\n",
       "               [0., 0., 0., 0., 0., 0., 0., 1., 0.],\n",
       "               [0., 0., 0., 0., 0., 0., 0., 1., 0.],\n",
       "               [0., 0., 0., 0., 0., 0., 0., 1., 0.],\n",
       "               [0., 0., 0., 0., 0., 0., 0., 1., 0.],\n",
       "               [0., 0., 0., 0., 0., 0., 0., 1., 0.],\n",
       "               [0., 0., 0., 0., 0., 0., 0., 1., 0.],\n",
       "               [0., 0., 0., 0., 0., 0., 0., 1., 0.],\n",
       "               [0., 0., 0., 0., 0., 0., 0., 1., 0.]],\n",
       "\n",
       "              [[0., 0., 0., 0., 0., 0., 0., 0., 1.],\n",
       "               [0., 0., 0., 0., 0., 0., 0., 0., 1.],\n",
       "               [0., 0., 0., 0., 0., 0., 0., 0., 1.],\n",
       "               [0., 0., 0., 0., 0., 0., 0., 0., 1.],\n",
       "               [0., 0., 0., 0., 0., 0., 0., 0., 1.],\n",
       "               [0., 0., 0., 0., 0., 0., 0., 0., 1.],\n",
       "               [0., 0., 0., 0., 0., 0., 0., 0., 1.],\n",
       "               [0., 0., 0., 0., 0., 0., 0., 0., 1.],\n",
       "               [0., 0., 0., 0., 0., 0., 0., 0., 1.]]])], dtype=object)"
      ]
     },
     "execution_count": 52,
     "metadata": {},
     "output_type": "execute_result"
    }
   ],
   "source": [
    "A"
   ]
  },
  {
   "cell_type": "markdown",
   "metadata": {},
   "source": [
    "## Construct the B matrix"
   ]
  },
  {
   "cell_type": "markdown",
   "metadata": {},
   "source": [
    "The B matrix should look exactly the same as in the single-agent case, because the position of the other agent, while an observation encoded in the A matrix, is not a controllable modality, hence there is no representation of its transition dynamics in the B matrix."
   ]
  },
  {
   "cell_type": "code",
   "execution_count": 53,
   "metadata": {},
   "outputs": [
    {
     "data": {
      "text/plain": [
       "[[9, 9, 5], [9, 9, 1]]"
      ]
     },
     "execution_count": 53,
     "metadata": {},
     "output_type": "execute_result"
    }
   ],
   "source": [
    "B_m_shapes = [[9, 9, 5], [9, 9, 1]]; B_m_shapes"
   ]
  },
  {
   "cell_type": "code",
   "execution_count": 54,
   "metadata": {},
   "outputs": [
    {
     "data": {
      "text/plain": [
       "array([array([[[0., 0., 0., 0., 0.],\n",
       "               [0., 0., 0., 0., 0.],\n",
       "               [0., 0., 0., 0., 0.],\n",
       "               [0., 0., 0., 0., 0.],\n",
       "               [0., 0., 0., 0., 0.],\n",
       "               [0., 0., 0., 0., 0.],\n",
       "               [0., 0., 0., 0., 0.],\n",
       "               [0., 0., 0., 0., 0.],\n",
       "               [0., 0., 0., 0., 0.]],\n",
       "\n",
       "              [[0., 0., 0., 0., 0.],\n",
       "               [0., 0., 0., 0., 0.],\n",
       "               [0., 0., 0., 0., 0.],\n",
       "               [0., 0., 0., 0., 0.],\n",
       "               [0., 0., 0., 0., 0.],\n",
       "               [0., 0., 0., 0., 0.],\n",
       "               [0., 0., 0., 0., 0.],\n",
       "               [0., 0., 0., 0., 0.],\n",
       "               [0., 0., 0., 0., 0.]],\n",
       "\n",
       "              [[0., 0., 0., 0., 0.],\n",
       "               [0., 0., 0., 0., 0.],\n",
       "               [0., 0., 0., 0., 0.],\n",
       "               [0., 0., 0., 0., 0.],\n",
       "               [0., 0., 0., 0., 0.],\n",
       "               [0., 0., 0., 0., 0.],\n",
       "               [0., 0., 0., 0., 0.],\n",
       "               [0., 0., 0., 0., 0.],\n",
       "               [0., 0., 0., 0., 0.]],\n",
       "\n",
       "              [[0., 0., 0., 0., 0.],\n",
       "               [0., 0., 0., 0., 0.],\n",
       "               [0., 0., 0., 0., 0.],\n",
       "               [0., 0., 0., 0., 0.],\n",
       "               [0., 0., 0., 0., 0.],\n",
       "               [0., 0., 0., 0., 0.],\n",
       "               [0., 0., 0., 0., 0.],\n",
       "               [0., 0., 0., 0., 0.],\n",
       "               [0., 0., 0., 0., 0.]],\n",
       "\n",
       "              [[0., 0., 0., 0., 0.],\n",
       "               [0., 0., 0., 0., 0.],\n",
       "               [0., 0., 0., 0., 0.],\n",
       "               [0., 0., 0., 0., 0.],\n",
       "               [0., 0., 0., 0., 0.],\n",
       "               [0., 0., 0., 0., 0.],\n",
       "               [0., 0., 0., 0., 0.],\n",
       "               [0., 0., 0., 0., 0.],\n",
       "               [0., 0., 0., 0., 0.]],\n",
       "\n",
       "              [[0., 0., 0., 0., 0.],\n",
       "               [0., 0., 0., 0., 0.],\n",
       "               [0., 0., 0., 0., 0.],\n",
       "               [0., 0., 0., 0., 0.],\n",
       "               [0., 0., 0., 0., 0.],\n",
       "               [0., 0., 0., 0., 0.],\n",
       "               [0., 0., 0., 0., 0.],\n",
       "               [0., 0., 0., 0., 0.],\n",
       "               [0., 0., 0., 0., 0.]],\n",
       "\n",
       "              [[0., 0., 0., 0., 0.],\n",
       "               [0., 0., 0., 0., 0.],\n",
       "               [0., 0., 0., 0., 0.],\n",
       "               [0., 0., 0., 0., 0.],\n",
       "               [0., 0., 0., 0., 0.],\n",
       "               [0., 0., 0., 0., 0.],\n",
       "               [0., 0., 0., 0., 0.],\n",
       "               [0., 0., 0., 0., 0.],\n",
       "               [0., 0., 0., 0., 0.]],\n",
       "\n",
       "              [[0., 0., 0., 0., 0.],\n",
       "               [0., 0., 0., 0., 0.],\n",
       "               [0., 0., 0., 0., 0.],\n",
       "               [0., 0., 0., 0., 0.],\n",
       "               [0., 0., 0., 0., 0.],\n",
       "               [0., 0., 0., 0., 0.],\n",
       "               [0., 0., 0., 0., 0.],\n",
       "               [0., 0., 0., 0., 0.],\n",
       "               [0., 0., 0., 0., 0.]],\n",
       "\n",
       "              [[0., 0., 0., 0., 0.],\n",
       "               [0., 0., 0., 0., 0.],\n",
       "               [0., 0., 0., 0., 0.],\n",
       "               [0., 0., 0., 0., 0.],\n",
       "               [0., 0., 0., 0., 0.],\n",
       "               [0., 0., 0., 0., 0.],\n",
       "               [0., 0., 0., 0., 0.],\n",
       "               [0., 0., 0., 0., 0.],\n",
       "               [0., 0., 0., 0., 0.]]]), array([[[0.],\n",
       "                                                [0.],\n",
       "                                                [0.],\n",
       "                                                [0.],\n",
       "                                                [0.],\n",
       "                                                [0.],\n",
       "                                                [0.],\n",
       "                                                [0.],\n",
       "                                                [0.]],\n",
       "\n",
       "                                               [[0.],\n",
       "                                                [0.],\n",
       "                                                [0.],\n",
       "                                                [0.],\n",
       "                                                [0.],\n",
       "                                                [0.],\n",
       "                                                [0.],\n",
       "                                                [0.],\n",
       "                                                [0.]],\n",
       "\n",
       "                                               [[0.],\n",
       "                                                [0.],\n",
       "                                                [0.],\n",
       "                                                [0.],\n",
       "                                                [0.],\n",
       "                                                [0.],\n",
       "                                                [0.],\n",
       "                                                [0.],\n",
       "                                                [0.]],\n",
       "\n",
       "                                               [[0.],\n",
       "                                                [0.],\n",
       "                                                [0.],\n",
       "                                                [0.],\n",
       "                                                [0.],\n",
       "                                                [0.],\n",
       "                                                [0.],\n",
       "                                                [0.],\n",
       "                                                [0.]],\n",
       "\n",
       "                                               [[0.],\n",
       "                                                [0.],\n",
       "                                                [0.],\n",
       "                                                [0.],\n",
       "                                                [0.],\n",
       "                                                [0.],\n",
       "                                                [0.],\n",
       "                                                [0.],\n",
       "                                                [0.]],\n",
       "\n",
       "                                               [[0.],\n",
       "                                                [0.],\n",
       "                                                [0.],\n",
       "                                                [0.],\n",
       "                                                [0.],\n",
       "                                                [0.],\n",
       "                                                [0.],\n",
       "                                                [0.],\n",
       "                                                [0.]],\n",
       "\n",
       "                                               [[0.],\n",
       "                                                [0.],\n",
       "                                                [0.],\n",
       "                                                [0.],\n",
       "                                                [0.],\n",
       "                                                [0.],\n",
       "                                                [0.],\n",
       "                                                [0.],\n",
       "                                                [0.]],\n",
       "\n",
       "                                               [[0.],\n",
       "                                                [0.],\n",
       "                                                [0.],\n",
       "                                                [0.],\n",
       "                                                [0.],\n",
       "                                                [0.],\n",
       "                                                [0.],\n",
       "                                                [0.],\n",
       "                                                [0.]],\n",
       "\n",
       "                                               [[0.],\n",
       "                                                [0.],\n",
       "                                                [0.],\n",
       "                                                [0.],\n",
       "                                                [0.],\n",
       "                                                [0.],\n",
       "                                                [0.],\n",
       "                                                [0.],\n",
       "                                                [0.]]])], dtype=object)"
      ]
     },
     "execution_count": 54,
     "metadata": {},
     "output_type": "execute_result"
    }
   ],
   "source": [
    "B = utils.obj_array_zeros(B_m_shapes); B"
   ]
  },
  {
   "cell_type": "code",
   "execution_count": 55,
   "metadata": {},
   "outputs": [],
   "source": [
    "actions = [\"UP\", \"DOWN\", \"LEFT\", \"RIGHT\", \"STAY\"]\n",
    "\n",
    "for action_id, action_label in enumerate(actions):\n",
    "\n",
    "    for curr_state, grid_location in enumerate(grid_locations):\n",
    "\n",
    "      y, x = grid_location\n",
    "\n",
    "      if action_label == \"UP\":\n",
    "        next_y = y - 1 if y > 0 else y \n",
    "        next_x = x\n",
    "      elif action_label == \"DOWN\":\n",
    "        next_y = y + 1 if y < 2 else y \n",
    "        next_x = x\n",
    "      elif action_label == \"LEFT\":\n",
    "        next_x = x - 1 if x > 0 else x \n",
    "        next_y = y\n",
    "      elif action_label == \"RIGHT\":\n",
    "        next_x = x + 1 if x < 2 else x \n",
    "        next_y = y\n",
    "      elif action_label == \"STAY\":\n",
    "        next_x = x\n",
    "        next_y = y\n",
    "      new_location = (next_y, next_x)\n",
    "      next_state = grid_locations.index(new_location)\n",
    "      B[0][next_state, curr_state, action_id] = 1.0"
   ]
  },
  {
   "cell_type": "code",
   "execution_count": 56,
   "metadata": {},
   "outputs": [
    {
     "name": "stdout",
     "output_type": "stream",
     "text": [
      "[[1.]\n",
      " [1.]\n",
      " [1.]\n",
      " [1.]\n",
      " [1.]\n",
      " [1.]\n",
      " [1.]\n",
      " [1.]\n",
      " [1.]]\n"
     ]
    }
   ],
   "source": [
    "for i in range(0, 9):\n",
    "    B[1][i, i] = 1.0\n",
    "print(B[1].sum(axis=0))"
   ]
  },
  {
   "cell_type": "code",
   "execution_count": 57,
   "metadata": {},
   "outputs": [
    {
     "data": {
      "text/plain": [
       "(2,)"
      ]
     },
     "execution_count": 57,
     "metadata": {},
     "output_type": "execute_result"
    }
   ],
   "source": [
    "B.shape"
   ]
  },
  {
   "cell_type": "code",
   "execution_count": 58,
   "metadata": {},
   "outputs": [
    {
     "data": {
      "text/plain": [
       "array([array([[[1., 0., 1., 0., 1.],\n",
       "               [0., 0., 1., 0., 0.],\n",
       "               [0., 0., 0., 0., 0.],\n",
       "               [1., 0., 0., 0., 0.],\n",
       "               [0., 0., 0., 0., 0.],\n",
       "               [0., 0., 0., 0., 0.],\n",
       "               [0., 0., 0., 0., 0.],\n",
       "               [0., 0., 0., 0., 0.],\n",
       "               [0., 0., 0., 0., 0.]],\n",
       "\n",
       "              [[0., 0., 0., 1., 0.],\n",
       "               [1., 0., 0., 0., 1.],\n",
       "               [0., 0., 1., 0., 0.],\n",
       "               [0., 0., 0., 0., 0.],\n",
       "               [1., 0., 0., 0., 0.],\n",
       "               [0., 0., 0., 0., 0.],\n",
       "               [0., 0., 0., 0., 0.],\n",
       "               [0., 0., 0., 0., 0.],\n",
       "               [0., 0., 0., 0., 0.]],\n",
       "\n",
       "              [[0., 0., 0., 0., 0.],\n",
       "               [0., 0., 0., 1., 0.],\n",
       "               [1., 0., 0., 1., 1.],\n",
       "               [0., 0., 0., 0., 0.],\n",
       "               [0., 0., 0., 0., 0.],\n",
       "               [1., 0., 0., 0., 0.],\n",
       "               [0., 0., 0., 0., 0.],\n",
       "               [0., 0., 0., 0., 0.],\n",
       "               [0., 0., 0., 0., 0.]],\n",
       "\n",
       "              [[0., 1., 0., 0., 0.],\n",
       "               [0., 0., 0., 0., 0.],\n",
       "               [0., 0., 0., 0., 0.],\n",
       "               [0., 0., 1., 0., 1.],\n",
       "               [0., 0., 1., 0., 0.],\n",
       "               [0., 0., 0., 0., 0.],\n",
       "               [1., 0., 0., 0., 0.],\n",
       "               [0., 0., 0., 0., 0.],\n",
       "               [0., 0., 0., 0., 0.]],\n",
       "\n",
       "              [[0., 0., 0., 0., 0.],\n",
       "               [0., 1., 0., 0., 0.],\n",
       "               [0., 0., 0., 0., 0.],\n",
       "               [0., 0., 0., 1., 0.],\n",
       "               [0., 0., 0., 0., 1.],\n",
       "               [0., 0., 1., 0., 0.],\n",
       "               [0., 0., 0., 0., 0.],\n",
       "               [1., 0., 0., 0., 0.],\n",
       "               [0., 0., 0., 0., 0.]],\n",
       "\n",
       "              [[0., 0., 0., 0., 0.],\n",
       "               [0., 0., 0., 0., 0.],\n",
       "               [0., 1., 0., 0., 0.],\n",
       "               [0., 0., 0., 0., 0.],\n",
       "               [0., 0., 0., 1., 0.],\n",
       "               [0., 0., 0., 1., 1.],\n",
       "               [0., 0., 0., 0., 0.],\n",
       "               [0., 0., 0., 0., 0.],\n",
       "               [1., 0., 0., 0., 0.]],\n",
       "\n",
       "              [[0., 0., 0., 0., 0.],\n",
       "               [0., 0., 0., 0., 0.],\n",
       "               [0., 0., 0., 0., 0.],\n",
       "               [0., 1., 0., 0., 0.],\n",
       "               [0., 0., 0., 0., 0.],\n",
       "               [0., 0., 0., 0., 0.],\n",
       "               [0., 1., 1., 0., 1.],\n",
       "               [0., 0., 1., 0., 0.],\n",
       "               [0., 0., 0., 0., 0.]],\n",
       "\n",
       "              [[0., 0., 0., 0., 0.],\n",
       "               [0., 0., 0., 0., 0.],\n",
       "               [0., 0., 0., 0., 0.],\n",
       "               [0., 0., 0., 0., 0.],\n",
       "               [0., 1., 0., 0., 0.],\n",
       "               [0., 0., 0., 0., 0.],\n",
       "               [0., 0., 0., 1., 0.],\n",
       "               [0., 1., 0., 0., 1.],\n",
       "               [0., 0., 1., 0., 0.]],\n",
       "\n",
       "              [[0., 0., 0., 0., 0.],\n",
       "               [0., 0., 0., 0., 0.],\n",
       "               [0., 0., 0., 0., 0.],\n",
       "               [0., 0., 0., 0., 0.],\n",
       "               [0., 0., 0., 0., 0.],\n",
       "               [0., 1., 0., 0., 0.],\n",
       "               [0., 0., 0., 0., 0.],\n",
       "               [0., 0., 0., 1., 0.],\n",
       "               [0., 1., 0., 1., 1.]]]), array([[[1.],\n",
       "                                                [0.],\n",
       "                                                [0.],\n",
       "                                                [0.],\n",
       "                                                [0.],\n",
       "                                                [0.],\n",
       "                                                [0.],\n",
       "                                                [0.],\n",
       "                                                [0.]],\n",
       "\n",
       "                                               [[0.],\n",
       "                                                [1.],\n",
       "                                                [0.],\n",
       "                                                [0.],\n",
       "                                                [0.],\n",
       "                                                [0.],\n",
       "                                                [0.],\n",
       "                                                [0.],\n",
       "                                                [0.]],\n",
       "\n",
       "                                               [[0.],\n",
       "                                                [0.],\n",
       "                                                [1.],\n",
       "                                                [0.],\n",
       "                                                [0.],\n",
       "                                                [0.],\n",
       "                                                [0.],\n",
       "                                                [0.],\n",
       "                                                [0.]],\n",
       "\n",
       "                                               [[0.],\n",
       "                                                [0.],\n",
       "                                                [0.],\n",
       "                                                [1.],\n",
       "                                                [0.],\n",
       "                                                [0.],\n",
       "                                                [0.],\n",
       "                                                [0.],\n",
       "                                                [0.]],\n",
       "\n",
       "                                               [[0.],\n",
       "                                                [0.],\n",
       "                                                [0.],\n",
       "                                                [0.],\n",
       "                                                [1.],\n",
       "                                                [0.],\n",
       "                                                [0.],\n",
       "                                                [0.],\n",
       "                                                [0.]],\n",
       "\n",
       "                                               [[0.],\n",
       "                                                [0.],\n",
       "                                                [0.],\n",
       "                                                [0.],\n",
       "                                                [0.],\n",
       "                                                [1.],\n",
       "                                                [0.],\n",
       "                                                [0.],\n",
       "                                                [0.]],\n",
       "\n",
       "                                               [[0.],\n",
       "                                                [0.],\n",
       "                                                [0.],\n",
       "                                                [0.],\n",
       "                                                [0.],\n",
       "                                                [0.],\n",
       "                                                [1.],\n",
       "                                                [0.],\n",
       "                                                [0.]],\n",
       "\n",
       "                                               [[0.],\n",
       "                                                [0.],\n",
       "                                                [0.],\n",
       "                                                [0.],\n",
       "                                                [0.],\n",
       "                                                [0.],\n",
       "                                                [0.],\n",
       "                                                [1.],\n",
       "                                                [0.]],\n",
       "\n",
       "                                               [[0.],\n",
       "                                                [0.],\n",
       "                                                [0.],\n",
       "                                                [0.],\n",
       "                                                [0.],\n",
       "                                                [0.],\n",
       "                                                [0.],\n",
       "                                                [0.],\n",
       "                                                [1.]]])], dtype=object)"
      ]
     },
     "execution_count": 58,
     "metadata": {},
     "output_type": "execute_result"
    }
   ],
   "source": [
    "B"
   ]
  },
  {
   "cell_type": "markdown",
   "metadata": {},
   "source": [
    "## Construct the C matrix"
   ]
  },
  {
   "cell_type": "markdown",
   "metadata": {},
   "source": [
    "C encodes the preferred state of the agent, i.e. the location the agent is trying to reach.\n",
    "\n",
    "This is where we need to consider the two C matrices for the individual agents, since they're going to differ from each other depending on the preferred location they're trying to reach.\n",
    "\n",
    "In this case of a 3x3 grid world, let's say the first agent wants to reach location (2, 2), i.e. location 8 (Note: the starting index is 0), and the second agent wants to reach location (1, 0), i.e. location 3 in the above visualization.\n",
    "\n",
    "We encode the C matrix as a one-hot vector, where 1 is placed at the index of the preferred location (0s otherwise)."
   ]
  },
  {
   "cell_type": "markdown",
   "metadata": {},
   "source": [
    "Note: we also define a helper function for creating a flat distribution denoting no preference over the second observation modality (i.e. the state of the *other* agent). Later, we're going to use the pymdp `Agent` class which requires the shape of C to match the number of observation modalities."
   ]
  },
  {
   "cell_type": "code",
   "execution_count": 59,
   "metadata": {},
   "outputs": [],
   "source": [
    "def create_flat_dist(num_values):\n",
    "    arr = np.zeros(num_values)\n",
    "    for i, _ in enumerate(arr):\n",
    "        arr[i] = 1.0 / num_values\n",
    "    return arr"
   ]
  },
  {
   "cell_type": "markdown",
   "metadata": {},
   "source": [
    "We define the shape of the C matrix in the same way we did the A matrix."
   ]
  },
  {
   "cell_type": "code",
   "execution_count": 60,
   "metadata": {},
   "outputs": [],
   "source": [
    "C_m_shapes = [[9], [9]]"
   ]
  },
  {
   "cell_type": "code",
   "execution_count": 61,
   "metadata": {},
   "outputs": [
    {
     "data": {
      "text/plain": [
       "array([array([0., 0., 0., 0., 0., 0., 0., 0., 0.]),\n",
       "       array([0., 0., 0., 0., 0., 0., 0., 0., 0.])], dtype=object)"
      ]
     },
     "execution_count": 61,
     "metadata": {},
     "output_type": "execute_result"
    }
   ],
   "source": [
    "C = utils.obj_array_zeros(C_m_shapes); C"
   ]
  },
  {
   "cell_type": "code",
   "execution_count": 62,
   "metadata": {},
   "outputs": [],
   "source": [
    "agent1_C = deepcopy(C)"
   ]
  },
  {
   "cell_type": "code",
   "execution_count": 63,
   "metadata": {},
   "outputs": [
    {
     "data": {
      "text/plain": [
       "array([0., 0., 0., 0., 0., 0., 0., 0., 1.])"
      ]
     },
     "execution_count": 63,
     "metadata": {},
     "output_type": "execute_result"
    }
   ],
   "source": [
    "agent1_C[0] = utils.onehot(8, num_grid_points); agent1_C[0]"
   ]
  },
  {
   "cell_type": "code",
   "execution_count": 64,
   "metadata": {},
   "outputs": [
    {
     "data": {
      "text/plain": [
       "array([0.11111111, 0.11111111, 0.11111111, 0.11111111, 0.11111111,\n",
       "       0.11111111, 0.11111111, 0.11111111, 0.11111111])"
      ]
     },
     "execution_count": 64,
     "metadata": {},
     "output_type": "execute_result"
    }
   ],
   "source": [
    "agent1_C[1] = create_flat_dist(num_grid_points); agent1_C[1]"
   ]
  },
  {
   "cell_type": "code",
   "execution_count": 65,
   "metadata": {},
   "outputs": [
    {
     "name": "stdout",
     "output_type": "stream",
     "text": [
      "Agent 1 C matrix: [array([0., 0., 0., 0., 0., 0., 0., 0., 1.])\n",
      " array([0.11111111, 0.11111111, 0.11111111, 0.11111111, 0.11111111,\n",
      "        0.11111111, 0.11111111, 0.11111111, 0.11111111])           ]\n"
     ]
    }
   ],
   "source": [
    "print(f'Agent 1 C matrix: {agent1_C}')"
   ]
  },
  {
   "cell_type": "markdown",
   "metadata": {},
   "source": [
    "Now we define the second agent's C matrix in an equivalent way."
   ]
  },
  {
   "cell_type": "code",
   "execution_count": 66,
   "metadata": {},
   "outputs": [
    {
     "name": "stdout",
     "output_type": "stream",
     "text": [
      "Agent 2 C matrix: [array([0., 0., 0., 1., 0., 0., 0., 0., 0.])\n",
      " array([0.11111111, 0.11111111, 0.11111111, 0.11111111, 0.11111111,\n",
      "        0.11111111, 0.11111111, 0.11111111, 0.11111111])           ]\n"
     ]
    }
   ],
   "source": [
    "agent2_C = deepcopy(C)\n",
    "agent2_C[0] = utils.onehot(3, num_grid_points)\n",
    "agent2_C[1] = create_flat_dist(num_grid_points)\n",
    "\n",
    "print(f'Agent 2 C matrix: {agent2_C}')"
   ]
  },
  {
   "cell_type": "markdown",
   "metadata": {},
   "source": [
    "## Construct the D matrix"
   ]
  },
  {
   "cell_type": "markdown",
   "metadata": {},
   "source": [
    "The D matrix encodes the prior belief about where the state of the grid world, including the position of the first agent and the second agent. Much like the C matrix, we need to create 2 such objects for each of the agents.\n",
    "\n",
    "Let's say the first agent starts in location (0, 0), index 0, and the second in location (2, 1), index 7."
   ]
  },
  {
   "cell_type": "code",
   "execution_count": 67,
   "metadata": {},
   "outputs": [
    {
     "name": "stdout",
     "output_type": "stream",
     "text": [
      "Agent 1 D matrix: [array([1., 0., 0., 0., 0., 0., 0., 0., 0.])\n",
      " array([0., 0., 0., 0., 0., 0., 0., 1., 0.])]\n",
      "Agent 2 D matrix: [array([0., 0., 0., 0., 0., 0., 0., 1., 0.])\n",
      " array([1., 0., 0., 0., 0., 0., 0., 0., 0.])]\n"
     ]
    }
   ],
   "source": [
    "agent1_D = utils.obj_array(2)\n",
    "\n",
    "agent1_D[0] = utils.onehot(0, 9)\n",
    "agent1_D[1] = utils.onehot(7, 9)\n",
    "print(f'Agent 1 D matrix: {agent1_D}')\n",
    "\n",
    "agent2_D = utils.obj_array(2)\n",
    "\n",
    "agent2_D[0] = utils.onehot(7, 9)\n",
    "agent2_D[1] = utils.onehot(0, 9)\n",
    "print(f'Agent 2 D matrix: {agent2_D}')"
   ]
  },
  {
   "cell_type": "markdown",
   "metadata": {},
   "source": [
    "## Construct the E matrix (optional)"
   ]
  },
  {
   "cell_type": "markdown",
   "metadata": {},
   "source": [
    "We've already defined the E matrix when we were initializing the B matrix, it only consists of the actions available to the agents.\n",
    "\n",
    "The E vector is in terms of policies, not actions, so its size will depend on the length of planning we want the agent to undertake.\n",
    "\n",
    "**Note**: We don't need to create the E matrix ourselves unless we want to specify the prior on specific policies, the `Agent` class in pymdp will initialize the E matrix for us (with a uniform distribution, i.e. each policy is equally likely)."
   ]
  },
  {
   "cell_type": "code",
   "execution_count": 68,
   "metadata": {},
   "outputs": [],
   "source": [
    "from pymdp.control import construct_policies"
   ]
  },
  {
   "cell_type": "code",
   "execution_count": 69,
   "metadata": {},
   "outputs": [
    {
     "name": "stdout",
     "output_type": "stream",
     "text": [
      "Length of policies_1 is 5\n",
      "Length of policies_2 is 25\n",
      "Length of policies_3 is 125\n",
      "Length of policies_4 is 625\n"
     ]
    }
   ],
   "source": [
    "policies_1 = construct_policies(num_states, num_controls=[5, 1], policy_len=1)\n",
    "print(f'Length of policies_1 is {len(policies_1)}')\n",
    "policies_2 = construct_policies(num_states, num_controls=[5, 1], policy_len=2)\n",
    "print(f'Length of policies_2 is {len(policies_2)}')\n",
    "policies_3 = construct_policies(num_states, num_controls=[5, 1], policy_len=3)\n",
    "print(f'Length of policies_3 is {len(policies_3)}')\n",
    "policies_4 = construct_policies(num_states, num_controls=[5, 1], policy_len=4)\n",
    "print(f'Length of policies_4 is {len(policies_4)}')"
   ]
  },
  {
   "cell_type": "markdown",
   "metadata": {},
   "source": [
    "## Construct the two Agents"
   ]
  },
  {
   "cell_type": "markdown",
   "metadata": {},
   "source": [
    "Now that we've defined all the components for our two agents, initializing them is taken care of by the pymdp `Agent` class."
   ]
  },
  {
   "cell_type": "code",
   "execution_count": 70,
   "metadata": {},
   "outputs": [],
   "source": [
    "from pymdp.agent import Agent"
   ]
  },
  {
   "cell_type": "code",
   "execution_count": 71,
   "metadata": {},
   "outputs": [],
   "source": [
    "agent1 = Agent(A=deepcopy(A), B=deepcopy(B), C=agent1_C, D=agent1_D, policy_len=4)\n",
    "agent2 = Agent(A=deepcopy(A), B=deepcopy(B), C=agent2_C, D=agent2_D, policy_len=4)"
   ]
  },
  {
   "cell_type": "markdown",
   "metadata": {},
   "source": [
    "## Initialize the initial observation of the agents\n",
    "\n",
    "In this case, we'll have the environment generate the same observation as the agent's prior beliefs (encoded in the D vector).\n",
    "\n",
    "This means `agent1` will receive the observation that it is in location 0 and the other agent is in location 7, whereas `agent2` will receive the observation that it is in location 7 and the other agent (`agent1`) is in location 0."
   ]
  },
  {
   "cell_type": "code",
   "execution_count": 72,
   "metadata": {},
   "outputs": [
    {
     "name": "stdout",
     "output_type": "stream",
     "text": [
      "Agent1 observation: [array([1, 0, 0, 0, 0, 0, 0, 0, 0]) array([0, 0, 0, 0, 0, 0, 0, 1, 0])]\n",
      "Agent2 observation: [array([0, 0, 0, 0, 0, 0, 0, 1, 0]) array([1, 0, 0, 0, 0, 0, 0, 0, 0])]\n"
     ]
    }
   ],
   "source": [
    "agent1_init_obs = deepcopy(agent1.D)\n",
    "agent2_init_obs = deepcopy(agent2.D)\n",
    "\n",
    "# here we just change the elements of the subarrays to integers instead of floats (it's a pymdp requirement)\n",
    "for i in range(2):\n",
    "    agent1_init_obs[i] = agent1_init_obs[i].astype(int)\n",
    "    agent2_init_obs[i] = agent2_init_obs[i].astype(int)\n",
    "\n",
    "print(f\"Agent1 observation: {agent1_init_obs}\")\n",
    "print(f\"Agent2 observation: {agent2_init_obs}\")"
   ]
  },
  {
   "cell_type": "markdown",
   "metadata": {},
   "source": [
    "## Prepare the environment instance\n",
    "\n",
    "For this we import the `TwoMultiGridAgent` class from `blockference.envs`."
   ]
  },
  {
   "cell_type": "code",
   "execution_count": 73,
   "metadata": {},
   "outputs": [
    {
     "data": {
      "text/plain": [
       "array([array([0, 0, 0, 0, 0, 0, 0, 1, 0]),\n",
       "       array([1, 0, 0, 0, 0, 0, 0, 0, 0])], dtype=object)"
      ]
     },
     "execution_count": 73,
     "metadata": {},
     "output_type": "execute_result"
    }
   ],
   "source": [
    "agent2_init_obs"
   ]
  },
  {
   "cell_type": "code",
   "execution_count": 77,
   "metadata": {},
   "outputs": [
    {
     "name": "stdout",
     "output_type": "stream",
     "text": [
      "Position dictionary is {0: (0, 0), 1: (0, 1), 2: (0, 2), 3: (1, 0), 4: (1, 1), 5: (1, 2), 6: (2, 0), 7: (2, 1), 8: (2, 2)}\n",
      "Agents are occupying the states [(2, 1), (0, 0)]\n",
      "Initial observation vectors of the agents: [array([array([1, 0, 0, 0, 0, 0, 0, 0, 0]),\n",
      "       array([0, 0, 0, 0, 0, 0, 0, 1, 0])], dtype=object), array([array([0, 0, 0, 0, 0, 0, 0, 1, 0]),\n",
      "       array([1, 0, 0, 0, 0, 0, 0, 0, 0])], dtype=object)]\n"
     ]
    }
   ],
   "source": [
    "from blockference.envs.grid_env_multi import TwoMultiGridAgent\n",
    "\n",
    "env = TwoMultiGridAgent(grid_len=3, grid_dim=2, agents=[agent1, agent2], init_pos=[0, 7], init_obs=[agent1_init_obs, agent2_init_obs])\n",
    "# env = TwoMultiGridAgent(grid_len=3, grid_dim=2, agents=[agent2, agent1], init_pos=[7, 0], init_obs=[agent2_init_obs, agent1_init_obs])"
   ]
  },
  {
   "cell_type": "markdown",
   "metadata": {},
   "source": [
    "## Debugging TwoMultiGridAgent"
   ]
  },
  {
   "cell_type": "code",
   "execution_count": 133,
   "metadata": {},
   "outputs": [],
   "source": [
    "from pymdp import utils\n",
    "import copy\n",
    "import sys\n",
    "\n",
    "sys.path.insert(0, '../../')\n",
    "from blockference.gridference import *\n",
    "\n",
    "\n",
    "LOCATION_FACTOR_ID = 0\n",
    "OTHER_AGENT_FACTOR_ID = 1\n",
    "\n",
    "class TwoMultiGridAgent():\n",
    "    def __init__(self, grid_len, grid_dim=2, agents=[], init_pos=[], init_obs=[]) -> None:\n",
    "        \"\"\"\n",
    "        The GridAgent class represent the gridworld environment and keeps track of the locations of the individual agents.\n",
    "        \n",
    "        Params:\n",
    "            grid_len: length of the gridworld\n",
    "            grid_dim: dimension of the gridworld\n",
    "            agents: list of agents in the environment\n",
    "            init_pos: list of initial positions of the agents\n",
    "            init_obs: list of initial observations the agents receive\n",
    "        \"\"\"\n",
    "        self.grid = self.get_grid(grid_len, grid_dim)\n",
    "        \n",
    "        self.border = np.sqrt(len(self.grid)) - 1\n",
    "        \n",
    "        self.pos_dict = {}\n",
    "        for i in range(0, len(self.grid)):\n",
    "            self.pos_dict[i] = self.grid[i]\n",
    "        print(f'Position dictionary is {self.pos_dict}')\n",
    "\n",
    "        self.num_states = grid_len ** 2\n",
    "\n",
    "        self.current_state = init_pos # make them indexes\n",
    "        print(f'Agents are occupying the states {[self.pos_dict[v] for v in init_pos]}')\n",
    "        \n",
    "        self.current_obs = init_obs\n",
    "        print(f'Initial observation vectors of the agents: {init_obs}')\n",
    "\n",
    "        self.affordances = [\"UP\", \"DOWN\", \"LEFT\", \"RIGHT\", \"STAY\"]\n",
    "\n",
    "        assert len(self.current_state) == len(agents), \"Number of occupied states is not equal to the number of agents\"\n",
    "        self.agent_plot([self.pos_dict[self.current_state[0]], self.pos_dict[self.current_state[1]]])\n",
    "\n",
    "    def step(self, actions):\n",
    "        \"\"\"\n",
    "        Step function for the gridworld environment.\n",
    "\n",
    "        Params:\n",
    "            actions: list of actions chosen by the agents in the environment\n",
    "        \"\"\"\n",
    "        new_states = []\n",
    "        agent_locs = []\n",
    "\n",
    "        for idx, action in enumerate(actions):\n",
    "            # get indexes of the current reference agent and the other agent (2-agent case, in the future might be handled with a dict)\n",
    "            agent_idx = idx\n",
    "            other_agent_idx = 0 if agent_idx == 1 else 1\n",
    "            \n",
    "            # get state of other agent\n",
    "            other_agent_state = self.current_state[other_agent_idx]\n",
    "            \n",
    "            # get word action label\n",
    "            action_label = self.affordances[int(action[0])]\n",
    "\n",
    "            x, y = self.pos_dict[self.current_state[agent_idx]]\n",
    "            \n",
    "\n",
    "            if action_label == \"DOWN\":\n",
    "                next_y = y + 1 if y < self.border else y\n",
    "                next_x = x\n",
    "            elif action_label == \"UP\":\n",
    "                next_y = y - 1 if y > 0 else y\n",
    "                next_x = x\n",
    "            elif action_label == \"LEFT\":\n",
    "                next_x = x - 1 if x > 0 else x\n",
    "                next_y = y\n",
    "            elif action_label == \"RIGHT\":\n",
    "                next_x = x + 1 if x < self.border else x\n",
    "                next_y = y\n",
    "            elif action_label == \"STAY\":\n",
    "                next_x = x\n",
    "                next_y = y\n",
    "            else:\n",
    "                raise ValueError(f'Action {action_label} not recognized')\n",
    "\n",
    "            new_location = (next_x, next_y)\n",
    "            new_agent_state = list(self.pos_dict.keys())[list(self.pos_dict.values()).index(new_location)] # returns index!\n",
    "            # check for collisions\n",
    "            if new_agent_state == other_agent_state:\n",
    "                print(\"Almost collided!\")\n",
    "                new_agent_state = self.current_state[agent_idx] # i.e. could not perform the action\n",
    "                new_location = (x, y)\n",
    "            print(f\"New location for agent {agent_idx} is {new_location}\")\n",
    "                \n",
    "            agent_locs.append(new_location)\n",
    "            new_states.append(new_agent_state)\n",
    "\n",
    "        self.current_state = new_states\n",
    "        self.agent_plot(agent_locs)\n",
    "        # Now generate new observations for each agent (after they have both taken a step)\n",
    "        new_current_obs = []\n",
    "        \n",
    "        for i in range(2): # not general, just for the two agents\n",
    "            agent_idx = i\n",
    "            other_agent_idx = 0 if agent_idx == 1 else 1\n",
    "            new_current_obs.append([utils.onehot(new_states[agent_idx], self.num_states).astype(int), utils.onehot(new_states[other_agent_idx], self.num_states).astype(int)])\n",
    "        \n",
    "        self.current_obs = new_current_obs\n",
    "            \n",
    "\n",
    "        return self.current_obs # update both agents at the same time, need to be optimized in future iterations\n",
    "\n",
    "    def get_grid(self, grid_len, grid_dim):\n",
    "        g = list(itertools.product(range(grid_len), repeat=grid_dim))\n",
    "        return g\n",
    "    \n",
    "    def agent_plot(self, agent_locs):\n",
    "        grid_dims = [3, 3]\n",
    "\n",
    "        num_grid_points = np.prod(grid_dims) # total number of grid locations (rows X columns)\n",
    "\n",
    "        # create a look-up table `loc_list` that maps linear indices to tuples of (y, x) coordinates \n",
    "        grid = np.arange(num_grid_points).reshape(grid_dims)\n",
    "        it = np.nditer(grid, flags=[\"multi_index\"])\n",
    "\n",
    "        loc_list = []\n",
    "        while not it.finished:\n",
    "            loc_list.append(it.multi_index)\n",
    "            it.iternext()\n",
    "\n",
    "\n",
    "        agent_loc_names = ['Agent1', 'Agent2']\n",
    "        agent_locations = agent_locs\n",
    "\n",
    "        fig, ax = plt.subplots(figsize=(10, 6))\n",
    "        ax.set_ylabel(\"y\")\n",
    "        ax.set_xlabel(\"x\")\n",
    "\n",
    "        # create the grid visualization\n",
    "        X, Y = np.meshgrid(np.arange(grid_dims[1]+1), np.arange(grid_dims[0]+1))\n",
    "        h = ax.pcolormesh(X, Y, np.ones(grid_dims), edgecolors='k', vmin = 0, vmax = 30, linewidth=3, cmap = 'coolwarm')\n",
    "\n",
    "        text_offsets = [0.4, 0.6]\n",
    "\n",
    "        cue_grid = np.ones(grid_dims)\n",
    "        for ii, loc_ii in enumerate(agent_locations):\n",
    "          row_coord, column_coord = loc_ii\n",
    "          cue_grid[row_coord, column_coord] = 5.0\n",
    "          ax.text(column_coord+text_offsets[0], row_coord+text_offsets[1], agent_loc_names[ii], fontsize = 15, color='k')\n",
    "        h.set_array(cue_grid.ravel())"
   ]
  },
  {
   "cell_type": "code",
   "execution_count": 134,
   "metadata": {},
   "outputs": [
    {
     "name": "stdout",
     "output_type": "stream",
     "text": [
      "Position dictionary is {0: (0, 0), 1: (0, 1), 2: (0, 2), 3: (1, 0), 4: (1, 1), 5: (1, 2), 6: (2, 0), 7: (2, 1), 8: (2, 2)}\n",
      "Agents are occupying the states [(0, 0), (2, 1)]\n",
      "Initial observation vectors of the agents: [array([array([1, 0, 0, 0, 0, 0, 0, 0, 0]),\n",
      "       array([0, 0, 0, 0, 0, 0, 0, 1, 0])], dtype=object), array([array([0, 0, 0, 0, 0, 0, 0, 1, 0]),\n",
      "       array([1, 0, 0, 0, 0, 0, 0, 0, 0])], dtype=object)]\n"
     ]
    },
    {
     "name": "stderr",
     "output_type": "stream",
     "text": [
      "/var/folders/vc/5b_s57r96czcz93nfrdkmhwc0000gn/T/ipykernel_89734/3768641486.py:143: MatplotlibDeprecationWarning: Auto-removal of grids by pcolor() and pcolormesh() is deprecated since 3.5 and will be removed two minor releases later; please call grid(False) first.\n",
      "  h = ax.pcolormesh(X, Y, np.ones(grid_dims), edgecolors='k', vmin = 0, vmax = 30, linewidth=3, cmap = 'coolwarm')\n"
     ]
    },
    {
     "data": {
      "image/png": "[encoded data removed]",
      "text/plain": [
       "<Figure size 720x432 with 1 Axes>"
      ]
     },
     "metadata": {},
     "output_type": "display_data"
    }
   ],
   "source": [
    "env = TwoMultiGridAgent(grid_len=3, grid_dim=2, agents=[agent1, agent2], init_pos=[0, 7], init_obs=[agent1_init_obs, agent2_init_obs])"
   ]
  },
  {
   "cell_type": "code",
   "execution_count": 96,
   "metadata": {},
   "outputs": [],
   "source": []
  },
  {
   "cell_type": "code",
   "execution_count": 105,
   "metadata": {},
   "outputs": [
    {
     "name": "stderr",
     "output_type": "stream",
     "text": [
      "/var/folders/vc/5b_s57r96czcz93nfrdkmhwc0000gn/T/ipykernel_89734/2376439468.py:36: MatplotlibDeprecationWarning: Auto-removal of grids by pcolor() and pcolormesh() is deprecated since 3.5 and will be removed two minor releases later; please call grid(False) first.\n",
      "  h = ax.pcolormesh(X, Y, np.ones(grid_dims), edgecolors='k', vmin = 0, vmax = 30, linewidth=3, cmap = 'coolwarm')\n"
     ]
    },
    {
     "data": {
      "image/png": "[encoded data removed]",
      "text/plain": [
       "<Figure size 720x432 with 1 Axes>"
      ]
     },
     "metadata": {},
     "output_type": "display_data"
    }
   ],
   "source": [
    "agent_plot([(0, 0), (2, 0)])"
   ]
  },
  {
   "cell_type": "code",
   "execution_count": null,
   "metadata": {},
   "outputs": [],
   "source": []
  },
  {
   "cell_type": "code",
   "execution_count": null,
   "metadata": {},
   "outputs": [],
   "source": []
  },
  {
   "cell_type": "code",
   "execution_count": null,
   "metadata": {},
   "outputs": [],
   "source": []
  },
  {
   "cell_type": "markdown",
   "metadata": {
    "tags": []
   },
   "source": [
    "## Sanity check #1: Single-timestep active inference loop"
   ]
  },
  {
   "cell_type": "code",
   "execution_count": 109,
   "metadata": {},
   "outputs": [
    {
     "data": {
      "text/plain": [
       "['UP', 'DOWN', 'LEFT', 'RIGHT', 'STAY']"
      ]
     },
     "execution_count": 109,
     "metadata": {},
     "output_type": "execute_result"
    }
   ],
   "source": [
    "affordances = [\"UP\", \"DOWN\", \"LEFT\", \"RIGHT\", \"STAY\"]; affordances"
   ]
  },
  {
   "cell_type": "code",
   "execution_count": null,
   "metadata": {},
   "outputs": [
    {
     "name": "stdout",
     "output_type": "stream",
     "text": [
      "Obs: [array([1, 0, 0, 0, 0, 0, 0, 0, 0]) array([0, 0, 0, 0, 0, 0, 0, 1, 0])]\n",
      "[3. 0.]\n",
      "Obs: [array([0, 0, 0, 0, 0, 0, 0, 1, 0]) array([1, 0, 0, 0, 0, 0, 0, 0, 0])]\n",
      "[1. 0.]\n"
     ]
    }
   ],
   "source": [
    "observations = [agent1_init_obs, agent2_init_obs]\n",
    "actions = []\n",
    "word_actions = []\n",
    "\n",
    "for idx, agent in enumerate([agent1, agent2]):\n",
    "    obs = observations[idx]\n",
    "    print(f\"Obs: {obs}\")\n",
    "    qx = agent.infer_states(obs)\n",
    "\n",
    "    q_pi, efe = agent.infer_policies()\n",
    "\n",
    "    action = agent.sample_action()\n",
    "    print(action)\n",
    "    word_actions.append(affordances[int(action[0])])\n",
    "    actions.append(action)"
   ]
  },
  {
   "cell_type": "code",
   "execution_count": 121,
   "metadata": {},
   "outputs": [
    {
     "data": {
      "text/plain": [
       "['RIGHT', 'DOWN']"
      ]
     },
     "execution_count": 129,
     "metadata": {},
     "output_type": "execute_result"
    }
   ],
   "source": [
    "word_actions"
   ]
  },
  {
   "cell_type": "markdown",
   "metadata": {
    "tags": []
   },
   "source": [
    "## Sanity check #2: Updating the state in the environment"
   ]
  },
  {
   "cell_type": "code",
   "execution_count": 35,
   "metadata": {},
   "outputs": [
    {
     "data": {
      "image/png": "[encoded data removed]",
      "text/plain": [
       "<Figure size 432x288 with 1 Axes>"
      ]
     },
     "metadata": {},
     "output_type": "display_data"
    }
   ],
   "source": [
    "plot_grid(grid_locations)"
   ]
  },
  {
   "cell_type": "code",
   "execution_count": 122,
   "metadata": {},
   "outputs": [
    {
     "name": "stdout",
     "output_type": "stream",
     "text": [
      "New location for agent 0 is (1, 0)\n",
      "New location for agent 1 is (2, 2)\n"
     ]
    },
    {
     "name": "stderr",
     "output_type": "stream",
     "text": [
      "/var/folders/vc/5b_s57r96czcz93nfrdkmhwc0000gn/T/ipykernel_89734/2120734228.py:141: MatplotlibDeprecationWarning: Auto-removal of grids by pcolor() and pcolormesh() is deprecated since 3.5 and will be removed two minor releases later; please call grid(False) first.\n",
      "  h = ax.pcolormesh(Y, X, np.ones(grid_dims), edgecolors='k', vmin = 0, vmax = 30, linewidth=3, cmap = 'coolwarm')\n"
     ]
    },
    {
     "data": {
      "text/plain": [
       "[[array([0, 0, 0, 1, 0, 0, 0, 0, 0]), array([0, 0, 0, 0, 0, 0, 0, 0, 1])],\n",
       " [array([0, 0, 0, 0, 0, 0, 0, 0, 1]), array([0, 0, 0, 1, 0, 0, 0, 0, 0])]]"
      ]
     },
     "execution_count": 130,
     "metadata": {},
     "output_type": "execute_result"
    },
    {
     "data": {
      "image/png": "[encoded data removed]",
      "text/plain": [
       "<Figure size 720x432 with 1 Axes>"
      ]
     },
     "metadata": {},
     "output_type": "display_data"
    }
   ],
   "source": [
    "new_obs = env.step(actions); new_obs"
   ]
  },
  {
   "cell_type": "code",
   "execution_count": 37,
   "metadata": {},
   "outputs": [
    {
     "name": "stdout",
     "output_type": "stream",
     "text": [
      "[array([0, 0, 0, 0, 0, 0, 0, 0, 1]), array([0, 1, 0, 0, 0, 0, 0, 0, 0])]\n",
      "[array([0, 1, 0, 0, 0, 0, 0, 0, 0]), array([0, 0, 0, 0, 0, 0, 0, 0, 1])]\n"
     ]
    }
   ],
   "source": [
    "print(new_obs[0])\n",
    "print(new_obs[1])"
   ]
  },
  {
   "cell_type": "markdown",
   "metadata": {
    "tags": []
   },
   "source": [
    "## Sanity check #3: Full simulation (without cadCAD)"
   ]
  },
  {
   "cell_type": "code",
   "execution_count": 34,
   "metadata": {},
   "outputs": [
    {
     "name": "stdout",
     "output_type": "stream",
     "text": [
      "[array([1., 0., 0., 0., 0., 0., 0., 0., 0.])\n",
      " array([0.11111111, 0.11111111, 0.11111111, 0.11111111, 0.11111111,\n",
      "        0.11111111, 0.11111111, 0.11111111, 0.11111111])           ]\n"
     ]
    }
   ],
   "source": [
    "agent2.C = deepcopy(C)\n",
    "agent2.C[1] = create_flat_dist(num_grid_points)\n",
    "agent2.C[0] = utils.onehot(0, num_grid_points)\n",
    "print(agent2.C)"
   ]
  },
  {
   "cell_type": "code",
   "execution_count": 118,
   "metadata": {},
   "outputs": [
    {
     "name": "stdout",
     "output_type": "stream",
     "text": [
      "['STAY', 'DOWN']\n",
      "New location for agent 0 is (0, 0)\n",
      "New location for agent 1 is (2, 2)\n"
     ]
    },
    {
     "name": "stderr",
     "output_type": "stream",
     "text": [
      "/var/folders/vc/5b_s57r96czcz93nfrdkmhwc0000gn/T/ipykernel_89734/170146544.py:141: MatplotlibDeprecationWarning: Auto-removal of grids by pcolor() and pcolormesh() is deprecated since 3.5 and will be removed two minor releases later; please call grid(False) first.\n",
      "  h = ax.pcolormesh(X, Y, np.ones(grid_dims), edgecolors='k', vmin = 0, vmax = 30, linewidth=3, cmap = 'coolwarm')\n"
     ]
    },
    {
     "name": "stdout",
     "output_type": "stream",
     "text": [
      "['DOWN', 'DOWN']\n",
      "New location for agent 0 is (0, 1)\n",
      "New location for agent 1 is (2, 2)\n",
      "['DOWN', 'RIGHT']\n",
      "New location for agent 0 is (0, 2)\n",
      "New location for agent 1 is (2, 2)\n",
      "['STAY', 'DOWN']\n",
      "New location for agent 0 is (0, 2)\n",
      "New location for agent 1 is (2, 2)\n",
      "['DOWN', 'DOWN']\n",
      "New location for agent 0 is (0, 2)\n",
      "New location for agent 1 is (2, 2)\n",
      "['DOWN', 'RIGHT']\n",
      "New location for agent 0 is (0, 2)\n",
      "New location for agent 1 is (2, 2)\n",
      "['STAY', 'DOWN']\n",
      "New location for agent 0 is (0, 2)\n",
      "New location for agent 1 is (2, 2)\n",
      "['DOWN', 'DOWN']\n",
      "New location for agent 0 is (0, 2)\n",
      "New location for agent 1 is (2, 2)\n",
      "['DOWN', 'RIGHT']\n",
      "New location for agent 0 is (0, 2)\n",
      "New location for agent 1 is (2, 2)\n",
      "['STAY', 'DOWN']\n",
      "New location for agent 0 is (0, 2)\n",
      "New location for agent 1 is (2, 2)\n"
     ]
    },
    {
     "data": {
      "image/png": "[encoded data removed]",
      "text/plain": [
       "<Figure size 720x432 with 1 Axes>"
      ]
     },
     "metadata": {},
     "output_type": "display_data"
    },
    {
     "data": {
      "image/png": "[encoded data removed]",
      "text/plain": [
       "<Figure size 720x432 with 1 Axes>"
      ]
     },
     "metadata": {},
     "output_type": "display_data"
    },
    {
     "data": {
      "image/png": "[encoded data removed]",
      "text/plain": [
       "<Figure size 720x432 with 1 Axes>"
      ]
     },
     "metadata": {},
     "output_type": "display_data"
    },
    {
     "data": {
      "image/png": "[encoded data removed]",
      "text/plain": [
       "<Figure size 720x432 with 1 Axes>"
      ]
     },
     "metadata": {},
     "output_type": "display_data"
    },
    {
     "data": {
      "image/png": "[encoded data removed]",
      "text/plain": [
       "<Figure size 720x432 with 1 Axes>"
      ]
     },
     "metadata": {},
     "output_type": "display_data"
    },
    {
     "data": {
      "image/png": "[encoded data removed]",
      "text/plain": [
       "<Figure size 720x432 with 1 Axes>"
      ]
     },
     "metadata": {},
     "output_type": "display_data"
    },
    {
     "data": {
      "image/png": "[encoded data removed]",
      "text/plain": [
       "<Figure size 720x432 with 1 Axes>"
      ]
     },
     "metadata": {},
     "output_type": "display_data"
    },
    {
     "data": {
      "image/png": "[encoded data removed]",
      "text/plain": [
       "<Figure size 720x432 with 1 Axes>"
      ]
     },
     "metadata": {},
     "output_type": "display_data"
    },
    {
     "data": {
      "image/png": "[encoded data removed]",
      "text/plain": [
       "<Figure size 720x432 with 1 Axes>"
      ]
     },
     "metadata": {},
     "output_type": "display_data"
    },
    {
     "data": {
      "image/png": "[encoded data removed]",
      "text/plain": [
       "<Figure size 720x432 with 1 Axes>"
      ]
     },
     "metadata": {},
     "output_type": "display_data"
    }
   ],
   "source": [
    "# observations = [agent1_init_obs, agent2_init_obs]\n",
    "observations = [agent2_init_obs, agent1_init_obs]\n",
    "\n",
    "actions = []\n",
    "word_actions = []\n",
    "\n",
    "for _ in range(10):\n",
    "    actions = []\n",
    "    word_actions = []\n",
    "    # for idx, agent in enumerate([agent1, agent2]):\n",
    "    for idx, agent in enumerate([agent2, agent1]):\n",
    "        obs = observations[idx]\n",
    "        # print(f\"Obs: {obs}\")\n",
    "        qx = agent.infer_states(obs)\n",
    "\n",
    "        q_pi, efe = agent.infer_policies()\n",
    "\n",
    "        action = agent.sample_action()\n",
    "\n",
    "        word_actions.append(affordances[int(action[0])])\n",
    "        actions.append(action)\n",
    "    print(word_actions)\n",
    "    observations = env.step(actions)\n",
    "    # print(f\"New observations are: {observations}\")"
   ]
  },
  {
   "cell_type": "markdown",
   "metadata": {},
   "source": [
    "## Prepare cadCAD simulation"
   ]
  },
  {
   "cell_type": "markdown",
   "metadata": {},
   "source": [
    "### Initializing the cadCAD simulation components\n",
    "\n",
    "We need to specify the initial state, the simulation parameters (we won't need those now), the policy functions (not to be confused with active inference policies), and the state update functions."
   ]
  },
  {
   "cell_type": "code",
   "execution_count": 52,
   "metadata": {},
   "outputs": [],
   "source": [
    "initial_state = {\n",
    "    'agent1': agent1,\n",
    "    'agent2': agent2,\n",
    "    'env': env,\n",
    "    'obs': [agent1_init_obs, agent2_init_obs],\n",
    "    'locations': env.current_state,\n",
    "    'actions': [None, None]\n",
    "}"
   ]
  },
  {
   "cell_type": "code",
   "execution_count": 53,
   "metadata": {},
   "outputs": [],
   "source": [
    "params = {\n",
    "}"
   ]
  },
  {
   "cell_type": "markdown",
   "metadata": {},
   "source": [
    "Policy functions"
   ]
  },
  {
   "cell_type": "code",
   "execution_count": 54,
   "metadata": {},
   "outputs": [],
   "source": [
    "def p_actinf(params, substep, state_history, previous_state):\n",
    "    actions = []\n",
    "    word_actions = []\n",
    "    for idx, agent in enumerate([previous_state['agent1'], previous_state['agent2']]):\n",
    "\n",
    "        obs = previous_state['obs'][idx]\n",
    "        print(f\"Obs: {obs}\")\n",
    "        qx = agent.infer_states(obs) \n",
    "        q_pi, efe = agent.infer_policies()\n",
    "\n",
    "        action = agent.sample_action()\n",
    "        word_actions.append(affordances[int(action[0])])\n",
    "        actions.append(action)\n",
    "\n",
    "    return {'update_actions': actions,\n",
    "            'update_word_actions': word_actions}"
   ]
  },
  {
   "cell_type": "markdown",
   "metadata": {},
   "source": [
    "State-update functions"
   ]
  },
  {
   "cell_type": "code",
   "execution_count": 55,
   "metadata": {},
   "outputs": [],
   "source": [
    "def s_obs(params, substep, state_history, previous_state, policy_input):\n",
    "    updated_obs = previous_state['env'].step(policy_input['update_actions'])\n",
    "    return 'obs', updated_obs\n",
    "\n",
    "def s_act(params, substep, state_history, previous_state, policy_input):\n",
    "    return 'actions', policy_input['update_word_actions']"
   ]
  },
  {
   "cell_type": "markdown",
   "metadata": {},
   "source": [
    "### Putting it all together\n",
    "\n",
    "Now we connect out policies and state-update functions in the so called \"state update blocks\". This allows us to compose different components of the simulation either in series or in parallel. In future work, we can explore how we can decompose the generative model and the message passing schemes within the state update blocks. There's also interesting work to be done in composing general multi-agent simulations (Do agents take actions in series or in parallel? How does that change the behavior of the system?)."
   ]
  },
  {
   "cell_type": "code",
   "execution_count": 60,
   "metadata": {},
   "outputs": [],
   "source": [
    "state_update_blocks = [\n",
    "    {\n",
    "        'policies': {\n",
    "            'p_actinf': p_actinf\n",
    "        },\n",
    "        'variables': {\n",
    "            'obs': s_obs,\n",
    "            'actions': s_act,\n",
    "        }\n",
    "    }\n",
    "]"
   ]
  },
  {
   "cell_type": "code",
   "execution_count": 61,
   "metadata": {},
   "outputs": [],
   "source": [
    "from radcad import Model, Simulation\n",
    "\n",
    "model = Model(\n",
    "    # Model initial state\n",
    "    initial_state=initial_state,\n",
    "    # Model Partial State Update Blocks\n",
    "    state_update_blocks=state_update_blocks,\n",
    "    # System Parameters\n",
    "    params=params\n",
    ")\n",
    "\n",
    "simulation = Simulation(\n",
    "    model=model,\n",
    "    timesteps=20,  # Number of timesteps\n",
    "    runs=1  # Number of Monte Carlo Runs\n",
    ")"
   ]
  },
  {
   "cell_type": "code",
   "execution_count": 62,
   "metadata": {
    "tags": []
   },
   "outputs": [
    {
     "name": "stdout",
     "output_type": "stream",
     "text": [
      "Obs: [array([1, 0, 0, 0, 0, 0, 0, 0, 0]) array([0, 0, 0, 0, 0, 0, 0, 1, 0])]\n",
      "Obs: [array([0, 0, 0, 0, 0, 0, 0, 1, 0]) array([1, 0, 0, 0, 0, 0, 0, 0, 0])]\n",
      "self.border is 2.0\n",
      "taking action DOWN\n",
      "x, y = (0, 0)\n",
      "next_x, next_y = (0, 1)\n",
      "self.border is 2.0\n",
      "New agent states are [1, 7]\n",
      "New observations are [[array([0, 1, 0, 0, 0, 0, 0, 0, 0]), array([0, 0, 0, 0, 0, 0, 0, 1, 0])], [array([0, 0, 0, 0, 0, 0, 0, 1, 0]), array([0, 1, 0, 0, 0, 0, 0, 0, 0])]]\n",
      "Obs: [array([0, 1, 0, 0, 0, 0, 0, 0, 0]), array([0, 0, 0, 0, 0, 0, 0, 1, 0])]\n",
      "Obs: [array([0, 0, 0, 0, 0, 0, 0, 1, 0]), array([0, 1, 0, 0, 0, 0, 0, 0, 0])]\n",
      "self.border is 2.0\n",
      "taking action DOWN\n",
      "x, y = (0, 0)\n",
      "next_x, next_y = (0, 1)\n",
      "self.border is 2.0\n",
      "New agent states are [1, 7]\n",
      "New observations are [[array([0, 1, 0, 0, 0, 0, 0, 0, 0]), array([0, 0, 0, 0, 0, 0, 0, 1, 0])], [array([0, 0, 0, 0, 0, 0, 0, 1, 0]), array([0, 1, 0, 0, 0, 0, 0, 0, 0])]]\n",
      "Obs: [array([0, 1, 0, 0, 0, 0, 0, 0, 0]), array([0, 0, 0, 0, 0, 0, 0, 1, 0])]\n",
      "Obs: [array([0, 0, 0, 0, 0, 0, 0, 1, 0]), array([0, 1, 0, 0, 0, 0, 0, 0, 0])]\n",
      "self.border is 2.0\n",
      "taking action DOWN\n",
      "x, y = (0, 0)\n",
      "next_x, next_y = (0, 1)\n",
      "self.border is 2.0\n",
      "New agent states are [1, 7]\n",
      "New observations are [[array([0, 1, 0, 0, 0, 0, 0, 0, 0]), array([0, 0, 0, 0, 0, 0, 0, 1, 0])], [array([0, 0, 0, 0, 0, 0, 0, 1, 0]), array([0, 1, 0, 0, 0, 0, 0, 0, 0])]]\n",
      "Obs: [array([0, 1, 0, 0, 0, 0, 0, 0, 0]), array([0, 0, 0, 0, 0, 0, 0, 1, 0])]\n",
      "Obs: [array([0, 0, 0, 0, 0, 0, 0, 1, 0]), array([0, 1, 0, 0, 0, 0, 0, 0, 0])]\n",
      "self.border is 2.0\n",
      "taking action DOWN\n",
      "x, y = (0, 0)\n",
      "next_x, next_y = (0, 1)\n",
      "self.border is 2.0\n",
      "New agent states are [1, 7]\n",
      "New observations are [[array([0, 1, 0, 0, 0, 0, 0, 0, 0]), array([0, 0, 0, 0, 0, 0, 0, 1, 0])], [array([0, 0, 0, 0, 0, 0, 0, 1, 0]), array([0, 1, 0, 0, 0, 0, 0, 0, 0])]]\n",
      "Obs: [array([0, 1, 0, 0, 0, 0, 0, 0, 0]), array([0, 0, 0, 0, 0, 0, 0, 1, 0])]\n",
      "Obs: [array([0, 0, 0, 0, 0, 0, 0, 1, 0]), array([0, 1, 0, 0, 0, 0, 0, 0, 0])]\n",
      "self.border is 2.0\n",
      "taking action DOWN\n",
      "x, y = (0, 0)\n",
      "next_x, next_y = (0, 1)\n",
      "self.border is 2.0\n",
      "New agent states are [1, 7]\n",
      "New observations are [[array([0, 1, 0, 0, 0, 0, 0, 0, 0]), array([0, 0, 0, 0, 0, 0, 0, 1, 0])], [array([0, 0, 0, 0, 0, 0, 0, 1, 0]), array([0, 1, 0, 0, 0, 0, 0, 0, 0])]]\n",
      "Obs: [array([0, 1, 0, 0, 0, 0, 0, 0, 0]), array([0, 0, 0, 0, 0, 0, 0, 1, 0])]\n",
      "Obs: [array([0, 0, 0, 0, 0, 0, 0, 1, 0]), array([0, 1, 0, 0, 0, 0, 0, 0, 0])]\n",
      "self.border is 2.0\n",
      "taking action DOWN\n",
      "x, y = (0, 0)\n",
      "next_x, next_y = (0, 1)\n",
      "self.border is 2.0\n",
      "New agent states are [1, 7]\n",
      "New observations are [[array([0, 1, 0, 0, 0, 0, 0, 0, 0]), array([0, 0, 0, 0, 0, 0, 0, 1, 0])], [array([0, 0, 0, 0, 0, 0, 0, 1, 0]), array([0, 1, 0, 0, 0, 0, 0, 0, 0])]]\n",
      "Obs: [array([0, 1, 0, 0, 0, 0, 0, 0, 0]), array([0, 0, 0, 0, 0, 0, 0, 1, 0])]\n",
      "Obs: [array([0, 0, 0, 0, 0, 0, 0, 1, 0]), array([0, 1, 0, 0, 0, 0, 0, 0, 0])]\n",
      "self.border is 2.0\n",
      "taking action DOWN\n",
      "x, y = (0, 0)\n",
      "next_x, next_y = (0, 1)\n",
      "self.border is 2.0\n",
      "New agent states are [1, 7]\n",
      "New observations are [[array([0, 1, 0, 0, 0, 0, 0, 0, 0]), array([0, 0, 0, 0, 0, 0, 0, 1, 0])], [array([0, 0, 0, 0, 0, 0, 0, 1, 0]), array([0, 1, 0, 0, 0, 0, 0, 0, 0])]]\n",
      "Obs: [array([0, 1, 0, 0, 0, 0, 0, 0, 0]), array([0, 0, 0, 0, 0, 0, 0, 1, 0])]\n",
      "Obs: [array([0, 0, 0, 0, 0, 0, 0, 1, 0]), array([0, 1, 0, 0, 0, 0, 0, 0, 0])]\n",
      "self.border is 2.0\n",
      "taking action DOWN\n",
      "x, y = (0, 0)\n",
      "next_x, next_y = (0, 1)\n",
      "self.border is 2.0\n",
      "New agent states are [1, 7]\n",
      "New observations are [[array([0, 1, 0, 0, 0, 0, 0, 0, 0]), array([0, 0, 0, 0, 0, 0, 0, 1, 0])], [array([0, 0, 0, 0, 0, 0, 0, 1, 0]), array([0, 1, 0, 0, 0, 0, 0, 0, 0])]]\n",
      "Obs: [array([0, 1, 0, 0, 0, 0, 0, 0, 0]), array([0, 0, 0, 0, 0, 0, 0, 1, 0])]\n",
      "Obs: [array([0, 0, 0, 0, 0, 0, 0, 1, 0]), array([0, 1, 0, 0, 0, 0, 0, 0, 0])]\n",
      "self.border is 2.0\n",
      "taking action DOWN\n",
      "x, y = (0, 0)\n",
      "next_x, next_y = (0, 1)\n",
      "self.border is 2.0\n",
      "New agent states are [1, 7]\n",
      "New observations are [[array([0, 1, 0, 0, 0, 0, 0, 0, 0]), array([0, 0, 0, 0, 0, 0, 0, 1, 0])], [array([0, 0, 0, 0, 0, 0, 0, 1, 0]), array([0, 1, 0, 0, 0, 0, 0, 0, 0])]]\n",
      "Obs: [array([0, 1, 0, 0, 0, 0, 0, 0, 0]), array([0, 0, 0, 0, 0, 0, 0, 1, 0])]\n",
      "Obs: [array([0, 0, 0, 0, 0, 0, 0, 1, 0]), array([0, 1, 0, 0, 0, 0, 0, 0, 0])]\n",
      "self.border is 2.0\n",
      "taking action DOWN\n",
      "x, y = (0, 0)\n",
      "next_x, next_y = (0, 1)\n",
      "self.border is 2.0\n",
      "New agent states are [1, 7]\n",
      "New observations are [[array([0, 1, 0, 0, 0, 0, 0, 0, 0]), array([0, 0, 0, 0, 0, 0, 0, 1, 0])], [array([0, 0, 0, 0, 0, 0, 0, 1, 0]), array([0, 1, 0, 0, 0, 0, 0, 0, 0])]]\n",
      "Obs: [array([0, 1, 0, 0, 0, 0, 0, 0, 0]), array([0, 0, 0, 0, 0, 0, 0, 1, 0])]\n",
      "Obs: [array([0, 0, 0, 0, 0, 0, 0, 1, 0]), array([0, 1, 0, 0, 0, 0, 0, 0, 0])]\n",
      "self.border is 2.0\n",
      "taking action DOWN\n",
      "x, y = (0, 0)\n",
      "next_x, next_y = (0, 1)\n",
      "self.border is 2.0\n",
      "New agent states are [1, 7]\n",
      "New observations are [[array([0, 1, 0, 0, 0, 0, 0, 0, 0]), array([0, 0, 0, 0, 0, 0, 0, 1, 0])], [array([0, 0, 0, 0, 0, 0, 0, 1, 0]), array([0, 1, 0, 0, 0, 0, 0, 0, 0])]]\n",
      "Obs: [array([0, 1, 0, 0, 0, 0, 0, 0, 0]), array([0, 0, 0, 0, 0, 0, 0, 1, 0])]\n",
      "Obs: [array([0, 0, 0, 0, 0, 0, 0, 1, 0]), array([0, 1, 0, 0, 0, 0, 0, 0, 0])]\n",
      "self.border is 2.0\n",
      "taking action DOWN\n",
      "x, y = (0, 0)\n",
      "next_x, next_y = (0, 1)\n",
      "self.border is 2.0\n",
      "New agent states are [1, 7]\n",
      "New observations are [[array([0, 1, 0, 0, 0, 0, 0, 0, 0]), array([0, 0, 0, 0, 0, 0, 0, 1, 0])], [array([0, 0, 0, 0, 0, 0, 0, 1, 0]), array([0, 1, 0, 0, 0, 0, 0, 0, 0])]]\n",
      "Obs: [array([0, 1, 0, 0, 0, 0, 0, 0, 0]), array([0, 0, 0, 0, 0, 0, 0, 1, 0])]\n",
      "Obs: [array([0, 0, 0, 0, 0, 0, 0, 1, 0]), array([0, 1, 0, 0, 0, 0, 0, 0, 0])]\n",
      "self.border is 2.0\n",
      "taking action DOWN\n",
      "x, y = (0, 0)\n",
      "next_x, next_y = (0, 1)\n",
      "self.border is 2.0\n",
      "New agent states are [1, 7]\n",
      "New observations are [[array([0, 1, 0, 0, 0, 0, 0, 0, 0]), array([0, 0, 0, 0, 0, 0, 0, 1, 0])], [array([0, 0, 0, 0, 0, 0, 0, 1, 0]), array([0, 1, 0, 0, 0, 0, 0, 0, 0])]]\n",
      "Obs: [array([0, 1, 0, 0, 0, 0, 0, 0, 0]), array([0, 0, 0, 0, 0, 0, 0, 1, 0])]\n",
      "Obs: [array([0, 0, 0, 0, 0, 0, 0, 1, 0]), array([0, 1, 0, 0, 0, 0, 0, 0, 0])]\n",
      "self.border is 2.0\n",
      "taking action DOWN\n",
      "x, y = (0, 0)\n",
      "next_x, next_y = (0, 1)\n",
      "self.border is 2.0\n",
      "New agent states are [1, 7]\n",
      "New observations are [[array([0, 1, 0, 0, 0, 0, 0, 0, 0]), array([0, 0, 0, 0, 0, 0, 0, 1, 0])], [array([0, 0, 0, 0, 0, 0, 0, 1, 0]), array([0, 1, 0, 0, 0, 0, 0, 0, 0])]]\n",
      "Obs: [array([0, 1, 0, 0, 0, 0, 0, 0, 0]), array([0, 0, 0, 0, 0, 0, 0, 1, 0])]\n",
      "Obs: [array([0, 0, 0, 0, 0, 0, 0, 1, 0]), array([0, 1, 0, 0, 0, 0, 0, 0, 0])]\n",
      "self.border is 2.0\n",
      "taking action DOWN\n",
      "x, y = (0, 0)\n",
      "next_x, next_y = (0, 1)\n",
      "self.border is 2.0\n",
      "New agent states are [1, 7]\n",
      "New observations are [[array([0, 1, 0, 0, 0, 0, 0, 0, 0]), array([0, 0, 0, 0, 0, 0, 0, 1, 0])], [array([0, 0, 0, 0, 0, 0, 0, 1, 0]), array([0, 1, 0, 0, 0, 0, 0, 0, 0])]]\n",
      "Obs: [array([0, 1, 0, 0, 0, 0, 0, 0, 0]), array([0, 0, 0, 0, 0, 0, 0, 1, 0])]\n",
      "Obs: [array([0, 0, 0, 0, 0, 0, 0, 1, 0]), array([0, 1, 0, 0, 0, 0, 0, 0, 0])]\n",
      "self.border is 2.0\n",
      "taking action DOWN\n",
      "x, y = (0, 0)\n",
      "next_x, next_y = (0, 1)\n",
      "self.border is 2.0\n",
      "New agent states are [1, 7]\n",
      "New observations are [[array([0, 1, 0, 0, 0, 0, 0, 0, 0]), array([0, 0, 0, 0, 0, 0, 0, 1, 0])], [array([0, 0, 0, 0, 0, 0, 0, 1, 0]), array([0, 1, 0, 0, 0, 0, 0, 0, 0])]]\n",
      "Obs: [array([0, 1, 0, 0, 0, 0, 0, 0, 0]), array([0, 0, 0, 0, 0, 0, 0, 1, 0])]\n",
      "Obs: [array([0, 0, 0, 0, 0, 0, 0, 1, 0]), array([0, 1, 0, 0, 0, 0, 0, 0, 0])]\n",
      "self.border is 2.0\n",
      "taking action DOWN\n",
      "x, y = (0, 0)\n",
      "next_x, next_y = (0, 1)\n",
      "self.border is 2.0\n",
      "New agent states are [1, 7]\n",
      "New observations are [[array([0, 1, 0, 0, 0, 0, 0, 0, 0]), array([0, 0, 0, 0, 0, 0, 0, 1, 0])], [array([0, 0, 0, 0, 0, 0, 0, 1, 0]), array([0, 1, 0, 0, 0, 0, 0, 0, 0])]]\n",
      "Obs: [array([0, 1, 0, 0, 0, 0, 0, 0, 0]), array([0, 0, 0, 0, 0, 0, 0, 1, 0])]\n",
      "Obs: [array([0, 0, 0, 0, 0, 0, 0, 1, 0]), array([0, 1, 0, 0, 0, 0, 0, 0, 0])]\n",
      "self.border is 2.0\n",
      "taking action DOWN\n",
      "x, y = (0, 0)\n",
      "next_x, next_y = (0, 1)\n",
      "self.border is 2.0\n",
      "New agent states are [1, 7]\n",
      "New observations are [[array([0, 1, 0, 0, 0, 0, 0, 0, 0]), array([0, 0, 0, 0, 0, 0, 0, 1, 0])], [array([0, 0, 0, 0, 0, 0, 0, 1, 0]), array([0, 1, 0, 0, 0, 0, 0, 0, 0])]]\n",
      "Obs: [array([0, 1, 0, 0, 0, 0, 0, 0, 0]), array([0, 0, 0, 0, 0, 0, 0, 1, 0])]\n",
      "Obs: [array([0, 0, 0, 0, 0, 0, 0, 1, 0]), array([0, 1, 0, 0, 0, 0, 0, 0, 0])]\n",
      "self.border is 2.0\n",
      "taking action DOWN\n",
      "x, y = (0, 0)\n",
      "next_x, next_y = (0, 1)\n",
      "self.border is 2.0\n",
      "New agent states are [1, 7]\n",
      "New observations are [[array([0, 1, 0, 0, 0, 0, 0, 0, 0]), array([0, 0, 0, 0, 0, 0, 0, 1, 0])], [array([0, 0, 0, 0, 0, 0, 0, 1, 0]), array([0, 1, 0, 0, 0, 0, 0, 0, 0])]]\n",
      "Obs: [array([0, 1, 0, 0, 0, 0, 0, 0, 0]), array([0, 0, 0, 0, 0, 0, 0, 1, 0])]\n",
      "Obs: [array([0, 0, 0, 0, 0, 0, 0, 1, 0]), array([0, 1, 0, 0, 0, 0, 0, 0, 0])]\n",
      "self.border is 2.0\n",
      "taking action DOWN\n",
      "x, y = (0, 0)\n",
      "next_x, next_y = (0, 1)\n",
      "self.border is 2.0\n",
      "New agent states are [1, 7]\n",
      "New observations are [[array([0, 1, 0, 0, 0, 0, 0, 0, 0]), array([0, 0, 0, 0, 0, 0, 0, 1, 0])], [array([0, 0, 0, 0, 0, 0, 0, 1, 0]), array([0, 1, 0, 0, 0, 0, 0, 0, 0])]]\n"
     ]
    }
   ],
   "source": [
    "result = simulation.run()"
   ]
  },
  {
   "cell_type": "code",
   "execution_count": 63,
   "metadata": {},
   "outputs": [
    {
     "data": {
      "text/plain": [
       "[{'agent1': <pymdp.agent.Agent at 0x172f377f0>,\n",
       "  'agent2': <pymdp.agent.Agent at 0x17301b310>,\n",
       "  'env': <blockference.envs.grid_env_multi.TwoMultiGridAgent at 0x17301b430>,\n",
       "  'obs': [array([array([1, 0, 0, 0, 0, 0, 0, 0, 0]),\n",
       "          array([0, 0, 0, 0, 0, 0, 0, 1, 0])], dtype=object),\n",
       "   array([array([0, 0, 0, 0, 0, 0, 0, 1, 0]),\n",
       "          array([1, 0, 0, 0, 0, 0, 0, 0, 0])], dtype=object)],\n",
       "  'locations': [0, 7],\n",
       "  'actions': [None, None],\n",
       "  'simulation': 0,\n",
       "  'subset': 0,\n",
       "  'run': 1,\n",
       "  'substep': 0,\n",
       "  'timestep': 0},\n",
       " {'agent1': <pymdp.agent.Agent at 0x172f377f0>,\n",
       "  'agent2': <pymdp.agent.Agent at 0x17301b310>,\n",
       "  'env': <blockference.envs.grid_env_multi.TwoMultiGridAgent at 0x17301b430>,\n",
       "  'obs': [[array([0, 1, 0, 0, 0, 0, 0, 0, 0]),\n",
       "    array([0, 0, 0, 0, 0, 0, 0, 1, 0])],\n",
       "   [array([0, 0, 0, 0, 0, 0, 0, 1, 0]), array([0, 1, 0, 0, 0, 0, 0, 0, 0])]],\n",
       "  'locations': [0, 7],\n",
       "  'actions': ['DOWN', 'STAY'],\n",
       "  'simulation': 0,\n",
       "  'subset': 0,\n",
       "  'run': 1,\n",
       "  'substep': 1,\n",
       "  'timestep': 1},\n",
       " {'agent1': <pymdp.agent.Agent at 0x172f377f0>,\n",
       "  'agent2': <pymdp.agent.Agent at 0x17301b310>,\n",
       "  'env': <blockference.envs.grid_env_multi.TwoMultiGridAgent at 0x17301b430>,\n",
       "  'obs': [[array([0, 1, 0, 0, 0, 0, 0, 0, 0]),\n",
       "    array([0, 0, 0, 0, 0, 0, 0, 1, 0])],\n",
       "   [array([0, 0, 0, 0, 0, 0, 0, 1, 0]), array([0, 1, 0, 0, 0, 0, 0, 0, 0])]],\n",
       "  'locations': [0, 7],\n",
       "  'actions': ['DOWN', 'STAY'],\n",
       "  'simulation': 0,\n",
       "  'subset': 0,\n",
       "  'run': 1,\n",
       "  'substep': 1,\n",
       "  'timestep': 2},\n",
       " {'agent1': <pymdp.agent.Agent at 0x172f377f0>,\n",
       "  'agent2': <pymdp.agent.Agent at 0x17301b310>,\n",
       "  'env': <blockference.envs.grid_env_multi.TwoMultiGridAgent at 0x17301b430>,\n",
       "  'obs': [[array([0, 1, 0, 0, 0, 0, 0, 0, 0]),\n",
       "    array([0, 0, 0, 0, 0, 0, 0, 1, 0])],\n",
       "   [array([0, 0, 0, 0, 0, 0, 0, 1, 0]), array([0, 1, 0, 0, 0, 0, 0, 0, 0])]],\n",
       "  'locations': [0, 7],\n",
       "  'actions': ['DOWN', 'STAY'],\n",
       "  'simulation': 0,\n",
       "  'subset': 0,\n",
       "  'run': 1,\n",
       "  'substep': 1,\n",
       "  'timestep': 3},\n",
       " {'agent1': <pymdp.agent.Agent at 0x172f377f0>,\n",
       "  'agent2': <pymdp.agent.Agent at 0x17301b310>,\n",
       "  'env': <blockference.envs.grid_env_multi.TwoMultiGridAgent at 0x17301b430>,\n",
       "  'obs': [[array([0, 1, 0, 0, 0, 0, 0, 0, 0]),\n",
       "    array([0, 0, 0, 0, 0, 0, 0, 1, 0])],\n",
       "   [array([0, 0, 0, 0, 0, 0, 0, 1, 0]), array([0, 1, 0, 0, 0, 0, 0, 0, 0])]],\n",
       "  'locations': [0, 7],\n",
       "  'actions': ['DOWN', 'STAY'],\n",
       "  'simulation': 0,\n",
       "  'subset': 0,\n",
       "  'run': 1,\n",
       "  'substep': 1,\n",
       "  'timestep': 4},\n",
       " {'agent1': <pymdp.agent.Agent at 0x172f377f0>,\n",
       "  'agent2': <pymdp.agent.Agent at 0x17301b310>,\n",
       "  'env': <blockference.envs.grid_env_multi.TwoMultiGridAgent at 0x17301b430>,\n",
       "  'obs': [[array([0, 1, 0, 0, 0, 0, 0, 0, 0]),\n",
       "    array([0, 0, 0, 0, 0, 0, 0, 1, 0])],\n",
       "   [array([0, 0, 0, 0, 0, 0, 0, 1, 0]), array([0, 1, 0, 0, 0, 0, 0, 0, 0])]],\n",
       "  'locations': [0, 7],\n",
       "  'actions': ['DOWN', 'STAY'],\n",
       "  'simulation': 0,\n",
       "  'subset': 0,\n",
       "  'run': 1,\n",
       "  'substep': 1,\n",
       "  'timestep': 5},\n",
       " {'agent1': <pymdp.agent.Agent at 0x172f377f0>,\n",
       "  'agent2': <pymdp.agent.Agent at 0x17301b310>,\n",
       "  'env': <blockference.envs.grid_env_multi.TwoMultiGridAgent at 0x17301b430>,\n",
       "  'obs': [[array([0, 1, 0, 0, 0, 0, 0, 0, 0]),\n",
       "    array([0, 0, 0, 0, 0, 0, 0, 1, 0])],\n",
       "   [array([0, 0, 0, 0, 0, 0, 0, 1, 0]), array([0, 1, 0, 0, 0, 0, 0, 0, 0])]],\n",
       "  'locations': [0, 7],\n",
       "  'actions': ['DOWN', 'STAY'],\n",
       "  'simulation': 0,\n",
       "  'subset': 0,\n",
       "  'run': 1,\n",
       "  'substep': 1,\n",
       "  'timestep': 6},\n",
       " {'agent1': <pymdp.agent.Agent at 0x172f377f0>,\n",
       "  'agent2': <pymdp.agent.Agent at 0x17301b310>,\n",
       "  'env': <blockference.envs.grid_env_multi.TwoMultiGridAgent at 0x17301b430>,\n",
       "  'obs': [[array([0, 1, 0, 0, 0, 0, 0, 0, 0]),\n",
       "    array([0, 0, 0, 0, 0, 0, 0, 1, 0])],\n",
       "   [array([0, 0, 0, 0, 0, 0, 0, 1, 0]), array([0, 1, 0, 0, 0, 0, 0, 0, 0])]],\n",
       "  'locations': [0, 7],\n",
       "  'actions': ['DOWN', 'STAY'],\n",
       "  'simulation': 0,\n",
       "  'subset': 0,\n",
       "  'run': 1,\n",
       "  'substep': 1,\n",
       "  'timestep': 7},\n",
       " {'agent1': <pymdp.agent.Agent at 0x172f377f0>,\n",
       "  'agent2': <pymdp.agent.Agent at 0x17301b310>,\n",
       "  'env': <blockference.envs.grid_env_multi.TwoMultiGridAgent at 0x17301b430>,\n",
       "  'obs': [[array([0, 1, 0, 0, 0, 0, 0, 0, 0]),\n",
       "    array([0, 0, 0, 0, 0, 0, 0, 1, 0])],\n",
       "   [array([0, 0, 0, 0, 0, 0, 0, 1, 0]), array([0, 1, 0, 0, 0, 0, 0, 0, 0])]],\n",
       "  'locations': [0, 7],\n",
       "  'actions': ['DOWN', 'STAY'],\n",
       "  'simulation': 0,\n",
       "  'subset': 0,\n",
       "  'run': 1,\n",
       "  'substep': 1,\n",
       "  'timestep': 8},\n",
       " {'agent1': <pymdp.agent.Agent at 0x172f377f0>,\n",
       "  'agent2': <pymdp.agent.Agent at 0x17301b310>,\n",
       "  'env': <blockference.envs.grid_env_multi.TwoMultiGridAgent at 0x17301b430>,\n",
       "  'obs': [[array([0, 1, 0, 0, 0, 0, 0, 0, 0]),\n",
       "    array([0, 0, 0, 0, 0, 0, 0, 1, 0])],\n",
       "   [array([0, 0, 0, 0, 0, 0, 0, 1, 0]), array([0, 1, 0, 0, 0, 0, 0, 0, 0])]],\n",
       "  'locations': [0, 7],\n",
       "  'actions': ['DOWN', 'STAY'],\n",
       "  'simulation': 0,\n",
       "  'subset': 0,\n",
       "  'run': 1,\n",
       "  'substep': 1,\n",
       "  'timestep': 9},\n",
       " {'agent1': <pymdp.agent.Agent at 0x172f377f0>,\n",
       "  'agent2': <pymdp.agent.Agent at 0x17301b310>,\n",
       "  'env': <blockference.envs.grid_env_multi.TwoMultiGridAgent at 0x17301b430>,\n",
       "  'obs': [[array([0, 1, 0, 0, 0, 0, 0, 0, 0]),\n",
       "    array([0, 0, 0, 0, 0, 0, 0, 1, 0])],\n",
       "   [array([0, 0, 0, 0, 0, 0, 0, 1, 0]), array([0, 1, 0, 0, 0, 0, 0, 0, 0])]],\n",
       "  'locations': [0, 7],\n",
       "  'actions': ['DOWN', 'STAY'],\n",
       "  'simulation': 0,\n",
       "  'subset': 0,\n",
       "  'run': 1,\n",
       "  'substep': 1,\n",
       "  'timestep': 10},\n",
       " {'agent1': <pymdp.agent.Agent at 0x172f377f0>,\n",
       "  'agent2': <pymdp.agent.Agent at 0x17301b310>,\n",
       "  'env': <blockference.envs.grid_env_multi.TwoMultiGridAgent at 0x17301b430>,\n",
       "  'obs': [[array([0, 1, 0, 0, 0, 0, 0, 0, 0]),\n",
       "    array([0, 0, 0, 0, 0, 0, 0, 1, 0])],\n",
       "   [array([0, 0, 0, 0, 0, 0, 0, 1, 0]), array([0, 1, 0, 0, 0, 0, 0, 0, 0])]],\n",
       "  'locations': [0, 7],\n",
       "  'actions': ['DOWN', 'STAY'],\n",
       "  'simulation': 0,\n",
       "  'subset': 0,\n",
       "  'run': 1,\n",
       "  'substep': 1,\n",
       "  'timestep': 11},\n",
       " {'agent1': <pymdp.agent.Agent at 0x172f377f0>,\n",
       "  'agent2': <pymdp.agent.Agent at 0x17301b310>,\n",
       "  'env': <blockference.envs.grid_env_multi.TwoMultiGridAgent at 0x17301b430>,\n",
       "  'obs': [[array([0, 1, 0, 0, 0, 0, 0, 0, 0]),\n",
       "    array([0, 0, 0, 0, 0, 0, 0, 1, 0])],\n",
       "   [array([0, 0, 0, 0, 0, 0, 0, 1, 0]), array([0, 1, 0, 0, 0, 0, 0, 0, 0])]],\n",
       "  'locations': [0, 7],\n",
       "  'actions': ['DOWN', 'STAY'],\n",
       "  'simulation': 0,\n",
       "  'subset': 0,\n",
       "  'run': 1,\n",
       "  'substep': 1,\n",
       "  'timestep': 12},\n",
       " {'agent1': <pymdp.agent.Agent at 0x172f377f0>,\n",
       "  'agent2': <pymdp.agent.Agent at 0x17301b310>,\n",
       "  'env': <blockference.envs.grid_env_multi.TwoMultiGridAgent at 0x17301b430>,\n",
       "  'obs': [[array([0, 1, 0, 0, 0, 0, 0, 0, 0]),\n",
       "    array([0, 0, 0, 0, 0, 0, 0, 1, 0])],\n",
       "   [array([0, 0, 0, 0, 0, 0, 0, 1, 0]), array([0, 1, 0, 0, 0, 0, 0, 0, 0])]],\n",
       "  'locations': [0, 7],\n",
       "  'actions': ['DOWN', 'STAY'],\n",
       "  'simulation': 0,\n",
       "  'subset': 0,\n",
       "  'run': 1,\n",
       "  'substep': 1,\n",
       "  'timestep': 13},\n",
       " {'agent1': <pymdp.agent.Agent at 0x172f377f0>,\n",
       "  'agent2': <pymdp.agent.Agent at 0x17301b310>,\n",
       "  'env': <blockference.envs.grid_env_multi.TwoMultiGridAgent at 0x17301b430>,\n",
       "  'obs': [[array([0, 1, 0, 0, 0, 0, 0, 0, 0]),\n",
       "    array([0, 0, 0, 0, 0, 0, 0, 1, 0])],\n",
       "   [array([0, 0, 0, 0, 0, 0, 0, 1, 0]), array([0, 1, 0, 0, 0, 0, 0, 0, 0])]],\n",
       "  'locations': [0, 7],\n",
       "  'actions': ['DOWN', 'STAY'],\n",
       "  'simulation': 0,\n",
       "  'subset': 0,\n",
       "  'run': 1,\n",
       "  'substep': 1,\n",
       "  'timestep': 14},\n",
       " {'agent1': <pymdp.agent.Agent at 0x172f377f0>,\n",
       "  'agent2': <pymdp.agent.Agent at 0x17301b310>,\n",
       "  'env': <blockference.envs.grid_env_multi.TwoMultiGridAgent at 0x17301b430>,\n",
       "  'obs': [[array([0, 1, 0, 0, 0, 0, 0, 0, 0]),\n",
       "    array([0, 0, 0, 0, 0, 0, 0, 1, 0])],\n",
       "   [array([0, 0, 0, 0, 0, 0, 0, 1, 0]), array([0, 1, 0, 0, 0, 0, 0, 0, 0])]],\n",
       "  'locations': [0, 7],\n",
       "  'actions': ['DOWN', 'STAY'],\n",
       "  'simulation': 0,\n",
       "  'subset': 0,\n",
       "  'run': 1,\n",
       "  'substep': 1,\n",
       "  'timestep': 15},\n",
       " {'agent1': <pymdp.agent.Agent at 0x172f377f0>,\n",
       "  'agent2': <pymdp.agent.Agent at 0x17301b310>,\n",
       "  'env': <blockference.envs.grid_env_multi.TwoMultiGridAgent at 0x17301b430>,\n",
       "  'obs': [[array([0, 1, 0, 0, 0, 0, 0, 0, 0]),\n",
       "    array([0, 0, 0, 0, 0, 0, 0, 1, 0])],\n",
       "   [array([0, 0, 0, 0, 0, 0, 0, 1, 0]), array([0, 1, 0, 0, 0, 0, 0, 0, 0])]],\n",
       "  'locations': [0, 7],\n",
       "  'actions': ['DOWN', 'STAY'],\n",
       "  'simulation': 0,\n",
       "  'subset': 0,\n",
       "  'run': 1,\n",
       "  'substep': 1,\n",
       "  'timestep': 16},\n",
       " {'agent1': <pymdp.agent.Agent at 0x172f377f0>,\n",
       "  'agent2': <pymdp.agent.Agent at 0x17301b310>,\n",
       "  'env': <blockference.envs.grid_env_multi.TwoMultiGridAgent at 0x17301b430>,\n",
       "  'obs': [[array([0, 1, 0, 0, 0, 0, 0, 0, 0]),\n",
       "    array([0, 0, 0, 0, 0, 0, 0, 1, 0])],\n",
       "   [array([0, 0, 0, 0, 0, 0, 0, 1, 0]), array([0, 1, 0, 0, 0, 0, 0, 0, 0])]],\n",
       "  'locations': [0, 7],\n",
       "  'actions': ['DOWN', 'STAY'],\n",
       "  'simulation': 0,\n",
       "  'subset': 0,\n",
       "  'run': 1,\n",
       "  'substep': 1,\n",
       "  'timestep': 17},\n",
       " {'agent1': <pymdp.agent.Agent at 0x172f377f0>,\n",
       "  'agent2': <pymdp.agent.Agent at 0x17301b310>,\n",
       "  'env': <blockference.envs.grid_env_multi.TwoMultiGridAgent at 0x17301b430>,\n",
       "  'obs': [[array([0, 1, 0, 0, 0, 0, 0, 0, 0]),\n",
       "    array([0, 0, 0, 0, 0, 0, 0, 1, 0])],\n",
       "   [array([0, 0, 0, 0, 0, 0, 0, 1, 0]), array([0, 1, 0, 0, 0, 0, 0, 0, 0])]],\n",
       "  'locations': [0, 7],\n",
       "  'actions': ['DOWN', 'STAY'],\n",
       "  'simulation': 0,\n",
       "  'subset': 0,\n",
       "  'run': 1,\n",
       "  'substep': 1,\n",
       "  'timestep': 18},\n",
       " {'agent1': <pymdp.agent.Agent at 0x172f377f0>,\n",
       "  'agent2': <pymdp.agent.Agent at 0x17301b310>,\n",
       "  'env': <blockference.envs.grid_env_multi.TwoMultiGridAgent at 0x17301b430>,\n",
       "  'obs': [[array([0, 1, 0, 0, 0, 0, 0, 0, 0]),\n",
       "    array([0, 0, 0, 0, 0, 0, 0, 1, 0])],\n",
       "   [array([0, 0, 0, 0, 0, 0, 0, 1, 0]), array([0, 1, 0, 0, 0, 0, 0, 0, 0])]],\n",
       "  'locations': [0, 7],\n",
       "  'actions': ['DOWN', 'STAY'],\n",
       "  'simulation': 0,\n",
       "  'subset': 0,\n",
       "  'run': 1,\n",
       "  'substep': 1,\n",
       "  'timestep': 19},\n",
       " {'agent1': <pymdp.agent.Agent at 0x172f377f0>,\n",
       "  'agent2': <pymdp.agent.Agent at 0x17301b310>,\n",
       "  'env': <blockference.envs.grid_env_multi.TwoMultiGridAgent at 0x17301b430>,\n",
       "  'obs': [[array([0, 1, 0, 0, 0, 0, 0, 0, 0]),\n",
       "    array([0, 0, 0, 0, 0, 0, 0, 1, 0])],\n",
       "   [array([0, 0, 0, 0, 0, 0, 0, 1, 0]), array([0, 1, 0, 0, 0, 0, 0, 0, 0])]],\n",
       "  'locations': [0, 7],\n",
       "  'actions': ['DOWN', 'STAY'],\n",
       "  'simulation': 0,\n",
       "  'subset': 0,\n",
       "  'run': 1,\n",
       "  'substep': 1,\n",
       "  'timestep': 20}]"
      ]
     },
     "execution_count": 63,
     "metadata": {},
     "output_type": "execute_result"
    }
   ],
   "source": [
    "result"
   ]
  },
  {
   "cell_type": "code",
   "execution_count": null,
   "metadata": {},
   "outputs": [],
   "source": []
  }
 ],
 "metadata": {
  "kernelspec": {
   "display_name": "Python 3 (ipykernel)",
   "language": "python",
   "name": "python3"
  },
  "language_info": {
   "codemirror_mode": {
    "name": "ipython",
    "version": 3
   },
   "file_extension": ".py",
   "mimetype": "text/x-python",
   "name": "python",
   "nbconvert_exporter": "python",
   "pygments_lexer": "ipython3",
   "version": "3.8.5"
  },
  "vscode": {
   "interpreter": {
    "hash": "1c596f8ea73094ff366b4a78cb3d7a121270c7966eba71b4cca991db5b176f60"
   }
  }
 },
 "nbformat": 4,
 "nbformat_minor": 4
}
