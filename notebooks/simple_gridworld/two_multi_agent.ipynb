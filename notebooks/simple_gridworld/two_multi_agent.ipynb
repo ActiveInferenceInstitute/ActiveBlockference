{
 "cells": [
  {
   "cell_type": "markdown",
   "metadata": {},
   "source": [
    "## The 2-agent multi-agent Active Blockference"
   ]
  },
  {
   "cell_type": "code",
   "execution_count": 1,
   "metadata": {},
   "outputs": [],
   "source": [
    "import itertools\n",
    "import numpy as np\n",
    "import seaborn as sns\n",
    "from pymdp import utils\n",
    "from copy import deepcopy\n",
    "import matplotlib.pyplot as plt"
   ]
  },
  {
   "cell_type": "markdown",
   "metadata": {},
   "source": [
    "Now we define a helper plotting function"
   ]
  },
  {
   "cell_type": "code",
   "execution_count": 2,
   "metadata": {},
   "outputs": [],
   "source": [
    "def plot_grid(grid_locations, num_x = 3, num_y = 3 ):\n",
    "    \"\"\"\n",
    "    Plots the spatial coordinates of GridWorld as a heatmap, with each (X, Y) coordinate \n",
    "    labeled with its linear index (its `state id`)\n",
    "    \"\"\"\n",
    "\n",
    "    grid_heatmap = np.zeros((num_x, num_y))\n",
    "    for linear_idx, location in enumerate(grid_locations):\n",
    "      y, x = location\n",
    "      grid_heatmap[y, x] = linear_idx\n",
    "    sns.set(font_scale=1.5)\n",
    "    sns.heatmap(grid_heatmap, annot=True, cbar = False, fmt='.0f', cmap='crest')"
   ]
  },
  {
   "cell_type": "markdown",
   "metadata": {},
   "source": [
    "Next we define the gridworld the agents will occupy"
   ]
  },
  {
   "cell_type": "code",
   "execution_count": 3,
   "metadata": {},
   "outputs": [
    {
     "name": "stdout",
     "output_type": "stream",
     "text": [
      "Position dictionary is {0: (0, 0), 1: (0, 1), 2: (0, 2), 3: (1, 0), 4: (1, 1), 5: (1, 2), 6: (2, 0), 7: (2, 1), 8: (2, 2)}\n",
      "Grid locations are [(0, 0), (0, 1), (0, 2), (1, 0), (1, 1), (1, 2), (2, 0), (2, 1), (2, 2)]\n"
     ]
    },
    {
     "data": {
      "image/png": "[encoded data removed]",
      "text/plain": [
       "<Figure size 432x288 with 1 Axes>"
      ]
     },
     "metadata": {},
     "output_type": "display_data"
    }
   ],
   "source": [
    "grid_locations = list(itertools.product(range(3), repeat=2))\n",
    "num_grid_points = len(grid_locations)\n",
    "\n",
    "pos_dict = {}\n",
    "for i in range(0, len(grid_locations)):\n",
    "    pos_dict[i] = grid_locations[i]\n",
    "plot_grid(grid_locations)\n",
    "print(f'Position dictionary is {pos_dict}')\n",
    "print(f'Grid locations are {grid_locations}')"
   ]
  },
  {
   "cell_type": "markdown",
   "metadata": {},
   "source": [
    "## Construct the A matrix\n",
    "\n",
    "The A matrix represents the likelihood mapping between agents' observations and their hidden states.\n",
    "\n",
    "In the 2 agent case, a single agents observes:\n",
    "1. its current location (1 out of 9 for a 3x3 grid world)\n",
    "2. the location of the other agent (1 out of 9 for a 3x3 grid world)\n",
    "\n",
    "This means the A matrix needs to be a rank 2 tensor with each submatrix representing beliefs over a location, given an observation of my location and the observation of the other agent's location.\n",
    "\n",
    "The number of possible locations for both agents is the same (9).\n",
    "\n",
    "**The resulting shape of the A matrix should be (2,) with each submatrix being (9, 9, 9).**"
   ]
  },
  {
   "cell_type": "markdown",
   "metadata": {},
   "source": [
    "#### States and observations in the 3x3 grid world for 2 agents\n",
    "\n",
    "The first agent has 9 possible locations to visit in the grid world. The second agent does as well.\n",
    "\n",
    "We will encode the number of states in a sparse representation, by modality. The first modality is the location of the agent receiving the observation, the second is the location of the other agent."
   ]
  },
  {
   "cell_type": "code",
   "execution_count": 4,
   "metadata": {},
   "outputs": [
    {
     "data": {
      "text/plain": [
       "[9, 9]"
      ]
     },
     "execution_count": 4,
     "metadata": {},
     "output_type": "execute_result"
    }
   ],
   "source": [
    "num_states = [len(grid_locations), len(grid_locations)]; num_states"
   ]
  },
  {
   "cell_type": "markdown",
   "metadata": {},
   "source": [
    "The number of observations is the same as the number of states (hidden states)."
   ]
  },
  {
   "cell_type": "code",
   "execution_count": 7,
   "metadata": {},
   "outputs": [],
   "source": [
    "num_obs = [len(grid_locations), len(grid_locations)]"
   ]
  },
  {
   "cell_type": "markdown",
   "metadata": {},
   "source": [
    "The shape of the A matrix is determined by the dimension of each respective modality and the number thereof.\n",
    "\n",
    "To recap, the number of modalities is 2: The first modality is the location of the agent receiving the observation, the second is the location of the other agent.\n",
    "\n",
    "The dimension of each modality is 9x9 (same as the grid world).\n",
    "\n",
    "Hence, we can define the shape of the A matrix as [[9, 9], [9, 9]]."
   ]
  },
  {
   "cell_type": "code",
   "execution_count": 8,
   "metadata": {},
   "outputs": [
    {
     "data": {
      "text/plain": [
       "[[9, 9, 9], [9, 9, 9]]"
      ]
     },
     "execution_count": 8,
     "metadata": {},
     "output_type": "execute_result"
    }
   ],
   "source": [
    "A_m_shapes = [[9, 9, 9], [9, 9, 9]]; A_m_shapes"
   ]
  },
  {
   "cell_type": "markdown",
   "metadata": {},
   "source": [
    "From the general shape, we construct the A matrix with the help of pymdp's `obj_array_zeros` function, which will just initialize the matrix with null entries (we'll fill in the correct entries later)."
   ]
  },
  {
   "cell_type": "code",
   "execution_count": 9,
   "metadata": {},
   "outputs": [
    {
     "data": {
      "text/plain": [
       "array([array([[[0., 0., 0., 0., 0., 0., 0., 0., 0.],\n",
       "               [0., 0., 0., 0., 0., 0., 0., 0., 0.],\n",
       "               [0., 0., 0., 0., 0., 0., 0., 0., 0.],\n",
       "               [0., 0., 0., 0., 0., 0., 0., 0., 0.],\n",
       "               [0., 0., 0., 0., 0., 0., 0., 0., 0.],\n",
       "               [0., 0., 0., 0., 0., 0., 0., 0., 0.],\n",
       "               [0., 0., 0., 0., 0., 0., 0., 0., 0.],\n",
       "               [0., 0., 0., 0., 0., 0., 0., 0., 0.],\n",
       "               [0., 0., 0., 0., 0., 0., 0., 0., 0.]],\n",
       "\n",
       "              [[0., 0., 0., 0., 0., 0., 0., 0., 0.],\n",
       "               [0., 0., 0., 0., 0., 0., 0., 0., 0.],\n",
       "               [0., 0., 0., 0., 0., 0., 0., 0., 0.],\n",
       "               [0., 0., 0., 0., 0., 0., 0., 0., 0.],\n",
       "               [0., 0., 0., 0., 0., 0., 0., 0., 0.],\n",
       "               [0., 0., 0., 0., 0., 0., 0., 0., 0.],\n",
       "               [0., 0., 0., 0., 0., 0., 0., 0., 0.],\n",
       "               [0., 0., 0., 0., 0., 0., 0., 0., 0.],\n",
       "               [0., 0., 0., 0., 0., 0., 0., 0., 0.]],\n",
       "\n",
       "              [[0., 0., 0., 0., 0., 0., 0., 0., 0.],\n",
       "               [0., 0., 0., 0., 0., 0., 0., 0., 0.],\n",
       "               [0., 0., 0., 0., 0., 0., 0., 0., 0.],\n",
       "               [0., 0., 0., 0., 0., 0., 0., 0., 0.],\n",
       "               [0., 0., 0., 0., 0., 0., 0., 0., 0.],\n",
       "               [0., 0., 0., 0., 0., 0., 0., 0., 0.],\n",
       "               [0., 0., 0., 0., 0., 0., 0., 0., 0.],\n",
       "               [0., 0., 0., 0., 0., 0., 0., 0., 0.],\n",
       "               [0., 0., 0., 0., 0., 0., 0., 0., 0.]],\n",
       "\n",
       "              [[0., 0., 0., 0., 0., 0., 0., 0., 0.],\n",
       "               [0., 0., 0., 0., 0., 0., 0., 0., 0.],\n",
       "               [0., 0., 0., 0., 0., 0., 0., 0., 0.],\n",
       "               [0., 0., 0., 0., 0., 0., 0., 0., 0.],\n",
       "               [0., 0., 0., 0., 0., 0., 0., 0., 0.],\n",
       "               [0., 0., 0., 0., 0., 0., 0., 0., 0.],\n",
       "               [0., 0., 0., 0., 0., 0., 0., 0., 0.],\n",
       "               [0., 0., 0., 0., 0., 0., 0., 0., 0.],\n",
       "               [0., 0., 0., 0., 0., 0., 0., 0., 0.]],\n",
       "\n",
       "              [[0., 0., 0., 0., 0., 0., 0., 0., 0.],\n",
       "               [0., 0., 0., 0., 0., 0., 0., 0., 0.],\n",
       "               [0., 0., 0., 0., 0., 0., 0., 0., 0.],\n",
       "               [0., 0., 0., 0., 0., 0., 0., 0., 0.],\n",
       "               [0., 0., 0., 0., 0., 0., 0., 0., 0.],\n",
       "               [0., 0., 0., 0., 0., 0., 0., 0., 0.],\n",
       "               [0., 0., 0., 0., 0., 0., 0., 0., 0.],\n",
       "               [0., 0., 0., 0., 0., 0., 0., 0., 0.],\n",
       "               [0., 0., 0., 0., 0., 0., 0., 0., 0.]],\n",
       "\n",
       "              [[0., 0., 0., 0., 0., 0., 0., 0., 0.],\n",
       "               [0., 0., 0., 0., 0., 0., 0., 0., 0.],\n",
       "               [0., 0., 0., 0., 0., 0., 0., 0., 0.],\n",
       "               [0., 0., 0., 0., 0., 0., 0., 0., 0.],\n",
       "               [0., 0., 0., 0., 0., 0., 0., 0., 0.],\n",
       "               [0., 0., 0., 0., 0., 0., 0., 0., 0.],\n",
       "               [0., 0., 0., 0., 0., 0., 0., 0., 0.],\n",
       "               [0., 0., 0., 0., 0., 0., 0., 0., 0.],\n",
       "               [0., 0., 0., 0., 0., 0., 0., 0., 0.]],\n",
       "\n",
       "              [[0., 0., 0., 0., 0., 0., 0., 0., 0.],\n",
       "               [0., 0., 0., 0., 0., 0., 0., 0., 0.],\n",
       "               [0., 0., 0., 0., 0., 0., 0., 0., 0.],\n",
       "               [0., 0., 0., 0., 0., 0., 0., 0., 0.],\n",
       "               [0., 0., 0., 0., 0., 0., 0., 0., 0.],\n",
       "               [0., 0., 0., 0., 0., 0., 0., 0., 0.],\n",
       "               [0., 0., 0., 0., 0., 0., 0., 0., 0.],\n",
       "               [0., 0., 0., 0., 0., 0., 0., 0., 0.],\n",
       "               [0., 0., 0., 0., 0., 0., 0., 0., 0.]],\n",
       "\n",
       "              [[0., 0., 0., 0., 0., 0., 0., 0., 0.],\n",
       "               [0., 0., 0., 0., 0., 0., 0., 0., 0.],\n",
       "               [0., 0., 0., 0., 0., 0., 0., 0., 0.],\n",
       "               [0., 0., 0., 0., 0., 0., 0., 0., 0.],\n",
       "               [0., 0., 0., 0., 0., 0., 0., 0., 0.],\n",
       "               [0., 0., 0., 0., 0., 0., 0., 0., 0.],\n",
       "               [0., 0., 0., 0., 0., 0., 0., 0., 0.],\n",
       "               [0., 0., 0., 0., 0., 0., 0., 0., 0.],\n",
       "               [0., 0., 0., 0., 0., 0., 0., 0., 0.]],\n",
       "\n",
       "              [[0., 0., 0., 0., 0., 0., 0., 0., 0.],\n",
       "               [0., 0., 0., 0., 0., 0., 0., 0., 0.],\n",
       "               [0., 0., 0., 0., 0., 0., 0., 0., 0.],\n",
       "               [0., 0., 0., 0., 0., 0., 0., 0., 0.],\n",
       "               [0., 0., 0., 0., 0., 0., 0., 0., 0.],\n",
       "               [0., 0., 0., 0., 0., 0., 0., 0., 0.],\n",
       "               [0., 0., 0., 0., 0., 0., 0., 0., 0.],\n",
       "               [0., 0., 0., 0., 0., 0., 0., 0., 0.],\n",
       "               [0., 0., 0., 0., 0., 0., 0., 0., 0.]]]),\n",
       "       array([[[0., 0., 0., 0., 0., 0., 0., 0., 0.],\n",
       "               [0., 0., 0., 0., 0., 0., 0., 0., 0.],\n",
       "               [0., 0., 0., 0., 0., 0., 0., 0., 0.],\n",
       "               [0., 0., 0., 0., 0., 0., 0., 0., 0.],\n",
       "               [0., 0., 0., 0., 0., 0., 0., 0., 0.],\n",
       "               [0., 0., 0., 0., 0., 0., 0., 0., 0.],\n",
       "               [0., 0., 0., 0., 0., 0., 0., 0., 0.],\n",
       "               [0., 0., 0., 0., 0., 0., 0., 0., 0.],\n",
       "               [0., 0., 0., 0., 0., 0., 0., 0., 0.]],\n",
       "\n",
       "              [[0., 0., 0., 0., 0., 0., 0., 0., 0.],\n",
       "               [0., 0., 0., 0., 0., 0., 0., 0., 0.],\n",
       "               [0., 0., 0., 0., 0., 0., 0., 0., 0.],\n",
       "               [0., 0., 0., 0., 0., 0., 0., 0., 0.],\n",
       "               [0., 0., 0., 0., 0., 0., 0., 0., 0.],\n",
       "               [0., 0., 0., 0., 0., 0., 0., 0., 0.],\n",
       "               [0., 0., 0., 0., 0., 0., 0., 0., 0.],\n",
       "               [0., 0., 0., 0., 0., 0., 0., 0., 0.],\n",
       "               [0., 0., 0., 0., 0., 0., 0., 0., 0.]],\n",
       "\n",
       "              [[0., 0., 0., 0., 0., 0., 0., 0., 0.],\n",
       "               [0., 0., 0., 0., 0., 0., 0., 0., 0.],\n",
       "               [0., 0., 0., 0., 0., 0., 0., 0., 0.],\n",
       "               [0., 0., 0., 0., 0., 0., 0., 0., 0.],\n",
       "               [0., 0., 0., 0., 0., 0., 0., 0., 0.],\n",
       "               [0., 0., 0., 0., 0., 0., 0., 0., 0.],\n",
       "               [0., 0., 0., 0., 0., 0., 0., 0., 0.],\n",
       "               [0., 0., 0., 0., 0., 0., 0., 0., 0.],\n",
       "               [0., 0., 0., 0., 0., 0., 0., 0., 0.]],\n",
       "\n",
       "              [[0., 0., 0., 0., 0., 0., 0., 0., 0.],\n",
       "               [0., 0., 0., 0., 0., 0., 0., 0., 0.],\n",
       "               [0., 0., 0., 0., 0., 0., 0., 0., 0.],\n",
       "               [0., 0., 0., 0., 0., 0., 0., 0., 0.],\n",
       "               [0., 0., 0., 0., 0., 0., 0., 0., 0.],\n",
       "               [0., 0., 0., 0., 0., 0., 0., 0., 0.],\n",
       "               [0., 0., 0., 0., 0., 0., 0., 0., 0.],\n",
       "               [0., 0., 0., 0., 0., 0., 0., 0., 0.],\n",
       "               [0., 0., 0., 0., 0., 0., 0., 0., 0.]],\n",
       "\n",
       "              [[0., 0., 0., 0., 0., 0., 0., 0., 0.],\n",
       "               [0., 0., 0., 0., 0., 0., 0., 0., 0.],\n",
       "               [0., 0., 0., 0., 0., 0., 0., 0., 0.],\n",
       "               [0., 0., 0., 0., 0., 0., 0., 0., 0.],\n",
       "               [0., 0., 0., 0., 0., 0., 0., 0., 0.],\n",
       "               [0., 0., 0., 0., 0., 0., 0., 0., 0.],\n",
       "               [0., 0., 0., 0., 0., 0., 0., 0., 0.],\n",
       "               [0., 0., 0., 0., 0., 0., 0., 0., 0.],\n",
       "               [0., 0., 0., 0., 0., 0., 0., 0., 0.]],\n",
       "\n",
       "              [[0., 0., 0., 0., 0., 0., 0., 0., 0.],\n",
       "               [0., 0., 0., 0., 0., 0., 0., 0., 0.],\n",
       "               [0., 0., 0., 0., 0., 0., 0., 0., 0.],\n",
       "               [0., 0., 0., 0., 0., 0., 0., 0., 0.],\n",
       "               [0., 0., 0., 0., 0., 0., 0., 0., 0.],\n",
       "               [0., 0., 0., 0., 0., 0., 0., 0., 0.],\n",
       "               [0., 0., 0., 0., 0., 0., 0., 0., 0.],\n",
       "               [0., 0., 0., 0., 0., 0., 0., 0., 0.],\n",
       "               [0., 0., 0., 0., 0., 0., 0., 0., 0.]],\n",
       "\n",
       "              [[0., 0., 0., 0., 0., 0., 0., 0., 0.],\n",
       "               [0., 0., 0., 0., 0., 0., 0., 0., 0.],\n",
       "               [0., 0., 0., 0., 0., 0., 0., 0., 0.],\n",
       "               [0., 0., 0., 0., 0., 0., 0., 0., 0.],\n",
       "               [0., 0., 0., 0., 0., 0., 0., 0., 0.],\n",
       "               [0., 0., 0., 0., 0., 0., 0., 0., 0.],\n",
       "               [0., 0., 0., 0., 0., 0., 0., 0., 0.],\n",
       "               [0., 0., 0., 0., 0., 0., 0., 0., 0.],\n",
       "               [0., 0., 0., 0., 0., 0., 0., 0., 0.]],\n",
       "\n",
       "              [[0., 0., 0., 0., 0., 0., 0., 0., 0.],\n",
       "               [0., 0., 0., 0., 0., 0., 0., 0., 0.],\n",
       "               [0., 0., 0., 0., 0., 0., 0., 0., 0.],\n",
       "               [0., 0., 0., 0., 0., 0., 0., 0., 0.],\n",
       "               [0., 0., 0., 0., 0., 0., 0., 0., 0.],\n",
       "               [0., 0., 0., 0., 0., 0., 0., 0., 0.],\n",
       "               [0., 0., 0., 0., 0., 0., 0., 0., 0.],\n",
       "               [0., 0., 0., 0., 0., 0., 0., 0., 0.],\n",
       "               [0., 0., 0., 0., 0., 0., 0., 0., 0.]],\n",
       "\n",
       "              [[0., 0., 0., 0., 0., 0., 0., 0., 0.],\n",
       "               [0., 0., 0., 0., 0., 0., 0., 0., 0.],\n",
       "               [0., 0., 0., 0., 0., 0., 0., 0., 0.],\n",
       "               [0., 0., 0., 0., 0., 0., 0., 0., 0.],\n",
       "               [0., 0., 0., 0., 0., 0., 0., 0., 0.],\n",
       "               [0., 0., 0., 0., 0., 0., 0., 0., 0.],\n",
       "               [0., 0., 0., 0., 0., 0., 0., 0., 0.],\n",
       "               [0., 0., 0., 0., 0., 0., 0., 0., 0.],\n",
       "               [0., 0., 0., 0., 0., 0., 0., 0., 0.]]])], dtype=object)"
      ]
     },
     "execution_count": 9,
     "metadata": {},
     "output_type": "execute_result"
    }
   ],
   "source": [
    "A = utils.obj_array_zeros(A_m_shapes); A"
   ]
  },
  {
   "cell_type": "markdown",
   "metadata": {},
   "source": [
    "For instance, `A[0][3,1,4]` encodes the likelihood of seeing myself in location 3, given that I am in location 1 and my neighbour is in location 4.\n",
    "\n",
    "For the fully observable case, the indexes `A[0][n, n, m]` where n != m is 1, all other indexes are 0.\n",
    "Equivalently, we have `A[1][n, m, n] = 1` for n != m."
   ]
  },
  {
   "cell_type": "code",
   "execution_count": 10,
   "metadata": {},
   "outputs": [],
   "source": [
    "# # for A[0]\n",
    "# for i in range(0, 9):\n",
    "#     for j in range(0, 9):\n",
    "#         if i != j:\n",
    "#             A[0][i, i, j] = 1 / 8\n",
    "\n",
    "# # for A[1]\n",
    "# for i in range(0, 9):\n",
    "#     for j in range(0, 9):\n",
    "#         if i != j:\n",
    "#             A[1][i, j, i] = 1.0\n",
    "\n",
    "# To avoid pymdp normalization error, NOTE: This does not encode the fact that the agents cannot collide.\n",
    "# for A[0]\n",
    "for i in range(0, 9):\n",
    "    for j in range(0, 9):\n",
    "        A[0][i, i, j] = 1.0\n",
    "\n",
    "# for A[1]\n",
    "for i in range(0, 9):\n",
    "    for j in range(0, 9):\n",
    "        A[1][i, j, i] = 1.0"
   ]
  },
  {
   "cell_type": "code",
   "execution_count": 11,
   "metadata": {},
   "outputs": [
    {
     "data": {
      "text/plain": [
       "array([array([[[1., 1., 1., 1., 1., 1., 1., 1., 1.],\n",
       "               [0., 0., 0., 0., 0., 0., 0., 0., 0.],\n",
       "               [0., 0., 0., 0., 0., 0., 0., 0., 0.],\n",
       "               [0., 0., 0., 0., 0., 0., 0., 0., 0.],\n",
       "               [0., 0., 0., 0., 0., 0., 0., 0., 0.],\n",
       "               [0., 0., 0., 0., 0., 0., 0., 0., 0.],\n",
       "               [0., 0., 0., 0., 0., 0., 0., 0., 0.],\n",
       "               [0., 0., 0., 0., 0., 0., 0., 0., 0.],\n",
       "               [0., 0., 0., 0., 0., 0., 0., 0., 0.]],\n",
       "\n",
       "              [[0., 0., 0., 0., 0., 0., 0., 0., 0.],\n",
       "               [1., 1., 1., 1., 1., 1., 1., 1., 1.],\n",
       "               [0., 0., 0., 0., 0., 0., 0., 0., 0.],\n",
       "               [0., 0., 0., 0., 0., 0., 0., 0., 0.],\n",
       "               [0., 0., 0., 0., 0., 0., 0., 0., 0.],\n",
       "               [0., 0., 0., 0., 0., 0., 0., 0., 0.],\n",
       "               [0., 0., 0., 0., 0., 0., 0., 0., 0.],\n",
       "               [0., 0., 0., 0., 0., 0., 0., 0., 0.],\n",
       "               [0., 0., 0., 0., 0., 0., 0., 0., 0.]],\n",
       "\n",
       "              [[0., 0., 0., 0., 0., 0., 0., 0., 0.],\n",
       "               [0., 0., 0., 0., 0., 0., 0., 0., 0.],\n",
       "               [1., 1., 1., 1., 1., 1., 1., 1., 1.],\n",
       "               [0., 0., 0., 0., 0., 0., 0., 0., 0.],\n",
       "               [0., 0., 0., 0., 0., 0., 0., 0., 0.],\n",
       "               [0., 0., 0., 0., 0., 0., 0., 0., 0.],\n",
       "               [0., 0., 0., 0., 0., 0., 0., 0., 0.],\n",
       "               [0., 0., 0., 0., 0., 0., 0., 0., 0.],\n",
       "               [0., 0., 0., 0., 0., 0., 0., 0., 0.]],\n",
       "\n",
       "              [[0., 0., 0., 0., 0., 0., 0., 0., 0.],\n",
       "               [0., 0., 0., 0., 0., 0., 0., 0., 0.],\n",
       "               [0., 0., 0., 0., 0., 0., 0., 0., 0.],\n",
       "               [1., 1., 1., 1., 1., 1., 1., 1., 1.],\n",
       "               [0., 0., 0., 0., 0., 0., 0., 0., 0.],\n",
       "               [0., 0., 0., 0., 0., 0., 0., 0., 0.],\n",
       "               [0., 0., 0., 0., 0., 0., 0., 0., 0.],\n",
       "               [0., 0., 0., 0., 0., 0., 0., 0., 0.],\n",
       "               [0., 0., 0., 0., 0., 0., 0., 0., 0.]],\n",
       "\n",
       "              [[0., 0., 0., 0., 0., 0., 0., 0., 0.],\n",
       "               [0., 0., 0., 0., 0., 0., 0., 0., 0.],\n",
       "               [0., 0., 0., 0., 0., 0., 0., 0., 0.],\n",
       "               [0., 0., 0., 0., 0., 0., 0., 0., 0.],\n",
       "               [1., 1., 1., 1., 1., 1., 1., 1., 1.],\n",
       "               [0., 0., 0., 0., 0., 0., 0., 0., 0.],\n",
       "               [0., 0., 0., 0., 0., 0., 0., 0., 0.],\n",
       "               [0., 0., 0., 0., 0., 0., 0., 0., 0.],\n",
       "               [0., 0., 0., 0., 0., 0., 0., 0., 0.]],\n",
       "\n",
       "              [[0., 0., 0., 0., 0., 0., 0., 0., 0.],\n",
       "               [0., 0., 0., 0., 0., 0., 0., 0., 0.],\n",
       "               [0., 0., 0., 0., 0., 0., 0., 0., 0.],\n",
       "               [0., 0., 0., 0., 0., 0., 0., 0., 0.],\n",
       "               [0., 0., 0., 0., 0., 0., 0., 0., 0.],\n",
       "               [1., 1., 1., 1., 1., 1., 1., 1., 1.],\n",
       "               [0., 0., 0., 0., 0., 0., 0., 0., 0.],\n",
       "               [0., 0., 0., 0., 0., 0., 0., 0., 0.],\n",
       "               [0., 0., 0., 0., 0., 0., 0., 0., 0.]],\n",
       "\n",
       "              [[0., 0., 0., 0., 0., 0., 0., 0., 0.],\n",
       "               [0., 0., 0., 0., 0., 0., 0., 0., 0.],\n",
       "               [0., 0., 0., 0., 0., 0., 0., 0., 0.],\n",
       "               [0., 0., 0., 0., 0., 0., 0., 0., 0.],\n",
       "               [0., 0., 0., 0., 0., 0., 0., 0., 0.],\n",
       "               [0., 0., 0., 0., 0., 0., 0., 0., 0.],\n",
       "               [1., 1., 1., 1., 1., 1., 1., 1., 1.],\n",
       "               [0., 0., 0., 0., 0., 0., 0., 0., 0.],\n",
       "               [0., 0., 0., 0., 0., 0., 0., 0., 0.]],\n",
       "\n",
       "              [[0., 0., 0., 0., 0., 0., 0., 0., 0.],\n",
       "               [0., 0., 0., 0., 0., 0., 0., 0., 0.],\n",
       "               [0., 0., 0., 0., 0., 0., 0., 0., 0.],\n",
       "               [0., 0., 0., 0., 0., 0., 0., 0., 0.],\n",
       "               [0., 0., 0., 0., 0., 0., 0., 0., 0.],\n",
       "               [0., 0., 0., 0., 0., 0., 0., 0., 0.],\n",
       "               [0., 0., 0., 0., 0., 0., 0., 0., 0.],\n",
       "               [1., 1., 1., 1., 1., 1., 1., 1., 1.],\n",
       "               [0., 0., 0., 0., 0., 0., 0., 0., 0.]],\n",
       "\n",
       "              [[0., 0., 0., 0., 0., 0., 0., 0., 0.],\n",
       "               [0., 0., 0., 0., 0., 0., 0., 0., 0.],\n",
       "               [0., 0., 0., 0., 0., 0., 0., 0., 0.],\n",
       "               [0., 0., 0., 0., 0., 0., 0., 0., 0.],\n",
       "               [0., 0., 0., 0., 0., 0., 0., 0., 0.],\n",
       "               [0., 0., 0., 0., 0., 0., 0., 0., 0.],\n",
       "               [0., 0., 0., 0., 0., 0., 0., 0., 0.],\n",
       "               [0., 0., 0., 0., 0., 0., 0., 0., 0.],\n",
       "               [1., 1., 1., 1., 1., 1., 1., 1., 1.]]]),\n",
       "       array([[[1., 0., 0., 0., 0., 0., 0., 0., 0.],\n",
       "               [1., 0., 0., 0., 0., 0., 0., 0., 0.],\n",
       "               [1., 0., 0., 0., 0., 0., 0., 0., 0.],\n",
       "               [1., 0., 0., 0., 0., 0., 0., 0., 0.],\n",
       "               [1., 0., 0., 0., 0., 0., 0., 0., 0.],\n",
       "               [1., 0., 0., 0., 0., 0., 0., 0., 0.],\n",
       "               [1., 0., 0., 0., 0., 0., 0., 0., 0.],\n",
       "               [1., 0., 0., 0., 0., 0., 0., 0., 0.],\n",
       "               [1., 0., 0., 0., 0., 0., 0., 0., 0.]],\n",
       "\n",
       "              [[0., 1., 0., 0., 0., 0., 0., 0., 0.],\n",
       "               [0., 1., 0., 0., 0., 0., 0., 0., 0.],\n",
       "               [0., 1., 0., 0., 0., 0., 0., 0., 0.],\n",
       "               [0., 1., 0., 0., 0., 0., 0., 0., 0.],\n",
       "               [0., 1., 0., 0., 0., 0., 0., 0., 0.],\n",
       "               [0., 1., 0., 0., 0., 0., 0., 0., 0.],\n",
       "               [0., 1., 0., 0., 0., 0., 0., 0., 0.],\n",
       "               [0., 1., 0., 0., 0., 0., 0., 0., 0.],\n",
       "               [0., 1., 0., 0., 0., 0., 0., 0., 0.]],\n",
       "\n",
       "              [[0., 0., 1., 0., 0., 0., 0., 0., 0.],\n",
       "               [0., 0., 1., 0., 0., 0., 0., 0., 0.],\n",
       "               [0., 0., 1., 0., 0., 0., 0., 0., 0.],\n",
       "               [0., 0., 1., 0., 0., 0., 0., 0., 0.],\n",
       "               [0., 0., 1., 0., 0., 0., 0., 0., 0.],\n",
       "               [0., 0., 1., 0., 0., 0., 0., 0., 0.],\n",
       "               [0., 0., 1., 0., 0., 0., 0., 0., 0.],\n",
       "               [0., 0., 1., 0., 0., 0., 0., 0., 0.],\n",
       "               [0., 0., 1., 0., 0., 0., 0., 0., 0.]],\n",
       "\n",
       "              [[0., 0., 0., 1., 0., 0., 0., 0., 0.],\n",
       "               [0., 0., 0., 1., 0., 0., 0., 0., 0.],\n",
       "               [0., 0., 0., 1., 0., 0., 0., 0., 0.],\n",
       "               [0., 0., 0., 1., 0., 0., 0., 0., 0.],\n",
       "               [0., 0., 0., 1., 0., 0., 0., 0., 0.],\n",
       "               [0., 0., 0., 1., 0., 0., 0., 0., 0.],\n",
       "               [0., 0., 0., 1., 0., 0., 0., 0., 0.],\n",
       "               [0., 0., 0., 1., 0., 0., 0., 0., 0.],\n",
       "               [0., 0., 0., 1., 0., 0., 0., 0., 0.]],\n",
       "\n",
       "              [[0., 0., 0., 0., 1., 0., 0., 0., 0.],\n",
       "               [0., 0., 0., 0., 1., 0., 0., 0., 0.],\n",
       "               [0., 0., 0., 0., 1., 0., 0., 0., 0.],\n",
       "               [0., 0., 0., 0., 1., 0., 0., 0., 0.],\n",
       "               [0., 0., 0., 0., 1., 0., 0., 0., 0.],\n",
       "               [0., 0., 0., 0., 1., 0., 0., 0., 0.],\n",
       "               [0., 0., 0., 0., 1., 0., 0., 0., 0.],\n",
       "               [0., 0., 0., 0., 1., 0., 0., 0., 0.],\n",
       "               [0., 0., 0., 0., 1., 0., 0., 0., 0.]],\n",
       "\n",
       "              [[0., 0., 0., 0., 0., 1., 0., 0., 0.],\n",
       "               [0., 0., 0., 0., 0., 1., 0., 0., 0.],\n",
       "               [0., 0., 0., 0., 0., 1., 0., 0., 0.],\n",
       "               [0., 0., 0., 0., 0., 1., 0., 0., 0.],\n",
       "               [0., 0., 0., 0., 0., 1., 0., 0., 0.],\n",
       "               [0., 0., 0., 0., 0., 1., 0., 0., 0.],\n",
       "               [0., 0., 0., 0., 0., 1., 0., 0., 0.],\n",
       "               [0., 0., 0., 0., 0., 1., 0., 0., 0.],\n",
       "               [0., 0., 0., 0., 0., 1., 0., 0., 0.]],\n",
       "\n",
       "              [[0., 0., 0., 0., 0., 0., 1., 0., 0.],\n",
       "               [0., 0., 0., 0., 0., 0., 1., 0., 0.],\n",
       "               [0., 0., 0., 0., 0., 0., 1., 0., 0.],\n",
       "               [0., 0., 0., 0., 0., 0., 1., 0., 0.],\n",
       "               [0., 0., 0., 0., 0., 0., 1., 0., 0.],\n",
       "               [0., 0., 0., 0., 0., 0., 1., 0., 0.],\n",
       "               [0., 0., 0., 0., 0., 0., 1., 0., 0.],\n",
       "               [0., 0., 0., 0., 0., 0., 1., 0., 0.],\n",
       "               [0., 0., 0., 0., 0., 0., 1., 0., 0.]],\n",
       "\n",
       "              [[0., 0., 0., 0., 0., 0., 0., 1., 0.],\n",
       "               [0., 0., 0., 0., 0., 0., 0., 1., 0.],\n",
       "               [0., 0., 0., 0., 0., 0., 0., 1., 0.],\n",
       "               [0., 0., 0., 0., 0., 0., 0., 1., 0.],\n",
       "               [0., 0., 0., 0., 0., 0., 0., 1., 0.],\n",
       "               [0., 0., 0., 0., 0., 0., 0., 1., 0.],\n",
       "               [0., 0., 0., 0., 0., 0., 0., 1., 0.],\n",
       "               [0., 0., 0., 0., 0., 0., 0., 1., 0.],\n",
       "               [0., 0., 0., 0., 0., 0., 0., 1., 0.]],\n",
       "\n",
       "              [[0., 0., 0., 0., 0., 0., 0., 0., 1.],\n",
       "               [0., 0., 0., 0., 0., 0., 0., 0., 1.],\n",
       "               [0., 0., 0., 0., 0., 0., 0., 0., 1.],\n",
       "               [0., 0., 0., 0., 0., 0., 0., 0., 1.],\n",
       "               [0., 0., 0., 0., 0., 0., 0., 0., 1.],\n",
       "               [0., 0., 0., 0., 0., 0., 0., 0., 1.],\n",
       "               [0., 0., 0., 0., 0., 0., 0., 0., 1.],\n",
       "               [0., 0., 0., 0., 0., 0., 0., 0., 1.],\n",
       "               [0., 0., 0., 0., 0., 0., 0., 0., 1.]]])], dtype=object)"
      ]
     },
     "execution_count": 11,
     "metadata": {},
     "output_type": "execute_result"
    }
   ],
   "source": [
    "A"
   ]
  },
  {
   "cell_type": "markdown",
   "metadata": {},
   "source": [
    "## Construct the B matrix"
   ]
  },
  {
   "cell_type": "markdown",
   "metadata": {},
   "source": [
    "The B matrix should look exactly the same as in the single-agent case, because the position of the other agent, while an observation encoded in the A matrix, is not a controllable modality, hence there is no representation of its transition dynamics in the B matrix."
   ]
  },
  {
   "cell_type": "code",
   "execution_count": 12,
   "metadata": {},
   "outputs": [
    {
     "data": {
      "text/plain": [
       "[[9, 9, 5], [9, 9, 1]]"
      ]
     },
     "execution_count": 12,
     "metadata": {},
     "output_type": "execute_result"
    }
   ],
   "source": [
    "B_m_shapes = [[9, 9, 5], [9, 9, 1]]; B_m_shapes"
   ]
  },
  {
   "cell_type": "code",
   "execution_count": 13,
   "metadata": {},
   "outputs": [
    {
     "data": {
      "text/plain": [
       "array([array([[[0., 0., 0., 0., 0.],\n",
       "               [0., 0., 0., 0., 0.],\n",
       "               [0., 0., 0., 0., 0.],\n",
       "               [0., 0., 0., 0., 0.],\n",
       "               [0., 0., 0., 0., 0.],\n",
       "               [0., 0., 0., 0., 0.],\n",
       "               [0., 0., 0., 0., 0.],\n",
       "               [0., 0., 0., 0., 0.],\n",
       "               [0., 0., 0., 0., 0.]],\n",
       "\n",
       "              [[0., 0., 0., 0., 0.],\n",
       "               [0., 0., 0., 0., 0.],\n",
       "               [0., 0., 0., 0., 0.],\n",
       "               [0., 0., 0., 0., 0.],\n",
       "               [0., 0., 0., 0., 0.],\n",
       "               [0., 0., 0., 0., 0.],\n",
       "               [0., 0., 0., 0., 0.],\n",
       "               [0., 0., 0., 0., 0.],\n",
       "               [0., 0., 0., 0., 0.]],\n",
       "\n",
       "              [[0., 0., 0., 0., 0.],\n",
       "               [0., 0., 0., 0., 0.],\n",
       "               [0., 0., 0., 0., 0.],\n",
       "               [0., 0., 0., 0., 0.],\n",
       "               [0., 0., 0., 0., 0.],\n",
       "               [0., 0., 0., 0., 0.],\n",
       "               [0., 0., 0., 0., 0.],\n",
       "               [0., 0., 0., 0., 0.],\n",
       "               [0., 0., 0., 0., 0.]],\n",
       "\n",
       "              [[0., 0., 0., 0., 0.],\n",
       "               [0., 0., 0., 0., 0.],\n",
       "               [0., 0., 0., 0., 0.],\n",
       "               [0., 0., 0., 0., 0.],\n",
       "               [0., 0., 0., 0., 0.],\n",
       "               [0., 0., 0., 0., 0.],\n",
       "               [0., 0., 0., 0., 0.],\n",
       "               [0., 0., 0., 0., 0.],\n",
       "               [0., 0., 0., 0., 0.]],\n",
       "\n",
       "              [[0., 0., 0., 0., 0.],\n",
       "               [0., 0., 0., 0., 0.],\n",
       "               [0., 0., 0., 0., 0.],\n",
       "               [0., 0., 0., 0., 0.],\n",
       "               [0., 0., 0., 0., 0.],\n",
       "               [0., 0., 0., 0., 0.],\n",
       "               [0., 0., 0., 0., 0.],\n",
       "               [0., 0., 0., 0., 0.],\n",
       "               [0., 0., 0., 0., 0.]],\n",
       "\n",
       "              [[0., 0., 0., 0., 0.],\n",
       "               [0., 0., 0., 0., 0.],\n",
       "               [0., 0., 0., 0., 0.],\n",
       "               [0., 0., 0., 0., 0.],\n",
       "               [0., 0., 0., 0., 0.],\n",
       "               [0., 0., 0., 0., 0.],\n",
       "               [0., 0., 0., 0., 0.],\n",
       "               [0., 0., 0., 0., 0.],\n",
       "               [0., 0., 0., 0., 0.]],\n",
       "\n",
       "              [[0., 0., 0., 0., 0.],\n",
       "               [0., 0., 0., 0., 0.],\n",
       "               [0., 0., 0., 0., 0.],\n",
       "               [0., 0., 0., 0., 0.],\n",
       "               [0., 0., 0., 0., 0.],\n",
       "               [0., 0., 0., 0., 0.],\n",
       "               [0., 0., 0., 0., 0.],\n",
       "               [0., 0., 0., 0., 0.],\n",
       "               [0., 0., 0., 0., 0.]],\n",
       "\n",
       "              [[0., 0., 0., 0., 0.],\n",
       "               [0., 0., 0., 0., 0.],\n",
       "               [0., 0., 0., 0., 0.],\n",
       "               [0., 0., 0., 0., 0.],\n",
       "               [0., 0., 0., 0., 0.],\n",
       "               [0., 0., 0., 0., 0.],\n",
       "               [0., 0., 0., 0., 0.],\n",
       "               [0., 0., 0., 0., 0.],\n",
       "               [0., 0., 0., 0., 0.]],\n",
       "\n",
       "              [[0., 0., 0., 0., 0.],\n",
       "               [0., 0., 0., 0., 0.],\n",
       "               [0., 0., 0., 0., 0.],\n",
       "               [0., 0., 0., 0., 0.],\n",
       "               [0., 0., 0., 0., 0.],\n",
       "               [0., 0., 0., 0., 0.],\n",
       "               [0., 0., 0., 0., 0.],\n",
       "               [0., 0., 0., 0., 0.],\n",
       "               [0., 0., 0., 0., 0.]]]), array([[[0.],\n",
       "                                                [0.],\n",
       "                                                [0.],\n",
       "                                                [0.],\n",
       "                                                [0.],\n",
       "                                                [0.],\n",
       "                                                [0.],\n",
       "                                                [0.],\n",
       "                                                [0.]],\n",
       "\n",
       "                                               [[0.],\n",
       "                                                [0.],\n",
       "                                                [0.],\n",
       "                                                [0.],\n",
       "                                                [0.],\n",
       "                                                [0.],\n",
       "                                                [0.],\n",
       "                                                [0.],\n",
       "                                                [0.]],\n",
       "\n",
       "                                               [[0.],\n",
       "                                                [0.],\n",
       "                                                [0.],\n",
       "                                                [0.],\n",
       "                                                [0.],\n",
       "                                                [0.],\n",
       "                                                [0.],\n",
       "                                                [0.],\n",
       "                                                [0.]],\n",
       "\n",
       "                                               [[0.],\n",
       "                                                [0.],\n",
       "                                                [0.],\n",
       "                                                [0.],\n",
       "                                                [0.],\n",
       "                                                [0.],\n",
       "                                                [0.],\n",
       "                                                [0.],\n",
       "                                                [0.]],\n",
       "\n",
       "                                               [[0.],\n",
       "                                                [0.],\n",
       "                                                [0.],\n",
       "                                                [0.],\n",
       "                                                [0.],\n",
       "                                                [0.],\n",
       "                                                [0.],\n",
       "                                                [0.],\n",
       "                                                [0.]],\n",
       "\n",
       "                                               [[0.],\n",
       "                                                [0.],\n",
       "                                                [0.],\n",
       "                                                [0.],\n",
       "                                                [0.],\n",
       "                                                [0.],\n",
       "                                                [0.],\n",
       "                                                [0.],\n",
       "                                                [0.]],\n",
       "\n",
       "                                               [[0.],\n",
       "                                                [0.],\n",
       "                                                [0.],\n",
       "                                                [0.],\n",
       "                                                [0.],\n",
       "                                                [0.],\n",
       "                                                [0.],\n",
       "                                                [0.],\n",
       "                                                [0.]],\n",
       "\n",
       "                                               [[0.],\n",
       "                                                [0.],\n",
       "                                                [0.],\n",
       "                                                [0.],\n",
       "                                                [0.],\n",
       "                                                [0.],\n",
       "                                                [0.],\n",
       "                                                [0.],\n",
       "                                                [0.]],\n",
       "\n",
       "                                               [[0.],\n",
       "                                                [0.],\n",
       "                                                [0.],\n",
       "                                                [0.],\n",
       "                                                [0.],\n",
       "                                                [0.],\n",
       "                                                [0.],\n",
       "                                                [0.],\n",
       "                                                [0.]]])], dtype=object)"
      ]
     },
     "execution_count": 13,
     "metadata": {},
     "output_type": "execute_result"
    }
   ],
   "source": [
    "B = utils.obj_array_zeros(B_m_shapes); B"
   ]
  },
  {
   "cell_type": "code",
   "execution_count": 14,
   "metadata": {},
   "outputs": [],
   "source": [
    "actions = [\"UP\", \"DOWN\", \"LEFT\", \"RIGHT\", \"STAY\"]\n",
    "\n",
    "for action_id, action_label in enumerate(actions):\n",
    "\n",
    "    for curr_state, grid_location in enumerate(grid_locations):\n",
    "\n",
    "      y, x = grid_location\n",
    "\n",
    "      if action_label == \"UP\":\n",
    "        next_y = y - 1 if y > 0 else y \n",
    "        next_x = x\n",
    "      elif action_label == \"DOWN\":\n",
    "        next_y = y + 1 if y < 2 else y \n",
    "        next_x = x\n",
    "      elif action_label == \"LEFT\":\n",
    "        next_x = x - 1 if x > 0 else x \n",
    "        next_y = y\n",
    "      elif action_label == \"RIGHT\":\n",
    "        next_x = x + 1 if x < 2 else x \n",
    "        next_y = y\n",
    "      elif action_label == \"STAY\":\n",
    "        next_x = x\n",
    "        next_y = y\n",
    "      new_location = (next_y, next_x)\n",
    "      next_state = grid_locations.index(new_location)\n",
    "      B[0][next_state, curr_state, action_id] = 1.0"
   ]
  },
  {
   "cell_type": "code",
   "execution_count": 15,
   "metadata": {},
   "outputs": [
    {
     "name": "stdout",
     "output_type": "stream",
     "text": [
      "[[1.]\n",
      " [1.]\n",
      " [1.]\n",
      " [1.]\n",
      " [1.]\n",
      " [1.]\n",
      " [1.]\n",
      " [1.]\n",
      " [1.]]\n"
     ]
    }
   ],
   "source": [
    "for i in range(0, 9):\n",
    "    B[1][i, i] = 1.0\n",
    "print(B[1].sum(axis=0))"
   ]
  },
  {
   "cell_type": "code",
   "execution_count": 16,
   "metadata": {},
   "outputs": [
    {
     "data": {
      "text/plain": [
       "(2,)"
      ]
     },
     "execution_count": 16,
     "metadata": {},
     "output_type": "execute_result"
    }
   ],
   "source": [
    "B.shape"
   ]
  },
  {
   "cell_type": "code",
   "execution_count": 17,
   "metadata": {},
   "outputs": [
    {
     "data": {
      "text/plain": [
       "array([array([[[1., 0., 1., 0., 1.],\n",
       "               [0., 0., 1., 0., 0.],\n",
       "               [0., 0., 0., 0., 0.],\n",
       "               [1., 0., 0., 0., 0.],\n",
       "               [0., 0., 0., 0., 0.],\n",
       "               [0., 0., 0., 0., 0.],\n",
       "               [0., 0., 0., 0., 0.],\n",
       "               [0., 0., 0., 0., 0.],\n",
       "               [0., 0., 0., 0., 0.]],\n",
       "\n",
       "              [[0., 0., 0., 1., 0.],\n",
       "               [1., 0., 0., 0., 1.],\n",
       "               [0., 0., 1., 0., 0.],\n",
       "               [0., 0., 0., 0., 0.],\n",
       "               [1., 0., 0., 0., 0.],\n",
       "               [0., 0., 0., 0., 0.],\n",
       "               [0., 0., 0., 0., 0.],\n",
       "               [0., 0., 0., 0., 0.],\n",
       "               [0., 0., 0., 0., 0.]],\n",
       "\n",
       "              [[0., 0., 0., 0., 0.],\n",
       "               [0., 0., 0., 1., 0.],\n",
       "               [1., 0., 0., 1., 1.],\n",
       "               [0., 0., 0., 0., 0.],\n",
       "               [0., 0., 0., 0., 0.],\n",
       "               [1., 0., 0., 0., 0.],\n",
       "               [0., 0., 0., 0., 0.],\n",
       "               [0., 0., 0., 0., 0.],\n",
       "               [0., 0., 0., 0., 0.]],\n",
       "\n",
       "              [[0., 1., 0., 0., 0.],\n",
       "               [0., 0., 0., 0., 0.],\n",
       "               [0., 0., 0., 0., 0.],\n",
       "               [0., 0., 1., 0., 1.],\n",
       "               [0., 0., 1., 0., 0.],\n",
       "               [0., 0., 0., 0., 0.],\n",
       "               [1., 0., 0., 0., 0.],\n",
       "               [0., 0., 0., 0., 0.],\n",
       "               [0., 0., 0., 0., 0.]],\n",
       "\n",
       "              [[0., 0., 0., 0., 0.],\n",
       "               [0., 1., 0., 0., 0.],\n",
       "               [0., 0., 0., 0., 0.],\n",
       "               [0., 0., 0., 1., 0.],\n",
       "               [0., 0., 0., 0., 1.],\n",
       "               [0., 0., 1., 0., 0.],\n",
       "               [0., 0., 0., 0., 0.],\n",
       "               [1., 0., 0., 0., 0.],\n",
       "               [0., 0., 0., 0., 0.]],\n",
       "\n",
       "              [[0., 0., 0., 0., 0.],\n",
       "               [0., 0., 0., 0., 0.],\n",
       "               [0., 1., 0., 0., 0.],\n",
       "               [0., 0., 0., 0., 0.],\n",
       "               [0., 0., 0., 1., 0.],\n",
       "               [0., 0., 0., 1., 1.],\n",
       "               [0., 0., 0., 0., 0.],\n",
       "               [0., 0., 0., 0., 0.],\n",
       "               [1., 0., 0., 0., 0.]],\n",
       "\n",
       "              [[0., 0., 0., 0., 0.],\n",
       "               [0., 0., 0., 0., 0.],\n",
       "               [0., 0., 0., 0., 0.],\n",
       "               [0., 1., 0., 0., 0.],\n",
       "               [0., 0., 0., 0., 0.],\n",
       "               [0., 0., 0., 0., 0.],\n",
       "               [0., 1., 1., 0., 1.],\n",
       "               [0., 0., 1., 0., 0.],\n",
       "               [0., 0., 0., 0., 0.]],\n",
       "\n",
       "              [[0., 0., 0., 0., 0.],\n",
       "               [0., 0., 0., 0., 0.],\n",
       "               [0., 0., 0., 0., 0.],\n",
       "               [0., 0., 0., 0., 0.],\n",
       "               [0., 1., 0., 0., 0.],\n",
       "               [0., 0., 0., 0., 0.],\n",
       "               [0., 0., 0., 1., 0.],\n",
       "               [0., 1., 0., 0., 1.],\n",
       "               [0., 0., 1., 0., 0.]],\n",
       "\n",
       "              [[0., 0., 0., 0., 0.],\n",
       "               [0., 0., 0., 0., 0.],\n",
       "               [0., 0., 0., 0., 0.],\n",
       "               [0., 0., 0., 0., 0.],\n",
       "               [0., 0., 0., 0., 0.],\n",
       "               [0., 1., 0., 0., 0.],\n",
       "               [0., 0., 0., 0., 0.],\n",
       "               [0., 0., 0., 1., 0.],\n",
       "               [0., 1., 0., 1., 1.]]]), array([[[1.],\n",
       "                                                [0.],\n",
       "                                                [0.],\n",
       "                                                [0.],\n",
       "                                                [0.],\n",
       "                                                [0.],\n",
       "                                                [0.],\n",
       "                                                [0.],\n",
       "                                                [0.]],\n",
       "\n",
       "                                               [[0.],\n",
       "                                                [1.],\n",
       "                                                [0.],\n",
       "                                                [0.],\n",
       "                                                [0.],\n",
       "                                                [0.],\n",
       "                                                [0.],\n",
       "                                                [0.],\n",
       "                                                [0.]],\n",
       "\n",
       "                                               [[0.],\n",
       "                                                [0.],\n",
       "                                                [1.],\n",
       "                                                [0.],\n",
       "                                                [0.],\n",
       "                                                [0.],\n",
       "                                                [0.],\n",
       "                                                [0.],\n",
       "                                                [0.]],\n",
       "\n",
       "                                               [[0.],\n",
       "                                                [0.],\n",
       "                                                [0.],\n",
       "                                                [1.],\n",
       "                                                [0.],\n",
       "                                                [0.],\n",
       "                                                [0.],\n",
       "                                                [0.],\n",
       "                                                [0.]],\n",
       "\n",
       "                                               [[0.],\n",
       "                                                [0.],\n",
       "                                                [0.],\n",
       "                                                [0.],\n",
       "                                                [1.],\n",
       "                                                [0.],\n",
       "                                                [0.],\n",
       "                                                [0.],\n",
       "                                                [0.]],\n",
       "\n",
       "                                               [[0.],\n",
       "                                                [0.],\n",
       "                                                [0.],\n",
       "                                                [0.],\n",
       "                                                [0.],\n",
       "                                                [1.],\n",
       "                                                [0.],\n",
       "                                                [0.],\n",
       "                                                [0.]],\n",
       "\n",
       "                                               [[0.],\n",
       "                                                [0.],\n",
       "                                                [0.],\n",
       "                                                [0.],\n",
       "                                                [0.],\n",
       "                                                [0.],\n",
       "                                                [1.],\n",
       "                                                [0.],\n",
       "                                                [0.]],\n",
       "\n",
       "                                               [[0.],\n",
       "                                                [0.],\n",
       "                                                [0.],\n",
       "                                                [0.],\n",
       "                                                [0.],\n",
       "                                                [0.],\n",
       "                                                [0.],\n",
       "                                                [1.],\n",
       "                                                [0.]],\n",
       "\n",
       "                                               [[0.],\n",
       "                                                [0.],\n",
       "                                                [0.],\n",
       "                                                [0.],\n",
       "                                                [0.],\n",
       "                                                [0.],\n",
       "                                                [0.],\n",
       "                                                [0.],\n",
       "                                                [1.]]])], dtype=object)"
      ]
     },
     "execution_count": 17,
     "metadata": {},
     "output_type": "execute_result"
    }
   ],
   "source": [
    "B"
   ]
  },
  {
   "cell_type": "markdown",
   "metadata": {},
   "source": [
    "## Construct the C matrix"
   ]
  },
  {
   "cell_type": "markdown",
   "metadata": {},
   "source": [
    "C encodes the preferred state of the agent, i.e. the location the agent is trying to reach.\n",
    "\n",
    "This is where we need to consider the two C matrices for the individual agents, since they're going to differ from each other depending on the preferred location they're trying to reach.\n",
    "\n",
    "In this case of a 3x3 grid world, let's say the first agent wants to reach location (2, 2), i.e. location 8 (Note: the starting index is 0), and the second agent wants to reach location (1, 0), i.e. location 3 in the above visualization.\n",
    "\n",
    "We encode the C matrix as a one-hot vector, where 1 is placed at the index of the preferred location (0s otherwise)."
   ]
  },
  {
   "cell_type": "markdown",
   "metadata": {},
   "source": [
    "Note: we also define a helper function for creating a flat distribution denoting no preference over the second observation modality (i.e. the state of the *other* agent). Later, we're going to use the pymdp `Agent` class which requires the shape of C to match the number of observation modalities."
   ]
  },
  {
   "cell_type": "code",
   "execution_count": 18,
   "metadata": {},
   "outputs": [],
   "source": [
    "def create_flat_dist(num_values):\n",
    "    arr = np.zeros(num_values)\n",
    "    for i, _ in enumerate(arr):\n",
    "        arr[i] = 1.0 / num_values\n",
    "    return arr"
   ]
  },
  {
   "cell_type": "markdown",
   "metadata": {},
   "source": [
    "We define the shape of the C matrix in the same way we did the A matrix."
   ]
  },
  {
   "cell_type": "code",
   "execution_count": 19,
   "metadata": {},
   "outputs": [],
   "source": [
    "C_m_shapes = [[9], [9]]"
   ]
  },
  {
   "cell_type": "code",
   "execution_count": 20,
   "metadata": {},
   "outputs": [
    {
     "data": {
      "text/plain": [
       "array([array([0., 0., 0., 0., 0., 0., 0., 0., 0.]),\n",
       "       array([0., 0., 0., 0., 0., 0., 0., 0., 0.])], dtype=object)"
      ]
     },
     "execution_count": 20,
     "metadata": {},
     "output_type": "execute_result"
    }
   ],
   "source": [
    "C = utils.obj_array_zeros(C_m_shapes); C"
   ]
  },
  {
   "cell_type": "code",
   "execution_count": 21,
   "metadata": {},
   "outputs": [],
   "source": [
    "agent1_C = deepcopy(C)"
   ]
  },
  {
   "cell_type": "code",
   "execution_count": 22,
   "metadata": {},
   "outputs": [
    {
     "data": {
      "text/plain": [
       "array([0., 0., 0., 0., 0., 0., 0., 0., 1.])"
      ]
     },
     "execution_count": 22,
     "metadata": {},
     "output_type": "execute_result"
    }
   ],
   "source": [
    "agent1_C[0] = utils.onehot(8, num_grid_points); agent1_C[0]"
   ]
  },
  {
   "cell_type": "code",
   "execution_count": 23,
   "metadata": {},
   "outputs": [
    {
     "data": {
      "text/plain": [
       "array([0.11111111, 0.11111111, 0.11111111, 0.11111111, 0.11111111,\n",
       "       0.11111111, 0.11111111, 0.11111111, 0.11111111])"
      ]
     },
     "execution_count": 23,
     "metadata": {},
     "output_type": "execute_result"
    }
   ],
   "source": [
    "agent1_C[1] = create_flat_dist(num_grid_points); agent1_C[1]"
   ]
  },
  {
   "cell_type": "code",
   "execution_count": 24,
   "metadata": {},
   "outputs": [
    {
     "name": "stdout",
     "output_type": "stream",
     "text": [
      "Agent 1 C matrix: [array([0., 0., 0., 0., 0., 0., 0., 0., 1.])\n",
      " array([0.11111111, 0.11111111, 0.11111111, 0.11111111, 0.11111111,\n",
      "        0.11111111, 0.11111111, 0.11111111, 0.11111111])           ]\n"
     ]
    }
   ],
   "source": [
    "print(f'Agent 1 C matrix: {agent1_C}')"
   ]
  },
  {
   "cell_type": "markdown",
   "metadata": {},
   "source": [
    "Now we define the second agent's C matrix in an equivalent way."
   ]
  },
  {
   "cell_type": "code",
   "execution_count": 25,
   "metadata": {},
   "outputs": [
    {
     "name": "stdout",
     "output_type": "stream",
     "text": [
      "Agent 2 C matrix: [array([0., 0., 0., 1., 0., 0., 0., 0., 0.])\n",
      " array([0.11111111, 0.11111111, 0.11111111, 0.11111111, 0.11111111,\n",
      "        0.11111111, 0.11111111, 0.11111111, 0.11111111])           ]\n"
     ]
    }
   ],
   "source": [
    "agent2_C = deepcopy(C)\n",
    "agent2_C[0] = utils.onehot(3, num_grid_points)\n",
    "agent2_C[1] = create_flat_dist(num_grid_points)\n",
    "\n",
    "print(f'Agent 2 C matrix: {agent2_C}')"
   ]
  },
  {
   "cell_type": "markdown",
   "metadata": {},
   "source": [
    "## Construct the D matrix"
   ]
  },
  {
   "cell_type": "markdown",
   "metadata": {},
   "source": [
    "The D matrix encodes the prior belief about where the state of the grid world, including the position of the first agent and the second agent. Much like the C matrix, we need to create 2 such objects for each of the agents.\n",
    "\n",
    "Let's say the first agent starts in location (0, 0), index 0, and the second in location (2, 1), index 7."
   ]
  },
  {
   "cell_type": "code",
   "execution_count": 30,
   "metadata": {},
   "outputs": [
    {
     "name": "stdout",
     "output_type": "stream",
     "text": [
      "Agent 1 D matrix: [array([1., 0., 0., 0., 0., 0., 0., 0., 0.])\n",
      " array([0., 0., 0., 0., 0., 0., 0., 1., 0.])]\n",
      "Agent 2 D matrix: [array([0., 0., 0., 0., 0., 0., 0., 1., 0.])\n",
      " array([1., 0., 0., 0., 0., 0., 0., 0., 0.])]\n"
     ]
    }
   ],
   "source": [
    "agent1_D = utils.obj_array(2)\n",
    "\n",
    "agent1_D[0] = utils.onehot(0, 9)\n",
    "agent1_D[1] = utils.onehot(7, 9)\n",
    "print(f'Agent 1 D matrix: {agent1_D}')\n",
    "\n",
    "agent2_D = utils.obj_array(2)\n",
    "\n",
    "agent2_D[0] = utils.onehot(7, 9)\n",
    "agent2_D[1] = utils.onehot(0, 9)\n",
    "print(f'Agent 2 D matrix: {agent2_D}')"
   ]
  },
  {
   "cell_type": "markdown",
   "metadata": {},
   "source": [
    "## Construct the E matrix"
   ]
  },
  {
   "cell_type": "markdown",
   "metadata": {},
   "source": [
    "We've already defined the E matrix when we were initializing the B matrix, it only consists of the actions available to the agents.\n",
    "\n",
    "The E vector is in terms of policies, not actions, so its size will depend on the length of planning we want the agent to undertake."
   ]
  },
  {
   "cell_type": "code",
   "execution_count": 31,
   "metadata": {},
   "outputs": [],
   "source": [
    "from pymdp.control import construct_policies"
   ]
  },
  {
   "cell_type": "code",
   "execution_count": 32,
   "metadata": {},
   "outputs": [
    {
     "name": "stdout",
     "output_type": "stream",
     "text": [
      "Length of E_1 is 5\n",
      "Length of E_2 is 25\n",
      "Length of E_3 is 125\n",
      "Length of E_4 is 625\n"
     ]
    }
   ],
   "source": [
    "E_1 = construct_policies(num_states, num_controls=[5, 1], policy_len=1)\n",
    "print(f'Length of E_1 is {len(E_1)}')\n",
    "E_2 = construct_policies(num_states, num_controls=[5, 1], policy_len=2)\n",
    "print(f'Length of E_2 is {len(E_2)}')\n",
    "E_3 = construct_policies(num_states, num_controls=[5, 1], policy_len=3)\n",
    "print(f'Length of E_3 is {len(E_3)}')\n",
    "E_4 = construct_policies(num_states, num_controls=[5, 1], policy_len=4)\n",
    "print(f'Length of E_4 is {len(E_4)}')"
   ]
  },
  {
   "cell_type": "markdown",
   "metadata": {},
   "source": [
    "## Construct the two Agents"
   ]
  },
  {
   "cell_type": "markdown",
   "metadata": {},
   "source": [
    "Now that we've defined all the components for our two agents, initializing them is taken care of by the pymdp `Agent` class."
   ]
  },
  {
   "cell_type": "code",
   "execution_count": 33,
   "metadata": {},
   "outputs": [],
   "source": [
    "from pymdp.agent import Agent"
   ]
  },
  {
   "cell_type": "code",
   "execution_count": 37,
   "metadata": {},
   "outputs": [],
   "source": [
    "agent1 = Agent(A=deepcopy(A), B=deepcopy(B), C=agent1_C, D=agent1_D, E=np.array(deepcopy(E_4)), policy_len=4)\n",
    "agent2 = Agent(A=deepcopy(A), B=deepcopy(B), C=agent2_C, D=agent2_D, E=np.array(deepcopy(E_4)), policy_len=4)"
   ]
  },
  {
   "cell_type": "markdown",
   "metadata": {},
   "source": [
    "## Prepare cadCAD simulation"
   ]
  },
  {
   "cell_type": "code",
   "execution_count": null,
   "metadata": {},
   "outputs": [],
   "source": []
  }
 ],
 "metadata": {
  "kernelspec": {
   "display_name": "Python 3 (ipykernel)",
   "language": "python",
   "name": "python3"
  },
  "language_info": {
   "codemirror_mode": {
    "name": "ipython",
    "version": 3
   },
   "file_extension": ".py",
   "mimetype": "text/x-python",
   "name": "python",
   "nbconvert_exporter": "python",
   "pygments_lexer": "ipython3",
   "version": "3.8.5"
  },
  "vscode": {
   "interpreter": {
    "hash": "1c596f8ea73094ff366b4a78cb3d7a121270c7966eba71b4cca991db5b176f60"
   }
  }
 },
 "nbformat": 4,
 "nbformat_minor": 4
}
