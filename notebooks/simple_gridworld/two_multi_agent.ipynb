{
 "cells": [
  {
   "cell_type": "markdown",
   "metadata": {},
   "source": [
    "## The 2-agent multi-agent Active Blockference"
   ]
  },
  {
   "cell_type": "code",
   "execution_count": 1,
   "metadata": {},
   "outputs": [],
   "source": [
    "import itertools\n",
    "import numpy as np\n",
    "import seaborn as sns\n",
    "from pymdp import utils\n",
    "from copy import deepcopy\n",
    "import matplotlib.pyplot as plt\n",
    "import sys\n",
    "\n",
    "sys.path.insert(0, '../../')"
   ]
  },
  {
   "cell_type": "markdown",
   "metadata": {},
   "source": [
    "Now we define a helper plotting function"
   ]
  },
  {
   "cell_type": "code",
   "execution_count": 2,
   "metadata": {},
   "outputs": [],
   "source": [
    "def plot_grid(grid_locations, num_x = 3, num_y = 3 ):\n",
    "    \"\"\"\n",
    "    Plots the spatial coordinates of GridWorld as a heatmap, with each (X, Y) coordinate \n",
    "    labeled with its linear index (its `state id`)\n",
    "    \"\"\"\n",
    "\n",
    "    grid_heatmap = np.zeros((num_x, num_y))\n",
    "    for linear_idx, location in enumerate(grid_locations):\n",
    "      y, x = location\n",
    "      grid_heatmap[y, x] = linear_idx\n",
    "    sns.set(font_scale=1.5)\n",
    "    sns.heatmap(grid_heatmap, annot=True, cbar = False, fmt='.0f', cmap='crest')"
   ]
  },
  {
   "cell_type": "markdown",
   "metadata": {},
   "source": [
    "Next we define the gridworld the agents will occupy"
   ]
  },
  {
   "cell_type": "code",
   "execution_count": 3,
   "metadata": {},
   "outputs": [
    {
     "name": "stdout",
     "output_type": "stream",
     "text": [
      "Position dictionary is {0: (0, 0), 1: (0, 1), 2: (0, 2), 3: (1, 0), 4: (1, 1), 5: (1, 2), 6: (2, 0), 7: (2, 1), 8: (2, 2)}\n",
      "Grid locations are [(0, 0), (0, 1), (0, 2), (1, 0), (1, 1), (1, 2), (2, 0), (2, 1), (2, 2)]\n"
     ]
    },
    {
     "data": {
      "image/png": "[encoded data removed]",
      "text/plain": [
       "<Figure size 432x288 with 1 Axes>"
      ]
     },
     "metadata": {},
     "output_type": "display_data"
    }
   ],
   "source": [
    "grid_locations = list(itertools.product(range(3), repeat=2))\n",
    "num_grid_points = len(grid_locations)\n",
    "\n",
    "pos_dict = {}\n",
    "for i in range(0, len(grid_locations)):\n",
    "    pos_dict[i] = grid_locations[i]\n",
    "plot_grid(grid_locations)\n",
    "print(f'Position dictionary is {pos_dict}')\n",
    "print(f'Grid locations are {grid_locations}')"
   ]
  },
  {
   "cell_type": "markdown",
   "metadata": {},
   "source": [
    "## Construct the A matrix\n",
    "\n",
    "The A matrix represents the likelihood mapping between agents' observations and their hidden states.\n",
    "\n",
    "In the 2 agent case, a single agents observes:\n",
    "1. its current location (1 out of 9 for a 3x3 grid world)\n",
    "2. the location of the other agent (1 out of 9 for a 3x3 grid world)\n",
    "\n",
    "This means the A matrix needs to be a rank 2 tensor with each submatrix representing beliefs over a location, given an observation of my location and the observation of the other agent's location.\n",
    "\n",
    "The number of possible locations for both agents is the same (9).\n",
    "\n",
    "**The resulting shape of the A matrix should be (2,) with each submatrix being (9, 9, 9).**"
   ]
  },
  {
   "cell_type": "markdown",
   "metadata": {},
   "source": [
    "#### States and observations in the 3x3 grid world for 2 agents\n",
    "\n",
    "The first agent has 9 possible locations to visit in the grid world. The second agent does as well.\n",
    "\n",
    "We will encode the number of states in a sparse representation, by modality. The first modality is the location of the agent receiving the observation, the second is the location of the other agent."
   ]
  },
  {
   "cell_type": "code",
   "execution_count": 4,
   "metadata": {},
   "outputs": [
    {
     "data": {
      "text/plain": [
       "[9, 9]"
      ]
     },
     "execution_count": 4,
     "metadata": {},
     "output_type": "execute_result"
    }
   ],
   "source": [
    "num_states = [len(grid_locations), len(grid_locations)]; num_states"
   ]
  },
  {
   "cell_type": "code",
   "execution_count": 5,
   "metadata": {},
   "outputs": [
    {
     "data": {
      "text/plain": [
       "2"
      ]
     },
     "execution_count": 5,
     "metadata": {},
     "output_type": "execute_result"
    }
   ],
   "source": [
    "num_factors = len(num_states); num_factors"
   ]
  },
  {
   "cell_type": "markdown",
   "metadata": {},
   "source": [
    "The number of observations is the same as the number of states (hidden states)."
   ]
  },
  {
   "cell_type": "code",
   "execution_count": 6,
   "metadata": {},
   "outputs": [],
   "source": [
    "num_obs = [len(grid_locations), len(grid_locations)]"
   ]
  },
  {
   "cell_type": "markdown",
   "metadata": {},
   "source": [
    "The shape of the A matrix is determined by the dimension of each respective modality and the number thereof.\n",
    "\n",
    "To recap, the number of modalities is 2: The first modality is the location of the agent receiving the observation, the second is the location of the other agent.\n",
    "\n",
    "The dimension of each modality is 9x9 (same as the grid world).\n",
    "\n",
    "Hence, we can define the shape of the A matrix as [[9, 9], [9, 9]]."
   ]
  },
  {
   "cell_type": "code",
   "execution_count": 7,
   "metadata": {},
   "outputs": [
    {
     "data": {
      "text/plain": [
       "[[9, 9, 9], [9, 9, 9]]"
      ]
     },
     "execution_count": 7,
     "metadata": {},
     "output_type": "execute_result"
    }
   ],
   "source": [
    "A_m_shapes = [[9, 9, 9], [9, 9, 9]]; A_m_shapes"
   ]
  },
  {
   "cell_type": "markdown",
   "metadata": {},
   "source": [
    "From the general shape, we construct the A matrix with the help of pymdp's `obj_array_zeros` function, which will just initialize the matrix with null entries (we'll fill in the correct entries later)."
   ]
  },
  {
   "cell_type": "code",
   "execution_count": 8,
   "metadata": {},
   "outputs": [
    {
     "data": {
      "text/plain": [
       "array([array([[[0., 0., 0., 0., 0., 0., 0., 0., 0.],\n",
       "               [0., 0., 0., 0., 0., 0., 0., 0., 0.],\n",
       "               [0., 0., 0., 0., 0., 0., 0., 0., 0.],\n",
       "               [0., 0., 0., 0., 0., 0., 0., 0., 0.],\n",
       "               [0., 0., 0., 0., 0., 0., 0., 0., 0.],\n",
       "               [0., 0., 0., 0., 0., 0., 0., 0., 0.],\n",
       "               [0., 0., 0., 0., 0., 0., 0., 0., 0.],\n",
       "               [0., 0., 0., 0., 0., 0., 0., 0., 0.],\n",
       "               [0., 0., 0., 0., 0., 0., 0., 0., 0.]],\n",
       "\n",
       "              [[0., 0., 0., 0., 0., 0., 0., 0., 0.],\n",
       "               [0., 0., 0., 0., 0., 0., 0., 0., 0.],\n",
       "               [0., 0., 0., 0., 0., 0., 0., 0., 0.],\n",
       "               [0., 0., 0., 0., 0., 0., 0., 0., 0.],\n",
       "               [0., 0., 0., 0., 0., 0., 0., 0., 0.],\n",
       "               [0., 0., 0., 0., 0., 0., 0., 0., 0.],\n",
       "               [0., 0., 0., 0., 0., 0., 0., 0., 0.],\n",
       "               [0., 0., 0., 0., 0., 0., 0., 0., 0.],\n",
       "               [0., 0., 0., 0., 0., 0., 0., 0., 0.]],\n",
       "\n",
       "              [[0., 0., 0., 0., 0., 0., 0., 0., 0.],\n",
       "               [0., 0., 0., 0., 0., 0., 0., 0., 0.],\n",
       "               [0., 0., 0., 0., 0., 0., 0., 0., 0.],\n",
       "               [0., 0., 0., 0., 0., 0., 0., 0., 0.],\n",
       "               [0., 0., 0., 0., 0., 0., 0., 0., 0.],\n",
       "               [0., 0., 0., 0., 0., 0., 0., 0., 0.],\n",
       "               [0., 0., 0., 0., 0., 0., 0., 0., 0.],\n",
       "               [0., 0., 0., 0., 0., 0., 0., 0., 0.],\n",
       "               [0., 0., 0., 0., 0., 0., 0., 0., 0.]],\n",
       "\n",
       "              [[0., 0., 0., 0., 0., 0., 0., 0., 0.],\n",
       "               [0., 0., 0., 0., 0., 0., 0., 0., 0.],\n",
       "               [0., 0., 0., 0., 0., 0., 0., 0., 0.],\n",
       "               [0., 0., 0., 0., 0., 0., 0., 0., 0.],\n",
       "               [0., 0., 0., 0., 0., 0., 0., 0., 0.],\n",
       "               [0., 0., 0., 0., 0., 0., 0., 0., 0.],\n",
       "               [0., 0., 0., 0., 0., 0., 0., 0., 0.],\n",
       "               [0., 0., 0., 0., 0., 0., 0., 0., 0.],\n",
       "               [0., 0., 0., 0., 0., 0., 0., 0., 0.]],\n",
       "\n",
       "              [[0., 0., 0., 0., 0., 0., 0., 0., 0.],\n",
       "               [0., 0., 0., 0., 0., 0., 0., 0., 0.],\n",
       "               [0., 0., 0., 0., 0., 0., 0., 0., 0.],\n",
       "               [0., 0., 0., 0., 0., 0., 0., 0., 0.],\n",
       "               [0., 0., 0., 0., 0., 0., 0., 0., 0.],\n",
       "               [0., 0., 0., 0., 0., 0., 0., 0., 0.],\n",
       "               [0., 0., 0., 0., 0., 0., 0., 0., 0.],\n",
       "               [0., 0., 0., 0., 0., 0., 0., 0., 0.],\n",
       "               [0., 0., 0., 0., 0., 0., 0., 0., 0.]],\n",
       "\n",
       "              [[0., 0., 0., 0., 0., 0., 0., 0., 0.],\n",
       "               [0., 0., 0., 0., 0., 0., 0., 0., 0.],\n",
       "               [0., 0., 0., 0., 0., 0., 0., 0., 0.],\n",
       "               [0., 0., 0., 0., 0., 0., 0., 0., 0.],\n",
       "               [0., 0., 0., 0., 0., 0., 0., 0., 0.],\n",
       "               [0., 0., 0., 0., 0., 0., 0., 0., 0.],\n",
       "               [0., 0., 0., 0., 0., 0., 0., 0., 0.],\n",
       "               [0., 0., 0., 0., 0., 0., 0., 0., 0.],\n",
       "               [0., 0., 0., 0., 0., 0., 0., 0., 0.]],\n",
       "\n",
       "              [[0., 0., 0., 0., 0., 0., 0., 0., 0.],\n",
       "               [0., 0., 0., 0., 0., 0., 0., 0., 0.],\n",
       "               [0., 0., 0., 0., 0., 0., 0., 0., 0.],\n",
       "               [0., 0., 0., 0., 0., 0., 0., 0., 0.],\n",
       "               [0., 0., 0., 0., 0., 0., 0., 0., 0.],\n",
       "               [0., 0., 0., 0., 0., 0., 0., 0., 0.],\n",
       "               [0., 0., 0., 0., 0., 0., 0., 0., 0.],\n",
       "               [0., 0., 0., 0., 0., 0., 0., 0., 0.],\n",
       "               [0., 0., 0., 0., 0., 0., 0., 0., 0.]],\n",
       "\n",
       "              [[0., 0., 0., 0., 0., 0., 0., 0., 0.],\n",
       "               [0., 0., 0., 0., 0., 0., 0., 0., 0.],\n",
       "               [0., 0., 0., 0., 0., 0., 0., 0., 0.],\n",
       "               [0., 0., 0., 0., 0., 0., 0., 0., 0.],\n",
       "               [0., 0., 0., 0., 0., 0., 0., 0., 0.],\n",
       "               [0., 0., 0., 0., 0., 0., 0., 0., 0.],\n",
       "               [0., 0., 0., 0., 0., 0., 0., 0., 0.],\n",
       "               [0., 0., 0., 0., 0., 0., 0., 0., 0.],\n",
       "               [0., 0., 0., 0., 0., 0., 0., 0., 0.]],\n",
       "\n",
       "              [[0., 0., 0., 0., 0., 0., 0., 0., 0.],\n",
       "               [0., 0., 0., 0., 0., 0., 0., 0., 0.],\n",
       "               [0., 0., 0., 0., 0., 0., 0., 0., 0.],\n",
       "               [0., 0., 0., 0., 0., 0., 0., 0., 0.],\n",
       "               [0., 0., 0., 0., 0., 0., 0., 0., 0.],\n",
       "               [0., 0., 0., 0., 0., 0., 0., 0., 0.],\n",
       "               [0., 0., 0., 0., 0., 0., 0., 0., 0.],\n",
       "               [0., 0., 0., 0., 0., 0., 0., 0., 0.],\n",
       "               [0., 0., 0., 0., 0., 0., 0., 0., 0.]]]),\n",
       "       array([[[0., 0., 0., 0., 0., 0., 0., 0., 0.],\n",
       "               [0., 0., 0., 0., 0., 0., 0., 0., 0.],\n",
       "               [0., 0., 0., 0., 0., 0., 0., 0., 0.],\n",
       "               [0., 0., 0., 0., 0., 0., 0., 0., 0.],\n",
       "               [0., 0., 0., 0., 0., 0., 0., 0., 0.],\n",
       "               [0., 0., 0., 0., 0., 0., 0., 0., 0.],\n",
       "               [0., 0., 0., 0., 0., 0., 0., 0., 0.],\n",
       "               [0., 0., 0., 0., 0., 0., 0., 0., 0.],\n",
       "               [0., 0., 0., 0., 0., 0., 0., 0., 0.]],\n",
       "\n",
       "              [[0., 0., 0., 0., 0., 0., 0., 0., 0.],\n",
       "               [0., 0., 0., 0., 0., 0., 0., 0., 0.],\n",
       "               [0., 0., 0., 0., 0., 0., 0., 0., 0.],\n",
       "               [0., 0., 0., 0., 0., 0., 0., 0., 0.],\n",
       "               [0., 0., 0., 0., 0., 0., 0., 0., 0.],\n",
       "               [0., 0., 0., 0., 0., 0., 0., 0., 0.],\n",
       "               [0., 0., 0., 0., 0., 0., 0., 0., 0.],\n",
       "               [0., 0., 0., 0., 0., 0., 0., 0., 0.],\n",
       "               [0., 0., 0., 0., 0., 0., 0., 0., 0.]],\n",
       "\n",
       "              [[0., 0., 0., 0., 0., 0., 0., 0., 0.],\n",
       "               [0., 0., 0., 0., 0., 0., 0., 0., 0.],\n",
       "               [0., 0., 0., 0., 0., 0., 0., 0., 0.],\n",
       "               [0., 0., 0., 0., 0., 0., 0., 0., 0.],\n",
       "               [0., 0., 0., 0., 0., 0., 0., 0., 0.],\n",
       "               [0., 0., 0., 0., 0., 0., 0., 0., 0.],\n",
       "               [0., 0., 0., 0., 0., 0., 0., 0., 0.],\n",
       "               [0., 0., 0., 0., 0., 0., 0., 0., 0.],\n",
       "               [0., 0., 0., 0., 0., 0., 0., 0., 0.]],\n",
       "\n",
       "              [[0., 0., 0., 0., 0., 0., 0., 0., 0.],\n",
       "               [0., 0., 0., 0., 0., 0., 0., 0., 0.],\n",
       "               [0., 0., 0., 0., 0., 0., 0., 0., 0.],\n",
       "               [0., 0., 0., 0., 0., 0., 0., 0., 0.],\n",
       "               [0., 0., 0., 0., 0., 0., 0., 0., 0.],\n",
       "               [0., 0., 0., 0., 0., 0., 0., 0., 0.],\n",
       "               [0., 0., 0., 0., 0., 0., 0., 0., 0.],\n",
       "               [0., 0., 0., 0., 0., 0., 0., 0., 0.],\n",
       "               [0., 0., 0., 0., 0., 0., 0., 0., 0.]],\n",
       "\n",
       "              [[0., 0., 0., 0., 0., 0., 0., 0., 0.],\n",
       "               [0., 0., 0., 0., 0., 0., 0., 0., 0.],\n",
       "               [0., 0., 0., 0., 0., 0., 0., 0., 0.],\n",
       "               [0., 0., 0., 0., 0., 0., 0., 0., 0.],\n",
       "               [0., 0., 0., 0., 0., 0., 0., 0., 0.],\n",
       "               [0., 0., 0., 0., 0., 0., 0., 0., 0.],\n",
       "               [0., 0., 0., 0., 0., 0., 0., 0., 0.],\n",
       "               [0., 0., 0., 0., 0., 0., 0., 0., 0.],\n",
       "               [0., 0., 0., 0., 0., 0., 0., 0., 0.]],\n",
       "\n",
       "              [[0., 0., 0., 0., 0., 0., 0., 0., 0.],\n",
       "               [0., 0., 0., 0., 0., 0., 0., 0., 0.],\n",
       "               [0., 0., 0., 0., 0., 0., 0., 0., 0.],\n",
       "               [0., 0., 0., 0., 0., 0., 0., 0., 0.],\n",
       "               [0., 0., 0., 0., 0., 0., 0., 0., 0.],\n",
       "               [0., 0., 0., 0., 0., 0., 0., 0., 0.],\n",
       "               [0., 0., 0., 0., 0., 0., 0., 0., 0.],\n",
       "               [0., 0., 0., 0., 0., 0., 0., 0., 0.],\n",
       "               [0., 0., 0., 0., 0., 0., 0., 0., 0.]],\n",
       "\n",
       "              [[0., 0., 0., 0., 0., 0., 0., 0., 0.],\n",
       "               [0., 0., 0., 0., 0., 0., 0., 0., 0.],\n",
       "               [0., 0., 0., 0., 0., 0., 0., 0., 0.],\n",
       "               [0., 0., 0., 0., 0., 0., 0., 0., 0.],\n",
       "               [0., 0., 0., 0., 0., 0., 0., 0., 0.],\n",
       "               [0., 0., 0., 0., 0., 0., 0., 0., 0.],\n",
       "               [0., 0., 0., 0., 0., 0., 0., 0., 0.],\n",
       "               [0., 0., 0., 0., 0., 0., 0., 0., 0.],\n",
       "               [0., 0., 0., 0., 0., 0., 0., 0., 0.]],\n",
       "\n",
       "              [[0., 0., 0., 0., 0., 0., 0., 0., 0.],\n",
       "               [0., 0., 0., 0., 0., 0., 0., 0., 0.],\n",
       "               [0., 0., 0., 0., 0., 0., 0., 0., 0.],\n",
       "               [0., 0., 0., 0., 0., 0., 0., 0., 0.],\n",
       "               [0., 0., 0., 0., 0., 0., 0., 0., 0.],\n",
       "               [0., 0., 0., 0., 0., 0., 0., 0., 0.],\n",
       "               [0., 0., 0., 0., 0., 0., 0., 0., 0.],\n",
       "               [0., 0., 0., 0., 0., 0., 0., 0., 0.],\n",
       "               [0., 0., 0., 0., 0., 0., 0., 0., 0.]],\n",
       "\n",
       "              [[0., 0., 0., 0., 0., 0., 0., 0., 0.],\n",
       "               [0., 0., 0., 0., 0., 0., 0., 0., 0.],\n",
       "               [0., 0., 0., 0., 0., 0., 0., 0., 0.],\n",
       "               [0., 0., 0., 0., 0., 0., 0., 0., 0.],\n",
       "               [0., 0., 0., 0., 0., 0., 0., 0., 0.],\n",
       "               [0., 0., 0., 0., 0., 0., 0., 0., 0.],\n",
       "               [0., 0., 0., 0., 0., 0., 0., 0., 0.],\n",
       "               [0., 0., 0., 0., 0., 0., 0., 0., 0.],\n",
       "               [0., 0., 0., 0., 0., 0., 0., 0., 0.]]])], dtype=object)"
      ]
     },
     "execution_count": 8,
     "metadata": {},
     "output_type": "execute_result"
    }
   ],
   "source": [
    "A = utils.obj_array_zeros(A_m_shapes); A"
   ]
  },
  {
   "cell_type": "markdown",
   "metadata": {},
   "source": [
    "For instance, `A[0][3,1,4]` encodes the likelihood of seeing myself in location 3, given that I am in location 1 and my neighbour is in location 4.\n",
    "\n",
    "For the fully observable case, the indexes `A[0][n, n, m]` where n != m is 1, all other indexes are 0.\n",
    "Equivalently, we have `A[1][n, m, n] = 1` for n != m."
   ]
  },
  {
   "cell_type": "code",
   "execution_count": 9,
   "metadata": {},
   "outputs": [],
   "source": [
    "# # for A[0]\n",
    "# for i in range(0, 9):\n",
    "#     for j in range(0, 9):\n",
    "#         if i != j:\n",
    "#             A[0][i, i, j] = 1 / 8\n",
    "\n",
    "# # for A[1]\n",
    "# for i in range(0, 9):\n",
    "#     for j in range(0, 9):\n",
    "#         if i != j:\n",
    "#             A[1][i, j, i] = 1.0\n",
    "\n",
    "# To avoid pymdp normalization error, NOTE: This does not encode the fact that the agents cannot collide.\n",
    "# for A[0]\n",
    "for i in range(0, 9):\n",
    "    for j in range(0, 9):\n",
    "        A[0][i, i, j] = 1.0\n",
    "\n",
    "# for A[1]\n",
    "for i in range(0, 9):\n",
    "    for j in range(0, 9):\n",
    "        A[1][i, j, i] = 1.0"
   ]
  },
  {
   "cell_type": "code",
   "execution_count": 10,
   "metadata": {},
   "outputs": [
    {
     "data": {
      "text/plain": [
       "array([array([[[1., 1., 1., 1., 1., 1., 1., 1., 1.],\n",
       "               [0., 0., 0., 0., 0., 0., 0., 0., 0.],\n",
       "               [0., 0., 0., 0., 0., 0., 0., 0., 0.],\n",
       "               [0., 0., 0., 0., 0., 0., 0., 0., 0.],\n",
       "               [0., 0., 0., 0., 0., 0., 0., 0., 0.],\n",
       "               [0., 0., 0., 0., 0., 0., 0., 0., 0.],\n",
       "               [0., 0., 0., 0., 0., 0., 0., 0., 0.],\n",
       "               [0., 0., 0., 0., 0., 0., 0., 0., 0.],\n",
       "               [0., 0., 0., 0., 0., 0., 0., 0., 0.]],\n",
       "\n",
       "              [[0., 0., 0., 0., 0., 0., 0., 0., 0.],\n",
       "               [1., 1., 1., 1., 1., 1., 1., 1., 1.],\n",
       "               [0., 0., 0., 0., 0., 0., 0., 0., 0.],\n",
       "               [0., 0., 0., 0., 0., 0., 0., 0., 0.],\n",
       "               [0., 0., 0., 0., 0., 0., 0., 0., 0.],\n",
       "               [0., 0., 0., 0., 0., 0., 0., 0., 0.],\n",
       "               [0., 0., 0., 0., 0., 0., 0., 0., 0.],\n",
       "               [0., 0., 0., 0., 0., 0., 0., 0., 0.],\n",
       "               [0., 0., 0., 0., 0., 0., 0., 0., 0.]],\n",
       "\n",
       "              [[0., 0., 0., 0., 0., 0., 0., 0., 0.],\n",
       "               [0., 0., 0., 0., 0., 0., 0., 0., 0.],\n",
       "               [1., 1., 1., 1., 1., 1., 1., 1., 1.],\n",
       "               [0., 0., 0., 0., 0., 0., 0., 0., 0.],\n",
       "               [0., 0., 0., 0., 0., 0., 0., 0., 0.],\n",
       "               [0., 0., 0., 0., 0., 0., 0., 0., 0.],\n",
       "               [0., 0., 0., 0., 0., 0., 0., 0., 0.],\n",
       "               [0., 0., 0., 0., 0., 0., 0., 0., 0.],\n",
       "               [0., 0., 0., 0., 0., 0., 0., 0., 0.]],\n",
       "\n",
       "              [[0., 0., 0., 0., 0., 0., 0., 0., 0.],\n",
       "               [0., 0., 0., 0., 0., 0., 0., 0., 0.],\n",
       "               [0., 0., 0., 0., 0., 0., 0., 0., 0.],\n",
       "               [1., 1., 1., 1., 1., 1., 1., 1., 1.],\n",
       "               [0., 0., 0., 0., 0., 0., 0., 0., 0.],\n",
       "               [0., 0., 0., 0., 0., 0., 0., 0., 0.],\n",
       "               [0., 0., 0., 0., 0., 0., 0., 0., 0.],\n",
       "               [0., 0., 0., 0., 0., 0., 0., 0., 0.],\n",
       "               [0., 0., 0., 0., 0., 0., 0., 0., 0.]],\n",
       "\n",
       "              [[0., 0., 0., 0., 0., 0., 0., 0., 0.],\n",
       "               [0., 0., 0., 0., 0., 0., 0., 0., 0.],\n",
       "               [0., 0., 0., 0., 0., 0., 0., 0., 0.],\n",
       "               [0., 0., 0., 0., 0., 0., 0., 0., 0.],\n",
       "               [1., 1., 1., 1., 1., 1., 1., 1., 1.],\n",
       "               [0., 0., 0., 0., 0., 0., 0., 0., 0.],\n",
       "               [0., 0., 0., 0., 0., 0., 0., 0., 0.],\n",
       "               [0., 0., 0., 0., 0., 0., 0., 0., 0.],\n",
       "               [0., 0., 0., 0., 0., 0., 0., 0., 0.]],\n",
       "\n",
       "              [[0., 0., 0., 0., 0., 0., 0., 0., 0.],\n",
       "               [0., 0., 0., 0., 0., 0., 0., 0., 0.],\n",
       "               [0., 0., 0., 0., 0., 0., 0., 0., 0.],\n",
       "               [0., 0., 0., 0., 0., 0., 0., 0., 0.],\n",
       "               [0., 0., 0., 0., 0., 0., 0., 0., 0.],\n",
       "               [1., 1., 1., 1., 1., 1., 1., 1., 1.],\n",
       "               [0., 0., 0., 0., 0., 0., 0., 0., 0.],\n",
       "               [0., 0., 0., 0., 0., 0., 0., 0., 0.],\n",
       "               [0., 0., 0., 0., 0., 0., 0., 0., 0.]],\n",
       "\n",
       "              [[0., 0., 0., 0., 0., 0., 0., 0., 0.],\n",
       "               [0., 0., 0., 0., 0., 0., 0., 0., 0.],\n",
       "               [0., 0., 0., 0., 0., 0., 0., 0., 0.],\n",
       "               [0., 0., 0., 0., 0., 0., 0., 0., 0.],\n",
       "               [0., 0., 0., 0., 0., 0., 0., 0., 0.],\n",
       "               [0., 0., 0., 0., 0., 0., 0., 0., 0.],\n",
       "               [1., 1., 1., 1., 1., 1., 1., 1., 1.],\n",
       "               [0., 0., 0., 0., 0., 0., 0., 0., 0.],\n",
       "               [0., 0., 0., 0., 0., 0., 0., 0., 0.]],\n",
       "\n",
       "              [[0., 0., 0., 0., 0., 0., 0., 0., 0.],\n",
       "               [0., 0., 0., 0., 0., 0., 0., 0., 0.],\n",
       "               [0., 0., 0., 0., 0., 0., 0., 0., 0.],\n",
       "               [0., 0., 0., 0., 0., 0., 0., 0., 0.],\n",
       "               [0., 0., 0., 0., 0., 0., 0., 0., 0.],\n",
       "               [0., 0., 0., 0., 0., 0., 0., 0., 0.],\n",
       "               [0., 0., 0., 0., 0., 0., 0., 0., 0.],\n",
       "               [1., 1., 1., 1., 1., 1., 1., 1., 1.],\n",
       "               [0., 0., 0., 0., 0., 0., 0., 0., 0.]],\n",
       "\n",
       "              [[0., 0., 0., 0., 0., 0., 0., 0., 0.],\n",
       "               [0., 0., 0., 0., 0., 0., 0., 0., 0.],\n",
       "               [0., 0., 0., 0., 0., 0., 0., 0., 0.],\n",
       "               [0., 0., 0., 0., 0., 0., 0., 0., 0.],\n",
       "               [0., 0., 0., 0., 0., 0., 0., 0., 0.],\n",
       "               [0., 0., 0., 0., 0., 0., 0., 0., 0.],\n",
       "               [0., 0., 0., 0., 0., 0., 0., 0., 0.],\n",
       "               [0., 0., 0., 0., 0., 0., 0., 0., 0.],\n",
       "               [1., 1., 1., 1., 1., 1., 1., 1., 1.]]]),\n",
       "       array([[[1., 0., 0., 0., 0., 0., 0., 0., 0.],\n",
       "               [1., 0., 0., 0., 0., 0., 0., 0., 0.],\n",
       "               [1., 0., 0., 0., 0., 0., 0., 0., 0.],\n",
       "               [1., 0., 0., 0., 0., 0., 0., 0., 0.],\n",
       "               [1., 0., 0., 0., 0., 0., 0., 0., 0.],\n",
       "               [1., 0., 0., 0., 0., 0., 0., 0., 0.],\n",
       "               [1., 0., 0., 0., 0., 0., 0., 0., 0.],\n",
       "               [1., 0., 0., 0., 0., 0., 0., 0., 0.],\n",
       "               [1., 0., 0., 0., 0., 0., 0., 0., 0.]],\n",
       "\n",
       "              [[0., 1., 0., 0., 0., 0., 0., 0., 0.],\n",
       "               [0., 1., 0., 0., 0., 0., 0., 0., 0.],\n",
       "               [0., 1., 0., 0., 0., 0., 0., 0., 0.],\n",
       "               [0., 1., 0., 0., 0., 0., 0., 0., 0.],\n",
       "               [0., 1., 0., 0., 0., 0., 0., 0., 0.],\n",
       "               [0., 1., 0., 0., 0., 0., 0., 0., 0.],\n",
       "               [0., 1., 0., 0., 0., 0., 0., 0., 0.],\n",
       "               [0., 1., 0., 0., 0., 0., 0., 0., 0.],\n",
       "               [0., 1., 0., 0., 0., 0., 0., 0., 0.]],\n",
       "\n",
       "              [[0., 0., 1., 0., 0., 0., 0., 0., 0.],\n",
       "               [0., 0., 1., 0., 0., 0., 0., 0., 0.],\n",
       "               [0., 0., 1., 0., 0., 0., 0., 0., 0.],\n",
       "               [0., 0., 1., 0., 0., 0., 0., 0., 0.],\n",
       "               [0., 0., 1., 0., 0., 0., 0., 0., 0.],\n",
       "               [0., 0., 1., 0., 0., 0., 0., 0., 0.],\n",
       "               [0., 0., 1., 0., 0., 0., 0., 0., 0.],\n",
       "               [0., 0., 1., 0., 0., 0., 0., 0., 0.],\n",
       "               [0., 0., 1., 0., 0., 0., 0., 0., 0.]],\n",
       "\n",
       "              [[0., 0., 0., 1., 0., 0., 0., 0., 0.],\n",
       "               [0., 0., 0., 1., 0., 0., 0., 0., 0.],\n",
       "               [0., 0., 0., 1., 0., 0., 0., 0., 0.],\n",
       "               [0., 0., 0., 1., 0., 0., 0., 0., 0.],\n",
       "               [0., 0., 0., 1., 0., 0., 0., 0., 0.],\n",
       "               [0., 0., 0., 1., 0., 0., 0., 0., 0.],\n",
       "               [0., 0., 0., 1., 0., 0., 0., 0., 0.],\n",
       "               [0., 0., 0., 1., 0., 0., 0., 0., 0.],\n",
       "               [0., 0., 0., 1., 0., 0., 0., 0., 0.]],\n",
       "\n",
       "              [[0., 0., 0., 0., 1., 0., 0., 0., 0.],\n",
       "               [0., 0., 0., 0., 1., 0., 0., 0., 0.],\n",
       "               [0., 0., 0., 0., 1., 0., 0., 0., 0.],\n",
       "               [0., 0., 0., 0., 1., 0., 0., 0., 0.],\n",
       "               [0., 0., 0., 0., 1., 0., 0., 0., 0.],\n",
       "               [0., 0., 0., 0., 1., 0., 0., 0., 0.],\n",
       "               [0., 0., 0., 0., 1., 0., 0., 0., 0.],\n",
       "               [0., 0., 0., 0., 1., 0., 0., 0., 0.],\n",
       "               [0., 0., 0., 0., 1., 0., 0., 0., 0.]],\n",
       "\n",
       "              [[0., 0., 0., 0., 0., 1., 0., 0., 0.],\n",
       "               [0., 0., 0., 0., 0., 1., 0., 0., 0.],\n",
       "               [0., 0., 0., 0., 0., 1., 0., 0., 0.],\n",
       "               [0., 0., 0., 0., 0., 1., 0., 0., 0.],\n",
       "               [0., 0., 0., 0., 0., 1., 0., 0., 0.],\n",
       "               [0., 0., 0., 0., 0., 1., 0., 0., 0.],\n",
       "               [0., 0., 0., 0., 0., 1., 0., 0., 0.],\n",
       "               [0., 0., 0., 0., 0., 1., 0., 0., 0.],\n",
       "               [0., 0., 0., 0., 0., 1., 0., 0., 0.]],\n",
       "\n",
       "              [[0., 0., 0., 0., 0., 0., 1., 0., 0.],\n",
       "               [0., 0., 0., 0., 0., 0., 1., 0., 0.],\n",
       "               [0., 0., 0., 0., 0., 0., 1., 0., 0.],\n",
       "               [0., 0., 0., 0., 0., 0., 1., 0., 0.],\n",
       "               [0., 0., 0., 0., 0., 0., 1., 0., 0.],\n",
       "               [0., 0., 0., 0., 0., 0., 1., 0., 0.],\n",
       "               [0., 0., 0., 0., 0., 0., 1., 0., 0.],\n",
       "               [0., 0., 0., 0., 0., 0., 1., 0., 0.],\n",
       "               [0., 0., 0., 0., 0., 0., 1., 0., 0.]],\n",
       "\n",
       "              [[0., 0., 0., 0., 0., 0., 0., 1., 0.],\n",
       "               [0., 0., 0., 0., 0., 0., 0., 1., 0.],\n",
       "               [0., 0., 0., 0., 0., 0., 0., 1., 0.],\n",
       "               [0., 0., 0., 0., 0., 0., 0., 1., 0.],\n",
       "               [0., 0., 0., 0., 0., 0., 0., 1., 0.],\n",
       "               [0., 0., 0., 0., 0., 0., 0., 1., 0.],\n",
       "               [0., 0., 0., 0., 0., 0., 0., 1., 0.],\n",
       "               [0., 0., 0., 0., 0., 0., 0., 1., 0.],\n",
       "               [0., 0., 0., 0., 0., 0., 0., 1., 0.]],\n",
       "\n",
       "              [[0., 0., 0., 0., 0., 0., 0., 0., 1.],\n",
       "               [0., 0., 0., 0., 0., 0., 0., 0., 1.],\n",
       "               [0., 0., 0., 0., 0., 0., 0., 0., 1.],\n",
       "               [0., 0., 0., 0., 0., 0., 0., 0., 1.],\n",
       "               [0., 0., 0., 0., 0., 0., 0., 0., 1.],\n",
       "               [0., 0., 0., 0., 0., 0., 0., 0., 1.],\n",
       "               [0., 0., 0., 0., 0., 0., 0., 0., 1.],\n",
       "               [0., 0., 0., 0., 0., 0., 0., 0., 1.],\n",
       "               [0., 0., 0., 0., 0., 0., 0., 0., 1.]]])], dtype=object)"
      ]
     },
     "execution_count": 10,
     "metadata": {},
     "output_type": "execute_result"
    }
   ],
   "source": [
    "A"
   ]
  },
  {
   "cell_type": "markdown",
   "metadata": {},
   "source": [
    "## Construct the B matrix"
   ]
  },
  {
   "cell_type": "markdown",
   "metadata": {},
   "source": [
    "The B matrix should look exactly the same as in the single-agent case, because the position of the other agent, while an observation encoded in the A matrix, is not a controllable modality, hence there is no representation of its transition dynamics in the B matrix."
   ]
  },
  {
   "cell_type": "code",
   "execution_count": 11,
   "metadata": {},
   "outputs": [
    {
     "data": {
      "text/plain": [
       "[[9, 9, 5], [9, 9, 1]]"
      ]
     },
     "execution_count": 11,
     "metadata": {},
     "output_type": "execute_result"
    }
   ],
   "source": [
    "B_m_shapes = [[9, 9, 5], [9, 9, 1]]; B_m_shapes"
   ]
  },
  {
   "cell_type": "code",
   "execution_count": 12,
   "metadata": {},
   "outputs": [
    {
     "data": {
      "text/plain": [
       "array([array([[[0., 0., 0., 0., 0.],\n",
       "               [0., 0., 0., 0., 0.],\n",
       "               [0., 0., 0., 0., 0.],\n",
       "               [0., 0., 0., 0., 0.],\n",
       "               [0., 0., 0., 0., 0.],\n",
       "               [0., 0., 0., 0., 0.],\n",
       "               [0., 0., 0., 0., 0.],\n",
       "               [0., 0., 0., 0., 0.],\n",
       "               [0., 0., 0., 0., 0.]],\n",
       "\n",
       "              [[0., 0., 0., 0., 0.],\n",
       "               [0., 0., 0., 0., 0.],\n",
       "               [0., 0., 0., 0., 0.],\n",
       "               [0., 0., 0., 0., 0.],\n",
       "               [0., 0., 0., 0., 0.],\n",
       "               [0., 0., 0., 0., 0.],\n",
       "               [0., 0., 0., 0., 0.],\n",
       "               [0., 0., 0., 0., 0.],\n",
       "               [0., 0., 0., 0., 0.]],\n",
       "\n",
       "              [[0., 0., 0., 0., 0.],\n",
       "               [0., 0., 0., 0., 0.],\n",
       "               [0., 0., 0., 0., 0.],\n",
       "               [0., 0., 0., 0., 0.],\n",
       "               [0., 0., 0., 0., 0.],\n",
       "               [0., 0., 0., 0., 0.],\n",
       "               [0., 0., 0., 0., 0.],\n",
       "               [0., 0., 0., 0., 0.],\n",
       "               [0., 0., 0., 0., 0.]],\n",
       "\n",
       "              [[0., 0., 0., 0., 0.],\n",
       "               [0., 0., 0., 0., 0.],\n",
       "               [0., 0., 0., 0., 0.],\n",
       "               [0., 0., 0., 0., 0.],\n",
       "               [0., 0., 0., 0., 0.],\n",
       "               [0., 0., 0., 0., 0.],\n",
       "               [0., 0., 0., 0., 0.],\n",
       "               [0., 0., 0., 0., 0.],\n",
       "               [0., 0., 0., 0., 0.]],\n",
       "\n",
       "              [[0., 0., 0., 0., 0.],\n",
       "               [0., 0., 0., 0., 0.],\n",
       "               [0., 0., 0., 0., 0.],\n",
       "               [0., 0., 0., 0., 0.],\n",
       "               [0., 0., 0., 0., 0.],\n",
       "               [0., 0., 0., 0., 0.],\n",
       "               [0., 0., 0., 0., 0.],\n",
       "               [0., 0., 0., 0., 0.],\n",
       "               [0., 0., 0., 0., 0.]],\n",
       "\n",
       "              [[0., 0., 0., 0., 0.],\n",
       "               [0., 0., 0., 0., 0.],\n",
       "               [0., 0., 0., 0., 0.],\n",
       "               [0., 0., 0., 0., 0.],\n",
       "               [0., 0., 0., 0., 0.],\n",
       "               [0., 0., 0., 0., 0.],\n",
       "               [0., 0., 0., 0., 0.],\n",
       "               [0., 0., 0., 0., 0.],\n",
       "               [0., 0., 0., 0., 0.]],\n",
       "\n",
       "              [[0., 0., 0., 0., 0.],\n",
       "               [0., 0., 0., 0., 0.],\n",
       "               [0., 0., 0., 0., 0.],\n",
       "               [0., 0., 0., 0., 0.],\n",
       "               [0., 0., 0., 0., 0.],\n",
       "               [0., 0., 0., 0., 0.],\n",
       "               [0., 0., 0., 0., 0.],\n",
       "               [0., 0., 0., 0., 0.],\n",
       "               [0., 0., 0., 0., 0.]],\n",
       "\n",
       "              [[0., 0., 0., 0., 0.],\n",
       "               [0., 0., 0., 0., 0.],\n",
       "               [0., 0., 0., 0., 0.],\n",
       "               [0., 0., 0., 0., 0.],\n",
       "               [0., 0., 0., 0., 0.],\n",
       "               [0., 0., 0., 0., 0.],\n",
       "               [0., 0., 0., 0., 0.],\n",
       "               [0., 0., 0., 0., 0.],\n",
       "               [0., 0., 0., 0., 0.]],\n",
       "\n",
       "              [[0., 0., 0., 0., 0.],\n",
       "               [0., 0., 0., 0., 0.],\n",
       "               [0., 0., 0., 0., 0.],\n",
       "               [0., 0., 0., 0., 0.],\n",
       "               [0., 0., 0., 0., 0.],\n",
       "               [0., 0., 0., 0., 0.],\n",
       "               [0., 0., 0., 0., 0.],\n",
       "               [0., 0., 0., 0., 0.],\n",
       "               [0., 0., 0., 0., 0.]]]), array([[[0.],\n",
       "                                                [0.],\n",
       "                                                [0.],\n",
       "                                                [0.],\n",
       "                                                [0.],\n",
       "                                                [0.],\n",
       "                                                [0.],\n",
       "                                                [0.],\n",
       "                                                [0.]],\n",
       "\n",
       "                                               [[0.],\n",
       "                                                [0.],\n",
       "                                                [0.],\n",
       "                                                [0.],\n",
       "                                                [0.],\n",
       "                                                [0.],\n",
       "                                                [0.],\n",
       "                                                [0.],\n",
       "                                                [0.]],\n",
       "\n",
       "                                               [[0.],\n",
       "                                                [0.],\n",
       "                                                [0.],\n",
       "                                                [0.],\n",
       "                                                [0.],\n",
       "                                                [0.],\n",
       "                                                [0.],\n",
       "                                                [0.],\n",
       "                                                [0.]],\n",
       "\n",
       "                                               [[0.],\n",
       "                                                [0.],\n",
       "                                                [0.],\n",
       "                                                [0.],\n",
       "                                                [0.],\n",
       "                                                [0.],\n",
       "                                                [0.],\n",
       "                                                [0.],\n",
       "                                                [0.]],\n",
       "\n",
       "                                               [[0.],\n",
       "                                                [0.],\n",
       "                                                [0.],\n",
       "                                                [0.],\n",
       "                                                [0.],\n",
       "                                                [0.],\n",
       "                                                [0.],\n",
       "                                                [0.],\n",
       "                                                [0.]],\n",
       "\n",
       "                                               [[0.],\n",
       "                                                [0.],\n",
       "                                                [0.],\n",
       "                                                [0.],\n",
       "                                                [0.],\n",
       "                                                [0.],\n",
       "                                                [0.],\n",
       "                                                [0.],\n",
       "                                                [0.]],\n",
       "\n",
       "                                               [[0.],\n",
       "                                                [0.],\n",
       "                                                [0.],\n",
       "                                                [0.],\n",
       "                                                [0.],\n",
       "                                                [0.],\n",
       "                                                [0.],\n",
       "                                                [0.],\n",
       "                                                [0.]],\n",
       "\n",
       "                                               [[0.],\n",
       "                                                [0.],\n",
       "                                                [0.],\n",
       "                                                [0.],\n",
       "                                                [0.],\n",
       "                                                [0.],\n",
       "                                                [0.],\n",
       "                                                [0.],\n",
       "                                                [0.]],\n",
       "\n",
       "                                               [[0.],\n",
       "                                                [0.],\n",
       "                                                [0.],\n",
       "                                                [0.],\n",
       "                                                [0.],\n",
       "                                                [0.],\n",
       "                                                [0.],\n",
       "                                                [0.],\n",
       "                                                [0.]]])], dtype=object)"
      ]
     },
     "execution_count": 12,
     "metadata": {},
     "output_type": "execute_result"
    }
   ],
   "source": [
    "B = utils.obj_array_zeros(B_m_shapes); B"
   ]
  },
  {
   "cell_type": "code",
   "execution_count": 13,
   "metadata": {},
   "outputs": [],
   "source": [
    "actions = [\"UP\", \"DOWN\", \"LEFT\", \"RIGHT\", \"STAY\"]\n",
    "\n",
    "for action_id, action_label in enumerate(actions):\n",
    "\n",
    "    for curr_state, grid_location in enumerate(grid_locations):\n",
    "\n",
    "      y, x = grid_location\n",
    "\n",
    "      if action_label == \"UP\":\n",
    "        next_y = y - 1 if y > 0 else y \n",
    "        next_x = x\n",
    "      elif action_label == \"DOWN\":\n",
    "        next_y = y + 1 if y < 2 else y \n",
    "        next_x = x\n",
    "      elif action_label == \"LEFT\":\n",
    "        next_x = x - 1 if x > 0 else x \n",
    "        next_y = y\n",
    "      elif action_label == \"RIGHT\":\n",
    "        next_x = x + 1 if x < 2 else x \n",
    "        next_y = y\n",
    "      elif action_label == \"STAY\":\n",
    "        next_x = x\n",
    "        next_y = y\n",
    "      new_location = (next_y, next_x)\n",
    "      next_state = grid_locations.index(new_location)\n",
    "      B[0][next_state, curr_state, action_id] = 1.0"
   ]
  },
  {
   "cell_type": "code",
   "execution_count": 14,
   "metadata": {},
   "outputs": [
    {
     "name": "stdout",
     "output_type": "stream",
     "text": [
      "[[1.]\n",
      " [1.]\n",
      " [1.]\n",
      " [1.]\n",
      " [1.]\n",
      " [1.]\n",
      " [1.]\n",
      " [1.]\n",
      " [1.]]\n"
     ]
    }
   ],
   "source": [
    "for i in range(0, 9):\n",
    "    B[1][i, i] = 1.0\n",
    "print(B[1].sum(axis=0))"
   ]
  },
  {
   "cell_type": "code",
   "execution_count": 15,
   "metadata": {},
   "outputs": [
    {
     "data": {
      "text/plain": [
       "(2,)"
      ]
     },
     "execution_count": 15,
     "metadata": {},
     "output_type": "execute_result"
    }
   ],
   "source": [
    "B.shape"
   ]
  },
  {
   "cell_type": "code",
   "execution_count": 16,
   "metadata": {},
   "outputs": [
    {
     "data": {
      "text/plain": [
       "array([array([[[1., 0., 1., 0., 1.],\n",
       "               [0., 0., 1., 0., 0.],\n",
       "               [0., 0., 0., 0., 0.],\n",
       "               [1., 0., 0., 0., 0.],\n",
       "               [0., 0., 0., 0., 0.],\n",
       "               [0., 0., 0., 0., 0.],\n",
       "               [0., 0., 0., 0., 0.],\n",
       "               [0., 0., 0., 0., 0.],\n",
       "               [0., 0., 0., 0., 0.]],\n",
       "\n",
       "              [[0., 0., 0., 1., 0.],\n",
       "               [1., 0., 0., 0., 1.],\n",
       "               [0., 0., 1., 0., 0.],\n",
       "               [0., 0., 0., 0., 0.],\n",
       "               [1., 0., 0., 0., 0.],\n",
       "               [0., 0., 0., 0., 0.],\n",
       "               [0., 0., 0., 0., 0.],\n",
       "               [0., 0., 0., 0., 0.],\n",
       "               [0., 0., 0., 0., 0.]],\n",
       "\n",
       "              [[0., 0., 0., 0., 0.],\n",
       "               [0., 0., 0., 1., 0.],\n",
       "               [1., 0., 0., 1., 1.],\n",
       "               [0., 0., 0., 0., 0.],\n",
       "               [0., 0., 0., 0., 0.],\n",
       "               [1., 0., 0., 0., 0.],\n",
       "               [0., 0., 0., 0., 0.],\n",
       "               [0., 0., 0., 0., 0.],\n",
       "               [0., 0., 0., 0., 0.]],\n",
       "\n",
       "              [[0., 1., 0., 0., 0.],\n",
       "               [0., 0., 0., 0., 0.],\n",
       "               [0., 0., 0., 0., 0.],\n",
       "               [0., 0., 1., 0., 1.],\n",
       "               [0., 0., 1., 0., 0.],\n",
       "               [0., 0., 0., 0., 0.],\n",
       "               [1., 0., 0., 0., 0.],\n",
       "               [0., 0., 0., 0., 0.],\n",
       "               [0., 0., 0., 0., 0.]],\n",
       "\n",
       "              [[0., 0., 0., 0., 0.],\n",
       "               [0., 1., 0., 0., 0.],\n",
       "               [0., 0., 0., 0., 0.],\n",
       "               [0., 0., 0., 1., 0.],\n",
       "               [0., 0., 0., 0., 1.],\n",
       "               [0., 0., 1., 0., 0.],\n",
       "               [0., 0., 0., 0., 0.],\n",
       "               [1., 0., 0., 0., 0.],\n",
       "               [0., 0., 0., 0., 0.]],\n",
       "\n",
       "              [[0., 0., 0., 0., 0.],\n",
       "               [0., 0., 0., 0., 0.],\n",
       "               [0., 1., 0., 0., 0.],\n",
       "               [0., 0., 0., 0., 0.],\n",
       "               [0., 0., 0., 1., 0.],\n",
       "               [0., 0., 0., 1., 1.],\n",
       "               [0., 0., 0., 0., 0.],\n",
       "               [0., 0., 0., 0., 0.],\n",
       "               [1., 0., 0., 0., 0.]],\n",
       "\n",
       "              [[0., 0., 0., 0., 0.],\n",
       "               [0., 0., 0., 0., 0.],\n",
       "               [0., 0., 0., 0., 0.],\n",
       "               [0., 1., 0., 0., 0.],\n",
       "               [0., 0., 0., 0., 0.],\n",
       "               [0., 0., 0., 0., 0.],\n",
       "               [0., 1., 1., 0., 1.],\n",
       "               [0., 0., 1., 0., 0.],\n",
       "               [0., 0., 0., 0., 0.]],\n",
       "\n",
       "              [[0., 0., 0., 0., 0.],\n",
       "               [0., 0., 0., 0., 0.],\n",
       "               [0., 0., 0., 0., 0.],\n",
       "               [0., 0., 0., 0., 0.],\n",
       "               [0., 1., 0., 0., 0.],\n",
       "               [0., 0., 0., 0., 0.],\n",
       "               [0., 0., 0., 1., 0.],\n",
       "               [0., 1., 0., 0., 1.],\n",
       "               [0., 0., 1., 0., 0.]],\n",
       "\n",
       "              [[0., 0., 0., 0., 0.],\n",
       "               [0., 0., 0., 0., 0.],\n",
       "               [0., 0., 0., 0., 0.],\n",
       "               [0., 0., 0., 0., 0.],\n",
       "               [0., 0., 0., 0., 0.],\n",
       "               [0., 1., 0., 0., 0.],\n",
       "               [0., 0., 0., 0., 0.],\n",
       "               [0., 0., 0., 1., 0.],\n",
       "               [0., 1., 0., 1., 1.]]]), array([[[1.],\n",
       "                                                [0.],\n",
       "                                                [0.],\n",
       "                                                [0.],\n",
       "                                                [0.],\n",
       "                                                [0.],\n",
       "                                                [0.],\n",
       "                                                [0.],\n",
       "                                                [0.]],\n",
       "\n",
       "                                               [[0.],\n",
       "                                                [1.],\n",
       "                                                [0.],\n",
       "                                                [0.],\n",
       "                                                [0.],\n",
       "                                                [0.],\n",
       "                                                [0.],\n",
       "                                                [0.],\n",
       "                                                [0.]],\n",
       "\n",
       "                                               [[0.],\n",
       "                                                [0.],\n",
       "                                                [1.],\n",
       "                                                [0.],\n",
       "                                                [0.],\n",
       "                                                [0.],\n",
       "                                                [0.],\n",
       "                                                [0.],\n",
       "                                                [0.]],\n",
       "\n",
       "                                               [[0.],\n",
       "                                                [0.],\n",
       "                                                [0.],\n",
       "                                                [1.],\n",
       "                                                [0.],\n",
       "                                                [0.],\n",
       "                                                [0.],\n",
       "                                                [0.],\n",
       "                                                [0.]],\n",
       "\n",
       "                                               [[0.],\n",
       "                                                [0.],\n",
       "                                                [0.],\n",
       "                                                [0.],\n",
       "                                                [1.],\n",
       "                                                [0.],\n",
       "                                                [0.],\n",
       "                                                [0.],\n",
       "                                                [0.]],\n",
       "\n",
       "                                               [[0.],\n",
       "                                                [0.],\n",
       "                                                [0.],\n",
       "                                                [0.],\n",
       "                                                [0.],\n",
       "                                                [1.],\n",
       "                                                [0.],\n",
       "                                                [0.],\n",
       "                                                [0.]],\n",
       "\n",
       "                                               [[0.],\n",
       "                                                [0.],\n",
       "                                                [0.],\n",
       "                                                [0.],\n",
       "                                                [0.],\n",
       "                                                [0.],\n",
       "                                                [1.],\n",
       "                                                [0.],\n",
       "                                                [0.]],\n",
       "\n",
       "                                               [[0.],\n",
       "                                                [0.],\n",
       "                                                [0.],\n",
       "                                                [0.],\n",
       "                                                [0.],\n",
       "                                                [0.],\n",
       "                                                [0.],\n",
       "                                                [1.],\n",
       "                                                [0.]],\n",
       "\n",
       "                                               [[0.],\n",
       "                                                [0.],\n",
       "                                                [0.],\n",
       "                                                [0.],\n",
       "                                                [0.],\n",
       "                                                [0.],\n",
       "                                                [0.],\n",
       "                                                [0.],\n",
       "                                                [1.]]])], dtype=object)"
      ]
     },
     "execution_count": 16,
     "metadata": {},
     "output_type": "execute_result"
    }
   ],
   "source": [
    "B"
   ]
  },
  {
   "cell_type": "markdown",
   "metadata": {},
   "source": [
    "## Construct the C matrix"
   ]
  },
  {
   "cell_type": "markdown",
   "metadata": {},
   "source": [
    "C encodes the preferred state of the agent, i.e. the location the agent is trying to reach.\n",
    "\n",
    "This is where we need to consider the two C matrices for the individual agents, since they're going to differ from each other depending on the preferred location they're trying to reach.\n",
    "\n",
    "In this case of a 3x3 grid world, let's say the first agent wants to reach location (2, 2), i.e. location 8 (Note: the starting index is 0), and the second agent wants to reach location (1, 0), i.e. location 3 in the above visualization.\n",
    "\n",
    "We encode the C matrix as a one-hot vector, where 1 is placed at the index of the preferred location (0s otherwise)."
   ]
  },
  {
   "cell_type": "markdown",
   "metadata": {},
   "source": [
    "Note: we also define a helper function for creating a flat distribution denoting no preference over the second observation modality (i.e. the state of the *other* agent). Later, we're going to use the pymdp `Agent` class which requires the shape of C to match the number of observation modalities."
   ]
  },
  {
   "cell_type": "code",
   "execution_count": 17,
   "metadata": {},
   "outputs": [],
   "source": [
    "def create_flat_dist(num_values):\n",
    "    arr = np.zeros(num_values)\n",
    "    for i, _ in enumerate(arr):\n",
    "        arr[i] = 1.0 / num_values\n",
    "    return arr"
   ]
  },
  {
   "cell_type": "markdown",
   "metadata": {},
   "source": [
    "We define the shape of the C matrix in the same way we did the A matrix."
   ]
  },
  {
   "cell_type": "code",
   "execution_count": 18,
   "metadata": {},
   "outputs": [],
   "source": [
    "C_m_shapes = [[9], [9]]"
   ]
  },
  {
   "cell_type": "code",
   "execution_count": 19,
   "metadata": {},
   "outputs": [
    {
     "data": {
      "text/plain": [
       "array([array([0., 0., 0., 0., 0., 0., 0., 0., 0.]),\n",
       "       array([0., 0., 0., 0., 0., 0., 0., 0., 0.])], dtype=object)"
      ]
     },
     "execution_count": 19,
     "metadata": {},
     "output_type": "execute_result"
    }
   ],
   "source": [
    "C = utils.obj_array_zeros(C_m_shapes); C"
   ]
  },
  {
   "cell_type": "code",
   "execution_count": 20,
   "metadata": {},
   "outputs": [],
   "source": [
    "agent1_C = deepcopy(C)"
   ]
  },
  {
   "cell_type": "code",
   "execution_count": 21,
   "metadata": {},
   "outputs": [
    {
     "data": {
      "text/plain": [
       "array([0., 0., 0., 0., 0., 0., 0., 0., 1.])"
      ]
     },
     "execution_count": 21,
     "metadata": {},
     "output_type": "execute_result"
    }
   ],
   "source": [
    "agent1_C[0] = utils.onehot(8, num_grid_points); agent1_C[0]"
   ]
  },
  {
   "cell_type": "code",
   "execution_count": 22,
   "metadata": {},
   "outputs": [
    {
     "data": {
      "text/plain": [
       "array([0.11111111, 0.11111111, 0.11111111, 0.11111111, 0.11111111,\n",
       "       0.11111111, 0.11111111, 0.11111111, 0.11111111])"
      ]
     },
     "execution_count": 22,
     "metadata": {},
     "output_type": "execute_result"
    }
   ],
   "source": [
    "agent1_C[1] = create_flat_dist(num_grid_points); agent1_C[1]"
   ]
  },
  {
   "cell_type": "code",
   "execution_count": 23,
   "metadata": {},
   "outputs": [
    {
     "name": "stdout",
     "output_type": "stream",
     "text": [
      "Agent 1 C matrix: [array([0., 0., 0., 0., 0., 0., 0., 0., 1.])\n",
      " array([0.11111111, 0.11111111, 0.11111111, 0.11111111, 0.11111111,\n",
      "        0.11111111, 0.11111111, 0.11111111, 0.11111111])           ]\n"
     ]
    }
   ],
   "source": [
    "print(f'Agent 1 C matrix: {agent1_C}')"
   ]
  },
  {
   "cell_type": "markdown",
   "metadata": {},
   "source": [
    "Now we define the second agent's C matrix in an equivalent way."
   ]
  },
  {
   "cell_type": "code",
   "execution_count": 24,
   "metadata": {},
   "outputs": [
    {
     "name": "stdout",
     "output_type": "stream",
     "text": [
      "Agent 2 C matrix: [array([0., 0., 0., 1., 0., 0., 0., 0., 0.])\n",
      " array([0.11111111, 0.11111111, 0.11111111, 0.11111111, 0.11111111,\n",
      "        0.11111111, 0.11111111, 0.11111111, 0.11111111])           ]\n"
     ]
    }
   ],
   "source": [
    "agent2_C = deepcopy(C)\n",
    "agent2_C[0] = utils.onehot(3, num_grid_points)\n",
    "agent2_C[1] = create_flat_dist(num_grid_points)\n",
    "\n",
    "print(f'Agent 2 C matrix: {agent2_C}')"
   ]
  },
  {
   "cell_type": "markdown",
   "metadata": {},
   "source": [
    "## Construct the D matrix"
   ]
  },
  {
   "cell_type": "markdown",
   "metadata": {},
   "source": [
    "The D matrix encodes the prior belief about where the state of the grid world, including the position of the first agent and the second agent. Much like the C matrix, we need to create 2 such objects for each of the agents.\n",
    "\n",
    "Let's say the first agent starts in location (0, 0), index 0, and the second in location (2, 1), index 7."
   ]
  },
  {
   "cell_type": "code",
   "execution_count": 25,
   "metadata": {},
   "outputs": [
    {
     "name": "stdout",
     "output_type": "stream",
     "text": [
      "Agent 1 D matrix: [array([1., 0., 0., 0., 0., 0., 0., 0., 0.])\n",
      " array([0., 0., 0., 0., 0., 0., 0., 1., 0.])]\n",
      "Agent 2 D matrix: [array([0., 0., 0., 0., 0., 0., 0., 1., 0.])\n",
      " array([1., 0., 0., 0., 0., 0., 0., 0., 0.])]\n"
     ]
    }
   ],
   "source": [
    "agent1_D = utils.obj_array(2)\n",
    "\n",
    "agent1_D[0] = utils.onehot(0, 9)\n",
    "agent1_D[1] = utils.onehot(7, 9)\n",
    "print(f'Agent 1 D matrix: {agent1_D}')\n",
    "\n",
    "agent2_D = utils.obj_array(2)\n",
    "\n",
    "agent2_D[0] = utils.onehot(7, 9)\n",
    "agent2_D[1] = utils.onehot(0, 9)\n",
    "print(f'Agent 2 D matrix: {agent2_D}')"
   ]
  },
  {
   "cell_type": "markdown",
   "metadata": {},
   "source": [
    "## Construct the E matrix (optional)"
   ]
  },
  {
   "cell_type": "markdown",
   "metadata": {},
   "source": [
    "We've already defined the E matrix when we were initializing the B matrix, it only consists of the actions available to the agents.\n",
    "\n",
    "The E vector is in terms of policies, not actions, so its size will depend on the length of planning we want the agent to undertake.\n",
    "\n",
    "**Note**: We don't need to create the E matrix ourselves unless we want to specify the prior on specific policies, the `Agent` class in pymdp will initialize the E matrix for us (with a uniform distribution, i.e. each policy is equally likely)."
   ]
  },
  {
   "cell_type": "code",
   "execution_count": 26,
   "metadata": {},
   "outputs": [],
   "source": [
    "from pymdp.control import construct_policies"
   ]
  },
  {
   "cell_type": "code",
   "execution_count": 27,
   "metadata": {},
   "outputs": [
    {
     "name": "stdout",
     "output_type": "stream",
     "text": [
      "Length of E_1 is 5\n",
      "Length of E_2 is 25\n",
      "Length of E_3 is 125\n",
      "Length of E_4 is 625\n"
     ]
    }
   ],
   "source": [
    "policies_1 = construct_policies(num_states, num_controls=[5, 1], policy_len=1)\n",
    "print(f'Length of E_1 is {len(E_1)}')\n",
    "policies_2 = construct_policies(num_states, num_controls=[5, 1], policy_len=2)\n",
    "print(f'Length of E_2 is {len(E_2)}')\n",
    "policies_3 = construct_policies(num_states, num_controls=[5, 1], policy_len=3)\n",
    "print(f'Length of E_3 is {len(E_3)}')\n",
    "policies_4 = construct_policies(num_states, num_controls=[5, 1], policy_len=4)\n",
    "print(f'Length of E_4 is {len(E_4)}')"
   ]
  },
  {
   "cell_type": "markdown",
   "metadata": {},
   "source": [
    "## Construct the two Agents"
   ]
  },
  {
   "cell_type": "markdown",
   "metadata": {},
   "source": [
    "Now that we've defined all the components for our two agents, initializing them is taken care of by the pymdp `Agent` class."
   ]
  },
  {
   "cell_type": "code",
   "execution_count": 28,
   "metadata": {},
   "outputs": [],
   "source": [
    "from pymdp.agent import Agent"
   ]
  },
  {
   "cell_type": "code",
   "execution_count": 29,
   "metadata": {},
   "outputs": [],
   "source": [
    "agent1 = Agent(A=deepcopy(A), B=deepcopy(B), C=agent1_C, D=agent1_D, policy_len=4)\n",
    "agent2 = Agent(A=deepcopy(A), B=deepcopy(B), C=agent2_C, D=agent2_D, policy_len=4)"
   ]
  },
  {
   "cell_type": "markdown",
   "metadata": {},
   "source": [
    "## Prepare the environment instance\n",
    "\n",
    "For this we import the `TwoMultiGridAgent` class from `blockference.envs`."
   ]
  },
  {
   "cell_type": "code",
   "execution_count": 55,
   "metadata": {},
   "outputs": [
    {
     "name": "stdout",
     "output_type": "stream",
     "text": [
      "pos_dict is {0: (0, 0), 1: (0, 1), 2: (0, 2), 3: (1, 0), 4: (1, 1), 5: (1, 2), 6: (2, 0), 7: (2, 1), 8: (2, 2)}\n"
     ]
    }
   ],
   "source": [
    "from blockference.envs.grid_env_multi import TwoMultiGridAgent\n",
    "\n",
    "env = TwoMultiGridAgent(grid_len=3, grid_dim=2, agents=[agent1, agent2])"
   ]
  },
  {
   "cell_type": "markdown",
   "metadata": {},
   "source": [
    "## Initialize the initial observation of the agents\n",
    "\n",
    "In this case, we'll have the environment generate the same observation as the agent's prior beliefs (encoded in the D vector).\n",
    "\n",
    "This means `agent1` will receive the observation that it is in location 0 and the other agent is in location 7, whereas `agent2` will receive the observation that it is in location 7 and the other agent (`agent1`) is in location 0."
   ]
  },
  {
   "cell_type": "code",
   "execution_count": 56,
   "metadata": {},
   "outputs": [
    {
     "name": "stdout",
     "output_type": "stream",
     "text": [
      "Agent1 observation: [array([1, 0, 0, 0, 0, 0, 0, 0, 0]) array([0, 0, 0, 0, 0, 0, 0, 1, 0])]\n",
      "Agent2 observation: [array([0, 0, 0, 0, 0, 0, 0, 1, 0]) array([1, 0, 0, 0, 0, 0, 0, 0, 0])]\n"
     ]
    }
   ],
   "source": [
    "agent1_init_obs = deepcopy(agent1.D)\n",
    "agent2_init_obs = deepcopy(agent2.D)\n",
    "\n",
    "# here we just change the elements of the subarrays to integers instead of floats (it's a pymdp requirement)\n",
    "for i in range(2):\n",
    "    agent1_init_obs[i] = agent1_init_obs[i].astype(int)\n",
    "    agent2_init_obs[i] = agent2_init_obs[i].astype(int)\n",
    "\n",
    "print(f\"Agent1 observation: {agent1_init_obs}\")\n",
    "print(f\"Agent2 observation: {agent2_init_obs}\")"
   ]
  },
  {
   "cell_type": "markdown",
   "metadata": {},
   "source": [
    "## Sanity check: 1-T active inference loop"
   ]
  },
  {
   "cell_type": "code",
   "execution_count": 57,
   "metadata": {},
   "outputs": [
    {
     "data": {
      "text/plain": [
       "['UP', 'DOWN', 'LEFT', 'RIGHT', 'STAY']"
      ]
     },
     "execution_count": 57,
     "metadata": {},
     "output_type": "execute_result"
    }
   ],
   "source": [
    "affordances = [\"UP\", \"DOWN\", \"LEFT\", \"RIGHT\", \"STAY\"]; affordances"
   ]
  },
  {
   "cell_type": "code",
   "execution_count": 58,
   "metadata": {},
   "outputs": [
    {
     "name": "stdout",
     "output_type": "stream",
     "text": [
      "Obs: [array([1, 0, 0, 0, 0, 0, 0, 0, 0]) array([0, 0, 0, 0, 0, 0, 0, 1, 0])]\n",
      "[1. 0.]\n",
      "Obs: [array([0, 0, 0, 0, 0, 0, 0, 1, 0]) array([1, 0, 0, 0, 0, 0, 0, 0, 0])]\n",
      "[4. 0.]\n"
     ]
    }
   ],
   "source": [
    "observations = [agent1_init_obs, agent2_init_obs]\n",
    "actions = []\n",
    "word_actions = []\n",
    "\n",
    "for idx, agent in enumerate([agent1, agent2]):\n",
    "    obs = observations[idx]\n",
    "    print(f\"Obs: {obs}\")\n",
    "    qx = agent.infer_states(obs)\n",
    "\n",
    "    q_pi, efe = agent.infer_policies()\n",
    "\n",
    "    action = agent.sample_action()\n",
    "    print(action)\n",
    "    word_actions.append(affordances[int(action[0])])\n",
    "    actions.append(action)"
   ]
  },
  {
   "cell_type": "code",
   "execution_count": 59,
   "metadata": {},
   "outputs": [
    {
     "data": {
      "text/plain": [
       "['DOWN', 'STAY']"
      ]
     },
     "execution_count": 59,
     "metadata": {},
     "output_type": "execute_result"
    }
   ],
   "source": [
    "word_actions"
   ]
  },
  {
   "cell_type": "markdown",
   "metadata": {},
   "source": [
    "## Prepare cadCAD simulation"
   ]
  },
  {
   "cell_type": "markdown",
   "metadata": {},
   "source": [
    "### Initializing the cadCAD simulation components\n",
    "\n",
    "We need to specify the initial state, the simulation parameters (we won't need those now), the policy functions (not to be confused with active inference policies), and the state update functions."
   ]
  },
  {
   "cell_type": "code",
   "execution_count": 60,
   "metadata": {},
   "outputs": [],
   "source": [
    "initial_state = {\n",
    "    'agent1': agent1,\n",
    "    'agent2': agent2,\n",
    "    'env': env,\n",
    "    'obs': [agent1_init_obs, agent2_init_obs],\n",
    "    'locations': env.states,\n",
    "    'actions': [None, None]\n",
    "}"
   ]
  },
  {
   "cell_type": "code",
   "execution_count": 61,
   "metadata": {},
   "outputs": [],
   "source": [
    "params = {\n",
    "}"
   ]
  },
  {
   "cell_type": "markdown",
   "metadata": {},
   "source": [
    "Policy functions"
   ]
  },
  {
   "cell_type": "code",
   "execution_count": 62,
   "metadata": {},
   "outputs": [],
   "source": [
    "def p_actinf(params, substep, state_history, previous_state):\n",
    "    actions = []\n",
    "    word_actions = []\n",
    "    for idx, agent in enumerate([previous_state['agent1'], previous_state['agent2']]):\n",
    "\n",
    "        # if previous_state['obs'] != '':\n",
    "        #     [x, y] = agent.D\n",
    "        #     obs_v = [utils.onehot([x, y][i], num_grid_points) for i, _ in enumerate([x, y])]\n",
    "        # else:\n",
    "        #     [x, y] = previous_state['obs']\n",
    "        #     obs_v = [utils.onehot([x, y][i], num_grid_points) for i, _ in enumerate([x, y])]\n",
    "\n",
    "        # obs = obs_v[idx]\n",
    "        obs = previous_state['obs'][idx]\n",
    "        print(f\"Obs: {obs}\")\n",
    "        qx = agent.infer_states(obs) # Note: the agent still has access to agent.D which has wrong dimensions! -> change to same as obs!\n",
    "\n",
    "        # q_pi, efe = agent.infer_policies()\n",
    "\n",
    "        action = agent.sample_action()\n",
    "        word_actions.append(affordances[int(action[0])])\n",
    "        actions.append(action)\n",
    "\n",
    "    return {'update_actions': actions,\n",
    "            'update_word_actions': word_actions}"
   ]
  },
  {
   "cell_type": "markdown",
   "metadata": {},
   "source": [
    "State-update functions"
   ]
  },
  {
   "cell_type": "code",
   "execution_count": 63,
   "metadata": {},
   "outputs": [],
   "source": [
    "def s_obs(params, substep, state_history, previous_state, policy_input):\n",
    "    updated_obs = previous_state['env'].step(policy_input['update_actions'])\n",
    "    return 'obs', updated_obs\n",
    "\n",
    "def s_act(params, substep, state_history, previous_state, policy_input):\n",
    "    return 'actions', policy_input['update_word_actions']"
   ]
  },
  {
   "cell_type": "markdown",
   "metadata": {},
   "source": [
    "### Putting it all together\n",
    "\n",
    "Now we connect out policies and state-update functions in the so called \"state update blocks\". This allows us to compose different components of the simulation either in series or in parallel. In future work, we can explore how we can decompose the generative model and the message passing schemes within the state update blocks. There's also interesting work to be done in composing general multi-agent simulations (Do agents take actions in series or in parallel? How does that change the behavior of the system?)."
   ]
  },
  {
   "cell_type": "code",
   "execution_count": 64,
   "metadata": {},
   "outputs": [],
   "source": [
    "state_update_blocks = [\n",
    "    {\n",
    "        'policies': {\n",
    "            'p_actinf': p_actinf\n",
    "        },\n",
    "        'variables': {\n",
    "            'obs': s_obs,\n",
    "            'actions': s_act,\n",
    "            'locations': s_obs,\n",
    "        }\n",
    "    }\n",
    "]"
   ]
  },
  {
   "cell_type": "code",
   "execution_count": 65,
   "metadata": {},
   "outputs": [],
   "source": [
    "from radcad import Model, Simulation\n",
    "\n",
    "model = Model(\n",
    "    # Model initial state\n",
    "    initial_state=initial_state,\n",
    "    # Model Partial State Update Blocks\n",
    "    state_update_blocks=state_update_blocks,\n",
    "    # System Parameters\n",
    "    params=params\n",
    ")\n",
    "\n",
    "simulation = Simulation(\n",
    "    model=model,\n",
    "    timesteps=20,  # Number of timesteps\n",
    "    runs=1  # Number of Monte Carlo Runs\n",
    ")"
   ]
  },
  {
   "cell_type": "code",
   "execution_count": 66,
   "metadata": {
    "tags": []
   },
   "outputs": [
    {
     "name": "stdout",
     "output_type": "stream",
     "text": [
      "Obs: [array([1, 0, 0, 0, 0, 0, 0, 0, 0]) array([0, 0, 0, 0, 0, 0, 0, 1, 0])]\n",
      "Obs: [array([0, 0, 0, 0, 0, 0, 0, 1, 0]) array([1, 0, 0, 0, 0, 0, 0, 0, 0])]\n",
      "Traceback (most recent call last):\n",
      "  File \"/Users/jakub/miniconda3/envs/block/lib/python3.8/site-packages/radcad/core.py\", line 99, in single_run\n",
      "    _single_run(\n",
      "  File \"/Users/jakub/miniconda3/envs/block/lib/python3.8/site-packages/radcad/core.py\", line 75, in _single_run\n",
      "    substate.update(updated_state)\n",
      "  File \"/Users/jakub/miniconda3/envs/block/lib/python3.8/site-packages/radcad/core.py\", line 12, in _update_state\n",
      "    state_key, state_value = function(\n",
      "  File \"/var/folders/vc/5b_s57r96czcz93nfrdkmhwc0000gn/T/ipykernel_1482/4257772430.py\", line 2, in s_obs\n",
      "    updated_obs = previous_state['env'].step(policy_input['update_actions'])\n",
      "  File \"../../blockference/envs/grid_env_multi.py\", line 144, in step\n",
      "    if new_agent_state == other_agent_state:\n",
      "ValueError: The truth value of an array with more than one element is ambiguous. Use a.any() or a.all()\n",
      "\n"
     ]
    },
    {
     "name": "stderr",
     "output_type": "stream",
     "text": [
      "WARNING:root:Simulation 0 / run 0 / subset 0 failed! Returning partial results if Engine.raise_exceptions == False.\n"
     ]
    },
    {
     "ename": "ValueError",
     "evalue": "The truth value of an array with more than one element is ambiguous. Use a.any() or a.all()",
     "output_type": "error",
     "traceback": [
      "\u001b[0;31m---------------------------------------------------------------------------\u001b[0m",
      "\u001b[0;31mRemoteTraceback\u001b[0m                           Traceback (most recent call last)",
      "\u001b[0;31mRemoteTraceback\u001b[0m: \n\"\"\"\nTraceback (most recent call last):\n  File \"/Users/jakub/miniconda3/envs/block/lib/python3.8/site-packages/multiprocess/pool.py\", line 125, in worker\n    result = (True, func(*args, **kwds))\n  File \"/Users/jakub/miniconda3/envs/block/lib/python3.8/site-packages/multiprocess/pool.py\", line 48, in mapstar\n    return list(map(*args))\n  File \"/Users/jakub/miniconda3/envs/block/lib/python3.8/site-packages/pathos/helpers/mp_helper.py\", line 15, in <lambda>\n    func = lambda args: f(*args)\n  File \"/Users/jakub/miniconda3/envs/block/lib/python3.8/site-packages/radcad/core.py\", line 142, in _single_run_wrapper\n    raise e\n  File \"/Users/jakub/miniconda3/envs/block/lib/python3.8/site-packages/radcad/core.py\", line 128, in _single_run_wrapper\n    raise exception\n  File \"/Users/jakub/miniconda3/envs/block/lib/python3.8/site-packages/radcad/core.py\", line 99, in single_run\n    _single_run(\n  File \"/Users/jakub/miniconda3/envs/block/lib/python3.8/site-packages/radcad/core.py\", line 75, in _single_run\n    substate.update(updated_state)\n  File \"/Users/jakub/miniconda3/envs/block/lib/python3.8/site-packages/radcad/core.py\", line 12, in _update_state\n    state_key, state_value = function(\n  File \"/var/folders/vc/5b_s57r96czcz93nfrdkmhwc0000gn/T/ipykernel_1482/4257772430.py\", line 2, in s_obs\n    updated_obs = previous_state['env'].step(policy_input['update_actions'])\n  File \"../../blockference/envs/grid_env_multi.py\", line 144, in step\n    if new_agent_state == other_agent_state:\nValueError: The truth value of an array with more than one element is ambiguous. Use a.any() or a.all()\n\"\"\"",
      "\nThe above exception was the direct cause of the following exception:\n",
      "\u001b[0;31mValueError\u001b[0m                                Traceback (most recent call last)",
      "Input \u001b[0;32mIn [66]\u001b[0m, in \u001b[0;36m<cell line: 1>\u001b[0;34m()\u001b[0m\n\u001b[0;32m----> 1\u001b[0m result \u001b[38;5;241m=\u001b[39m \u001b[43msimulation\u001b[49m\u001b[38;5;241;43m.\u001b[39;49m\u001b[43mrun\u001b[49m\u001b[43m(\u001b[49m\u001b[43m)\u001b[49m\n",
      "File \u001b[0;32m~/miniconda3/envs/block/lib/python3.8/site-packages/radcad/wrappers.py:151\u001b[0m, in \u001b[0;36mSimulation.run\u001b[0;34m(self)\u001b[0m\n\u001b[1;32m    150\u001b[0m \u001b[38;5;28;01mdef\u001b[39;00m \u001b[38;5;21mrun\u001b[39m(\u001b[38;5;28mself\u001b[39m):\n\u001b[0;32m--> 151\u001b[0m     \u001b[38;5;28;01mreturn\u001b[39;00m \u001b[38;5;28;43mself\u001b[39;49m\u001b[38;5;241;43m.\u001b[39;49m\u001b[43mengine\u001b[49m\u001b[38;5;241;43m.\u001b[39;49m\u001b[43m_run\u001b[49m\u001b[43m(\u001b[49m\u001b[43mexecutable\u001b[49m\u001b[38;5;241;43m=\u001b[39;49m\u001b[38;5;28;43mself\u001b[39;49m\u001b[43m)\u001b[49m\n",
      "File \u001b[0;32m~/miniconda3/envs/block/lib/python3.8/site-packages/radcad/engine.py:80\u001b[0m, in \u001b[0;36mEngine._run\u001b[0;34m(self, executable, **kwargs)\u001b[0m\n\u001b[1;32m     77\u001b[0m \u001b[38;5;28;01melse\u001b[39;00m:\n\u001b[1;32m     78\u001b[0m     \u001b[38;5;28;01mraise\u001b[39;00m \u001b[38;5;167;01mException\u001b[39;00m(\u001b[38;5;124mf\u001b[39m\u001b[38;5;124m\"\u001b[39m\u001b[38;5;124mExecution backend must be one of \u001b[39m\u001b[38;5;132;01m{\u001b[39;00mBackend\u001b[38;5;241m.\u001b[39m_member_names_\u001b[38;5;132;01m}\u001b[39;00m\u001b[38;5;124m, not \u001b[39m\u001b[38;5;132;01m{\u001b[39;00m\u001b[38;5;28mself\u001b[39m\u001b[38;5;241m.\u001b[39mbackend\u001b[38;5;132;01m}\u001b[39;00m\u001b[38;5;124m\"\u001b[39m)\n\u001b[0;32m---> 80\u001b[0m result \u001b[38;5;241m=\u001b[39m \u001b[43mExecutor\u001b[49m\u001b[43m(\u001b[49m\u001b[38;5;28;43mself\u001b[39;49m\u001b[43m)\u001b[49m\u001b[38;5;241;43m.\u001b[39;49m\u001b[43mexecute_runs\u001b[49m\u001b[43m(\u001b[49m\u001b[43m)\u001b[49m\n\u001b[1;32m     82\u001b[0m \u001b[38;5;28mself\u001b[39m\u001b[38;5;241m.\u001b[39mexecutable\u001b[38;5;241m.\u001b[39mresults, \u001b[38;5;28mself\u001b[39m\u001b[38;5;241m.\u001b[39mexecutable\u001b[38;5;241m.\u001b[39mexceptions \u001b[38;5;241m=\u001b[39m extract_exceptions(result)\n\u001b[1;32m     83\u001b[0m \u001b[38;5;28mself\u001b[39m\u001b[38;5;241m.\u001b[39mexecutable\u001b[38;5;241m.\u001b[39m_after_experiment(experiment\u001b[38;5;241m=\u001b[39m(executable \u001b[38;5;28;01mif\u001b[39;00m \u001b[38;5;28misinstance\u001b[39m(executable, wrappers\u001b[38;5;241m.\u001b[39mExperiment) \u001b[38;5;28;01melse\u001b[39;00m \u001b[38;5;28;01mNone\u001b[39;00m))\n",
      "File \u001b[0;32m~/miniconda3/envs/block/lib/python3.8/site-packages/radcad/backends/pathos.py:21\u001b[0m, in \u001b[0;36mExecutorPathos.execute_runs\u001b[0;34m(self)\u001b[0m\n\u001b[1;32m     19\u001b[0m \u001b[38;5;28;01mdef\u001b[39;00m \u001b[38;5;21mexecute_runs\u001b[39m(\u001b[38;5;28mself\u001b[39m):\n\u001b[1;32m     20\u001b[0m     \u001b[38;5;28;01mwith\u001b[39;00m ProcessPool(\u001b[38;5;28mself\u001b[39m\u001b[38;5;241m.\u001b[39mengine\u001b[38;5;241m.\u001b[39mprocesses) \u001b[38;5;28;01mas\u001b[39;00m pool:\n\u001b[0;32m---> 21\u001b[0m         result \u001b[38;5;241m=\u001b[39m \u001b[43mpool\u001b[49m\u001b[38;5;241;43m.\u001b[39;49m\u001b[43mmap\u001b[49m\u001b[43m(\u001b[49m\n\u001b[1;32m     22\u001b[0m \u001b[43m            \u001b[49m\u001b[43mcore\u001b[49m\u001b[38;5;241;43m.\u001b[39;49m\u001b[43m_single_run_wrapper\u001b[49m\u001b[43m,\u001b[49m\n\u001b[1;32m     23\u001b[0m \u001b[43m            \u001b[49m\u001b[43m[\u001b[49m\n\u001b[1;32m     24\u001b[0m \u001b[43m                \u001b[49m\u001b[43m(\u001b[49m\u001b[43mconfig\u001b[49m\u001b[43m,\u001b[49m\u001b[43m \u001b[49m\u001b[38;5;28;43mself\u001b[39;49m\u001b[38;5;241;43m.\u001b[39;49m\u001b[43mengine\u001b[49m\u001b[38;5;241;43m.\u001b[39;49m\u001b[43mraise_exceptions\u001b[49m\u001b[43m)\u001b[49m\n\u001b[1;32m     25\u001b[0m \u001b[43m                \u001b[49m\u001b[38;5;28;43;01mfor\u001b[39;49;00m\u001b[43m \u001b[49m\u001b[43mconfig\u001b[49m\u001b[43m \u001b[49m\u001b[38;5;129;43;01min\u001b[39;49;00m\u001b[43m \u001b[49m\u001b[38;5;28;43mself\u001b[39;49m\u001b[38;5;241;43m.\u001b[39;49m\u001b[43mengine\u001b[49m\u001b[38;5;241;43m.\u001b[39;49m\u001b[43m_run_generator\u001b[49m\n\u001b[1;32m     26\u001b[0m \u001b[43m            \u001b[49m\u001b[43m]\u001b[49m\u001b[43m,\u001b[49m\n\u001b[1;32m     27\u001b[0m \u001b[43m        \u001b[49m\u001b[43m)\u001b[49m\n\u001b[1;32m     28\u001b[0m         pool\u001b[38;5;241m.\u001b[39mclose()\n\u001b[1;32m     29\u001b[0m         pool\u001b[38;5;241m.\u001b[39mjoin()\n",
      "File \u001b[0;32m~/miniconda3/envs/block/lib/python3.8/site-packages/pathos/multiprocessing.py:139\u001b[0m, in \u001b[0;36mProcessPool.map\u001b[0;34m(self, f, *args, **kwds)\u001b[0m\n\u001b[1;32m    137\u001b[0m AbstractWorkerPool\u001b[38;5;241m.\u001b[39m_AbstractWorkerPool__map(\u001b[38;5;28mself\u001b[39m, f, \u001b[38;5;241m*\u001b[39margs, \u001b[38;5;241m*\u001b[39m\u001b[38;5;241m*\u001b[39mkwds)\n\u001b[1;32m    138\u001b[0m _pool \u001b[38;5;241m=\u001b[39m \u001b[38;5;28mself\u001b[39m\u001b[38;5;241m.\u001b[39m_serve()\n\u001b[0;32m--> 139\u001b[0m \u001b[38;5;28;01mreturn\u001b[39;00m \u001b[43m_pool\u001b[49m\u001b[38;5;241;43m.\u001b[39;49m\u001b[43mmap\u001b[49m\u001b[43m(\u001b[49m\u001b[43mstar\u001b[49m\u001b[43m(\u001b[49m\u001b[43mf\u001b[49m\u001b[43m)\u001b[49m\u001b[43m,\u001b[49m\u001b[43m \u001b[49m\u001b[38;5;28;43mzip\u001b[39;49m\u001b[43m(\u001b[49m\u001b[38;5;241;43m*\u001b[39;49m\u001b[43margs\u001b[49m\u001b[43m)\u001b[49m\u001b[43m)\u001b[49m\n",
      "File \u001b[0;32m~/miniconda3/envs/block/lib/python3.8/site-packages/multiprocess/pool.py:364\u001b[0m, in \u001b[0;36mPool.map\u001b[0;34m(self, func, iterable, chunksize)\u001b[0m\n\u001b[1;32m    359\u001b[0m \u001b[38;5;28;01mdef\u001b[39;00m \u001b[38;5;21mmap\u001b[39m(\u001b[38;5;28mself\u001b[39m, func, iterable, chunksize\u001b[38;5;241m=\u001b[39m\u001b[38;5;28;01mNone\u001b[39;00m):\n\u001b[1;32m    360\u001b[0m     \u001b[38;5;124;03m'''\u001b[39;00m\n\u001b[1;32m    361\u001b[0m \u001b[38;5;124;03m    Apply `func` to each element in `iterable`, collecting the results\u001b[39;00m\n\u001b[1;32m    362\u001b[0m \u001b[38;5;124;03m    in a list that is returned.\u001b[39;00m\n\u001b[1;32m    363\u001b[0m \u001b[38;5;124;03m    '''\u001b[39;00m\n\u001b[0;32m--> 364\u001b[0m     \u001b[38;5;28;01mreturn\u001b[39;00m \u001b[38;5;28;43mself\u001b[39;49m\u001b[38;5;241;43m.\u001b[39;49m\u001b[43m_map_async\u001b[49m\u001b[43m(\u001b[49m\u001b[43mfunc\u001b[49m\u001b[43m,\u001b[49m\u001b[43m \u001b[49m\u001b[43miterable\u001b[49m\u001b[43m,\u001b[49m\u001b[43m \u001b[49m\u001b[43mmapstar\u001b[49m\u001b[43m,\u001b[49m\u001b[43m \u001b[49m\u001b[43mchunksize\u001b[49m\u001b[43m)\u001b[49m\u001b[38;5;241;43m.\u001b[39;49m\u001b[43mget\u001b[49m\u001b[43m(\u001b[49m\u001b[43m)\u001b[49m\n",
      "File \u001b[0;32m~/miniconda3/envs/block/lib/python3.8/site-packages/multiprocess/pool.py:771\u001b[0m, in \u001b[0;36mApplyResult.get\u001b[0;34m(self, timeout)\u001b[0m\n\u001b[1;32m    769\u001b[0m     \u001b[38;5;28;01mreturn\u001b[39;00m \u001b[38;5;28mself\u001b[39m\u001b[38;5;241m.\u001b[39m_value\n\u001b[1;32m    770\u001b[0m \u001b[38;5;28;01melse\u001b[39;00m:\n\u001b[0;32m--> 771\u001b[0m     \u001b[38;5;28;01mraise\u001b[39;00m \u001b[38;5;28mself\u001b[39m\u001b[38;5;241m.\u001b[39m_value\n",
      "\u001b[0;31mValueError\u001b[0m: The truth value of an array with more than one element is ambiguous. Use a.any() or a.all()"
     ]
    }
   ],
   "source": [
    "result = simulation.run()"
   ]
  },
  {
   "cell_type": "code",
   "execution_count": null,
   "metadata": {},
   "outputs": [],
   "source": []
  }
 ],
 "metadata": {
  "kernelspec": {
   "display_name": "Python 3 (ipykernel)",
   "language": "python",
   "name": "python3"
  },
  "language_info": {
   "codemirror_mode": {
    "name": "ipython",
    "version": 3
   },
   "file_extension": ".py",
   "mimetype": "text/x-python",
   "name": "python",
   "nbconvert_exporter": "python",
   "pygments_lexer": "ipython3",
   "version": "3.8.5"
  },
  "vscode": {
   "interpreter": {
    "hash": "1c596f8ea73094ff366b4a78cb3d7a121270c7966eba71b4cca991db5b176f60"
   }
  }
 },
 "nbformat": 4,
 "nbformat_minor": 4
}
