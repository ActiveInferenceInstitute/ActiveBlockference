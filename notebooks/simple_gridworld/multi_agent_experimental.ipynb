{
 "cells": [
  {
   "cell_type": "markdown",
   "id": "e98acdae-1f12-471e-bcbb-4dc655571ff0",
   "metadata": {},
   "source": [
    "### Multiagent Active Blockference\n",
    "\n",
    "This notebook is an experimental exploration of multi-agent active inference. CadCAD is not used at this point.\n",
    "\n",
    "We are considering an environment with two agents, Karl and Thomas, who are trying to move to a preferred state without colliding."
   ]
  },
  {
   "cell_type": "code",
   "execution_count": 77,
   "id": "910d5f6c-4ac7-4c9c-87d8-e8bc71c36665",
   "metadata": {},
   "outputs": [],
   "source": [
    "import itertools\n",
    "import numpy as np\n",
    "import copy\n",
    "import sys\n",
    "\n",
    "# adding tools to the system path\n",
    "sys.path.insert(0, '../../')\n",
    "\n",
    "from blockference.envs.grid_env import GridAgent\n",
    "from blockference.gridference import ActiveGridference\n",
    "from blockference.agent import Agent"
   ]
  },
  {
   "cell_type": "code",
   "execution_count": 91,
   "id": "271ae34f-d121-4439-9c87-556cc216885c",
   "metadata": {},
   "outputs": [
    {
     "name": "stdout",
     "output_type": "stream",
     "text": [
      "{0: (0, 0), 1: (0, 1), 2: (0, 2), 3: (1, 0), 4: (1, 1), 5: (1, 2), 6: (2, 0), 7: (2, 1), 8: (2, 2)}\n"
     ]
    }
   ],
   "source": [
    "# start with 2x2 grid\n",
    "grid = list(itertools.product(range(3), repeat=2))\n",
    "border = np.sqrt(len(grid)) - 1\n",
    "pos_dict = {}\n",
    "for i in range(0, len(grid)):\n",
    "    pos_dict[i] = grid[i]\n",
    "print(pos_dict)\n",
    "num_agents = 2 # start with 2 agents\n",
    "init_pos = [0, 3] # agents will start at positions 0 and 3"
   ]
  },
  {
   "cell_type": "code",
   "execution_count": 92,
   "id": "05863992-f86f-4a53-910a-4ffc774352cd",
   "metadata": {},
   "outputs": [],
   "source": [
    "# getting the grid positions and indexes for the two agents K & T\n",
    "init_K = init_pos[0]\n",
    "init_T = init_pos[1]\n",
    "init_K_pos = pos_dict[init_K]\n",
    "init_T_pos = pos_dict[init_T]"
   ]
  },
  {
   "cell_type": "code",
   "execution_count": 95,
   "id": "5b42070f-8b8b-4f74-a0e8-8ad7548d61f5",
   "metadata": {},
   "outputs": [],
   "source": [
    "# getting the preferred grid positions and indexes for the two agents A & B\n",
    "# their preferred position will be the one where the other agent starts\n",
    "pref_K = 8\n",
    "pref_T = 0\n",
    "pref_K_pos = pos_dict[pref_K]\n",
    "pref_T_pos = pos_dict[pref_T]"
   ]
  },
  {
   "cell_type": "markdown",
   "id": "1ea195bc-4dbe-4d2b-bfa6-6ebb36f8a837",
   "metadata": {},
   "source": [
    "#### Observations and States\n",
    "In a single-agent environment, observations and states are both just the number of positions (because the agent can be at 4 different positions (4 states) and have 4 different observations).\n",
    "\n",
    "Adding an extra agents adds extra complexity. We let our agents be strictly non-interacting, i.e. they cannot occupy the same position on the grid at the same time."
   ]
  },
  {
   "cell_type": "markdown",
   "id": "f90d36f7-9a02-4395-8b9e-cf749364bc2c",
   "metadata": {},
   "source": [
    "#### Generative Model Tensors\n",
    "Now we define the tensors describing the generative model. For detailed explanations of what each tensor means/does, see:\n",
    "https://pymdp-rtd.readthedocs.io/en/latest/notebooks/active_inference_from_scratch.html"
   ]
  },
  {
   "cell_type": "markdown",
   "id": "05705f77-cbf3-4ebe-8af9-70b612e95bae",
   "metadata": {},
   "source": [
    "## Alternative way of thinking about states & state modalities (current)\n",
    "The two modalities of the multiagent POMDP:\n",
    "- location: \"where am I in the world (on the grid)\"\n",
    "- agent awareness: \"where is the other agent with respect to me in the world\"\n",
    "\n",
    "These modalities will be reflected in the **A** and **B** matrices."
   ]
  },
  {
   "cell_type": "code",
   "execution_count": 45,
   "id": "5bcce7f8-7f63-4d68-924d-f16403ce2d9b",
   "metadata": {},
   "outputs": [],
   "source": [
    "# E vector (affordances)\n",
    "E = [\"UP\", \"DOWN\", \"LEFT\", \"RIGHT\", \"STAY\"]"
   ]
  },
  {
   "cell_type": "code",
   "execution_count": 59,
   "id": "5907ea0e-098e-4d1b-bf02-90e6e688e65c",
   "metadata": {},
   "outputs": [],
   "source": [
    "# location\n",
    "n_states = len(grid)\n",
    "n_observations = len(grid)"
   ]
  },
  {
   "cell_type": "code",
   "execution_count": 60,
   "id": "07a67f86-5827-4687-84dc-7c1e61857045",
   "metadata": {},
   "outputs": [
    {
     "name": "stdout",
     "output_type": "stream",
     "text": [
      "[[1. 0. 0. 0.]\n",
      " [0. 1. 0. 0.]\n",
      " [0. 0. 1. 0.]\n",
      " [0. 0. 0. 1.]]\n"
     ]
    }
   ],
   "source": [
    "# A matrix\n",
    "# Note: maybe multi-agent actinf does not change B but rather A & D\n",
    "A = np.eye(n_observations, n_states)\n",
    "print(A)"
   ]
  },
  {
   "cell_type": "code",
   "execution_count": 61,
   "id": "96c098ae-fd2d-40f1-9636-e37fffdff8be",
   "metadata": {},
   "outputs": [
    {
     "name": "stdout",
     "output_type": "stream",
     "text": [
      "[[1. 0. 0. 0. 0.]\n",
      " [0. 1. 0. 0. 0.]\n",
      " [0. 0. 1. 0. 0.]\n",
      " [0. 0. 0. 1. 0.]\n",
      " [0. 0. 0. 0. 1.]]\n"
     ]
    }
   ],
   "source": [
    "# other agent relative location (currently 1-step depth)\n",
    "second_agent_locations = [\"NONE\", \"NEXT_LEFT\", \"NEXT_RIGHT\", \"ABOVE\", \"BELOW\"]\n",
    "\n",
    "n_states_second = len(second_agent_locations)\n",
    "n_observations_second = len(second_agent_locations)\n",
    "\n",
    "A_second = np.eye(n_observations_second, n_states_second)\n",
    "print(A_second)"
   ]
  },
  {
   "cell_type": "code",
   "execution_count": 64,
   "id": "8033e2ae-d65a-40af-ba22-918931d917fc",
   "metadata": {},
   "outputs": [],
   "source": [
    "full_A = np.array((A, A_second), dtype='object')"
   ]
  },
  {
   "cell_type": "code",
   "execution_count": 66,
   "id": "e52ff2de-0d83-42d6-afe1-b9755e866f40",
   "metadata": {},
   "outputs": [
    {
     "data": {
      "text/plain": [
       "(2,)"
      ]
     },
     "execution_count": 66,
     "metadata": {},
     "output_type": "execute_result"
    }
   ],
   "source": [
    "full_A.shape"
   ]
  },
  {
   "cell_type": "code",
   "execution_count": 67,
   "id": "e311084d-c15b-4f3e-9928-d3701fbf8e11",
   "metadata": {},
   "outputs": [
    {
     "name": "stdout",
     "output_type": "stream",
     "text": [
      "[[[0. 1. 1. 0. 1.]\n",
      "  [0. 0. 1. 0. 0.]\n",
      "  [0. 1. 0. 0. 0.]\n",
      "  [0. 0. 0. 0. 0.]]\n",
      "\n",
      " [[0. 0. 0. 1. 0.]\n",
      "  [0. 1. 0. 1. 1.]\n",
      "  [0. 0. 0. 0. 0.]\n",
      "  [0. 1. 0. 0. 0.]]\n",
      "\n",
      " [[1. 0. 0. 0. 0.]\n",
      "  [0. 0. 0. 0. 0.]\n",
      "  [1. 0. 1. 0. 1.]\n",
      "  [0. 0. 1. 0. 0.]]\n",
      "\n",
      " [[0. 0. 0. 0. 0.]\n",
      "  [1. 0. 0. 0. 0.]\n",
      "  [0. 0. 0. 1. 0.]\n",
      "  [1. 0. 0. 1. 1.]]]\n"
     ]
    }
   ],
   "source": [
    "# B matrix\n",
    "# Note: B should only encode prior beliefs about !controllable! transitions between hidden states\n",
    "# why/how can we assume the actions of the other agents are within controllable transitions?\n",
    "B = np.zeros((len(grid), len(grid), len(E)))\n",
    "\n",
    "for action_id, action_label in enumerate(E):\n",
    "\n",
    "    for curr_state, grid_location in enumerate(grid):\n",
    "\n",
    "        y, x = grid_location\n",
    "\n",
    "        if action_label == \"DOWN\":\n",
    "            next_y = y - 1 if y > 0 else y\n",
    "            next_x = x\n",
    "        elif action_label == \"UP\":\n",
    "            next_y = y + 1 if y < border else y\n",
    "            next_x = x\n",
    "        elif action_label == \"LEFT\":\n",
    "            next_x = x - 1 if x > 0 else x\n",
    "            next_y = y\n",
    "        elif action_label == \"RIGHT\":\n",
    "            next_x = x + 1 if x < border else x\n",
    "            next_y = y\n",
    "        elif action_label == \"STAY\":\n",
    "            next_x = x\n",
    "            next_y = y\n",
    "        new_location = (next_y, next_x)\n",
    "        next_state = grid.index(new_location)\n",
    "        B[next_state, curr_state, action_id] = 1.0\n",
    "print(B)"
   ]
  },
  {
   "cell_type": "markdown",
   "id": "0efdcdc6-af73-4ff0-95d8-b6676864bec9",
   "metadata": {},
   "source": [
    "Second modality of the **B** matrix is the transition probabilities given an observation of a second agent.\n",
    "This can either be:\n",
    "- \"there is an agent *above* me\"\n",
    "- \"there is an agent *below* me\"\n",
    "- \"there is an agent *to the right* of me\"\n",
    "- \"there is an agent *to the left* of me\"\n",
    "- \"there is no agent next to me\n",
    "\n",
    "This modality should track the *relative* position of the agent with respect to the second agent.\n",
    "This can then be scaled to arbitrary many agents by using this matrix for tracking the position of different agents relative to each other.\n",
    "\n",
    "In the following, the K_agent is the one whose generative model we're modeling, T_agent is the agent who K_agent is perceiving.\n",
    "\n",
    "(Note: we might possibly need to add a third modality, colliding/not-colliding, for encoding preferences)"
   ]
  },
  {
   "cell_type": "code",
   "execution_count": 103,
   "id": "60f26cfe-e631-4292-bc91-2ed53cffc0f6",
   "metadata": {},
   "outputs": [
    {
     "name": "stdout",
     "output_type": "stream",
     "text": [
      "[[[1. 1. 1. 1. 1.]\n",
      "  [1. 1. 0. 1. 0.]\n",
      "  [1. 1. 1. 0. 0.]\n",
      "  [0. 1. 1. 1. 0.]\n",
      "  [1. 0. 1. 1. 0.]]\n",
      "\n",
      " [[0. 0. 0. 0. 0.]\n",
      "  [0. 0. 1. 0. 1.]\n",
      "  [0. 0. 0. 0. 0.]\n",
      "  [0. 0. 0. 0. 0.]\n",
      "  [0. 0. 0. 0. 0.]]\n",
      "\n",
      " [[0. 0. 0. 0. 0.]\n",
      "  [0. 0. 0. 0. 0.]\n",
      "  [0. 0. 0. 1. 1.]\n",
      "  [0. 0. 0. 0. 0.]\n",
      "  [0. 0. 0. 0. 0.]]\n",
      "\n",
      " [[0. 0. 0. 0. 0.]\n",
      "  [0. 0. 0. 0. 0.]\n",
      "  [0. 0. 0. 0. 0.]\n",
      "  [1. 0. 0. 0. 1.]\n",
      "  [0. 0. 0. 0. 0.]]\n",
      "\n",
      " [[0. 0. 0. 0. 0.]\n",
      "  [0. 0. 0. 0. 0.]\n",
      "  [0. 0. 0. 0. 0.]\n",
      "  [0. 0. 0. 0. 0.]\n",
      "  [0. 1. 0. 0. 1.]]]\n"
     ]
    }
   ],
   "source": [
    "second_agent_locations = [\"NONE\", \"NEXT_LEFT\", \"NEXT_RIGHT\", \"ABOVE\", \"BELOW\"]\n",
    "\n",
    "B_second = np.zeros((len(second_agent_locations), len(second_agent_locations), len(E)))\n",
    "pos_idx = {\"NONE\": 0, \"NEXT_LEFT\": 1, \"NEXT_RIGHT\": 2, \"ABOVE\": 3, \"BELOW\": 4}\n",
    "\n",
    "for action_id, action_label in enumerate(E):\n",
    "\n",
    "    for curr_state, T_location in enumerate(second_agent_locations):\n",
    "\n",
    "        if action_label == \"UP\":\n",
    "            next_T_location = \"NONE\" if T_location != \"ABOVE\" else \"ABOVE\"\n",
    "        elif action_label == \"DOWN\":\n",
    "            next_T_location = \"NONE\" if T_location != \"BELOW\" else \"BELOW\"\n",
    "        elif action_label == \"LEFT\":\n",
    "            next_T_location = \"NONE\" if T_location != \"NEXT_LEFT\" else \"NEXT_LEFT\"\n",
    "        elif action_label == \"RIGHT\":\n",
    "            next_T_location = \"NONE\" if T_location != \"NEXT_RIGHT\" else \"NEXT_RIGHT\"\n",
    "        elif action_label == \"STAY\":\n",
    "            next_T_location = T_location\n",
    "        new_T_location = next_T_location\n",
    "        next_state = pos_idx[new_T_location]\n",
    "        B_second[next_state, curr_state, action_id] = 1.0\n",
    "\n",
    "print(B_second)"
   ]
  },
  {
   "cell_type": "code",
   "execution_count": 104,
   "id": "ee0093a6-33d9-49ba-97fb-0a35a61aeeec",
   "metadata": {},
   "outputs": [],
   "source": [
    "full_B = np.array((B, B_second), dtype='object')"
   ]
  },
  {
   "cell_type": "code",
   "execution_count": 105,
   "id": "4a56d057-951f-4e92-b982-91783d246342",
   "metadata": {},
   "outputs": [
    {
     "data": {
      "text/plain": [
       "(2,)"
      ]
     },
     "execution_count": 105,
     "metadata": {},
     "output_type": "execute_result"
    }
   ],
   "source": [
    "full_B.shape"
   ]
  },
  {
   "cell_type": "code",
   "execution_count": 106,
   "id": "3a966a49-0609-46f4-85ca-5411d513fa02",
   "metadata": {},
   "outputs": [],
   "source": [
    "A_gm = copy.deepcopy(full_A)\n",
    "B_gm = copy.deepcopy(full_B)"
   ]
  },
  {
   "cell_type": "code",
   "execution_count": 107,
   "id": "5415c9a0-eaa3-4630-8688-59e38cf69b10",
   "metadata": {},
   "outputs": [],
   "source": [
    "agent = Agent(A=A_gm, B=B_gm)"
   ]
  },
  {
   "cell_type": "code",
   "execution_count": 108,
   "id": "c24c0d8d-f9ff-4b80-96f2-1ac51e21ff0a",
   "metadata": {},
   "outputs": [],
   "source": [
    "agent.D = [init_K, 0] # initial K position & initial K position relative to T, 0 means \"NONE\""
   ]
  },
  {
   "cell_type": "code",
   "execution_count": 109,
   "id": "dcf234a0-1263-4c97-adad-289b8331f79d",
   "metadata": {},
   "outputs": [],
   "source": [
    "agent.E = E # adding agent affordances to Agent class instance"
   ]
  },
  {
   "cell_type": "code",
   "execution_count": 110,
   "id": "c821fe8d-1a67-4e01-a205-5752357d30fa",
   "metadata": {},
   "outputs": [],
   "source": [
    "agent.C = [pref_K, 0] # preferred location & preferred relative relation to second agent (again \"NONE\")"
   ]
  },
  {
   "cell_type": "markdown",
   "id": "aad1a050-4fb5-407e-a431-bc049aaa7434",
   "metadata": {},
   "source": [
    "This concludes the initialization of the single agent for the multi-agent POMDP. What follows is an attempt at a full 2-agent Blockference simulation."
   ]
  },
  {
   "cell_type": "code",
   "execution_count": 118,
   "id": "64b059c4-cd4c-4636-8de6-8f6bc3d2bb38",
   "metadata": {},
   "outputs": [],
   "source": [
    "from radcad import Model, Simulation, Experiment"
   ]
  },
  {
   "cell_type": "code",
   "execution_count": 111,
   "id": "c0180fb0-1185-4c4c-981a-22feef0ebfb7",
   "metadata": {},
   "outputs": [],
   "source": [
    "agent_K = copy.deepcopy(agent)\n",
    "agent_T = copy.deepcopy(agent)\n",
    "\n",
    "# change Thomas' prior & preference\n",
    "agent_T.D = [init_T, 0]\n",
    "agent_T.C = [pref_T, 0]"
   ]
  },
  {
   "cell_type": "code",
   "execution_count": 119,
   "id": "275b209e-384b-48ec-b542-9d4b68d71e2c",
   "metadata": {},
   "outputs": [],
   "source": [
    "initial_state = {\n",
    "    'agent_K': agent_K,\n",
    "    'agent_T': agent_T,\n",
    "    'env_state': '', # TODO\n",
    "}"
   ]
  },
  {
   "cell_type": "code",
   "execution_count": 120,
   "id": "68e1635c-ab6c-472c-9f16-f6a79eaa9346",
   "metadata": {},
   "outputs": [],
   "source": [
    "params = {\n",
    "}"
   ]
  },
  {
   "cell_type": "code",
   "execution_count": null,
   "id": "1b4fdcd9-ab66-4543-8a53-63f6acae47de",
   "metadata": {},
   "outputs": [],
   "source": [
    "def p_rel_position(params, substep, state_history, previous_state):\n",
    "    return # TODO\n",
    "\n",
    "def p_actinf(params, substep, state_history, previous_state):\n",
    "    return # TODO"
   ]
  },
  {
   "cell_type": "code",
   "execution_count": null,
   "id": "c656c6bb-f23c-4569-b9f5-36e644f39645",
   "metadata": {},
   "outputs": [],
   "source": [
    "def s_prior(params, substep, state_history, previous_state, policy_input):\n",
    "    return # TODO\n",
    "\n",
    "def s_env(params, substep, state_history, previous_state, policy_input):\n",
    "    return # TODO"
   ]
  },
  {
   "cell_type": "code",
   "execution_count": null,
   "id": "d4fae47a-025c-4902-9c17-a7f67b986208",
   "metadata": {},
   "outputs": [],
   "source": [
    "state_update_blocks = [\n",
    "    {\n",
    "        'policies': {\n",
    "            # TODO\n",
    "        },\n",
    "        'variables': {\n",
    "            # TODO\n",
    "        }\n",
    "    }\n",
    "]"
   ]
  },
  {
   "cell_type": "code",
   "execution_count": null,
   "id": "c7bda97e-f754-4700-a0c2-720e6566332f",
   "metadata": {},
   "outputs": [],
   "source": [
    "model = Model(\n",
    "    # Model initial state\n",
    "    initial_state=initial_state,\n",
    "    # Model Partial State Update Blocks\n",
    "    state_update_blocks=state_update_blocks,\n",
    "    # System Parameters\n",
    "    params=params\n",
    ")"
   ]
  },
  {
   "cell_type": "code",
   "execution_count": null,
   "id": "0b362387-ccf9-4b6a-b429-316420c8676a",
   "metadata": {},
   "outputs": [],
   "source": [
    "simulation = Simulation(\n",
    "    model=model,\n",
    "    timesteps=20,  # Number of timesteps\n",
    "    runs=1  # Number of Monte Carlo Runs\n",
    ")"
   ]
  },
  {
   "cell_type": "code",
   "execution_count": null,
   "id": "c88866c7-6eb2-47fc-baba-258a9e5b62b1",
   "metadata": {},
   "outputs": [],
   "source": [
    "result = simulation.run()"
   ]
  },
  {
   "cell_type": "code",
   "execution_count": null,
   "id": "f09d9f5e-3a9a-4e4c-8f4c-2395189843ee",
   "metadata": {},
   "outputs": [],
   "source": [
    "df = pd.DataFrame(result)\n",
    "df"
   ]
  }
 ],
 "metadata": {
  "kernelspec": {
   "display_name": "block",
   "language": "python",
   "name": "block"
  },
  "language_info": {
   "codemirror_mode": {
    "name": "ipython",
    "version": 3
   },
   "file_extension": ".py",
   "mimetype": "text/x-python",
   "name": "python",
   "nbconvert_exporter": "python",
   "pygments_lexer": "ipython3",
   "version": "3.10.5"
  }
 },
 "nbformat": 4,
 "nbformat_minor": 5
}
