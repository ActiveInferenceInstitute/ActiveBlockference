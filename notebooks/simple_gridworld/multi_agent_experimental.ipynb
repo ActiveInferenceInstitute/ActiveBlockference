{
 "cells": [
  {
   "cell_type": "markdown",
   "id": "e98acdae-1f12-471e-bcbb-4dc655571ff0",
   "metadata": {},
   "source": [
    "### Multiagent Active Blockference\n",
    "\n",
    "This notebook is an experimental exploration of multi-agent active inference. CadCAD is not used at this point.\n",
    "\n",
    "We are considering an environment with two agents, Karl and Thomas, who are trying to move to a preferred state without colliding."
   ]
  },
  {
   "cell_type": "code",
   "execution_count": 9,
   "id": "910d5f6c-4ac7-4c9c-87d8-e8bc71c36665",
   "metadata": {},
   "outputs": [],
   "source": [
    "import itertools\n",
    "import numpy as np\n",
    "import copy\n",
    "import sys\n",
    "\n",
    "# adding tools to the system path\n",
    "sys.path.insert(0, '../../')\n",
    "\n",
    "from blockference.envs.grid_env import GridAgent\n",
    "from blockference.gridference import ActiveGridference\n",
    "from blockference.agent import Agent"
   ]
  },
  {
   "cell_type": "code",
   "execution_count": 10,
   "id": "271ae34f-d121-4439-9c87-556cc216885c",
   "metadata": {},
   "outputs": [
    {
     "name": "stdout",
     "output_type": "stream",
     "text": [
      "{0: (0, 0), 1: (0, 1), 2: (0, 2), 3: (1, 0), 4: (1, 1), 5: (1, 2), 6: (2, 0), 7: (2, 1), 8: (2, 2)}\n"
     ]
    }
   ],
   "source": [
    "# start with 2x2 grid\n",
    "grid = list(itertools.product(range(3), repeat=2))\n",
    "border = np.sqrt(len(grid)) - 1\n",
    "pos_dict = {}\n",
    "for i in range(0, len(grid)):\n",
    "    pos_dict[i] = grid[i]\n",
    "print(pos_dict)\n",
    "num_agents = 2 # start with 2 agents\n",
    "init_pos = [0, 3] # agents will start at positions 0 and 3"
   ]
  },
  {
   "cell_type": "code",
   "execution_count": 11,
   "id": "05863992-f86f-4a53-910a-4ffc774352cd",
   "metadata": {},
   "outputs": [],
   "source": [
    "# getting the grid positions and indexes for the two agents K & T\n",
    "init_K = init_pos[0]\n",
    "init_T = init_pos[1]\n",
    "init_K_pos = pos_dict[init_K]\n",
    "init_T_pos = pos_dict[init_T]"
   ]
  },
  {
   "cell_type": "code",
   "execution_count": 12,
   "id": "5b42070f-8b8b-4f74-a0e8-8ad7548d61f5",
   "metadata": {},
   "outputs": [],
   "source": [
    "# getting the preferred grid positions and indexes for the two agents A & B\n",
    "# their preferred position will be the one where the other agent starts\n",
    "pref_K = 8\n",
    "pref_T = 0\n",
    "pref_K_pos = pos_dict[pref_K]\n",
    "pref_T_pos = pos_dict[pref_T]"
   ]
  },
  {
   "cell_type": "markdown",
   "id": "1ea195bc-4dbe-4d2b-bfa6-6ebb36f8a837",
   "metadata": {},
   "source": [
    "#### Observations and States\n",
    "In a single-agent environment, observations and states are both just the number of positions (because the agent can be at 4 different positions (4 states) and have 4 different observations).\n",
    "\n",
    "Adding an extra agents adds extra complexity. We let our agents be strictly non-interacting, i.e. they cannot occupy the same position on the grid at the same time."
   ]
  },
  {
   "cell_type": "markdown",
   "id": "f90d36f7-9a02-4395-8b9e-cf749364bc2c",
   "metadata": {},
   "source": [
    "#### Generative Model Tensors\n",
    "Now we define the tensors describing the generative model. For detailed explanations of what each tensor means/does, see:\n",
    "https://pymdp-rtd.readthedocs.io/en/latest/notebooks/active_inference_from_scratch.html"
   ]
  },
  {
   "cell_type": "markdown",
   "id": "05705f77-cbf3-4ebe-8af9-70b612e95bae",
   "metadata": {},
   "source": [
    "## Alternative way of thinking about states & state modalities (current)\n",
    "The two modalities of the multiagent POMDP:\n",
    "- location: \"where am I in the world (on the grid)\"\n",
    "- agent awareness: \"where is the other agent with respect to me in the world\"\n",
    "\n",
    "These modalities will be reflected in the **A** and **B** matrices."
   ]
  },
  {
   "cell_type": "code",
   "execution_count": 13,
   "id": "5bcce7f8-7f63-4d68-924d-f16403ce2d9b",
   "metadata": {},
   "outputs": [],
   "source": [
    "# E vector (affordances)\n",
    "E = [\"UP\", \"DOWN\", \"LEFT\", \"RIGHT\", \"STAY\"]"
   ]
  },
  {
   "cell_type": "code",
   "execution_count": 14,
   "id": "5907ea0e-098e-4d1b-bf02-90e6e688e65c",
   "metadata": {},
   "outputs": [],
   "source": [
    "# location\n",
    "n_states = len(grid)\n",
    "n_observations = len(grid)"
   ]
  },
  {
   "cell_type": "code",
   "execution_count": 15,
   "id": "07a67f86-5827-4687-84dc-7c1e61857045",
   "metadata": {},
   "outputs": [
    {
     "name": "stdout",
     "output_type": "stream",
     "text": [
      "[[1. 0. 0. 0. 0. 0. 0. 0. 0.]\n",
      " [0. 1. 0. 0. 0. 0. 0. 0. 0.]\n",
      " [0. 0. 1. 0. 0. 0. 0. 0. 0.]\n",
      " [0. 0. 0. 1. 0. 0. 0. 0. 0.]\n",
      " [0. 0. 0. 0. 1. 0. 0. 0. 0.]\n",
      " [0. 0. 0. 0. 0. 1. 0. 0. 0.]\n",
      " [0. 0. 0. 0. 0. 0. 1. 0. 0.]\n",
      " [0. 0. 0. 0. 0. 0. 0. 1. 0.]\n",
      " [0. 0. 0. 0. 0. 0. 0. 0. 1.]]\n"
     ]
    }
   ],
   "source": [
    "# A matrix\n",
    "# Note: maybe multi-agent actinf does not change B but rather A & D\n",
    "A = np.eye(n_observations, n_states)\n",
    "print(A)"
   ]
  },
  {
   "cell_type": "code",
   "execution_count": 102,
   "id": "96c098ae-fd2d-40f1-9636-e37fffdff8be",
   "metadata": {},
   "outputs": [
    {
     "name": "stdout",
     "output_type": "stream",
     "text": [
      "[[1. 0. 0. 0. 0.]\n",
      " [0. 1. 0. 0. 0.]\n",
      " [0. 0. 1. 0. 0.]\n",
      " [0. 0. 0. 1. 0.]\n",
      " [0. 0. 0. 0. 1.]]\n"
     ]
    }
   ],
   "source": [
    "# other agent relative location (currently 1-step depth)\n",
    "second_agent_locations = [\"NONE\", \"NEXT_LEFT\", \"NEXT_RIGHT\", \"ABOVE\", \"BELOW\"]\n",
    "\n",
    "n_states_second = len(second_agent_locations)\n",
    "n_observations_second = len(second_agent_locations)\n",
    "\n",
    "A_second = np.eye(n_observations_second, n_states_second)\n",
    "print(A_second)"
   ]
  },
  {
   "cell_type": "code",
   "execution_count": 89,
   "id": "8033e2ae-d65a-40af-ba22-918931d917fc",
   "metadata": {},
   "outputs": [],
   "source": [
    "full_A = np.array([A, A_second], dtype='object')"
   ]
  },
  {
   "cell_type": "code",
   "execution_count": 18,
   "id": "e52ff2de-0d83-42d6-afe1-b9755e866f40",
   "metadata": {},
   "outputs": [
    {
     "data": {
      "text/plain": [
       "array([array([[1., 0., 0., 0., 0., 0., 0., 0., 0.],\n",
       "              [0., 1., 0., 0., 0., 0., 0., 0., 0.],\n",
       "              [0., 0., 1., 0., 0., 0., 0., 0., 0.],\n",
       "              [0., 0., 0., 1., 0., 0., 0., 0., 0.],\n",
       "              [0., 0., 0., 0., 1., 0., 0., 0., 0.],\n",
       "              [0., 0., 0., 0., 0., 1., 0., 0., 0.],\n",
       "              [0., 0., 0., 0., 0., 0., 1., 0., 0.],\n",
       "              [0., 0., 0., 0., 0., 0., 0., 1., 0.],\n",
       "              [0., 0., 0., 0., 0., 0., 0., 0., 1.]]),\n",
       "       array([[1., 0., 0., 0., 0.],\n",
       "              [0., 1., 0., 0., 0.],\n",
       "              [0., 0., 1., 0., 0.],\n",
       "              [0., 0., 0., 1., 0.],\n",
       "              [0., 0., 0., 0., 1.]])], dtype=object)"
      ]
     },
     "execution_count": 18,
     "metadata": {},
     "output_type": "execute_result"
    }
   ],
   "source": [
    "full_A"
   ]
  },
  {
   "cell_type": "code",
   "execution_count": 19,
   "id": "e311084d-c15b-4f3e-9928-d3701fbf8e11",
   "metadata": {},
   "outputs": [
    {
     "name": "stdout",
     "output_type": "stream",
     "text": [
      "[[[0. 1. 1. 0. 1.]\n",
      "  [0. 0. 1. 0. 0.]\n",
      "  [0. 0. 0. 0. 0.]\n",
      "  [0. 1. 0. 0. 0.]\n",
      "  [0. 0. 0. 0. 0.]\n",
      "  [0. 0. 0. 0. 0.]\n",
      "  [0. 0. 0. 0. 0.]\n",
      "  [0. 0. 0. 0. 0.]\n",
      "  [0. 0. 0. 0. 0.]]\n",
      "\n",
      " [[0. 0. 0. 1. 0.]\n",
      "  [0. 1. 0. 0. 1.]\n",
      "  [0. 0. 1. 0. 0.]\n",
      "  [0. 0. 0. 0. 0.]\n",
      "  [0. 1. 0. 0. 0.]\n",
      "  [0. 0. 0. 0. 0.]\n",
      "  [0. 0. 0. 0. 0.]\n",
      "  [0. 0. 0. 0. 0.]\n",
      "  [0. 0. 0. 0. 0.]]\n",
      "\n",
      " [[0. 0. 0. 0. 0.]\n",
      "  [0. 0. 0. 1. 0.]\n",
      "  [0. 1. 0. 1. 1.]\n",
      "  [0. 0. 0. 0. 0.]\n",
      "  [0. 0. 0. 0. 0.]\n",
      "  [0. 1. 0. 0. 0.]\n",
      "  [0. 0. 0. 0. 0.]\n",
      "  [0. 0. 0. 0. 0.]\n",
      "  [0. 0. 0. 0. 0.]]\n",
      "\n",
      " [[1. 0. 0. 0. 0.]\n",
      "  [0. 0. 0. 0. 0.]\n",
      "  [0. 0. 0. 0. 0.]\n",
      "  [0. 0. 1. 0. 1.]\n",
      "  [0. 0. 1. 0. 0.]\n",
      "  [0. 0. 0. 0. 0.]\n",
      "  [0. 1. 0. 0. 0.]\n",
      "  [0. 0. 0. 0. 0.]\n",
      "  [0. 0. 0. 0. 0.]]\n",
      "\n",
      " [[0. 0. 0. 0. 0.]\n",
      "  [1. 0. 0. 0. 0.]\n",
      "  [0. 0. 0. 0. 0.]\n",
      "  [0. 0. 0. 1. 0.]\n",
      "  [0. 0. 0. 0. 1.]\n",
      "  [0. 0. 1. 0. 0.]\n",
      "  [0. 0. 0. 0. 0.]\n",
      "  [0. 1. 0. 0. 0.]\n",
      "  [0. 0. 0. 0. 0.]]\n",
      "\n",
      " [[0. 0. 0. 0. 0.]\n",
      "  [0. 0. 0. 0. 0.]\n",
      "  [1. 0. 0. 0. 0.]\n",
      "  [0. 0. 0. 0. 0.]\n",
      "  [0. 0. 0. 1. 0.]\n",
      "  [0. 0. 0. 1. 1.]\n",
      "  [0. 0. 0. 0. 0.]\n",
      "  [0. 0. 0. 0. 0.]\n",
      "  [0. 1. 0. 0. 0.]]\n",
      "\n",
      " [[0. 0. 0. 0. 0.]\n",
      "  [0. 0. 0. 0. 0.]\n",
      "  [0. 0. 0. 0. 0.]\n",
      "  [1. 0. 0. 0. 0.]\n",
      "  [0. 0. 0. 0. 0.]\n",
      "  [0. 0. 0. 0. 0.]\n",
      "  [1. 0. 1. 0. 1.]\n",
      "  [0. 0. 1. 0. 0.]\n",
      "  [0. 0. 0. 0. 0.]]\n",
      "\n",
      " [[0. 0. 0. 0. 0.]\n",
      "  [0. 0. 0. 0. 0.]\n",
      "  [0. 0. 0. 0. 0.]\n",
      "  [0. 0. 0. 0. 0.]\n",
      "  [1. 0. 0. 0. 0.]\n",
      "  [0. 0. 0. 0. 0.]\n",
      "  [0. 0. 0. 1. 0.]\n",
      "  [1. 0. 0. 0. 1.]\n",
      "  [0. 0. 1. 0. 0.]]\n",
      "\n",
      " [[0. 0. 0. 0. 0.]\n",
      "  [0. 0. 0. 0. 0.]\n",
      "  [0. 0. 0. 0. 0.]\n",
      "  [0. 0. 0. 0. 0.]\n",
      "  [0. 0. 0. 0. 0.]\n",
      "  [1. 0. 0. 0. 0.]\n",
      "  [0. 0. 0. 0. 0.]\n",
      "  [0. 0. 0. 1. 0.]\n",
      "  [1. 0. 0. 1. 1.]]]\n"
     ]
    }
   ],
   "source": [
    "# B matrix\n",
    "# Note: B should only encode prior beliefs about !controllable! transitions between hidden states\n",
    "# why/how can we assume the actions of the other agents are within controllable transitions?\n",
    "B = np.zeros((len(grid), len(grid), len(E)))\n",
    "\n",
    "for action_id, action_label in enumerate(E):\n",
    "\n",
    "    for curr_state, grid_location in enumerate(grid):\n",
    "\n",
    "        y, x = grid_location\n",
    "\n",
    "        if action_label == \"DOWN\":\n",
    "            next_y = y - 1 if y > 0 else y\n",
    "            next_x = x\n",
    "        elif action_label == \"UP\":\n",
    "            next_y = y + 1 if y < border else y\n",
    "            next_x = x\n",
    "        elif action_label == \"LEFT\":\n",
    "            next_x = x - 1 if x > 0 else x\n",
    "            next_y = y\n",
    "        elif action_label == \"RIGHT\":\n",
    "            next_x = x + 1 if x < border else x\n",
    "            next_y = y\n",
    "        elif action_label == \"STAY\":\n",
    "            next_x = x\n",
    "            next_y = y\n",
    "        new_location = (next_y, next_x)\n",
    "        next_state = grid.index(new_location)\n",
    "        B[next_state, curr_state, action_id] = 1.0\n",
    "print(B)"
   ]
  },
  {
   "cell_type": "markdown",
   "id": "0efdcdc6-af73-4ff0-95d8-b6676864bec9",
   "metadata": {},
   "source": [
    "Second modality of the **B** matrix is the transition probabilities given an observation of a second agent.\n",
    "This can either be:\n",
    "- \"there is an agent *above* me\"\n",
    "- \"there is an agent *below* me\"\n",
    "- \"there is an agent *to the right* of me\"\n",
    "- \"there is an agent *to the left* of me\"\n",
    "- \"there is no agent next to me\n",
    "\n",
    "This modality should track the *relative* position of the agent with respect to the second agent.\n",
    "This can then be scaled to arbitrary many agents by using this matrix for tracking the position of different agents relative to each other.\n",
    "\n",
    "In the following, the K_agent is the one whose generative model we're modeling, T_agent is the agent who K_agent is perceiving.\n",
    "\n",
    "(Note: we might possibly need to add a third modality, colliding/not-colliding, for encoding preferences)"
   ]
  },
  {
   "cell_type": "code",
   "execution_count": 20,
   "id": "60f26cfe-e631-4292-bc91-2ed53cffc0f6",
   "metadata": {},
   "outputs": [
    {
     "name": "stdout",
     "output_type": "stream",
     "text": [
      "[[[1. 1. 1. 1. 1.]\n",
      "  [1. 1. 0. 1. 0.]\n",
      "  [1. 1. 1. 0. 0.]\n",
      "  [0. 1. 1. 1. 0.]\n",
      "  [1. 0. 1. 1. 0.]]\n",
      "\n",
      " [[0. 0. 0. 0. 0.]\n",
      "  [0. 0. 1. 0. 1.]\n",
      "  [0. 0. 0. 0. 0.]\n",
      "  [0. 0. 0. 0. 0.]\n",
      "  [0. 0. 0. 0. 0.]]\n",
      "\n",
      " [[0. 0. 0. 0. 0.]\n",
      "  [0. 0. 0. 0. 0.]\n",
      "  [0. 0. 0. 1. 1.]\n",
      "  [0. 0. 0. 0. 0.]\n",
      "  [0. 0. 0. 0. 0.]]\n",
      "\n",
      " [[0. 0. 0. 0. 0.]\n",
      "  [0. 0. 0. 0. 0.]\n",
      "  [0. 0. 0. 0. 0.]\n",
      "  [1. 0. 0. 0. 1.]\n",
      "  [0. 0. 0. 0. 0.]]\n",
      "\n",
      " [[0. 0. 0. 0. 0.]\n",
      "  [0. 0. 0. 0. 0.]\n",
      "  [0. 0. 0. 0. 0.]\n",
      "  [0. 0. 0. 0. 0.]\n",
      "  [0. 1. 0. 0. 1.]]]\n"
     ]
    }
   ],
   "source": [
    "second_agent_locations = [\"NONE\", \"NEXT_LEFT\", \"NEXT_RIGHT\", \"ABOVE\", \"BELOW\"]\n",
    "\n",
    "B_second = np.zeros((len(second_agent_locations), len(second_agent_locations), len(E)))\n",
    "pos_idx = {\"NONE\": 0, \"NEXT_LEFT\": 1, \"NEXT_RIGHT\": 2, \"ABOVE\": 3, \"BELOW\": 4}\n",
    "\n",
    "for action_id, action_label in enumerate(E):\n",
    "\n",
    "    for curr_state, T_location in enumerate(second_agent_locations):\n",
    "\n",
    "        if action_label == \"UP\":\n",
    "            next_T_location = \"NONE\" if T_location != \"ABOVE\" else \"ABOVE\"\n",
    "        elif action_label == \"DOWN\":\n",
    "            next_T_location = \"NONE\" if T_location != \"BELOW\" else \"BELOW\"\n",
    "        elif action_label == \"LEFT\":\n",
    "            next_T_location = \"NONE\" if T_location != \"NEXT_LEFT\" else \"NEXT_LEFT\"\n",
    "        elif action_label == \"RIGHT\":\n",
    "            next_T_location = \"NONE\" if T_location != \"NEXT_RIGHT\" else \"NEXT_RIGHT\"\n",
    "        elif action_label == \"STAY\":\n",
    "            next_T_location = T_location\n",
    "        new_T_location = next_T_location\n",
    "        next_state = pos_idx[new_T_location]\n",
    "        B_second[next_state, curr_state, action_id] = 1.0\n",
    "\n",
    "print(B_second)"
   ]
  },
  {
   "cell_type": "code",
   "execution_count": 21,
   "id": "ee0093a6-33d9-49ba-97fb-0a35a61aeeec",
   "metadata": {},
   "outputs": [],
   "source": [
    "full_B = np.array([B, B_second], dtype='object')"
   ]
  },
  {
   "cell_type": "code",
   "execution_count": 22,
   "id": "4a56d057-951f-4e92-b982-91783d246342",
   "metadata": {},
   "outputs": [
    {
     "data": {
      "text/plain": [
       "(2,)"
      ]
     },
     "execution_count": 22,
     "metadata": {},
     "output_type": "execute_result"
    }
   ],
   "source": [
    "full_B.shape"
   ]
  },
  {
   "cell_type": "code",
   "execution_count": 23,
   "id": "3a966a49-0609-46f4-85ca-5411d513fa02",
   "metadata": {},
   "outputs": [],
   "source": [
    "A_gm = copy.deepcopy(full_A)\n",
    "B_gm = copy.deepcopy(full_B)"
   ]
  },
  {
   "cell_type": "code",
   "execution_count": 24,
   "id": "abd100ce-0f34-4459-90c6-10543fa0f2e5",
   "metadata": {},
   "outputs": [],
   "source": [
    "# controllable_indices = [0, 1]\n",
    "# controllable_indices = [0]\n",
    "controllable_indices = [1]"
   ]
  },
  {
   "cell_type": "code",
   "execution_count": 25,
   "id": "5415c9a0-eaa3-4630-8688-59e38cf69b10",
   "metadata": {},
   "outputs": [],
   "source": [
    "agent = Agent(A=A_gm, B=B_gm, control_fac_idx=controllable_indices)"
   ]
  },
  {
   "cell_type": "code",
   "execution_count": 26,
   "id": "c24c0d8d-f9ff-4b80-96f2-1ac51e21ff0a",
   "metadata": {},
   "outputs": [],
   "source": [
    "agent.D = [init_K, 0] # initial K position & initial K position relative to T, 0 means \"NONE\""
   ]
  },
  {
   "cell_type": "code",
   "execution_count": 27,
   "id": "dcf234a0-1263-4c97-adad-289b8331f79d",
   "metadata": {},
   "outputs": [],
   "source": [
    "agent.E = E # adding agent affordances to Agent class instance"
   ]
  },
  {
   "cell_type": "code",
   "execution_count": 28,
   "id": "c821fe8d-1a67-4e01-a205-5752357d30fa",
   "metadata": {},
   "outputs": [],
   "source": [
    "agent.C = [pref_K, 0] # preferred location & preferred relative relation to second agent (again \"NONE\")"
   ]
  },
  {
   "cell_type": "markdown",
   "id": "aad1a050-4fb5-407e-a431-bc049aaa7434",
   "metadata": {},
   "source": [
    "This concludes the initialization of the single agent for the multi-agent POMDP. What follows is an attempt at a full 2-agent Blockference simulation."
   ]
  },
  {
   "cell_type": "code",
   "execution_count": 29,
   "id": "64b059c4-cd4c-4636-8de6-8f6bc3d2bb38",
   "metadata": {},
   "outputs": [],
   "source": [
    "from radcad import Model, Simulation, Experiment"
   ]
  },
  {
   "cell_type": "code",
   "execution_count": 30,
   "id": "c0180fb0-1185-4c4c-981a-22feef0ebfb7",
   "metadata": {},
   "outputs": [],
   "source": [
    "agent_K = copy.deepcopy(agent)\n",
    "agent_T = copy.deepcopy(agent)"
   ]
  },
  {
   "cell_type": "code",
   "execution_count": 31,
   "id": "1daaf0ca-2e6d-4405-9c09-d0251dd91dda",
   "metadata": {},
   "outputs": [],
   "source": [
    "# change Karl and Thomas' prior & preference\n",
    "agent_K.D = [init_K, 0]\n",
    "agent_K.C = [pref_K, 0]\n",
    "\n",
    "agent_T.D = [init_T, 0]\n",
    "agent_T.C = [pref_T, 0]"
   ]
  },
  {
   "cell_type": "code",
   "execution_count": 32,
   "id": "1077a3b6-108a-42a4-a822-f8879e629ec9",
   "metadata": {},
   "outputs": [],
   "source": [
    "from pymdp import utils"
   ]
  },
  {
   "cell_type": "code",
   "execution_count": 33,
   "id": "acacb4e9-7eea-42ff-a95e-4bb720c2e7c4",
   "metadata": {},
   "outputs": [],
   "source": [
    "agent_K.D = np.array((utils.onehot(init_K, len(grid)), utils.onehot(0, len(second_agent_locations))), dtype='object')\n",
    "agent_T.D = np.array((utils.onehot(init_T, len(grid)), utils.onehot(0, len(second_agent_locations))), dtype='object')"
   ]
  },
  {
   "cell_type": "code",
   "execution_count": 34,
   "id": "3941ce63-7418-40d5-817d-cd8451d68a88",
   "metadata": {},
   "outputs": [],
   "source": [
    "init_obs_T = [np.nonzero(agent_T.D[0])[0][0], np.nonzero(agent_T.D[1])[0][0]]\n",
    "init_obs_K = [np.nonzero(agent_K.D[0])[0][0], np.nonzero(agent_K.D[1])[0][0]]"
   ]
  },
  {
   "cell_type": "code",
   "execution_count": 35,
   "id": "41254959-040c-4f40-bcdc-bf77053eafe5",
   "metadata": {},
   "outputs": [],
   "source": [
    "env = GridAgent(grid_len=3, agents=[agent_K, agent_T])"
   ]
  },
  {
   "cell_type": "code",
   "execution_count": 36,
   "id": "275b209e-384b-48ec-b542-9d4b68d71e2c",
   "metadata": {},
   "outputs": [],
   "source": [
    "initial_state = {\n",
    "    'agent_K': agent_K,\n",
    "    'agent_T': agent_T,\n",
    "    'env': env,\n",
    "    'obs': [init_obs_K, init_obs_T],\n",
    "    'locations': env.agent_locs\n",
    "}"
   ]
  },
  {
   "cell_type": "code",
   "execution_count": 37,
   "id": "68e1635c-ab6c-472c-9f16-f6a79eaa9346",
   "metadata": {},
   "outputs": [],
   "source": [
    "params = {\n",
    "}"
   ]
  },
  {
   "cell_type": "code",
   "execution_count": 38,
   "id": "1b4fdcd9-ab66-4543-8a53-63f6acae47de",
   "metadata": {},
   "outputs": [],
   "source": [
    "def p_actinf(params, substep, state_history, previous_state):\n",
    "    actions = []\n",
    "    for idx, agent in enumerate([previous_state['agent_K'], previous_state['agent_T']]):\n",
    "        obs = previous_state['obs'][idx] if previous_state['obs'] != '' else agent.D\n",
    "        qx = agent.infer_states(previous_state['obs'][idx] if previous_state['obs'] != '' else agent.D)\n",
    "        assert 1==0, f'hello'\n",
    "        q_pi, efe = agent.infer_policies()\n",
    "\n",
    "        action = agent.sample_action()\n",
    "\n",
    "    return {'update_actions': actions}"
   ]
  },
  {
   "cell_type": "code",
   "execution_count": 39,
   "id": "c656c6bb-f23c-4569-b9f5-36e644f39645",
   "metadata": {},
   "outputs": [],
   "source": [
    "def s_obs(params, substep, state_history, previous_state, policy_input):\n",
    "    updated_obs = previous_state['env'].step(policy_input['update_actions'])\n",
    "    return 'obs', updated_obs"
   ]
  },
  {
   "cell_type": "code",
   "execution_count": 40,
   "id": "d4fae47a-025c-4902-9c17-a7f67b986208",
   "metadata": {},
   "outputs": [],
   "source": [
    "state_update_blocks = [\n",
    "    {\n",
    "        'policies': {\n",
    "            'p_actinf': p_actinf\n",
    "        },\n",
    "        'variables': {\n",
    "            'obs': s_obs\n",
    "        }\n",
    "    }\n",
    "]"
   ]
  },
  {
   "cell_type": "code",
   "execution_count": 41,
   "id": "c7bda97e-f754-4700-a0c2-720e6566332f",
   "metadata": {},
   "outputs": [],
   "source": [
    "model = Model(\n",
    "    # Model initial state\n",
    "    initial_state=initial_state,\n",
    "    # Model Partial State Update Blocks\n",
    "    state_update_blocks=state_update_blocks,\n",
    "    # System Parameters\n",
    "    params=params\n",
    ")"
   ]
  },
  {
   "cell_type": "code",
   "execution_count": 42,
   "id": "0b362387-ccf9-4b6a-b429-316420c8676a",
   "metadata": {},
   "outputs": [],
   "source": [
    "simulation = Simulation(\n",
    "    model=model,\n",
    "    timesteps=20,  # Number of timesteps\n",
    "    runs=1  # Number of Monte Carlo Runs\n",
    ")"
   ]
  },
  {
   "cell_type": "code",
   "execution_count": 43,
   "id": "b96e0735-9549-47b9-96c6-0c765b2a6398",
   "metadata": {},
   "outputs": [
    {
     "name": "stdout",
     "output_type": "stream",
     "text": [
      "type of num states is <class 'list'>\n",
      "modality is 0, length of A is 2, A[modality] is [[1. 0. 0. 0. 0. 0. 0. 0. 0.]\n",
      " [0. 1. 0. 0. 0. 0. 0. 0. 0.]\n",
      " [0. 0. 1. 0. 0. 0. 0. 0. 0.]\n",
      " [0. 0. 0. 1. 0. 0. 0. 0. 0.]\n",
      " [0. 0. 0. 0. 1. 0. 0. 0. 0.]\n",
      " [0. 0. 0. 0. 0. 1. 0. 0. 0.]\n",
      " [0. 0. 0. 0. 0. 0. 1. 0. 0.]\n",
      " [0. 0. 0. 0. 0. 0. 0. 1. 0.]\n",
      " [0. 0. 0. 0. 0. 0. 0. 0. 1.]] and obs[modality] is [1. 0. 0. 0. 0. 0. 0. 0. 0.]\n",
      "ll is [1. 1. 1. 1. 1. 1. 1. 1. 1.]\n",
      "dot likelihood is [1. 0. 0. 0. 0. 0. 0. 0. 0.]\n",
      "modality is 1, length of A is 2, A[modality] is [[1. 0. 0. 0. 0.]\n",
      " [0. 1. 0. 0. 0.]\n",
      " [0. 0. 1. 0. 0.]\n",
      " [0. 0. 0. 1. 0.]\n",
      " [0. 0. 0. 0. 1.]] and obs[modality] is [1. 0. 0. 0. 0.]\n",
      "ll is [1. 0. 0. 0. 0. 0. 0. 0. 0.]\n",
      "dot likelihood is [1. 0. 0. 0. 0.]\n",
      "Traceback (most recent call last):\n",
      "  File \"/Users/jakubsmekal/miniconda3/envs/block/lib/python3.10/site-packages/radcad/core.py\", line 99, in single_run\n",
      "    _single_run(\n",
      "  File \"/Users/jakubsmekal/miniconda3/envs/block/lib/python3.10/site-packages/radcad/core.py\", line 67, in _single_run\n",
      "    signals: dict = reduce_signals(\n",
      "  File \"/Users/jakubsmekal/miniconda3/envs/block/lib/python3.10/site-packages/radcad/core.py\", line 178, in reduce_signals\n",
      "    policy_results: List[Dict[str, any]] = list(\n",
      "  File \"/Users/jakubsmekal/miniconda3/envs/block/lib/python3.10/site-packages/radcad/core.py\", line 179, in <lambda>\n",
      "    map(lambda function: function(params, substep, result, substate), psu[\"policies\"].values())\n",
      "  File \"/var/folders/xj/yxwtvrv95n77ycc9hpngfr700000gn/T/ipykernel_78870/2193255198.py\", line 6, in p_actinf\n",
      "    assert 1==0, f'hello'\n",
      "  File \"/Users/jakubsmekal/miniconda3/envs/block/lib/python3.10/site-packages/pymdp/agent.py\", line 423, in infer_states\n",
      "    qs = inference.update_posterior_states(\n",
      "  File \"/Users/jakubsmekal/miniconda3/envs/block/lib/python3.10/site-packages/pymdp/inference.py\", line 240, in update_posterior_states\n",
      "    return run_vanilla_fpi(A, obs, num_obs, num_states, prior, **kwargs)\n",
      "  File \"/Users/jakubsmekal/miniconda3/envs/block/lib/python3.10/site-packages/pymdp/algos/fpi.py\", line 57, in run_vanilla_fpi\n",
      "    likelihood = get_joint_likelihood(A, obs, num_states)\n",
      "  File \"/Users/jakubsmekal/miniconda3/envs/block/lib/python3.10/site-packages/pymdp/maths.py\", line 247, in get_joint_likelihood\n",
      "    ll = ll * dot_likelihood(A[modality], obs[modality])\n",
      "ValueError: operands could not be broadcast together with shapes (9,) (5,) \n",
      "\n"
     ]
    },
    {
     "name": "stderr",
     "output_type": "stream",
     "text": [
      "WARNING:root:Simulation 0 / run 0 / subset 0 failed! Returning partial results if Engine.raise_exceptions == False.\n"
     ]
    },
    {
     "ename": "ValueError",
     "evalue": "operands could not be broadcast together with shapes (9,) (5,) ",
     "output_type": "error",
     "traceback": [
      "\u001b[0;31m---------------------------------------------------------------------------\u001b[0m",
      "\u001b[0;31mRemoteTraceback\u001b[0m                           Traceback (most recent call last)",
      "\u001b[0;31mRemoteTraceback\u001b[0m: \n\"\"\"\nTraceback (most recent call last):\n  File \"/Users/jakubsmekal/miniconda3/envs/block/lib/python3.10/site-packages/multiprocess/pool.py\", line 125, in worker\n    result = (True, func(*args, **kwds))\n  File \"/Users/jakubsmekal/miniconda3/envs/block/lib/python3.10/site-packages/multiprocess/pool.py\", line 48, in mapstar\n    return list(map(*args))\n  File \"/Users/jakubsmekal/miniconda3/envs/block/lib/python3.10/site-packages/pathos/helpers/mp_helper.py\", line -1, in <lambda>\n  File \"/Users/jakubsmekal/miniconda3/envs/block/lib/python3.10/site-packages/radcad/core.py\", line 142, in _single_run_wrapper\n    raise e\n  File \"/Users/jakubsmekal/miniconda3/envs/block/lib/python3.10/site-packages/radcad/core.py\", line 128, in _single_run_wrapper\n    raise exception\n  File \"/Users/jakubsmekal/miniconda3/envs/block/lib/python3.10/site-packages/radcad/core.py\", line 99, in single_run\n    _single_run(\n  File \"/Users/jakubsmekal/miniconda3/envs/block/lib/python3.10/site-packages/radcad/core.py\", line 67, in _single_run\n    signals: dict = reduce_signals(\n  File \"/Users/jakubsmekal/miniconda3/envs/block/lib/python3.10/site-packages/radcad/core.py\", line 178, in reduce_signals\n    policy_results: List[Dict[str, any]] = list(\n  File \"/Users/jakubsmekal/miniconda3/envs/block/lib/python3.10/site-packages/radcad/core.py\", line 179, in <lambda>\n    map(lambda function: function(params, substep, result, substate), psu[\"policies\"].values())\n  File \"/var/folders/xj/yxwtvrv95n77ycc9hpngfr700000gn/T/ipykernel_78870/2193255198.py\", line 6, in p_actinf\n    assert 1==0, f'hello'\n  File \"/Users/jakubsmekal/miniconda3/envs/block/lib/python3.10/site-packages/pymdp/agent.py\", line 423, in infer_states\n    qs = inference.update_posterior_states(\n  File \"/Users/jakubsmekal/miniconda3/envs/block/lib/python3.10/site-packages/pymdp/inference.py\", line 240, in update_posterior_states\n    return run_vanilla_fpi(A, obs, num_obs, num_states, prior, **kwargs)\n  File \"/Users/jakubsmekal/miniconda3/envs/block/lib/python3.10/site-packages/pymdp/algos/fpi.py\", line 57, in run_vanilla_fpi\n    likelihood = get_joint_likelihood(A, obs, num_states)\n  File \"/Users/jakubsmekal/miniconda3/envs/block/lib/python3.10/site-packages/pymdp/maths.py\", line 247, in get_joint_likelihood\n    ll = ll * dot_likelihood(A[modality], obs[modality])\nValueError: operands could not be broadcast together with shapes (9,) (5,) \n\"\"\"",
      "\nThe above exception was the direct cause of the following exception:\n",
      "\u001b[0;31mValueError\u001b[0m                                Traceback (most recent call last)",
      "Input \u001b[0;32mIn [43]\u001b[0m, in \u001b[0;36m<cell line: 1>\u001b[0;34m()\u001b[0m\n\u001b[0;32m----> 1\u001b[0m result \u001b[38;5;241m=\u001b[39m \u001b[43msimulation\u001b[49m\u001b[38;5;241;43m.\u001b[39;49m\u001b[43mrun\u001b[49m\u001b[43m(\u001b[49m\u001b[43m)\u001b[49m\n",
      "File \u001b[0;32m~/miniconda3/envs/block/lib/python3.10/site-packages/radcad/wrappers.py:151\u001b[0m, in \u001b[0;36mSimulation.run\u001b[0;34m(self)\u001b[0m\n\u001b[1;32m    150\u001b[0m \u001b[38;5;28;01mdef\u001b[39;00m \u001b[38;5;21mrun\u001b[39m(\u001b[38;5;28mself\u001b[39m):\n\u001b[0;32m--> 151\u001b[0m     \u001b[38;5;28;01mreturn\u001b[39;00m \u001b[38;5;28;43mself\u001b[39;49m\u001b[38;5;241;43m.\u001b[39;49m\u001b[43mengine\u001b[49m\u001b[38;5;241;43m.\u001b[39;49m\u001b[43m_run\u001b[49m\u001b[43m(\u001b[49m\u001b[43mexecutable\u001b[49m\u001b[38;5;241;43m=\u001b[39;49m\u001b[38;5;28;43mself\u001b[39;49m\u001b[43m)\u001b[49m\n",
      "File \u001b[0;32m~/miniconda3/envs/block/lib/python3.10/site-packages/radcad/engine.py:80\u001b[0m, in \u001b[0;36mEngine._run\u001b[0;34m(self, executable, **kwargs)\u001b[0m\n\u001b[1;32m     77\u001b[0m \u001b[38;5;28;01melse\u001b[39;00m:\n\u001b[1;32m     78\u001b[0m     \u001b[38;5;28;01mraise\u001b[39;00m \u001b[38;5;167;01mException\u001b[39;00m(\u001b[38;5;124mf\u001b[39m\u001b[38;5;124m\"\u001b[39m\u001b[38;5;124mExecution backend must be one of \u001b[39m\u001b[38;5;132;01m{\u001b[39;00mBackend\u001b[38;5;241m.\u001b[39m_member_names_\u001b[38;5;132;01m}\u001b[39;00m\u001b[38;5;124m, not \u001b[39m\u001b[38;5;132;01m{\u001b[39;00m\u001b[38;5;28mself\u001b[39m\u001b[38;5;241m.\u001b[39mbackend\u001b[38;5;132;01m}\u001b[39;00m\u001b[38;5;124m\"\u001b[39m)\n\u001b[0;32m---> 80\u001b[0m result \u001b[38;5;241m=\u001b[39m \u001b[43mExecutor\u001b[49m\u001b[43m(\u001b[49m\u001b[38;5;28;43mself\u001b[39;49m\u001b[43m)\u001b[49m\u001b[38;5;241;43m.\u001b[39;49m\u001b[43mexecute_runs\u001b[49m\u001b[43m(\u001b[49m\u001b[43m)\u001b[49m\n\u001b[1;32m     82\u001b[0m \u001b[38;5;28mself\u001b[39m\u001b[38;5;241m.\u001b[39mexecutable\u001b[38;5;241m.\u001b[39mresults, \u001b[38;5;28mself\u001b[39m\u001b[38;5;241m.\u001b[39mexecutable\u001b[38;5;241m.\u001b[39mexceptions \u001b[38;5;241m=\u001b[39m extract_exceptions(result)\n\u001b[1;32m     83\u001b[0m \u001b[38;5;28mself\u001b[39m\u001b[38;5;241m.\u001b[39mexecutable\u001b[38;5;241m.\u001b[39m_after_experiment(experiment\u001b[38;5;241m=\u001b[39m(executable \u001b[38;5;28;01mif\u001b[39;00m \u001b[38;5;28misinstance\u001b[39m(executable, wrappers\u001b[38;5;241m.\u001b[39mExperiment) \u001b[38;5;28;01melse\u001b[39;00m \u001b[38;5;28;01mNone\u001b[39;00m))\n",
      "File \u001b[0;32m~/miniconda3/envs/block/lib/python3.10/site-packages/radcad/backends/pathos.py:21\u001b[0m, in \u001b[0;36mExecutorPathos.execute_runs\u001b[0;34m(self)\u001b[0m\n\u001b[1;32m     19\u001b[0m \u001b[38;5;28;01mdef\u001b[39;00m \u001b[38;5;21mexecute_runs\u001b[39m(\u001b[38;5;28mself\u001b[39m):\n\u001b[1;32m     20\u001b[0m     \u001b[38;5;28;01mwith\u001b[39;00m ProcessPool(\u001b[38;5;28mself\u001b[39m\u001b[38;5;241m.\u001b[39mengine\u001b[38;5;241m.\u001b[39mprocesses) \u001b[38;5;28;01mas\u001b[39;00m pool:\n\u001b[0;32m---> 21\u001b[0m         result \u001b[38;5;241m=\u001b[39m \u001b[43mpool\u001b[49m\u001b[38;5;241;43m.\u001b[39;49m\u001b[43mmap\u001b[49m\u001b[43m(\u001b[49m\n\u001b[1;32m     22\u001b[0m \u001b[43m            \u001b[49m\u001b[43mcore\u001b[49m\u001b[38;5;241;43m.\u001b[39;49m\u001b[43m_single_run_wrapper\u001b[49m\u001b[43m,\u001b[49m\n\u001b[1;32m     23\u001b[0m \u001b[43m            \u001b[49m\u001b[43m[\u001b[49m\n\u001b[1;32m     24\u001b[0m \u001b[43m                \u001b[49m\u001b[43m(\u001b[49m\u001b[43mconfig\u001b[49m\u001b[43m,\u001b[49m\u001b[43m \u001b[49m\u001b[38;5;28;43mself\u001b[39;49m\u001b[38;5;241;43m.\u001b[39;49m\u001b[43mengine\u001b[49m\u001b[38;5;241;43m.\u001b[39;49m\u001b[43mraise_exceptions\u001b[49m\u001b[43m)\u001b[49m\n\u001b[1;32m     25\u001b[0m \u001b[43m                \u001b[49m\u001b[38;5;28;43;01mfor\u001b[39;49;00m\u001b[43m \u001b[49m\u001b[43mconfig\u001b[49m\u001b[43m \u001b[49m\u001b[38;5;129;43;01min\u001b[39;49;00m\u001b[43m \u001b[49m\u001b[38;5;28;43mself\u001b[39;49m\u001b[38;5;241;43m.\u001b[39;49m\u001b[43mengine\u001b[49m\u001b[38;5;241;43m.\u001b[39;49m\u001b[43m_run_generator\u001b[49m\n\u001b[1;32m     26\u001b[0m \u001b[43m            \u001b[49m\u001b[43m]\u001b[49m\u001b[43m,\u001b[49m\n\u001b[1;32m     27\u001b[0m \u001b[43m        \u001b[49m\u001b[43m)\u001b[49m\n\u001b[1;32m     28\u001b[0m         pool\u001b[38;5;241m.\u001b[39mclose()\n\u001b[1;32m     29\u001b[0m         pool\u001b[38;5;241m.\u001b[39mjoin()\n",
      "File \u001b[0;32m~/miniconda3/envs/block/lib/python3.10/site-packages/pathos/multiprocessing.py:139\u001b[0m, in \u001b[0;36mProcessPool.map\u001b[0;34m(self, f, *args, **kwds)\u001b[0m\n\u001b[1;32m    137\u001b[0m AbstractWorkerPool\u001b[38;5;241m.\u001b[39m_AbstractWorkerPool__map(\u001b[38;5;28mself\u001b[39m, f, \u001b[38;5;241m*\u001b[39margs, \u001b[38;5;241m*\u001b[39m\u001b[38;5;241m*\u001b[39mkwds)\n\u001b[1;32m    138\u001b[0m _pool \u001b[38;5;241m=\u001b[39m \u001b[38;5;28mself\u001b[39m\u001b[38;5;241m.\u001b[39m_serve()\n\u001b[0;32m--> 139\u001b[0m \u001b[38;5;28;01mreturn\u001b[39;00m \u001b[43m_pool\u001b[49m\u001b[38;5;241;43m.\u001b[39;49m\u001b[43mmap\u001b[49m\u001b[43m(\u001b[49m\u001b[43mstar\u001b[49m\u001b[43m(\u001b[49m\u001b[43mf\u001b[49m\u001b[43m)\u001b[49m\u001b[43m,\u001b[49m\u001b[43m \u001b[49m\u001b[38;5;28;43mzip\u001b[39;49m\u001b[43m(\u001b[49m\u001b[38;5;241;43m*\u001b[39;49m\u001b[43margs\u001b[49m\u001b[43m)\u001b[49m\u001b[43m)\u001b[49m\n",
      "File \u001b[0;32m~/miniconda3/envs/block/lib/python3.10/site-packages/multiprocess/pool.py:364\u001b[0m, in \u001b[0;36mPool.map\u001b[0;34m(self, func, iterable, chunksize)\u001b[0m\n\u001b[1;32m    359\u001b[0m \u001b[38;5;28;01mdef\u001b[39;00m \u001b[38;5;21mmap\u001b[39m(\u001b[38;5;28mself\u001b[39m, func, iterable, chunksize\u001b[38;5;241m=\u001b[39m\u001b[38;5;28;01mNone\u001b[39;00m):\n\u001b[1;32m    360\u001b[0m     \u001b[38;5;124;03m'''\u001b[39;00m\n\u001b[1;32m    361\u001b[0m \u001b[38;5;124;03m    Apply `func` to each element in `iterable`, collecting the results\u001b[39;00m\n\u001b[1;32m    362\u001b[0m \u001b[38;5;124;03m    in a list that is returned.\u001b[39;00m\n\u001b[1;32m    363\u001b[0m \u001b[38;5;124;03m    '''\u001b[39;00m\n\u001b[0;32m--> 364\u001b[0m     \u001b[38;5;28;01mreturn\u001b[39;00m \u001b[38;5;28;43mself\u001b[39;49m\u001b[38;5;241;43m.\u001b[39;49m\u001b[43m_map_async\u001b[49m\u001b[43m(\u001b[49m\u001b[43mfunc\u001b[49m\u001b[43m,\u001b[49m\u001b[43m \u001b[49m\u001b[43miterable\u001b[49m\u001b[43m,\u001b[49m\u001b[43m \u001b[49m\u001b[43mmapstar\u001b[49m\u001b[43m,\u001b[49m\u001b[43m \u001b[49m\u001b[43mchunksize\u001b[49m\u001b[43m)\u001b[49m\u001b[38;5;241;43m.\u001b[39;49m\u001b[43mget\u001b[49m\u001b[43m(\u001b[49m\u001b[43m)\u001b[49m\n",
      "File \u001b[0;32m~/miniconda3/envs/block/lib/python3.10/site-packages/multiprocess/pool.py:771\u001b[0m, in \u001b[0;36mApplyResult.get\u001b[0;34m(self, timeout)\u001b[0m\n\u001b[1;32m    769\u001b[0m     \u001b[38;5;28;01mreturn\u001b[39;00m \u001b[38;5;28mself\u001b[39m\u001b[38;5;241m.\u001b[39m_value\n\u001b[1;32m    770\u001b[0m \u001b[38;5;28;01melse\u001b[39;00m:\n\u001b[0;32m--> 771\u001b[0m     \u001b[38;5;28;01mraise\u001b[39;00m \u001b[38;5;28mself\u001b[39m\u001b[38;5;241m.\u001b[39m_value\n",
      "\u001b[0;31mValueError\u001b[0m: operands could not be broadcast together with shapes (9,) (5,) "
     ]
    },
    {
     "name": "stderr",
     "output_type": "stream",
     "text": [
      "Process ForkPoolWorker-1:\n",
      "Process ForkPoolWorker-2:\n",
      "Process ForkPoolWorker-3:\n",
      "Traceback (most recent call last):\n",
      "  File \"/Users/jakubsmekal/miniconda3/envs/block/lib/python3.10/site-packages/multiprocess/process.py\", line 315, in _bootstrap\n",
      "    self.run()\n",
      "  File \"/Users/jakubsmekal/miniconda3/envs/block/lib/python3.10/site-packages/multiprocess/process.py\", line 108, in run\n",
      "    self._target(*self._args, **self._kwargs)\n",
      "  File \"/Users/jakubsmekal/miniconda3/envs/block/lib/python3.10/site-packages/multiprocess/pool.py\", line 114, in worker\n",
      "    task = get()\n",
      "  File \"/Users/jakubsmekal/miniconda3/envs/block/lib/python3.10/site-packages/multiprocess/queues.py\", line 368, in get\n",
      "    with self._rlock:\n",
      "  File \"/Users/jakubsmekal/miniconda3/envs/block/lib/python3.10/site-packages/multiprocess/synchronize.py\", line 101, in __enter__\n",
      "    return self._semlock.__enter__()\n",
      "Traceback (most recent call last):\n",
      "KeyboardInterrupt\n",
      "  File \"/Users/jakubsmekal/miniconda3/envs/block/lib/python3.10/site-packages/multiprocess/process.py\", line 315, in _bootstrap\n",
      "    self.run()\n",
      "  File \"/Users/jakubsmekal/miniconda3/envs/block/lib/python3.10/site-packages/multiprocess/process.py\", line 108, in run\n",
      "    self._target(*self._args, **self._kwargs)\n",
      "  File \"/Users/jakubsmekal/miniconda3/envs/block/lib/python3.10/site-packages/multiprocess/pool.py\", line 114, in worker\n",
      "    task = get()\n",
      "  File \"/Users/jakubsmekal/miniconda3/envs/block/lib/python3.10/site-packages/multiprocess/queues.py\", line 368, in get\n",
      "    with self._rlock:\n",
      "Traceback (most recent call last):\n",
      "  File \"/Users/jakubsmekal/miniconda3/envs/block/lib/python3.10/site-packages/multiprocess/synchronize.py\", line 101, in __enter__\n",
      "    return self._semlock.__enter__()\n",
      "KeyboardInterrupt\n",
      "  File \"/Users/jakubsmekal/miniconda3/envs/block/lib/python3.10/site-packages/multiprocess/process.py\", line 315, in _bootstrap\n",
      "    self.run()\n",
      "  File \"/Users/jakubsmekal/miniconda3/envs/block/lib/python3.10/site-packages/multiprocess/process.py\", line 108, in run\n",
      "    self._target(*self._args, **self._kwargs)\n",
      "  File \"/Users/jakubsmekal/miniconda3/envs/block/lib/python3.10/site-packages/multiprocess/pool.py\", line 114, in worker\n",
      "    task = get()\n",
      "  File \"/Users/jakubsmekal/miniconda3/envs/block/lib/python3.10/site-packages/multiprocess/queues.py\", line 369, in get\n",
      "    res = self._reader.recv_bytes()\n",
      "  File \"/Users/jakubsmekal/miniconda3/envs/block/lib/python3.10/site-packages/multiprocess/connection.py\", line 224, in recv_bytes\n",
      "    buf = self._recv_bytes(maxlength)\n",
      "  File \"/Users/jakubsmekal/miniconda3/envs/block/lib/python3.10/site-packages/multiprocess/connection.py\", line 422, in _recv_bytes\n",
      "    buf = self._recv(4)\n",
      "  File \"/Users/jakubsmekal/miniconda3/envs/block/lib/python3.10/site-packages/multiprocess/connection.py\", line 387, in _recv\n",
      "    chunk = read(handle, remaining)\n",
      "KeyboardInterrupt\n"
     ]
    }
   ],
   "source": [
    "result = simulation.run()"
   ]
  },
  {
   "cell_type": "code",
   "execution_count": null,
   "id": "f09d9f5e-3a9a-4e4c-8f4c-2395189843ee",
   "metadata": {},
   "outputs": [],
   "source": [
    "df = pd.DataFrame(result)\n",
    "df"
   ]
  },
  {
   "cell_type": "code",
   "execution_count": null,
   "id": "4a7462f5-25a0-44b6-9b09-3872fe661f0c",
   "metadata": {},
   "outputs": [],
   "source": []
  },
  {
   "cell_type": "code",
   "execution_count": null,
   "id": "ccc43e70-b7e3-4e2b-ac05-5bf6cd237690",
   "metadata": {},
   "outputs": [],
   "source": []
  },
  {
   "cell_type": "code",
   "execution_count": 36,
   "id": "8d86c738-7b16-41c1-8077-44e5a6aa3567",
   "metadata": {},
   "outputs": [],
   "source": [
    "def dot_likelihood(A,obs):\n",
    "\n",
    "    s = np.ones(np.ndim(A), dtype = int)\n",
    "    s[0] = obs.shape[0]\n",
    "    X = A * obs.reshape(tuple(s))\n",
    "    X = np.sum(X, axis=0, keepdims=True)\n",
    "    LL = np.squeeze(X)\n",
    "\n",
    "    # check to see if `LL` is a scalar\n",
    "    if np.prod(LL.shape) <= 1.0:\n",
    "        LL = LL.item()\n",
    "        LL = np.array([LL]).astype(\"float64\")\n",
    "\n",
    "    return LL"
   ]
  },
  {
   "cell_type": "code",
   "execution_count": null,
   "id": "660ffdc8-e62f-43ab-beee-1e3fad961be5",
   "metadata": {},
   "outputs": [],
   "source": [
    "dot_likelihood()"
   ]
  },
  {
   "cell_type": "code",
   "execution_count": null,
   "id": "3764a406-a855-45e4-b5a5-cc65d020946c",
   "metadata": {},
   "outputs": [],
   "source": []
  },
  {
   "cell_type": "code",
   "execution_count": null,
   "id": "0b107067-3885-4c57-99e7-6b79bc7e4a67",
   "metadata": {},
   "outputs": [],
   "source": []
  },
  {
   "cell_type": "code",
   "execution_count": 56,
   "id": "f4c47065-7e31-4271-bf1c-e219c0231d04",
   "metadata": {},
   "outputs": [
    {
     "data": {
      "text/plain": [
       "([9, 5], [9, 5], 2, 2)"
      ]
     },
     "execution_count": 56,
     "metadata": {},
     "output_type": "execute_result"
    }
   ],
   "source": [
    "utils.get_model_dimensions(agent_K.A, agent_K.B)"
   ]
  },
  {
   "cell_type": "code",
   "execution_count": 52,
   "id": "0f4ba887-98cc-4409-960f-8be26e27ea6c",
   "metadata": {},
   "outputs": [
    {
     "data": {
      "text/plain": [
       "[4, 2]"
      ]
     },
     "execution_count": 52,
     "metadata": {},
     "output_type": "execute_result"
    }
   ],
   "source": [
    "list(agent.A[0].shape[1:]) if utils.is_obj_array(agent.A) else list(agent.A.shape[1:])"
   ]
  },
  {
   "cell_type": "code",
   "execution_count": 56,
   "id": "da9c76a9-c87b-4ccd-99dc-77d307290817",
   "metadata": {},
   "outputs": [
    {
     "data": {
      "text/plain": [
       "(2,)"
      ]
     },
     "execution_count": 56,
     "metadata": {},
     "output_type": "execute_result"
    }
   ],
   "source": [
    "agent.B.shape"
   ]
  },
  {
   "cell_type": "code",
   "execution_count": 57,
   "id": "f0dba6c9-9763-4f40-a28b-94673d6b6a40",
   "metadata": {},
   "outputs": [
    {
     "data": {
      "text/plain": [
       "(2,)"
      ]
     },
     "execution_count": 57,
     "metadata": {},
     "output_type": "execute_result"
    }
   ],
   "source": [
    "agent_K.B.shape"
   ]
  },
  {
   "cell_type": "code",
   "execution_count": 75,
   "id": "75a62f1b-810e-4c9f-a016-e2997a196532",
   "metadata": {},
   "outputs": [
    {
     "data": {
      "text/plain": [
       "([4, 3, 2], [4, 2], 3, 2)"
      ]
     },
     "execution_count": 75,
     "metadata": {},
     "output_type": "execute_result"
    }
   ],
   "source": [
    "utils.get_model_dimensions(A = agent.A)"
   ]
  },
  {
   "cell_type": "code",
   "execution_count": 41,
   "id": "99d2db36-6fc2-43ad-b856-bb5f11ba4675",
   "metadata": {},
   "outputs": [
    {
     "data": {
      "text/plain": [
       "[9, 5]"
      ]
     },
     "execution_count": 41,
     "metadata": {},
     "output_type": "execute_result"
    }
   ],
   "source": [
    "num_obs"
   ]
  },
  {
   "cell_type": "code",
   "execution_count": 42,
   "id": "681c0500-db3b-4a8a-bedb-24b0721a6f98",
   "metadata": {},
   "outputs": [
    {
     "data": {
      "text/plain": [
       "[9]"
      ]
     },
     "execution_count": 42,
     "metadata": {},
     "output_type": "execute_result"
    }
   ],
   "source": [
    "num_states"
   ]
  },
  {
   "cell_type": "code",
   "execution_count": 66,
   "id": "f3fb06c2-cc02-4b5b-81c5-0cef2882acb4",
   "metadata": {},
   "outputs": [
    {
     "data": {
      "text/plain": [
       "array([array([[[1., 1.],\n",
       "               [0., 0.],\n",
       "               [0., 0.],\n",
       "               [0., 0.]],\n",
       "\n",
       "              [[0., 0.],\n",
       "               [1., 1.],\n",
       "               [0., 0.],\n",
       "               [0., 0.]],\n",
       "\n",
       "              [[0., 0.],\n",
       "               [0., 0.],\n",
       "               [1., 1.],\n",
       "               [0., 0.]],\n",
       "\n",
       "              [[0., 0.],\n",
       "               [0., 0.],\n",
       "               [0., 0.],\n",
       "               [1., 1.]]]), array([[[1.  , 1.  ],\n",
       "                                    [0.  , 0.  ],\n",
       "                                    [0.  , 0.  ],\n",
       "                                    [1.  , 1.  ]],\n",
       "\n",
       "                                   [[0.  , 0.  ],\n",
       "                                    [0.98, 0.02],\n",
       "                                    [0.02, 0.98],\n",
       "                                    [0.  , 0.  ]],\n",
       "\n",
       "                                   [[0.  , 0.  ],\n",
       "                                    [0.02, 0.98],\n",
       "                                    [0.98, 0.02],\n",
       "                                    [0.  , 0.  ]]]),\n",
       "       array([[[0.5, 0.5],\n",
       "               [0.5, 0.5],\n",
       "               [0.5, 0.5],\n",
       "               [1. , 0. ]],\n",
       "\n",
       "              [[0.5, 0.5],\n",
       "               [0.5, 0.5],\n",
       "               [0.5, 0.5],\n",
       "               [0. , 1. ]]])], dtype=object)"
      ]
     },
     "execution_count": 66,
     "metadata": {},
     "output_type": "execute_result"
    }
   ],
   "source": [
    "agent.A"
   ]
  },
  {
   "cell_type": "code",
   "execution_count": 82,
   "id": "4a8c512d-ae3f-4e2a-ae7f-fdc3f69e24e2",
   "metadata": {},
   "outputs": [
    {
     "data": {
      "text/plain": [
       "(5,)"
      ]
     },
     "execution_count": 82,
     "metadata": {},
     "output_type": "execute_result"
    }
   ],
   "source": [
    "agent_K.A[1][0].shape"
   ]
  },
  {
   "cell_type": "code",
   "execution_count": 77,
   "id": "8cbc5d4f-62a6-4978-8089-47dbe13a17d1",
   "metadata": {},
   "outputs": [
    {
     "data": {
      "text/plain": [
       "(4, 2)"
      ]
     },
     "execution_count": 77,
     "metadata": {},
     "output_type": "execute_result"
    }
   ],
   "source": [
    "agent.A[0][0].shape"
   ]
  },
  {
   "cell_type": "code",
   "execution_count": 44,
   "id": "2926e0a4-0164-41cc-8ba5-6ce92a186ce8",
   "metadata": {},
   "outputs": [],
   "source": [
    "# TMAZE\n",
    "import os\n",
    "import sys\n",
    "import pathlib\n",
    "import numpy as np\n",
    "import seaborn as sns\n",
    "import matplotlib.pyplot as plt\n",
    "import copy\n",
    "\n",
    "from pymdp.agent import Agent\n",
    "from pymdp import utils\n",
    "from pymdp.envs import TMazeEnv"
   ]
  },
  {
   "cell_type": "code",
   "execution_count": 45,
   "id": "698efe05-43f8-4753-850d-6cc088dc5bf1",
   "metadata": {},
   "outputs": [],
   "source": [
    "def plot_beliefs(belief_dist, title=\"\"):\n",
    "    plt.grid(zorder=0)\n",
    "    plt.bar(range(belief_dist.shape[0]), belief_dist, color='r', zorder=3)\n",
    "    plt.xticks(range(belief_dist.shape[0]))\n",
    "    plt.title(title)\n",
    "    plt.show()\n",
    "    \n",
    "def plot_likelihood(A, title=\"\"):\n",
    "    ax = sns.heatmap(A, cmap=\"OrRd\", linewidth=2.5)\n",
    "    plt.xticks(range(A.shape[1]))\n",
    "    plt.yticks(range(A.shape[0]))\n",
    "    plt.title(title)\n",
    "    plt.show()"
   ]
  },
  {
   "cell_type": "code",
   "execution_count": 46,
   "id": "a85b040f-5079-4a34-968c-22f35330929d",
   "metadata": {},
   "outputs": [],
   "source": [
    "reward_probabilities = [0.98, 0.02] # probabilities used in the original SPM T-maze demo\n",
    "env = TMazeEnv(reward_probs = reward_probabilities)\n",
    "# here, we can get the likelihood mapping directly from the environmental class. So this is the likelihood mapping that truly describes the relatinoship between the \n",
    "# environment's hidden state and the observations the agent will get\n",
    "\n",
    "A_gp = env.get_likelihood_dist()"
   ]
  },
  {
   "cell_type": "code",
   "execution_count": 47,
   "id": "3d9beac6-f699-4b9d-8f5e-6b0d27e718d2",
   "metadata": {},
   "outputs": [
    {
     "data": {
      "text/plain": [
       "array([array([[[1., 1.],\n",
       "               [0., 0.],\n",
       "               [0., 0.],\n",
       "               [0., 0.]],\n",
       "\n",
       "              [[0., 0.],\n",
       "               [1., 1.],\n",
       "               [0., 0.],\n",
       "               [0., 0.]],\n",
       "\n",
       "              [[0., 0.],\n",
       "               [0., 0.],\n",
       "               [1., 1.],\n",
       "               [0., 0.]],\n",
       "\n",
       "              [[0., 0.],\n",
       "               [0., 0.],\n",
       "               [0., 0.],\n",
       "               [1., 1.]]]), array([[[1.  , 1.  ],\n",
       "                                    [0.  , 0.  ],\n",
       "                                    [0.  , 0.  ],\n",
       "                                    [1.  , 1.  ]],\n",
       "\n",
       "                                   [[0.  , 0.  ],\n",
       "                                    [0.98, 0.02],\n",
       "                                    [0.02, 0.98],\n",
       "                                    [0.  , 0.  ]],\n",
       "\n",
       "                                   [[0.  , 0.  ],\n",
       "                                    [0.02, 0.98],\n",
       "                                    [0.98, 0.02],\n",
       "                                    [0.  , 0.  ]]]),\n",
       "       array([[[0.5, 0.5],\n",
       "               [0.5, 0.5],\n",
       "               [0.5, 0.5],\n",
       "               [1. , 0. ]],\n",
       "\n",
       "              [[0.5, 0.5],\n",
       "               [0.5, 0.5],\n",
       "               [0.5, 0.5],\n",
       "               [0. , 1. ]]])], dtype=object)"
      ]
     },
     "execution_count": 47,
     "metadata": {},
     "output_type": "execute_result"
    }
   ],
   "source": [
    "A_gp"
   ]
  },
  {
   "cell_type": "code",
   "execution_count": 48,
   "id": "3cf95ccc-63df-49df-bcde-5f22d8d8d20b",
   "metadata": {},
   "outputs": [],
   "source": [
    "B_gp = env.get_transition_dist()"
   ]
  },
  {
   "cell_type": "code",
   "execution_count": 49,
   "id": "37890a9d-9241-42c1-9fcf-cfe18b315605",
   "metadata": {},
   "outputs": [],
   "source": [
    "A_gm = copy.deepcopy(A_gp) # make a copy of the true observation likelihood to initialize the observation model\n",
    "B_gm = copy.deepcopy(B_gp) # make a copy of the true transition likelihood to initialize the transition model\n",
    "controllable_indices = [0] # this is a list of the indices of the hidden state factors that are controllable\n",
    "agent = Agent(A=A_gm, B=B_gm, control_fac_idx=controllable_indices)\n",
    "agent.C[1][1] = 3.0\n",
    "agent.C[1][2] = -3.0"
   ]
  },
  {
   "cell_type": "code",
   "execution_count": 50,
   "id": "ac33073f-e047-4e09-837e-e5f3ee295b58",
   "metadata": {},
   "outputs": [
    {
     "name": "stdout",
     "output_type": "stream",
     "text": [
      " === Starting experiment === \n",
      " Reward condition: Left, Observation: [CENTER, No reward, Cue Left]\n",
      "Observation is [0, 0, 1]\n",
      "type of num states is <class 'list'>\n",
      "modality is 0, length of A is 3, A[modality] is [[[1. 1.]\n",
      "  [0. 0.]\n",
      "  [0. 0.]\n",
      "  [0. 0.]]\n",
      "\n",
      " [[0. 0.]\n",
      "  [1. 1.]\n",
      "  [0. 0.]\n",
      "  [0. 0.]]\n",
      "\n",
      " [[0. 0.]\n",
      "  [0. 0.]\n",
      "  [1. 1.]\n",
      "  [0. 0.]]\n",
      "\n",
      " [[0. 0.]\n",
      "  [0. 0.]\n",
      "  [0. 0.]\n",
      "  [1. 1.]]] and obs[modality] is [1. 0. 0. 0.]\n",
      "ll is [[1. 1.]\n",
      " [1. 1.]\n",
      " [1. 1.]\n",
      " [1. 1.]]\n",
      "dot likelihood is [[1. 1.]\n",
      " [0. 0.]\n",
      " [0. 0.]\n",
      " [0. 0.]]\n",
      "modality is 1, length of A is 3, A[modality] is [[[1.   1.  ]\n",
      "  [0.   0.  ]\n",
      "  [0.   0.  ]\n",
      "  [1.   1.  ]]\n",
      "\n",
      " [[0.   0.  ]\n",
      "  [0.98 0.02]\n",
      "  [0.02 0.98]\n",
      "  [0.   0.  ]]\n",
      "\n",
      " [[0.   0.  ]\n",
      "  [0.02 0.98]\n",
      "  [0.98 0.02]\n",
      "  [0.   0.  ]]] and obs[modality] is [1. 0. 0.]\n",
      "ll is [[1. 1.]\n",
      " [0. 0.]\n",
      " [0. 0.]\n",
      " [0. 0.]]\n",
      "dot likelihood is [[1. 1.]\n",
      " [0. 0.]\n",
      " [0. 0.]\n",
      " [1. 1.]]\n",
      "modality is 2, length of A is 3, A[modality] is [[[0.5 0.5]\n",
      "  [0.5 0.5]\n",
      "  [0.5 0.5]\n",
      "  [1.  0. ]]\n",
      "\n",
      " [[0.5 0.5]\n",
      "  [0.5 0.5]\n",
      "  [0.5 0.5]\n",
      "  [0.  1. ]]] and obs[modality] is [0. 1.]\n",
      "ll is [[1. 1.]\n",
      " [0. 0.]\n",
      " [0. 0.]\n",
      " [0. 0.]]\n",
      "dot likelihood is [[0.5 0.5]\n",
      " [0.5 0.5]\n",
      " [0.5 0.5]\n",
      " [0.  1. ]]\n",
      "[Step 0] Action: [Move to CUE LOCATION]\n",
      "[Step 0] Observation: [CUE LOCATION,  No reward, Cue Left]\n",
      "Observation is [3, 0, 1]\n",
      "type of num states is <class 'list'>\n",
      "modality is 0, length of A is 3, A[modality] is [[[1. 1.]\n",
      "  [0. 0.]\n",
      "  [0. 0.]\n",
      "  [0. 0.]]\n",
      "\n",
      " [[0. 0.]\n",
      "  [1. 1.]\n",
      "  [0. 0.]\n",
      "  [0. 0.]]\n",
      "\n",
      " [[0. 0.]\n",
      "  [0. 0.]\n",
      "  [1. 1.]\n",
      "  [0. 0.]]\n",
      "\n",
      " [[0. 0.]\n",
      "  [0. 0.]\n",
      "  [0. 0.]\n",
      "  [1. 1.]]] and obs[modality] is [0. 0. 0. 1.]\n",
      "ll is [[1. 1.]\n",
      " [1. 1.]\n",
      " [1. 1.]\n",
      " [1. 1.]]\n",
      "dot likelihood is [[0. 0.]\n",
      " [0. 0.]\n",
      " [0. 0.]\n",
      " [1. 1.]]\n",
      "modality is 1, length of A is 3, A[modality] is [[[1.   1.  ]\n",
      "  [0.   0.  ]\n",
      "  [0.   0.  ]\n",
      "  [1.   1.  ]]\n",
      "\n",
      " [[0.   0.  ]\n",
      "  [0.98 0.02]\n",
      "  [0.02 0.98]\n",
      "  [0.   0.  ]]\n",
      "\n",
      " [[0.   0.  ]\n",
      "  [0.02 0.98]\n",
      "  [0.98 0.02]\n",
      "  [0.   0.  ]]] and obs[modality] is [1. 0. 0.]\n",
      "ll is [[0. 0.]\n",
      " [0. 0.]\n",
      " [0. 0.]\n",
      " [1. 1.]]\n",
      "dot likelihood is [[1. 1.]\n",
      " [0. 0.]\n",
      " [0. 0.]\n",
      " [1. 1.]]\n",
      "modality is 2, length of A is 3, A[modality] is [[[0.5 0.5]\n",
      "  [0.5 0.5]\n",
      "  [0.5 0.5]\n",
      "  [1.  0. ]]\n",
      "\n",
      " [[0.5 0.5]\n",
      "  [0.5 0.5]\n",
      "  [0.5 0.5]\n",
      "  [0.  1. ]]] and obs[modality] is [0. 1.]\n",
      "ll is [[0. 0.]\n",
      " [0. 0.]\n",
      " [0. 0.]\n",
      " [1. 1.]]\n",
      "dot likelihood is [[0.5 0.5]\n",
      " [0.5 0.5]\n",
      " [0.5 0.5]\n",
      " [0.  1. ]]\n",
      "[Step 1] Action: [Move to LEFT ARM]\n",
      "[Step 1] Observation: [LEFT ARM,  Reward!, Cue Right]\n",
      "Observation is [2, 1, 0]\n",
      "type of num states is <class 'list'>\n",
      "modality is 0, length of A is 3, A[modality] is [[[1. 1.]\n",
      "  [0. 0.]\n",
      "  [0. 0.]\n",
      "  [0. 0.]]\n",
      "\n",
      " [[0. 0.]\n",
      "  [1. 1.]\n",
      "  [0. 0.]\n",
      "  [0. 0.]]\n",
      "\n",
      " [[0. 0.]\n",
      "  [0. 0.]\n",
      "  [1. 1.]\n",
      "  [0. 0.]]\n",
      "\n",
      " [[0. 0.]\n",
      "  [0. 0.]\n",
      "  [0. 0.]\n",
      "  [1. 1.]]] and obs[modality] is [0. 0. 1. 0.]\n",
      "ll is [[1. 1.]\n",
      " [1. 1.]\n",
      " [1. 1.]\n",
      " [1. 1.]]\n",
      "dot likelihood is [[0. 0.]\n",
      " [0. 0.]\n",
      " [1. 1.]\n",
      " [0. 0.]]\n",
      "modality is 1, length of A is 3, A[modality] is [[[1.   1.  ]\n",
      "  [0.   0.  ]\n",
      "  [0.   0.  ]\n",
      "  [1.   1.  ]]\n",
      "\n",
      " [[0.   0.  ]\n",
      "  [0.98 0.02]\n",
      "  [0.02 0.98]\n",
      "  [0.   0.  ]]\n",
      "\n",
      " [[0.   0.  ]\n",
      "  [0.02 0.98]\n",
      "  [0.98 0.02]\n",
      "  [0.   0.  ]]] and obs[modality] is [0. 1. 0.]\n",
      "ll is [[0. 0.]\n",
      " [0. 0.]\n",
      " [1. 1.]\n",
      " [0. 0.]]\n",
      "dot likelihood is [[0.   0.  ]\n",
      " [0.98 0.02]\n",
      " [0.02 0.98]\n",
      " [0.   0.  ]]\n",
      "modality is 2, length of A is 3, A[modality] is [[[0.5 0.5]\n",
      "  [0.5 0.5]\n",
      "  [0.5 0.5]\n",
      "  [1.  0. ]]\n",
      "\n",
      " [[0.5 0.5]\n",
      "  [0.5 0.5]\n",
      "  [0.5 0.5]\n",
      "  [0.  1. ]]] and obs[modality] is [1. 0.]\n",
      "ll is [[0.   0.  ]\n",
      " [0.   0.  ]\n",
      " [0.02 0.98]\n",
      " [0.   0.  ]]\n",
      "dot likelihood is [[0.5 0.5]\n",
      " [0.5 0.5]\n",
      " [0.5 0.5]\n",
      " [1.  0. ]]\n",
      "[Step 2] Action: [Move to LEFT ARM]\n",
      "[Step 2] Observation: [LEFT ARM,  Reward!, Cue Left]\n",
      "Observation is [2, 1, 1]\n",
      "type of num states is <class 'list'>\n",
      "modality is 0, length of A is 3, A[modality] is [[[1. 1.]\n",
      "  [0. 0.]\n",
      "  [0. 0.]\n",
      "  [0. 0.]]\n",
      "\n",
      " [[0. 0.]\n",
      "  [1. 1.]\n",
      "  [0. 0.]\n",
      "  [0. 0.]]\n",
      "\n",
      " [[0. 0.]\n",
      "  [0. 0.]\n",
      "  [1. 1.]\n",
      "  [0. 0.]]\n",
      "\n",
      " [[0. 0.]\n",
      "  [0. 0.]\n",
      "  [0. 0.]\n",
      "  [1. 1.]]] and obs[modality] is [0. 0. 1. 0.]\n",
      "ll is [[1. 1.]\n",
      " [1. 1.]\n",
      " [1. 1.]\n",
      " [1. 1.]]\n",
      "dot likelihood is [[0. 0.]\n",
      " [0. 0.]\n",
      " [1. 1.]\n",
      " [0. 0.]]\n",
      "modality is 1, length of A is 3, A[modality] is [[[1.   1.  ]\n",
      "  [0.   0.  ]\n",
      "  [0.   0.  ]\n",
      "  [1.   1.  ]]\n",
      "\n",
      " [[0.   0.  ]\n",
      "  [0.98 0.02]\n",
      "  [0.02 0.98]\n",
      "  [0.   0.  ]]\n",
      "\n",
      " [[0.   0.  ]\n",
      "  [0.02 0.98]\n",
      "  [0.98 0.02]\n",
      "  [0.   0.  ]]] and obs[modality] is [0. 1. 0.]\n",
      "ll is [[0. 0.]\n",
      " [0. 0.]\n",
      " [1. 1.]\n",
      " [0. 0.]]\n",
      "dot likelihood is [[0.   0.  ]\n",
      " [0.98 0.02]\n",
      " [0.02 0.98]\n",
      " [0.   0.  ]]\n",
      "modality is 2, length of A is 3, A[modality] is [[[0.5 0.5]\n",
      "  [0.5 0.5]\n",
      "  [0.5 0.5]\n",
      "  [1.  0. ]]\n",
      "\n",
      " [[0.5 0.5]\n",
      "  [0.5 0.5]\n",
      "  [0.5 0.5]\n",
      "  [0.  1. ]]] and obs[modality] is [0. 1.]\n",
      "ll is [[0.   0.  ]\n",
      " [0.   0.  ]\n",
      " [0.02 0.98]\n",
      " [0.   0.  ]]\n",
      "dot likelihood is [[0.5 0.5]\n",
      " [0.5 0.5]\n",
      " [0.5 0.5]\n",
      " [0.  1. ]]\n",
      "[Step 3] Action: [Move to LEFT ARM]\n",
      "[Step 3] Observation: [LEFT ARM,  Reward!, Cue Right]\n",
      "Observation is [2, 1, 0]\n",
      "type of num states is <class 'list'>\n",
      "modality is 0, length of A is 3, A[modality] is [[[1. 1.]\n",
      "  [0. 0.]\n",
      "  [0. 0.]\n",
      "  [0. 0.]]\n",
      "\n",
      " [[0. 0.]\n",
      "  [1. 1.]\n",
      "  [0. 0.]\n",
      "  [0. 0.]]\n",
      "\n",
      " [[0. 0.]\n",
      "  [0. 0.]\n",
      "  [1. 1.]\n",
      "  [0. 0.]]\n",
      "\n",
      " [[0. 0.]\n",
      "  [0. 0.]\n",
      "  [0. 0.]\n",
      "  [1. 1.]]] and obs[modality] is [0. 0. 1. 0.]\n",
      "ll is [[1. 1.]\n",
      " [1. 1.]\n",
      " [1. 1.]\n",
      " [1. 1.]]\n",
      "dot likelihood is [[0. 0.]\n",
      " [0. 0.]\n",
      " [1. 1.]\n",
      " [0. 0.]]\n",
      "modality is 1, length of A is 3, A[modality] is [[[1.   1.  ]\n",
      "  [0.   0.  ]\n",
      "  [0.   0.  ]\n",
      "  [1.   1.  ]]\n",
      "\n",
      " [[0.   0.  ]\n",
      "  [0.98 0.02]\n",
      "  [0.02 0.98]\n",
      "  [0.   0.  ]]\n",
      "\n",
      " [[0.   0.  ]\n",
      "  [0.02 0.98]\n",
      "  [0.98 0.02]\n",
      "  [0.   0.  ]]] and obs[modality] is [0. 1. 0.]\n",
      "ll is [[0. 0.]\n",
      " [0. 0.]\n",
      " [1. 1.]\n",
      " [0. 0.]]\n",
      "dot likelihood is [[0.   0.  ]\n",
      " [0.98 0.02]\n",
      " [0.02 0.98]\n",
      " [0.   0.  ]]\n",
      "modality is 2, length of A is 3, A[modality] is [[[0.5 0.5]\n",
      "  [0.5 0.5]\n",
      "  [0.5 0.5]\n",
      "  [1.  0. ]]\n",
      "\n",
      " [[0.5 0.5]\n",
      "  [0.5 0.5]\n",
      "  [0.5 0.5]\n",
      "  [0.  1. ]]] and obs[modality] is [1. 0.]\n",
      "ll is [[0.   0.  ]\n",
      " [0.   0.  ]\n",
      " [0.02 0.98]\n",
      " [0.   0.  ]]\n",
      "dot likelihood is [[0.5 0.5]\n",
      " [0.5 0.5]\n",
      " [0.5 0.5]\n",
      " [1.  0. ]]\n",
      "[Step 4] Action: [Move to LEFT ARM]\n",
      "[Step 4] Observation: [LEFT ARM,  Reward!, Cue Left]\n"
     ]
    }
   ],
   "source": [
    "T = 5 # number of timesteps\n",
    "\n",
    "obs = env.reset() # reset the environment and get an initial observation\n",
    "\n",
    "# these are useful for displaying read-outs during the loop over time\n",
    "reward_conditions = [\"Right\", \"Left\"]\n",
    "location_observations = ['CENTER','RIGHT ARM','LEFT ARM','CUE LOCATION']\n",
    "reward_observations = ['No reward','Reward!','Loss!']\n",
    "cue_observations = ['Cue Right','Cue Left']\n",
    "msg = \"\"\" === Starting experiment === \\n Reward condition: {}, Observation: [{}, {}, {}]\"\"\"\n",
    "print(msg.format(reward_conditions[env.reward_condition], location_observations[obs[0]], reward_observations[obs[1]], cue_observations[obs[2]]))\n",
    "\n",
    "for t in range(T):\n",
    "    print(f'Observation is {obs}')\n",
    "    qx = agent.infer_states(obs)\n",
    "\n",
    "    q_pi, efe = agent.infer_policies()\n",
    "\n",
    "    action = agent.sample_action()\n",
    "\n",
    "    msg = \"\"\"[Step {}] Action: [Move to {}]\"\"\"\n",
    "    print(msg.format(t, location_observations[int(action[0])]))\n",
    "\n",
    "    obs = env.step(action)\n",
    "\n",
    "    msg = \"\"\"[Step {}] Observation: [{},  {}, {}]\"\"\"\n",
    "    print(msg.format(t, location_observations[obs[0]], reward_observations[obs[1]], cue_observations[obs[2]]))"
   ]
  },
  {
   "cell_type": "code",
   "execution_count": null,
   "id": "3abb15e4-e6b1-49b2-a63f-cf898f82769d",
   "metadata": {},
   "outputs": [],
   "source": []
  },
  {
   "cell_type": "code",
   "execution_count": null,
   "id": "b5e4522d-d4db-42d1-ac23-56588cac7e19",
   "metadata": {},
   "outputs": [],
   "source": []
  }
 ],
 "metadata": {
  "kernelspec": {
   "display_name": "block",
   "language": "python",
   "name": "block"
  },
  "language_info": {
   "codemirror_mode": {
    "name": "ipython",
    "version": 3
   },
   "file_extension": ".py",
   "mimetype": "text/x-python",
   "name": "python",
   "nbconvert_exporter": "python",
   "pygments_lexer": "ipython3",
   "version": "3.10.5"
  }
 },
 "nbformat": 4,
 "nbformat_minor": 5
}
