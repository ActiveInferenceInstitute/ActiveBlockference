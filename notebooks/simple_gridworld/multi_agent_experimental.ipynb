{
 "cells": [
  {
   "cell_type": "markdown",
   "id": "e98acdae-1f12-471e-bcbb-4dc655571ff0",
   "metadata": {},
   "source": [
    "### Multiagent Active Blockference\n",
    "\n",
    "This notebook is an experimental exploration of multi-agent active inference. CadCAD is not used at this point.\n",
    "\n",
    "We are considering an environment with two agents, Karl and Thomas, who are trying to move to a preferred state without colliding."
   ]
  },
  {
   "cell_type": "code",
   "execution_count": 58,
   "id": "910d5f6c-4ac7-4c9c-87d8-e8bc71c36665",
   "metadata": {},
   "outputs": [],
   "source": [
    "import itertools\n",
    "import numpy as np\n",
    "import sys\n",
    "\n",
    "# adding tools to the system path\n",
    "sys.path.insert(0, '../../')\n",
    "\n",
    "from blockference.envs.grid_env import GridAgent\n",
    "from blockference.gridference import ActiveGridference"
   ]
  },
  {
   "cell_type": "code",
   "execution_count": 41,
   "id": "271ae34f-d121-4439-9c87-556cc216885c",
   "metadata": {},
   "outputs": [
    {
     "name": "stdout",
     "output_type": "stream",
     "text": [
      "{0: (0, 0), 1: (0, 1), 2: (1, 0), 3: (1, 1)}\n"
     ]
    }
   ],
   "source": [
    "# start with 2x2 grid\n",
    "grid = list(itertools.product(range(2), repeat=2))\n",
    "border = np.sqrt(len(grid)) - 1\n",
    "pos_dict = {}\n",
    "for i in range(0, len(grid)):\n",
    "    pos_dict[i] = grid[i]\n",
    "print(pos_dict)\n",
    "num_agents = 2 # start with 2 agents\n",
    "init_pos = [0, 3] # agents will start at positions 0 and 3"
   ]
  },
  {
   "cell_type": "code",
   "execution_count": 42,
   "id": "05863992-f86f-4a53-910a-4ffc774352cd",
   "metadata": {},
   "outputs": [],
   "source": [
    "# getting the grid positions and indexes for the two agents K & T\n",
    "init_K = init_pos[0]\n",
    "init_T = init_pos[1]\n",
    "init_K_pos = pos_dict[init_K]\n",
    "init_T_pos = pos_dict[init_T]"
   ]
  },
  {
   "cell_type": "code",
   "execution_count": 43,
   "id": "5b42070f-8b8b-4f74-a0e8-8ad7548d61f5",
   "metadata": {},
   "outputs": [],
   "source": [
    "# getting the preferred grid positions and indexes for the two agents A & B\n",
    "# their preferred position will be the one where the other agent starts\n",
    "pref_K = 3\n",
    "pref_T = 0\n",
    "pref_K_pos = pos_dict[pref_K]\n",
    "pref_T_pos = pos_dict[pref_T]"
   ]
  },
  {
   "cell_type": "markdown",
   "id": "1ea195bc-4dbe-4d2b-bfa6-6ebb36f8a837",
   "metadata": {},
   "source": [
    "#### Observations and States\n",
    "In a single-agent environment, observations and states are both just the number of positions (because the agent can be at 4 different positions (4 states) and have 4 different observations).\n",
    "\n",
    "Adding an extra agents adds extra complexity. We let our agents be strictly non-interacting, i.e. they cannot occupy the same position on the grid at the same time.\n",
    "\n",
    "Both agents started with having 4 possible states, hence 4*4=16 possible states, but the restriction on non-interactivity reduces this number by the 4 positions where both agents are present, hence **number of possible states is 12**."
   ]
  },
  {
   "cell_type": "code",
   "execution_count": 44,
   "id": "2b13108e-feb6-4d4d-bec4-b3aec659f9c7",
   "metadata": {},
   "outputs": [],
   "source": [
    "# observations and states\n",
    "n_states = 12\n",
    "n_observations = 12 # have to do more work on this, might be reduced assuming completely symmetric states"
   ]
  },
  {
   "cell_type": "markdown",
   "id": "f90d36f7-9a02-4395-8b9e-cf749364bc2c",
   "metadata": {},
   "source": [
    "#### Generative Model Tensors\n",
    "Now we define the tensors describing the generative model. For detailed explanations of what each tensor means/does, see:\n",
    "https://pymdp-rtd.readthedocs.io/en/latest/notebooks/active_inference_from_scratch.html"
   ]
  },
  {
   "cell_type": "code",
   "execution_count": 45,
   "id": "5bcce7f8-7f63-4d68-924d-f16403ce2d9b",
   "metadata": {},
   "outputs": [],
   "source": [
    "# E vector (affordances)\n",
    "E = [\"UP\", \"DOWN\", \"LEFT\", \"RIGHT\", \"STAY\"]"
   ]
  },
  {
   "cell_type": "markdown",
   "id": "05705f77-cbf3-4ebe-8af9-70b612e95bae",
   "metadata": {},
   "source": [
    "## Alternative way of thinking about states & state modalities (current)\n",
    "The two modalities of the multiagent POMDP:\n",
    "- location: \"where am I in the world (on the grid)\"\n",
    "- agent awareness: \"where is the other agent with respect to me in the world\"\n",
    "\n",
    "These modalities will be reflected in the **A** and **B** matrices."
   ]
  },
  {
   "cell_type": "code",
   "execution_count": 59,
   "id": "5907ea0e-098e-4d1b-bf02-90e6e688e65c",
   "metadata": {},
   "outputs": [],
   "source": [
    "# location\n",
    "n_states = len(grid)\n",
    "n_observations = len(grid)"
   ]
  },
  {
   "cell_type": "code",
   "execution_count": 60,
   "id": "07a67f86-5827-4687-84dc-7c1e61857045",
   "metadata": {},
   "outputs": [
    {
     "name": "stdout",
     "output_type": "stream",
     "text": [
      "[[1. 0. 0. 0.]\n",
      " [0. 1. 0. 0.]\n",
      " [0. 0. 1. 0.]\n",
      " [0. 0. 0. 1.]]\n"
     ]
    }
   ],
   "source": [
    "# A matrix\n",
    "# Note: maybe multi-agent actinf does not change B but rather A & D\n",
    "A = np.eye(n_observations, n_states)\n",
    "print(A)"
   ]
  },
  {
   "cell_type": "code",
   "execution_count": 61,
   "id": "96c098ae-fd2d-40f1-9636-e37fffdff8be",
   "metadata": {},
   "outputs": [
    {
     "name": "stdout",
     "output_type": "stream",
     "text": [
      "[[1. 0. 0. 0. 0.]\n",
      " [0. 1. 0. 0. 0.]\n",
      " [0. 0. 1. 0. 0.]\n",
      " [0. 0. 0. 1. 0.]\n",
      " [0. 0. 0. 0. 1.]]\n"
     ]
    }
   ],
   "source": [
    "# other agent relative location (currently 1-step depth)\n",
    "second_agent_locations = [\"NONE\", \"NEXT_LEFT\", \"NEXT_RIGHT\", \"ABOVE\", \"BELOW\"]\n",
    "\n",
    "n_states_second = len(second_agent_locations)\n",
    "n_observations_second = len(second_agent_locations)\n",
    "\n",
    "A_second = np.eye(n_observations_second, n_states_second)\n",
    "print(A_second)"
   ]
  },
  {
   "cell_type": "code",
   "execution_count": 55,
   "id": "e311084d-c15b-4f3e-9928-d3701fbf8e11",
   "metadata": {},
   "outputs": [
    {
     "name": "stdout",
     "output_type": "stream",
     "text": [
      "[[[0. 1. 1. 0. 1.]\n",
      "  [0. 0. 1. 0. 0.]\n",
      "  [0. 1. 0. 0. 0.]\n",
      "  [0. 0. 0. 0. 0.]]\n",
      "\n",
      " [[0. 0. 0. 1. 0.]\n",
      "  [0. 1. 0. 1. 1.]\n",
      "  [0. 0. 0. 0. 0.]\n",
      "  [0. 1. 0. 0. 0.]]\n",
      "\n",
      " [[1. 0. 0. 0. 0.]\n",
      "  [0. 0. 0. 0. 0.]\n",
      "  [1. 0. 1. 0. 1.]\n",
      "  [0. 0. 1. 0. 0.]]\n",
      "\n",
      " [[0. 0. 0. 0. 0.]\n",
      "  [1. 0. 0. 0. 0.]\n",
      "  [0. 0. 0. 1. 0.]\n",
      "  [1. 0. 0. 1. 1.]]]\n"
     ]
    }
   ],
   "source": [
    "# B matrix\n",
    "# Note: B should only encode prior beliefs about !controllable! transitions between hidden states\n",
    "# why/how can we assume the actions of the other agents are within controllable transitions?\n",
    "B = np.zeros((len(grid), len(grid), len(E)))\n",
    "\n",
    "for action_id, action_label in enumerate(E):\n",
    "\n",
    "    for curr_state, grid_location in enumerate(grid):\n",
    "\n",
    "        y, x = grid_location\n",
    "\n",
    "        if action_label == \"DOWN\":\n",
    "            next_y = y - 1 if y > 0 else y\n",
    "            next_x = x\n",
    "        elif action_label == \"UP\":\n",
    "            next_y = y + 1 if y < border else y\n",
    "            next_x = x\n",
    "        elif action_label == \"LEFT\":\n",
    "            next_x = x - 1 if x > 0 else x\n",
    "            next_y = y\n",
    "        elif action_label == \"RIGHT\":\n",
    "            next_x = x + 1 if x < border else x\n",
    "            next_y = y\n",
    "        elif action_label == \"STAY\":\n",
    "            next_x = x\n",
    "            next_y = y\n",
    "        new_location = (next_y, next_x)\n",
    "        next_state = grid.index(new_location)\n",
    "        B[next_state, curr_state, action_id] = 1.0\n",
    "print(B)"
   ]
  },
  {
   "cell_type": "markdown",
   "id": "0efdcdc6-af73-4ff0-95d8-b6676864bec9",
   "metadata": {},
   "source": [
    "Second modality of the **B** matrix is the transition probabilities given an observation of a second agent.\n",
    "This can either be:\n",
    "- \"there is an agent *above* me\"\n",
    "- \"there is an agent *below* me\"\n",
    "- \"there is an agent *to the right* of me\"\n",
    "- \"there is an agent *to the left* of me\"\n",
    "- \"there is no agent next to me\n",
    "\n",
    "This modality should track the *relative* position of the agent with respect to the second agent.\n",
    "This can then be scaled to arbitrary many agents by using this matrix for tracking the position of different agents relative to each other.\n",
    "\n",
    "In the following, the K_agent is the one whose generative model we're modeling, T_agent is the agent who K_agent is perceiving."
   ]
  },
  {
   "cell_type": "code",
   "execution_count": 56,
   "id": "60f26cfe-e631-4292-bc91-2ed53cffc0f6",
   "metadata": {},
   "outputs": [
    {
     "name": "stdout",
     "output_type": "stream",
     "text": [
      "[[[1. 1. 1. 1. 1.]\n",
      "  [1. 1. 0. 1. 1.]\n",
      "  [1. 1. 1. 0. 1.]\n",
      "  [0. 1. 1. 1. 1.]\n",
      "  [1. 0. 1. 1. 1.]]\n",
      "\n",
      " [[0. 0. 0. 0. 0.]\n",
      "  [0. 0. 1. 0. 0.]\n",
      "  [0. 0. 0. 0. 0.]\n",
      "  [0. 0. 0. 0. 0.]\n",
      "  [0. 0. 0. 0. 0.]]\n",
      "\n",
      " [[0. 0. 0. 0. 0.]\n",
      "  [0. 0. 0. 0. 0.]\n",
      "  [0. 0. 0. 1. 0.]\n",
      "  [0. 0. 0. 0. 0.]\n",
      "  [0. 0. 0. 0. 0.]]\n",
      "\n",
      " [[0. 0. 0. 0. 0.]\n",
      "  [0. 0. 0. 0. 0.]\n",
      "  [0. 0. 0. 0. 0.]\n",
      "  [1. 0. 0. 0. 0.]\n",
      "  [0. 0. 0. 0. 0.]]\n",
      "\n",
      " [[0. 0. 0. 0. 0.]\n",
      "  [0. 0. 0. 0. 0.]\n",
      "  [0. 0. 0. 0. 0.]\n",
      "  [0. 0. 0. 0. 0.]\n",
      "  [0. 1. 0. 0. 0.]]]\n"
     ]
    }
   ],
   "source": [
    "second_agent_locations = [\"NONE\", \"NEXT_LEFT\", \"NEXT_RIGHT\", \"ABOVE\", \"BELOW\"]\n",
    "\n",
    "B_second = np.zeros((len(second_agent_locations), len(second_agent_locations), len(E)))\n",
    "pos_idx = {\"NONE\": 0, \"NEXT_LEFT\": 1, \"NEXT_RIGHT\": 2, \"ABOVE\": 3, \"BELOW\": 4}\n",
    "\n",
    "for action_id, action_label in enumerate(E):\n",
    "\n",
    "    for curr_state, T_location in enumerate(second_agent_locations):\n",
    "\n",
    "        if action_label == \"UP\":\n",
    "            next_T_location = \"NONE\" if T_location != \"ABOVE\" else \"ABOVE\"\n",
    "        elif action_label == \"DOWN\":\n",
    "            next_T_location = \"NONE\" if T_location != \"BELOW\" else \"BELOW\"\n",
    "        elif action_label == \"LEFT\":\n",
    "            next_T_location = \"NONE\" if T_location != \"NEXT_LEFT\" else \"NEXT_LEFT\"\n",
    "        elif action_label == \"RIGHT\":\n",
    "            next_T_location = \"NONE\" if T_location != \"NEXT_RIGHT\" else \"NEXT_RIGHT\"\n",
    "        elif action_label == \"STAY\":\n",
    "            next_T_location = \"NONE\"\n",
    "        new_T_location = next_T_location\n",
    "        next_state = pos_idx[new_T_location]\n",
    "        B_second[next_state, curr_state, action_id] = 1.0\n",
    "\n",
    "print(B_second)"
   ]
  },
  {
   "cell_type": "code",
   "execution_count": null,
   "id": "de7ac0dd-5aa3-49b5-80ed-14ed984ba955",
   "metadata": {},
   "outputs": [],
   "source": [
    "act_pos_next = {\"UP\": {\n",
    "                    \"ABOVE\": \"ABOVE\",\n",
    "                    \"BELOW\": \"NONE\",\n",
    "                    \"NEXT_LEFT\": \"NONE\", \n",
    "                    \"NEXT_RIGHT\": \"NONE\", \n",
    "                    \"NONE\": \"NONE\"\n",
    "                },\n",
    "                \"DOWN\": {\n",
    "                    \"ABOVE\": \"NONE\", \n",
    "                    \"BELOW\": \"BELOW:,\n",
    "                    \"NEXT_LEFT\": \"NONE\", \n",
    "                    \"NEXT_RIGHT\": \"NONE\",  \n",
    "                    \"NONE\": \"NONE\"\n",
    "                }, \n",
    "                \"LEFT\": {\n",
    "                    \"ABOVE\": \"NONE\",  \n",
    "                    \"BELOW\": \"NONE\", \n",
    "                    \"NEXT_LEFT\",\n",
    "                    \"NEXT_RIGHT\": \"NONE\", \n",
    "                    \"NONE\": \"NONE\", \n",
    "                },\n",
    "                \"RIGHT\": {\n",
    "                    \"ABOVE\", \n",
    "                    \"BELOW\", \n",
    "                    \"NEXT_LEFT\", \n",
    "                    \"NEXT_RIGHT\", \n",
    "                    \"NONE\"\n",
    "                }, \n",
    "                \"STAY\": {\n",
    "                    \"ABOVE\",\n",
    "                    \"BELOW\",\n",
    "                    \"NEXT_LEFT\",\n",
    "                    \"NEXT_RIGHT\",\n",
    "                    \"NONE\"\n",
    "                }\n",
    "               }"
   ]
  },
  {
   "cell_type": "code",
   "execution_count": null,
   "id": "d1e33c86-46eb-4d08-b6b9-d75035451bd2",
   "metadata": {},
   "outputs": [],
   "source": []
  },
  {
   "cell_type": "code",
   "execution_count": null,
   "id": "65368d35-b067-453f-b0c3-6cb3f3c3874e",
   "metadata": {},
   "outputs": [],
   "source": []
  },
  {
   "cell_type": "code",
   "execution_count": null,
   "id": "14f9c97f-b326-4c91-9f81-1205ebb7b4f4",
   "metadata": {},
   "outputs": [],
   "source": []
  },
  {
   "cell_type": "code",
   "execution_count": null,
   "id": "55c92005-2e87-4151-ba75-5f1d6c19a536",
   "metadata": {},
   "outputs": [],
   "source": []
  },
  {
   "cell_type": "code",
   "execution_count": null,
   "id": "9b164351-9c4b-43cd-ad87-0a8d903fcfa0",
   "metadata": {},
   "outputs": [],
   "source": []
  },
  {
   "cell_type": "code",
   "execution_count": 100,
   "id": "21b43391-b64c-475c-a8ca-3c670fde4212",
   "metadata": {},
   "outputs": [
    {
     "name": "stdout",
     "output_type": "stream",
     "text": [
      "[0. 0. 0. 1.]\n",
      "[1. 0. 0. 0.]\n"
     ]
    }
   ],
   "source": [
    "import tools.utils as utils\n",
    "\n",
    "# C -> preferred state\n",
    "\n",
    "# C for agent A\n",
    "C_A = utils.onehot(grid.index(pref_A_pos), len(grid)) # originally len(grid) was n_observations but that doesn't seem correct now\n",
    "\n",
    "# C for agent B\n",
    "C_B = utils.onehot(grid.index(pref_B_pos), len(grid))\n",
    "\n",
    "print(C_A)\n",
    "print(C_B)"
   ]
  },
  {
   "cell_type": "code",
   "execution_count": 102,
   "id": "f0a0190a-6a7e-48c8-a8ee-0156bd709ed8",
   "metadata": {},
   "outputs": [
    {
     "name": "stdout",
     "output_type": "stream",
     "text": [
      "[1. 0. 0. 0.]\n",
      "[0. 0. 0. 1.]\n"
     ]
    }
   ],
   "source": [
    "# D -> initial prior\n",
    "\n",
    "D_A = utils.onehot(grid.index(init_A_pos), len(grid)) # REVISIT: originally n_states but again did not seem correct\n",
    "D_B = utils.onehot(grid.index(init_B_pos), len(grid))\n",
    "\n",
    "print(D_A)\n",
    "print(D_B)"
   ]
  },
  {
   "cell_type": "code",
   "execution_count": 15,
   "id": "85347894-cf2a-4050-aee1-66da511315f6",
   "metadata": {},
   "outputs": [],
   "source": [
    "# WIP\n",
    "chosen_action = None\n",
    "if chosen_action == 0:  # UP\n",
    "\n",
    "    Y_new = Y - 1 if Y > 0 else Y\n",
    "    X_new = X\n",
    "\n",
    "elif chosen_action == 1:  # DOWN\n",
    "\n",
    "    Y_new = Y + 1 if Y < agent.border else Y\n",
    "    X_new = X\n",
    "\n",
    "elif chosen_action == 2:  # LEFT\n",
    "    Y_new = Y\n",
    "    X_new = X - 1 if X > 0 else X\n",
    "\n",
    "elif chosen_action == 3:  # RIGHT\n",
    "    Y_new = Y\n",
    "    X_new = X + 1 if X < agent.border else X\n",
    "\n",
    "elif chosen_action == 4:  # STAY/WATCH (i.e. watch what the other agent will do)\n",
    "    Y_new, X_new = Y, X"
   ]
  },
  {
   "cell_type": "code",
   "execution_count": null,
   "id": "24caf92e-a884-4a20-9865-3ac4f3045e8b",
   "metadata": {},
   "outputs": [],
   "source": []
  }
 ],
 "metadata": {
  "kernelspec": {
   "display_name": "block",
   "language": "python",
   "name": "block"
  },
  "language_info": {
   "codemirror_mode": {
    "name": "ipython",
    "version": 3
   },
   "file_extension": ".py",
   "mimetype": "text/x-python",
   "name": "python",
   "nbconvert_exporter": "python",
   "pygments_lexer": "ipython3",
   "version": "3.10.5"
  }
 },
 "nbformat": 4,
 "nbformat_minor": 5
}
