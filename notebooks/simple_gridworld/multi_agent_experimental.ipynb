{
 "cells": [
  {
   "cell_type": "markdown",
   "id": "e98acdae-1f12-471e-bcbb-4dc655571ff0",
   "metadata": {},
   "source": [
    "### Multiagent Active Blockference\n",
    "\n",
    "This notebook is an experimental exploration of multi-agent active inference. CadCAD is not used at this point.\n",
    "\n",
    "We are considering an environment with two agents, Karl and Thomas, who are trying to move to a preferred state without colliding."
   ]
  },
  {
   "cell_type": "code",
   "execution_count": 41,
   "id": "910d5f6c-4ac7-4c9c-87d8-e8bc71c36665",
   "metadata": {},
   "outputs": [],
   "source": [
    "import itertools\n",
    "import numpy as np\n",
    "import copy\n",
    "import sys\n",
    "from pymdp import utils\n",
    "import pandas as pd\n",
    "\n",
    "# adding tools to the system path\n",
    "sys.path.insert(0, '../../')\n",
    "\n",
    "from blockference.envs.grid_env import GridAgent\n",
    "from blockference.gridference import ActiveGridference\n",
    "from blockference.agent import Agent"
   ]
  },
  {
   "cell_type": "code",
   "execution_count": 2,
   "id": "271ae34f-d121-4439-9c87-556cc216885c",
   "metadata": {},
   "outputs": [
    {
     "name": "stdout",
     "output_type": "stream",
     "text": [
      "{0: (0, 0), 1: (0, 1), 2: (0, 2), 3: (1, 0), 4: (1, 1), 5: (1, 2), 6: (2, 0), 7: (2, 1), 8: (2, 2)}\n"
     ]
    }
   ],
   "source": [
    "# start with 2x2 grid\n",
    "grid = list(itertools.product(range(3), repeat=2))\n",
    "border = np.sqrt(len(grid)) - 1\n",
    "pos_dict = {}\n",
    "for i in range(0, len(grid)):\n",
    "    pos_dict[i] = grid[i]\n",
    "print(pos_dict)\n",
    "num_agents = 2 # start with 2 agents\n",
    "init_pos = [0, 3] # agents will start at positions 0 and 3"
   ]
  },
  {
   "cell_type": "code",
   "execution_count": 3,
   "id": "e24f3a73-5e21-4b38-bf0a-2e25e07bca37",
   "metadata": {},
   "outputs": [],
   "source": [
    "grid_dims = [3, 3] # dimensions of the grid (number of rows, number of columns)\n",
    "num_grid_points = np.prod(grid_dims) # total number of grid locations (rows X columns)\n",
    "\n",
    "# create a look-up table `loc_list` that maps linear indices to tuples of (y, x) coordinates \n",
    "grid_ = np.arange(num_grid_points).reshape(grid_dims)\n",
    "it = np.nditer(grid_, flags=[\"multi_index\"])\n",
    "\n",
    "loc_list = []\n",
    "while not it.finished:\n",
    "    loc_list.append(it.multi_index)\n",
    "    it.iternext()"
   ]
  },
  {
   "cell_type": "code",
   "execution_count": 4,
   "id": "c1622047",
   "metadata": {},
   "outputs": [],
   "source": [
    "E = [\"UP\", \"DOWN\", \"LEFT\", \"RIGHT\", \"STAY\"]"
   ]
  },
  {
   "cell_type": "code",
   "execution_count": 5,
   "id": "2a3fec0a-dcac-44e4-be23-8ed7039bbc6a",
   "metadata": {},
   "outputs": [
    {
     "data": {
      "text/plain": [
       "[(0, 0), (0, 1), (0, 2), (1, 0), (1, 1), (1, 2), (2, 0), (2, 1), (2, 2)]"
      ]
     },
     "execution_count": 5,
     "metadata": {},
     "output_type": "execute_result"
    }
   ],
   "source": [
    "loc_list"
   ]
  },
  {
   "cell_type": "code",
   "execution_count": 6,
   "id": "05863992-f86f-4a53-910a-4ffc774352cd",
   "metadata": {},
   "outputs": [],
   "source": [
    "# getting the grid positions and indexes for the two agents K & T\n",
    "init_K = init_pos[0]\n",
    "init_T = init_pos[1]\n",
    "init_K_pos = pos_dict[init_K]\n",
    "init_T_pos = pos_dict[init_T]"
   ]
  },
  {
   "cell_type": "code",
   "execution_count": 7,
   "id": "5b42070f-8b8b-4f74-a0e8-8ad7548d61f5",
   "metadata": {},
   "outputs": [],
   "source": [
    "# getting the preferred grid positions and indexes for the two agents A & B\n",
    "# their preferred position will be the one where the other agent starts\n",
    "pref_K = 8\n",
    "pref_T = 0\n",
    "pref_K_pos = pos_dict[pref_K]\n",
    "pref_T_pos = pos_dict[pref_T]"
   ]
  },
  {
   "cell_type": "markdown",
   "id": "1ea195bc-4dbe-4d2b-bfa6-6ebb36f8a837",
   "metadata": {
    "tags": []
   },
   "source": [
    "#### Observations and States\n",
    "In a single-agent environment, observations and states are both just the number of positions (because the agent can be at 4 different positions (4 states) and have 4 different observations).\n",
    "\n",
    "Adding an extra agents adds extra complexity. We let our agents be strictly non-interacting, i.e. they cannot occupy the same position on the grid at the same time."
   ]
  },
  {
   "cell_type": "markdown",
   "id": "f90d36f7-9a02-4395-8b9e-cf749364bc2c",
   "metadata": {},
   "source": [
    "#### Generative Model Tensors\n",
    "Now we define the tensors describing the generative model. For detailed explanations of what each tensor means/does, see:\n",
    "https://pymdp-rtd.readthedocs.io/en/latest/notebooks/active_inference_from_scratch.html"
   ]
  },
  {
   "cell_type": "markdown",
   "id": "05705f77-cbf3-4ebe-8af9-70b612e95bae",
   "metadata": {
    "jp-MarkdownHeadingCollapsed": true,
    "tags": []
   },
   "source": [
    "## Alternative way of thinking about states & state modalities (*A1*)\n",
    "The two modalities of the multiagent POMDP:\n",
    "- location: \"where am I in the world (on the grid)\"\n",
    "- agent awareness: \"where is the other agent with respect to me in the world\"\n",
    "\n",
    "These modalities will be reflected in the **A** and **B** matrices."
   ]
  },
  {
   "cell_type": "code",
   "execution_count": 8,
   "id": "5907ea0e-098e-4d1b-bf02-90e6e688e65c",
   "metadata": {},
   "outputs": [],
   "source": [
    "# location\n",
    "n_states = len(grid)\n",
    "n_observations = len(grid)"
   ]
  },
  {
   "cell_type": "code",
   "execution_count": 9,
   "id": "07a67f86-5827-4687-84dc-7c1e61857045",
   "metadata": {},
   "outputs": [
    {
     "name": "stdout",
     "output_type": "stream",
     "text": [
      "[[1. 0. 0. 0. 0. 0. 0. 0. 0.]\n",
      " [0. 1. 0. 0. 0. 0. 0. 0. 0.]\n",
      " [0. 0. 1. 0. 0. 0. 0. 0. 0.]\n",
      " [0. 0. 0. 1. 0. 0. 0. 0. 0.]\n",
      " [0. 0. 0. 0. 1. 0. 0. 0. 0.]\n",
      " [0. 0. 0. 0. 0. 1. 0. 0. 0.]\n",
      " [0. 0. 0. 0. 0. 0. 1. 0. 0.]\n",
      " [0. 0. 0. 0. 0. 0. 0. 1. 0.]\n",
      " [0. 0. 0. 0. 0. 0. 0. 0. 1.]]\n"
     ]
    }
   ],
   "source": [
    "# A matrix\n",
    "# Note: maybe multi-agent actinf does not change B but rather A & D\n",
    "A = np.eye(n_observations, n_states)\n",
    "print(A)"
   ]
  },
  {
   "cell_type": "markdown",
   "id": "33b0d751-4662-48bd-8180-123c70809abe",
   "metadata": {},
   "source": [
    "### Second A modalities"
   ]
  },
  {
   "cell_type": "markdown",
   "id": "eed653d6-20b4-4bae-8e0d-6eacf90370bd",
   "metadata": {},
   "source": [
    "#### Modality 2: absolute pos"
   ]
  },
  {
   "cell_type": "code",
   "execution_count": 10,
   "id": "9c6d8e6d-1461-4850-b2dd-272131ce46c2",
   "metadata": {},
   "outputs": [
    {
     "name": "stdout",
     "output_type": "stream",
     "text": [
      "[[1. 0. 0. 0. 0. 0. 0. 0. 0.]\n",
      " [0. 1. 0. 0. 0. 0. 0. 0. 0.]\n",
      " [0. 0. 1. 0. 0. 0. 0. 0. 0.]\n",
      " [0. 0. 0. 1. 0. 0. 0. 0. 0.]\n",
      " [0. 0. 0. 0. 1. 0. 0. 0. 0.]\n",
      " [0. 0. 0. 0. 0. 1. 0. 0. 0.]\n",
      " [0. 0. 0. 0. 0. 0. 1. 0. 0.]\n",
      " [0. 0. 0. 0. 0. 0. 0. 1. 0.]\n",
      " [0. 0. 0. 0. 0. 0. 0. 0. 1.]]\n"
     ]
    }
   ],
   "source": [
    "A_second = np.eye(n_observations, n_states)\n",
    "print(A_second)"
   ]
  },
  {
   "cell_type": "markdown",
   "id": "85bbc07e-cefc-4d48-9f58-110e3517e718",
   "metadata": {},
   "source": [
    "#### Modality 3: relative pos"
   ]
  },
  {
   "cell_type": "code",
   "execution_count": 11,
   "id": "96c098ae-fd2d-40f1-9636-e37fffdff8be",
   "metadata": {},
   "outputs": [
    {
     "name": "stdout",
     "output_type": "stream",
     "text": [
      "[[1. 0. 0. 0. 0.]\n",
      " [0. 1. 0. 0. 0.]\n",
      " [0. 0. 1. 0. 0.]\n",
      " [0. 0. 0. 1. 0.]\n",
      " [0. 0. 0. 0. 1.]]\n"
     ]
    }
   ],
   "source": [
    "# other agent relative location (currently 1-step depth)\n",
    "second_agent_locations = [\"NONE\", \"NEXT_LEFT\", \"NEXT_RIGHT\", \"ABOVE\", \"BELOW\"]\n",
    "\n",
    "n_states_second = len(second_agent_locations)\n",
    "n_observations_second = len(second_agent_locations)\n",
    "\n",
    "A_third = np.eye(n_observations_second, n_states_second)\n",
    "print(A_third)"
   ]
  },
  {
   "cell_type": "code",
   "execution_count": 12,
   "id": "8033e2ae-d65a-40af-ba22-918931d917fc",
   "metadata": {},
   "outputs": [],
   "source": [
    "full_A = np.array([A, A_second, A_third], dtype='object')"
   ]
  },
  {
   "cell_type": "markdown",
   "id": "2f5fa7e3-ee1b-43d2-94e8-fa6ea8b706bc",
   "metadata": {},
   "source": [
    "end A initialization"
   ]
  },
  {
   "cell_type": "code",
   "execution_count": 13,
   "id": "e52ff2de-0d83-42d6-afe1-b9755e866f40",
   "metadata": {},
   "outputs": [
    {
     "data": {
      "text/plain": [
       "array([array([[1., 0., 0., 0., 0., 0., 0., 0., 0.],\n",
       "              [0., 1., 0., 0., 0., 0., 0., 0., 0.],\n",
       "              [0., 0., 1., 0., 0., 0., 0., 0., 0.],\n",
       "              [0., 0., 0., 1., 0., 0., 0., 0., 0.],\n",
       "              [0., 0., 0., 0., 1., 0., 0., 0., 0.],\n",
       "              [0., 0., 0., 0., 0., 1., 0., 0., 0.],\n",
       "              [0., 0., 0., 0., 0., 0., 1., 0., 0.],\n",
       "              [0., 0., 0., 0., 0., 0., 0., 1., 0.],\n",
       "              [0., 0., 0., 0., 0., 0., 0., 0., 1.]]),\n",
       "       array([[1., 0., 0., 0., 0., 0., 0., 0., 0.],\n",
       "              [0., 1., 0., 0., 0., 0., 0., 0., 0.],\n",
       "              [0., 0., 1., 0., 0., 0., 0., 0., 0.],\n",
       "              [0., 0., 0., 1., 0., 0., 0., 0., 0.],\n",
       "              [0., 0., 0., 0., 1., 0., 0., 0., 0.],\n",
       "              [0., 0., 0., 0., 0., 1., 0., 0., 0.],\n",
       "              [0., 0., 0., 0., 0., 0., 1., 0., 0.],\n",
       "              [0., 0., 0., 0., 0., 0., 0., 1., 0.],\n",
       "              [0., 0., 0., 0., 0., 0., 0., 0., 1.]]),\n",
       "       array([[1., 0., 0., 0., 0.],\n",
       "              [0., 1., 0., 0., 0.],\n",
       "              [0., 0., 1., 0., 0.],\n",
       "              [0., 0., 0., 1., 0.],\n",
       "              [0., 0., 0., 0., 1.]])], dtype=object)"
      ]
     },
     "execution_count": 13,
     "metadata": {},
     "output_type": "execute_result"
    }
   ],
   "source": [
    "full_A"
   ]
  },
  {
   "cell_type": "code",
   "execution_count": 14,
   "id": "e311084d-c15b-4f3e-9928-d3701fbf8e11",
   "metadata": {},
   "outputs": [
    {
     "name": "stdout",
     "output_type": "stream",
     "text": [
      "[[[0. 1. 1. 0. 1.]\n",
      "  [0. 0. 1. 0. 0.]\n",
      "  [0. 0. 0. 0. 0.]\n",
      "  [0. 1. 0. 0. 0.]\n",
      "  [0. 0. 0. 0. 0.]\n",
      "  [0. 0. 0. 0. 0.]\n",
      "  [0. 0. 0. 0. 0.]\n",
      "  [0. 0. 0. 0. 0.]\n",
      "  [0. 0. 0. 0. 0.]]\n",
      "\n",
      " [[0. 0. 0. 1. 0.]\n",
      "  [0. 1. 0. 0. 1.]\n",
      "  [0. 0. 1. 0. 0.]\n",
      "  [0. 0. 0. 0. 0.]\n",
      "  [0. 1. 0. 0. 0.]\n",
      "  [0. 0. 0. 0. 0.]\n",
      "  [0. 0. 0. 0. 0.]\n",
      "  [0. 0. 0. 0. 0.]\n",
      "  [0. 0. 0. 0. 0.]]\n",
      "\n",
      " [[0. 0. 0. 0. 0.]\n",
      "  [0. 0. 0. 1. 0.]\n",
      "  [0. 1. 0. 1. 1.]\n",
      "  [0. 0. 0. 0. 0.]\n",
      "  [0. 0. 0. 0. 0.]\n",
      "  [0. 1. 0. 0. 0.]\n",
      "  [0. 0. 0. 0. 0.]\n",
      "  [0. 0. 0. 0. 0.]\n",
      "  [0. 0. 0. 0. 0.]]\n",
      "\n",
      " [[1. 0. 0. 0. 0.]\n",
      "  [0. 0. 0. 0. 0.]\n",
      "  [0. 0. 0. 0. 0.]\n",
      "  [0. 0. 1. 0. 1.]\n",
      "  [0. 0. 1. 0. 0.]\n",
      "  [0. 0. 0. 0. 0.]\n",
      "  [0. 1. 0. 0. 0.]\n",
      "  [0. 0. 0. 0. 0.]\n",
      "  [0. 0. 0. 0. 0.]]\n",
      "\n",
      " [[0. 0. 0. 0. 0.]\n",
      "  [1. 0. 0. 0. 0.]\n",
      "  [0. 0. 0. 0. 0.]\n",
      "  [0. 0. 0. 1. 0.]\n",
      "  [0. 0. 0. 0. 1.]\n",
      "  [0. 0. 1. 0. 0.]\n",
      "  [0. 0. 0. 0. 0.]\n",
      "  [0. 1. 0. 0. 0.]\n",
      "  [0. 0. 0. 0. 0.]]\n",
      "\n",
      " [[0. 0. 0. 0. 0.]\n",
      "  [0. 0. 0. 0. 0.]\n",
      "  [1. 0. 0. 0. 0.]\n",
      "  [0. 0. 0. 0. 0.]\n",
      "  [0. 0. 0. 1. 0.]\n",
      "  [0. 0. 0. 1. 1.]\n",
      "  [0. 0. 0. 0. 0.]\n",
      "  [0. 0. 0. 0. 0.]\n",
      "  [0. 1. 0. 0. 0.]]\n",
      "\n",
      " [[0. 0. 0. 0. 0.]\n",
      "  [0. 0. 0. 0. 0.]\n",
      "  [0. 0. 0. 0. 0.]\n",
      "  [1. 0. 0. 0. 0.]\n",
      "  [0. 0. 0. 0. 0.]\n",
      "  [0. 0. 0. 0. 0.]\n",
      "  [1. 0. 1. 0. 1.]\n",
      "  [0. 0. 1. 0. 0.]\n",
      "  [0. 0. 0. 0. 0.]]\n",
      "\n",
      " [[0. 0. 0. 0. 0.]\n",
      "  [0. 0. 0. 0. 0.]\n",
      "  [0. 0. 0. 0. 0.]\n",
      "  [0. 0. 0. 0. 0.]\n",
      "  [1. 0. 0. 0. 0.]\n",
      "  [0. 0. 0. 0. 0.]\n",
      "  [0. 0. 0. 1. 0.]\n",
      "  [1. 0. 0. 0. 1.]\n",
      "  [0. 0. 1. 0. 0.]]\n",
      "\n",
      " [[0. 0. 0. 0. 0.]\n",
      "  [0. 0. 0. 0. 0.]\n",
      "  [0. 0. 0. 0. 0.]\n",
      "  [0. 0. 0. 0. 0.]\n",
      "  [0. 0. 0. 0. 0.]\n",
      "  [1. 0. 0. 0. 0.]\n",
      "  [0. 0. 0. 0. 0.]\n",
      "  [0. 0. 0. 1. 0.]\n",
      "  [1. 0. 0. 1. 1.]]]\n"
     ]
    }
   ],
   "source": [
    "# B matrix\n",
    "# Note: B should only encode prior beliefs about !controllable! transitions between hidden states\n",
    "# why/how can we assume the actions of the other agents are within controllable transitions?\n",
    "B = np.zeros((len(grid), len(grid), len(E)))\n",
    "\n",
    "for action_id, action_label in enumerate(E):\n",
    "\n",
    "    for curr_state, grid_location in enumerate(grid):\n",
    "\n",
    "        y, x = grid_location\n",
    "\n",
    "        if action_label == \"DOWN\":\n",
    "            next_y = y - 1 if y > 0 else y\n",
    "            next_x = x\n",
    "        elif action_label == \"UP\":\n",
    "            next_y = y + 1 if y < border else y\n",
    "            next_x = x\n",
    "        elif action_label == \"LEFT\":\n",
    "            next_x = x - 1 if x > 0 else x\n",
    "            next_y = y\n",
    "        elif action_label == \"RIGHT\":\n",
    "            next_x = x + 1 if x < border else x\n",
    "            next_y = y\n",
    "        elif action_label == \"STAY\":\n",
    "            next_x = x\n",
    "            next_y = y\n",
    "        new_location = (next_y, next_x)\n",
    "        next_state = grid.index(new_location)\n",
    "        B[next_state, curr_state, action_id] = 1.0\n",
    "print(B)"
   ]
  },
  {
   "cell_type": "markdown",
   "id": "0efdcdc6-af73-4ff0-95d8-b6676864bec9",
   "metadata": {},
   "source": [
    "Second modality of the **B** matrix is the transition probabilities given an observation of a second agent.\n",
    "This can either be:\n",
    "- \"there is an agent *above* me\"\n",
    "- \"there is an agent *below* me\"\n",
    "- \"there is an agent *to the right* of me\"\n",
    "- \"there is an agent *to the left* of me\"\n",
    "- \"there is no agent next to me\n",
    "\n",
    "This modality should track the *relative* position of the agent with respect to the second agent.\n",
    "This can then be scaled to arbitrary many agents by using this matrix for tracking the position of different agents relative to each other.\n",
    "\n",
    "In the following, the K_agent is the one whose generative model we're modeling, T_agent is the agent who K_agent is perceiving.\n",
    "\n",
    "(Note: we might possibly need to add a third modality, colliding/not-colliding, for encoding preferences)"
   ]
  },
  {
   "cell_type": "code",
   "execution_count": 15,
   "id": "60f26cfe-e631-4292-bc91-2ed53cffc0f6",
   "metadata": {},
   "outputs": [
    {
     "name": "stdout",
     "output_type": "stream",
     "text": [
      "[[[1. 1. 1. 1. 1.]\n",
      "  [1. 1. 0. 1. 0.]\n",
      "  [1. 1. 1. 0. 0.]\n",
      "  [0. 1. 1. 1. 0.]\n",
      "  [1. 0. 1. 1. 0.]]\n",
      "\n",
      " [[0. 0. 0. 0. 0.]\n",
      "  [0. 0. 1. 0. 1.]\n",
      "  [0. 0. 0. 0. 0.]\n",
      "  [0. 0. 0. 0. 0.]\n",
      "  [0. 0. 0. 0. 0.]]\n",
      "\n",
      " [[0. 0. 0. 0. 0.]\n",
      "  [0. 0. 0. 0. 0.]\n",
      "  [0. 0. 0. 1. 1.]\n",
      "  [0. 0. 0. 0. 0.]\n",
      "  [0. 0. 0. 0. 0.]]\n",
      "\n",
      " [[0. 0. 0. 0. 0.]\n",
      "  [0. 0. 0. 0. 0.]\n",
      "  [0. 0. 0. 0. 0.]\n",
      "  [1. 0. 0. 0. 1.]\n",
      "  [0. 0. 0. 0. 0.]]\n",
      "\n",
      " [[0. 0. 0. 0. 0.]\n",
      "  [0. 0. 0. 0. 0.]\n",
      "  [0. 0. 0. 0. 0.]\n",
      "  [0. 0. 0. 0. 0.]\n",
      "  [0. 1. 0. 0. 1.]]]\n"
     ]
    }
   ],
   "source": [
    "second_agent_locations = [\"NONE\", \"NEXT_LEFT\", \"NEXT_RIGHT\", \"ABOVE\", \"BELOW\"]\n",
    "\n",
    "B_second = np.zeros((len(second_agent_locations), len(second_agent_locations), len(E)))\n",
    "pos_idx = {\"NONE\": 0, \"NEXT_LEFT\": 1, \"NEXT_RIGHT\": 2, \"ABOVE\": 3, \"BELOW\": 4}\n",
    "\n",
    "for action_id, action_label in enumerate(E):\n",
    "\n",
    "    for curr_state, T_location in enumerate(second_agent_locations):\n",
    "\n",
    "        if action_label == \"UP\":\n",
    "            next_T_location = \"NONE\" if T_location != \"ABOVE\" else \"ABOVE\"\n",
    "        elif action_label == \"DOWN\":\n",
    "            next_T_location = \"NONE\" if T_location != \"BELOW\" else \"BELOW\"\n",
    "        elif action_label == \"LEFT\":\n",
    "            next_T_location = \"NONE\" if T_location != \"NEXT_LEFT\" else \"NEXT_LEFT\"\n",
    "        elif action_label == \"RIGHT\":\n",
    "            next_T_location = \"NONE\" if T_location != \"NEXT_RIGHT\" else \"NEXT_RIGHT\"\n",
    "        elif action_label == \"STAY\":\n",
    "            next_T_location = T_location\n",
    "        new_T_location = next_T_location\n",
    "        next_state = pos_idx[new_T_location]\n",
    "        B_second[next_state, curr_state, action_id] = 1.0\n",
    "\n",
    "print(B_second)"
   ]
  },
  {
   "cell_type": "code",
   "execution_count": 16,
   "id": "ee0093a6-33d9-49ba-97fb-0a35a61aeeec",
   "metadata": {},
   "outputs": [],
   "source": [
    "full_B = np.array([B, B_second], dtype='object')"
   ]
  },
  {
   "cell_type": "markdown",
   "id": "72ab96a8-72b2-4f25-b73a-6533746d005b",
   "metadata": {},
   "source": [
    "End of B initialization"
   ]
  },
  {
   "cell_type": "code",
   "execution_count": 17,
   "id": "4a56d057-951f-4e92-b982-91783d246342",
   "metadata": {},
   "outputs": [
    {
     "data": {
      "text/plain": [
       "(2,)"
      ]
     },
     "execution_count": 17,
     "metadata": {},
     "output_type": "execute_result"
    }
   ],
   "source": [
    "full_B.shape"
   ]
  },
  {
   "cell_type": "code",
   "execution_count": 18,
   "id": "3a966a49-0609-46f4-85ca-5411d513fa02",
   "metadata": {},
   "outputs": [],
   "source": [
    "A_gm = copy.deepcopy(full_A)\n",
    "B_gm = copy.deepcopy(full_B)"
   ]
  },
  {
   "cell_type": "code",
   "execution_count": 19,
   "id": "8472bfd4-89f7-4e22-81e3-dd73b01aa9fa",
   "metadata": {},
   "outputs": [
    {
     "data": {
      "text/plain": [
       "array([array([[1., 0., 0., 0., 0., 0., 0., 0., 0.],\n",
       "              [0., 1., 0., 0., 0., 0., 0., 0., 0.],\n",
       "              [0., 0., 1., 0., 0., 0., 0., 0., 0.],\n",
       "              [0., 0., 0., 1., 0., 0., 0., 0., 0.],\n",
       "              [0., 0., 0., 0., 1., 0., 0., 0., 0.],\n",
       "              [0., 0., 0., 0., 0., 1., 0., 0., 0.],\n",
       "              [0., 0., 0., 0., 0., 0., 1., 0., 0.],\n",
       "              [0., 0., 0., 0., 0., 0., 0., 1., 0.],\n",
       "              [0., 0., 0., 0., 0., 0., 0., 0., 1.]]),\n",
       "       array([[1., 0., 0., 0., 0., 0., 0., 0., 0.],\n",
       "              [0., 1., 0., 0., 0., 0., 0., 0., 0.],\n",
       "              [0., 0., 1., 0., 0., 0., 0., 0., 0.],\n",
       "              [0., 0., 0., 1., 0., 0., 0., 0., 0.],\n",
       "              [0., 0., 0., 0., 1., 0., 0., 0., 0.],\n",
       "              [0., 0., 0., 0., 0., 1., 0., 0., 0.],\n",
       "              [0., 0., 0., 0., 0., 0., 1., 0., 0.],\n",
       "              [0., 0., 0., 0., 0., 0., 0., 1., 0.],\n",
       "              [0., 0., 0., 0., 0., 0., 0., 0., 1.]]),\n",
       "       array([[1., 0., 0., 0., 0.],\n",
       "              [0., 1., 0., 0., 0.],\n",
       "              [0., 0., 1., 0., 0.],\n",
       "              [0., 0., 0., 1., 0.],\n",
       "              [0., 0., 0., 0., 1.]])], dtype=object)"
      ]
     },
     "execution_count": 19,
     "metadata": {},
     "output_type": "execute_result"
    }
   ],
   "source": [
    "A_gm"
   ]
  },
  {
   "cell_type": "markdown",
   "id": "98aa891f-505b-4c24-a114-9d66ba27d005",
   "metadata": {
    "tags": []
   },
   "source": [
    "## Another alternate approach (*A2*)\n",
    "(trying to fix the A & B tensors based on epistemic chaining tutorial in pymdp docs)"
   ]
  },
  {
   "cell_type": "code",
   "execution_count": 8,
   "id": "a9c08847-d917-4d84-ab38-2c07b8bc272b",
   "metadata": {},
   "outputs": [],
   "source": [
    "# second_agent_rel_locations = [\"NONE\", \"NEXT_LEFT\", \"NEXT_RIGHT\", \"ABOVE\", \"BELOW\"]\n",
    "second_agent_locations = len(grid)"
   ]
  },
  {
   "cell_type": "code",
   "execution_count": 9,
   "id": "02639c78-5c5f-45c3-ba7a-35d8eb50234d",
   "metadata": {},
   "outputs": [],
   "source": [
    "num_obs = [num_grid_points, second_agent_locations]"
   ]
  },
  {
   "cell_type": "code",
   "execution_count": 10,
   "id": "80eef1bb-8e67-470b-b904-ac84fab3e25e",
   "metadata": {},
   "outputs": [],
   "source": [
    "num_states = [num_grid_points]"
   ]
  },
  {
   "cell_type": "code",
   "execution_count": 11,
   "id": "a4268332",
   "metadata": {},
   "outputs": [],
   "source": [
    "# the preference array\n",
    "C = utils.obj_array_zeros(num_obs)"
   ]
  },
  {
   "cell_type": "code",
   "execution_count": 12,
   "id": "7779a270",
   "metadata": {},
   "outputs": [],
   "source": [
    "# the prior belief array\n",
    "D = utils.obj_array_uniform(num_states)"
   ]
  },
  {
   "cell_type": "markdown",
   "id": "c9ba1d86-829c-4e0d-86ca-80ff87896d26",
   "metadata": {},
   "source": [
    "The observation model: the **A** array"
   ]
  },
  {
   "cell_type": "code",
   "execution_count": 13,
   "id": "54ef1bfb-855e-4030-92c2-b9d6e9b4ee7e",
   "metadata": {},
   "outputs": [],
   "source": [
    "A_m_shapes = [ [o_dim] + num_states for o_dim in num_obs] # list of shapes of modality-specific A[m] arrays\n",
    "A = utils.obj_array_zeros(A_m_shapes) # initialize A array to an object array of all-zero subarrays"
   ]
  },
  {
   "cell_type": "code",
   "execution_count": 14,
   "id": "cb8e24a8-8ef3-4350-b591-fa0343af866a",
   "metadata": {},
   "outputs": [],
   "source": [
    "# make the location observation only depend on the location state (proprioceptive observation modality)\n",
    "A[0] = np.eye(num_grid_points)"
   ]
  },
  {
   "cell_type": "code",
   "execution_count": 15,
   "id": "71805f57-37a5-4c87-acf3-d258ec3e68f8",
   "metadata": {},
   "outputs": [],
   "source": [
    "# The other agent location is independent of the reference agent location\n",
    "A[1] = copy.deepcopy(A[0])"
   ]
  },
  {
   "cell_type": "code",
   "execution_count": 16,
   "id": "fe50a4cb",
   "metadata": {},
   "outputs": [
    {
     "data": {
      "text/plain": [
       "array([[1., 0., 0., 0., 0., 0., 0., 0., 0.],\n",
       "       [0., 1., 0., 0., 0., 0., 0., 0., 0.],\n",
       "       [0., 0., 1., 0., 0., 0., 0., 0., 0.],\n",
       "       [0., 0., 0., 1., 0., 0., 0., 0., 0.],\n",
       "       [0., 0., 0., 0., 1., 0., 0., 0., 0.],\n",
       "       [0., 0., 0., 0., 0., 1., 0., 0., 0.],\n",
       "       [0., 0., 0., 0., 0., 0., 1., 0., 0.],\n",
       "       [0., 0., 0., 0., 0., 0., 0., 1., 0.],\n",
       "       [0., 0., 0., 0., 0., 0., 0., 0., 1.]])"
      ]
     },
     "execution_count": 16,
     "metadata": {},
     "output_type": "execute_result"
    }
   ],
   "source": [
    "A[0]"
   ]
  },
  {
   "cell_type": "markdown",
   "id": "65e82239-4151-48e8-bfa0-a683378e6724",
   "metadata": {},
   "source": [
    "The transition model: the **B** array"
   ]
  },
  {
   "cell_type": "code",
   "execution_count": 17,
   "id": "092495a3-b4e9-4fd4-a372-29e8b8866a99",
   "metadata": {},
   "outputs": [],
   "source": [
    "num_controls = [5, 1] # 5 movement affordances, none controls for the location of the other agent\n",
    "\n",
    "# initialize the shapes of each sub-array `B[f]`\n",
    "B_f_shapes = [ [ns, ns, num_controls[f]] for f, ns in enumerate(num_states)]\n",
    "\n",
    "# create the `B` array and fill it out\n",
    "B = utils.obj_array_zeros(B_f_shapes)"
   ]
  },
  {
   "cell_type": "code",
   "execution_count": 18,
   "id": "cb77fd80-d778-4020-bc51-db74f9a4328b",
   "metadata": {},
   "outputs": [],
   "source": [
    "actions = [\"UP\", \"DOWN\", \"LEFT\", \"RIGHT\", \"STAY\"]\n",
    "\n",
    "# fill out `B[0]` using the \n",
    "for action_id, action_label in enumerate(actions):\n",
    "\n",
    "  for curr_state, grid_location in enumerate(loc_list):\n",
    "\n",
    "    y, x = grid_location\n",
    "\n",
    "    if action_label == \"UP\":\n",
    "      next_y = y - 1 if y > 0 else y \n",
    "      next_x = x\n",
    "    elif action_label == \"DOWN\":\n",
    "      next_y = y + 1 if y < (grid_dims[0]-1) else y \n",
    "      next_x = x\n",
    "    elif action_label == \"LEFT\":\n",
    "      next_x = x - 1 if x > 0 else x \n",
    "      next_y = y\n",
    "    elif action_label == \"RIGHT\":\n",
    "      next_x = x + 1 if x < (grid_dims[1]-1) else x \n",
    "      next_y = y\n",
    "    elif action_label == \"STAY\":\n",
    "      next_x = x\n",
    "      next_y = y\n",
    "\n",
    "    new_location = (next_y, next_x)\n",
    "    next_state = loc_list.index(new_location)\n",
    "    B[0][next_state, curr_state, action_id] = 1.0"
   ]
  },
  {
   "cell_type": "markdown",
   "id": "3a4ce23d-c6ab-4cb7-9dc6-c33adda17719",
   "metadata": {
    "tags": []
   },
   "source": [
    "## Building the cadCAD simulation"
   ]
  },
  {
   "cell_type": "code",
   "execution_count": 19,
   "id": "abd100ce-0f34-4459-90c6-10543fa0f2e5",
   "metadata": {},
   "outputs": [],
   "source": [
    "# controllable_indices = [0, 1]\n",
    "controllable_indices = [0]\n",
    "# controllable_indices = [1]"
   ]
  },
  {
   "cell_type": "code",
   "execution_count": 20,
   "id": "5415c9a0-eaa3-4630-8688-59e38cf69b10",
   "metadata": {},
   "outputs": [],
   "source": [
    "# agent = Agent(A=full_A, B=B_gm, control_fac_idx=controllable_indices) # A1\n",
    "agent = Agent(A=A, B=B, C=C, D=D, control_fac_idx=controllable_indices, policy_len=4) #A2"
   ]
  },
  {
   "cell_type": "code",
   "execution_count": 21,
   "id": "c24c0d8d-f9ff-4b80-96f2-1ac51e21ff0a",
   "metadata": {},
   "outputs": [],
   "source": [
    "# agent.D = [init_K, 0] # initial K position & initial K position relative to T, 0 means \"NONE\"\n",
    "agent.D[0] = utils.onehot(loc_list.index((0,0)), num_grid_points)"
   ]
  },
  {
   "cell_type": "code",
   "execution_count": 22,
   "id": "5bcce7f8-7f63-4d68-924d-f16403ce2d9b",
   "metadata": {},
   "outputs": [],
   "source": [
    "# E vector (affordances)\n",
    "E = [\"UP\", \"DOWN\", \"LEFT\", \"RIGHT\", \"STAY\"]"
   ]
  },
  {
   "cell_type": "code",
   "execution_count": 23,
   "id": "dcf234a0-1263-4c97-adad-289b8331f79d",
   "metadata": {},
   "outputs": [],
   "source": [
    "# agent.E = E # adding agent affordances to Agent class instance"
   ]
  },
  {
   "cell_type": "code",
   "execution_count": 24,
   "id": "c821fe8d-1a67-4e01-a205-5752357d30fa",
   "metadata": {},
   "outputs": [],
   "source": [
    "# agent.C = [pref_K, 0] # preferred location & preferred relative relation to second agent (again \"NONE\")"
   ]
  },
  {
   "cell_type": "markdown",
   "id": "aad1a050-4fb5-407e-a431-bc049aaa7434",
   "metadata": {},
   "source": [
    "This concludes the initialization of the single agent for the multi-agent POMDP. What follows is an attempt at a full 2-agent Blockference simulation."
   ]
  },
  {
   "cell_type": "code",
   "execution_count": 25,
   "id": "5848ccb9-097b-45d3-b0a2-ecdad5bebe09",
   "metadata": {},
   "outputs": [],
   "source": [
    "# ! pip install radcad --quiet"
   ]
  },
  {
   "cell_type": "code",
   "execution_count": 26,
   "id": "64b059c4-cd4c-4636-8de6-8f6bc3d2bb38",
   "metadata": {},
   "outputs": [],
   "source": [
    "from radcad import Model, Simulation, Experiment"
   ]
  },
  {
   "cell_type": "code",
   "execution_count": 27,
   "id": "c0180fb0-1185-4c4c-981a-22feef0ebfb7",
   "metadata": {},
   "outputs": [],
   "source": [
    "agent_K = copy.deepcopy(agent)\n",
    "agent_T = copy.deepcopy(agent)"
   ]
  },
  {
   "cell_type": "code",
   "execution_count": 28,
   "id": "1daaf0ca-2e6d-4405-9c09-d0251dd91dda",
   "metadata": {},
   "outputs": [],
   "source": [
    "# change Karl and Thomas' prior & preference\n",
    "# agent_K.D = [init_K, 0]\n",
    "# agent_K.C = [pref_K, 0]\n",
    "\n",
    "# agent_T.D = [init_T, 0]\n",
    "# agent_T.C = [pref_T, 0]\n",
    "\n",
    "agent_K.D[0] = utils.onehot(loc_list.index(init_K_pos), num_grid_points)\n",
    "agent_K.C[0][8] = 1.0\n",
    "agent_K.C[1][0] = 1.0\n",
    "\n",
    "agent_T.D[0] = utils.onehot(loc_list.index(init_T_pos), num_grid_points)\n",
    "agent_T.C[1][8] = 1.0\n",
    "agent_T.C[0][0] = 1.0"
   ]
  },
  {
   "cell_type": "code",
   "execution_count": 73,
   "id": "a343c573",
   "metadata": {},
   "outputs": [
    {
     "data": {
      "text/plain": [
       "array([0.2, 0.2, 0.2, 0.2, 0.2])"
      ]
     },
     "execution_count": 73,
     "metadata": {},
     "output_type": "execute_result"
    }
   ],
   "source": [
    "agent.E"
   ]
  },
  {
   "cell_type": "code",
   "execution_count": 29,
   "id": "3637c2c6-44fd-4cc8-9769-c3a90a8df244",
   "metadata": {},
   "outputs": [],
   "source": [
    "# A1\n",
    "# agent_K.D = np.array((utils.onehot(init_K, len(grid)), utils.onehot(0, len(second_agent_locations))), dtype='object')\n",
    "# agent_T.D = np.array((utils.onehot(init_T, len(grid)), utils.onehot(0, len(second_agent_locations))), dtype='object')\n",
    "\n",
    "# A2\n",
    "agent_K.D = np.array((utils.onehot(init_K, len(grid)), utils.onehot(init_T, len(grid))), dtype='object')\n",
    "agent_T.D = np.array((utils.onehot(init_T, len(grid)), utils.onehot(init_K, len(grid))), dtype='object')"
   ]
  },
  {
   "cell_type": "code",
   "execution_count": 30,
   "id": "3941ce63-7418-40d5-817d-cd8451d68a88",
   "metadata": {},
   "outputs": [],
   "source": [
    "init_obs_T = [np.nonzero(agent_T.D[0])[0][0], np.nonzero(agent_T.D[1])[0][0]]\n",
    "init_obs_K = [np.nonzero(agent_K.D[0])[0][0], np.nonzero(agent_K.D[1])[0][0]]"
   ]
  },
  {
   "cell_type": "code",
   "execution_count": 31,
   "id": "41254959-040c-4f40-bcdc-bf77053eafe5",
   "metadata": {},
   "outputs": [],
   "source": [
    "env = GridAgent(grid_len=3, agents=[agent_K, agent_T])"
   ]
  },
  {
   "cell_type": "code",
   "execution_count": 44,
   "id": "275b209e-384b-48ec-b542-9d4b68d71e2c",
   "metadata": {},
   "outputs": [],
   "source": [
    "initial_state = {\n",
    "    'agent_K': agent_K,\n",
    "    'agent_T': agent_T,\n",
    "    'env': env,\n",
    "    'obs': [init_obs_K, init_obs_T],\n",
    "    'locations': env.agent_locs,\n",
    "    'actions': [None, None]\n",
    "}"
   ]
  },
  {
   "cell_type": "code",
   "execution_count": 45,
   "id": "68e1635c-ab6c-472c-9f16-f6a79eaa9346",
   "metadata": {},
   "outputs": [],
   "source": [
    "params = {\n",
    "}"
   ]
  },
  {
   "cell_type": "code",
   "execution_count": 74,
   "id": "1b4fdcd9-ab66-4543-8a53-63f6acae47de",
   "metadata": {},
   "outputs": [],
   "source": [
    "def p_actinf(params, substep, state_history, previous_state):\n",
    "    actions = []\n",
    "    word_actions = []\n",
    "    for idx, agent in enumerate([previous_state['agent_K'], previous_state['agent_T']]):\n",
    "        obs = previous_state['obs'][idx] if previous_state['obs'] != '' else agent.D\n",
    "        qx = agent.infer_states(previous_state['obs'][idx] if previous_state['obs'] != '' else agent.D)\n",
    "        q_pi, efe = agent.infer_policies()\n",
    "\n",
    "        action = agent.sample_action()\n",
    "        word_actions.append(E[int(action)])\n",
    "        actions.append(action)\n",
    "\n",
    "    return {'update_actions': actions,\n",
    "            'update_word_actions': word_actions}"
   ]
  },
  {
   "cell_type": "code",
   "execution_count": 75,
   "id": "c656c6bb-f23c-4569-b9f5-36e644f39645",
   "metadata": {},
   "outputs": [],
   "source": [
    "def s_obs(params, substep, state_history, previous_state, policy_input):\n",
    "    updated_obs = previous_state['env'].step(policy_input['update_actions'])\n",
    "    return 'obs', updated_obs\n",
    "\n",
    "def s_act(params, substep, state_history, previous_state, policy_input):\n",
    "    return 'actions', policy_input['update_word_actions']"
   ]
  },
  {
   "cell_type": "code",
   "execution_count": 76,
   "id": "d4fae47a-025c-4902-9c17-a7f67b986208",
   "metadata": {},
   "outputs": [],
   "source": [
    "state_update_blocks = [\n",
    "    {\n",
    "        'policies': {\n",
    "            'p_actinf': p_actinf\n",
    "        },\n",
    "        'variables': {\n",
    "            'obs': s_obs,\n",
    "            'actions': s_act\n",
    "        }\n",
    "    }\n",
    "]"
   ]
  },
  {
   "cell_type": "code",
   "execution_count": 77,
   "id": "c7bda97e-f754-4700-a0c2-720e6566332f",
   "metadata": {},
   "outputs": [],
   "source": [
    "model = Model(\n",
    "    # Model initial state\n",
    "    initial_state=initial_state,\n",
    "    # Model Partial State Update Blocks\n",
    "    state_update_blocks=state_update_blocks,\n",
    "    # System Parameters\n",
    "    params=params\n",
    ")"
   ]
  },
  {
   "cell_type": "code",
   "execution_count": 78,
   "id": "0b362387-ccf9-4b6a-b429-316420c8676a",
   "metadata": {},
   "outputs": [],
   "source": [
    "simulation = Simulation(\n",
    "    model=model,\n",
    "    timesteps=20,  # Number of timesteps\n",
    "    runs=1  # Number of Monte Carlo Runs\n",
    ")"
   ]
  },
  {
   "cell_type": "code",
   "execution_count": 79,
   "id": "ba710263-38ac-4f0e-a3df-8b679d9bcac1",
   "metadata": {},
   "outputs": [
    {
     "name": "stdout",
     "output_type": "stream",
     "text": [
      "actions received: [array([0.]), array([0.])] with length: 2\n",
      "actions received: [array([0.]), array([0.])] with length: 2\n",
      "actions received: [array([0.]), array([0.])] with length: 2\n",
      "actions received: [array([0.]), array([0.])] with length: 2\n",
      "actions received: [array([0.]), array([0.])] with length: 2\n",
      "actions received: [array([0.]), array([0.])] with length: 2\n",
      "actions received: [array([0.]), array([0.])] with length: 2\n",
      "actions received: [array([0.]), array([0.])] with length: 2\n",
      "actions received: [array([0.]), array([0.])] with length: 2\n",
      "actions received: [array([0.]), array([0.])] with length: 2\n",
      "actions received: [array([0.]), array([0.])] with length: 2\n",
      "actions received: [array([0.]), array([0.])] with length: 2\n",
      "actions received: [array([0.]), array([0.])] with length: 2\n",
      "actions received: [array([0.]), array([0.])] with length: 2\n",
      "actions received: [array([0.]), array([0.])] with length: 2\n",
      "actions received: [array([0.]), array([0.])] with length: 2\n",
      "actions received: [array([0.]), array([0.])] with length: 2\n",
      "actions received: [array([0.]), array([0.])] with length: 2\n",
      "actions received: [array([0.]), array([0.])] with length: 2\n",
      "actions received: [array([0.]), array([0.])] with length: 2\n"
     ]
    }
   ],
   "source": [
    "result = simulation.run()"
   ]
  },
  {
   "cell_type": "code",
   "execution_count": 80,
   "id": "f09d9f5e-3a9a-4e4c-8f4c-2395189843ee",
   "metadata": {},
   "outputs": [
    {
     "data": {
      "text/html": [
       "<div>\n",
       "<style scoped>\n",
       "    .dataframe tbody tr th:only-of-type {\n",
       "        vertical-align: middle;\n",
       "    }\n",
       "\n",
       "    .dataframe tbody tr th {\n",
       "        vertical-align: top;\n",
       "    }\n",
       "\n",
       "    .dataframe thead th {\n",
       "        text-align: right;\n",
       "    }\n",
       "</style>\n",
       "<table border=\"1\" class=\"dataframe\">\n",
       "  <thead>\n",
       "    <tr style=\"text-align: right;\">\n",
       "      <th></th>\n",
       "      <th>agent_K</th>\n",
       "      <th>agent_T</th>\n",
       "      <th>env</th>\n",
       "      <th>obs</th>\n",
       "      <th>locations</th>\n",
       "      <th>actions</th>\n",
       "      <th>simulation</th>\n",
       "      <th>subset</th>\n",
       "      <th>run</th>\n",
       "      <th>substep</th>\n",
       "      <th>timestep</th>\n",
       "    </tr>\n",
       "  </thead>\n",
       "  <tbody>\n",
       "    <tr>\n",
       "      <th>0</th>\n",
       "      <td>&lt;blockference.agent.Agent object at 0x1385f0640&gt;</td>\n",
       "      <td>&lt;blockference.agent.Agent object at 0x1385f6280&gt;</td>\n",
       "      <td>&lt;blockference.envs.grid_env.GridAgent object a...</td>\n",
       "      <td>[[0, 3], [3, 0]]</td>\n",
       "      <td>[0, 3]</td>\n",
       "      <td>[None, None]</td>\n",
       "      <td>0</td>\n",
       "      <td>0</td>\n",
       "      <td>1</td>\n",
       "      <td>0</td>\n",
       "      <td>0</td>\n",
       "    </tr>\n",
       "    <tr>\n",
       "      <th>1</th>\n",
       "      <td>&lt;blockference.agent.Agent object at 0x1385f0640&gt;</td>\n",
       "      <td>&lt;blockference.agent.Agent object at 0x1385f6280&gt;</td>\n",
       "      <td>&lt;blockference.envs.grid_env.GridAgent object a...</td>\n",
       "      <td>[(3, 1), (6, 1)]</td>\n",
       "      <td>[0, 3]</td>\n",
       "      <td>[UP, UP]</td>\n",
       "      <td>0</td>\n",
       "      <td>0</td>\n",
       "      <td>1</td>\n",
       "      <td>1</td>\n",
       "      <td>1</td>\n",
       "    </tr>\n",
       "    <tr>\n",
       "      <th>2</th>\n",
       "      <td>&lt;blockference.agent.Agent object at 0x1385f0640&gt;</td>\n",
       "      <td>&lt;blockference.agent.Agent object at 0x1385f6280&gt;</td>\n",
       "      <td>&lt;blockference.envs.grid_env.GridAgent object a...</td>\n",
       "      <td>[(3, 1), (6, 1)]</td>\n",
       "      <td>[0, 3]</td>\n",
       "      <td>[UP, UP]</td>\n",
       "      <td>0</td>\n",
       "      <td>0</td>\n",
       "      <td>1</td>\n",
       "      <td>1</td>\n",
       "      <td>2</td>\n",
       "    </tr>\n",
       "    <tr>\n",
       "      <th>3</th>\n",
       "      <td>&lt;blockference.agent.Agent object at 0x1385f0640&gt;</td>\n",
       "      <td>&lt;blockference.agent.Agent object at 0x1385f6280&gt;</td>\n",
       "      <td>&lt;blockference.envs.grid_env.GridAgent object a...</td>\n",
       "      <td>[(3, 1), (6, 1)]</td>\n",
       "      <td>[0, 3]</td>\n",
       "      <td>[UP, UP]</td>\n",
       "      <td>0</td>\n",
       "      <td>0</td>\n",
       "      <td>1</td>\n",
       "      <td>1</td>\n",
       "      <td>3</td>\n",
       "    </tr>\n",
       "    <tr>\n",
       "      <th>4</th>\n",
       "      <td>&lt;blockference.agent.Agent object at 0x1385f0640&gt;</td>\n",
       "      <td>&lt;blockference.agent.Agent object at 0x1385f6280&gt;</td>\n",
       "      <td>&lt;blockference.envs.grid_env.GridAgent object a...</td>\n",
       "      <td>[(3, 1), (6, 1)]</td>\n",
       "      <td>[0, 3]</td>\n",
       "      <td>[UP, UP]</td>\n",
       "      <td>0</td>\n",
       "      <td>0</td>\n",
       "      <td>1</td>\n",
       "      <td>1</td>\n",
       "      <td>4</td>\n",
       "    </tr>\n",
       "    <tr>\n",
       "      <th>5</th>\n",
       "      <td>&lt;blockference.agent.Agent object at 0x1385f0640&gt;</td>\n",
       "      <td>&lt;blockference.agent.Agent object at 0x1385f6280&gt;</td>\n",
       "      <td>&lt;blockference.envs.grid_env.GridAgent object a...</td>\n",
       "      <td>[(3, 1), (6, 1)]</td>\n",
       "      <td>[0, 3]</td>\n",
       "      <td>[UP, UP]</td>\n",
       "      <td>0</td>\n",
       "      <td>0</td>\n",
       "      <td>1</td>\n",
       "      <td>1</td>\n",
       "      <td>5</td>\n",
       "    </tr>\n",
       "    <tr>\n",
       "      <th>6</th>\n",
       "      <td>&lt;blockference.agent.Agent object at 0x1385f0640&gt;</td>\n",
       "      <td>&lt;blockference.agent.Agent object at 0x1385f6280&gt;</td>\n",
       "      <td>&lt;blockference.envs.grid_env.GridAgent object a...</td>\n",
       "      <td>[(3, 1), (6, 1)]</td>\n",
       "      <td>[0, 3]</td>\n",
       "      <td>[UP, UP]</td>\n",
       "      <td>0</td>\n",
       "      <td>0</td>\n",
       "      <td>1</td>\n",
       "      <td>1</td>\n",
       "      <td>6</td>\n",
       "    </tr>\n",
       "    <tr>\n",
       "      <th>7</th>\n",
       "      <td>&lt;blockference.agent.Agent object at 0x1385f0640&gt;</td>\n",
       "      <td>&lt;blockference.agent.Agent object at 0x1385f6280&gt;</td>\n",
       "      <td>&lt;blockference.envs.grid_env.GridAgent object a...</td>\n",
       "      <td>[(3, 1), (6, 1)]</td>\n",
       "      <td>[0, 3]</td>\n",
       "      <td>[UP, UP]</td>\n",
       "      <td>0</td>\n",
       "      <td>0</td>\n",
       "      <td>1</td>\n",
       "      <td>1</td>\n",
       "      <td>7</td>\n",
       "    </tr>\n",
       "    <tr>\n",
       "      <th>8</th>\n",
       "      <td>&lt;blockference.agent.Agent object at 0x1385f0640&gt;</td>\n",
       "      <td>&lt;blockference.agent.Agent object at 0x1385f6280&gt;</td>\n",
       "      <td>&lt;blockference.envs.grid_env.GridAgent object a...</td>\n",
       "      <td>[(3, 1), (6, 1)]</td>\n",
       "      <td>[0, 3]</td>\n",
       "      <td>[UP, UP]</td>\n",
       "      <td>0</td>\n",
       "      <td>0</td>\n",
       "      <td>1</td>\n",
       "      <td>1</td>\n",
       "      <td>8</td>\n",
       "    </tr>\n",
       "    <tr>\n",
       "      <th>9</th>\n",
       "      <td>&lt;blockference.agent.Agent object at 0x1385f0640&gt;</td>\n",
       "      <td>&lt;blockference.agent.Agent object at 0x1385f6280&gt;</td>\n",
       "      <td>&lt;blockference.envs.grid_env.GridAgent object a...</td>\n",
       "      <td>[(3, 1), (6, 1)]</td>\n",
       "      <td>[0, 3]</td>\n",
       "      <td>[UP, UP]</td>\n",
       "      <td>0</td>\n",
       "      <td>0</td>\n",
       "      <td>1</td>\n",
       "      <td>1</td>\n",
       "      <td>9</td>\n",
       "    </tr>\n",
       "    <tr>\n",
       "      <th>10</th>\n",
       "      <td>&lt;blockference.agent.Agent object at 0x1385f0640&gt;</td>\n",
       "      <td>&lt;blockference.agent.Agent object at 0x1385f6280&gt;</td>\n",
       "      <td>&lt;blockference.envs.grid_env.GridAgent object a...</td>\n",
       "      <td>[(3, 1), (6, 1)]</td>\n",
       "      <td>[0, 3]</td>\n",
       "      <td>[UP, UP]</td>\n",
       "      <td>0</td>\n",
       "      <td>0</td>\n",
       "      <td>1</td>\n",
       "      <td>1</td>\n",
       "      <td>10</td>\n",
       "    </tr>\n",
       "    <tr>\n",
       "      <th>11</th>\n",
       "      <td>&lt;blockference.agent.Agent object at 0x1385f0640&gt;</td>\n",
       "      <td>&lt;blockference.agent.Agent object at 0x1385f6280&gt;</td>\n",
       "      <td>&lt;blockference.envs.grid_env.GridAgent object a...</td>\n",
       "      <td>[(3, 1), (6, 1)]</td>\n",
       "      <td>[0, 3]</td>\n",
       "      <td>[UP, UP]</td>\n",
       "      <td>0</td>\n",
       "      <td>0</td>\n",
       "      <td>1</td>\n",
       "      <td>1</td>\n",
       "      <td>11</td>\n",
       "    </tr>\n",
       "    <tr>\n",
       "      <th>12</th>\n",
       "      <td>&lt;blockference.agent.Agent object at 0x1385f0640&gt;</td>\n",
       "      <td>&lt;blockference.agent.Agent object at 0x1385f6280&gt;</td>\n",
       "      <td>&lt;blockference.envs.grid_env.GridAgent object a...</td>\n",
       "      <td>[(3, 1), (6, 1)]</td>\n",
       "      <td>[0, 3]</td>\n",
       "      <td>[UP, UP]</td>\n",
       "      <td>0</td>\n",
       "      <td>0</td>\n",
       "      <td>1</td>\n",
       "      <td>1</td>\n",
       "      <td>12</td>\n",
       "    </tr>\n",
       "    <tr>\n",
       "      <th>13</th>\n",
       "      <td>&lt;blockference.agent.Agent object at 0x1385f0640&gt;</td>\n",
       "      <td>&lt;blockference.agent.Agent object at 0x1385f6280&gt;</td>\n",
       "      <td>&lt;blockference.envs.grid_env.GridAgent object a...</td>\n",
       "      <td>[(3, 1), (6, 1)]</td>\n",
       "      <td>[0, 3]</td>\n",
       "      <td>[UP, UP]</td>\n",
       "      <td>0</td>\n",
       "      <td>0</td>\n",
       "      <td>1</td>\n",
       "      <td>1</td>\n",
       "      <td>13</td>\n",
       "    </tr>\n",
       "    <tr>\n",
       "      <th>14</th>\n",
       "      <td>&lt;blockference.agent.Agent object at 0x1385f0640&gt;</td>\n",
       "      <td>&lt;blockference.agent.Agent object at 0x1385f6280&gt;</td>\n",
       "      <td>&lt;blockference.envs.grid_env.GridAgent object a...</td>\n",
       "      <td>[(3, 1), (6, 1)]</td>\n",
       "      <td>[0, 3]</td>\n",
       "      <td>[UP, UP]</td>\n",
       "      <td>0</td>\n",
       "      <td>0</td>\n",
       "      <td>1</td>\n",
       "      <td>1</td>\n",
       "      <td>14</td>\n",
       "    </tr>\n",
       "    <tr>\n",
       "      <th>15</th>\n",
       "      <td>&lt;blockference.agent.Agent object at 0x1385f0640&gt;</td>\n",
       "      <td>&lt;blockference.agent.Agent object at 0x1385f6280&gt;</td>\n",
       "      <td>&lt;blockference.envs.grid_env.GridAgent object a...</td>\n",
       "      <td>[(3, 1), (6, 1)]</td>\n",
       "      <td>[0, 3]</td>\n",
       "      <td>[UP, UP]</td>\n",
       "      <td>0</td>\n",
       "      <td>0</td>\n",
       "      <td>1</td>\n",
       "      <td>1</td>\n",
       "      <td>15</td>\n",
       "    </tr>\n",
       "    <tr>\n",
       "      <th>16</th>\n",
       "      <td>&lt;blockference.agent.Agent object at 0x1385f0640&gt;</td>\n",
       "      <td>&lt;blockference.agent.Agent object at 0x1385f6280&gt;</td>\n",
       "      <td>&lt;blockference.envs.grid_env.GridAgent object a...</td>\n",
       "      <td>[(3, 1), (6, 1)]</td>\n",
       "      <td>[0, 3]</td>\n",
       "      <td>[UP, UP]</td>\n",
       "      <td>0</td>\n",
       "      <td>0</td>\n",
       "      <td>1</td>\n",
       "      <td>1</td>\n",
       "      <td>16</td>\n",
       "    </tr>\n",
       "    <tr>\n",
       "      <th>17</th>\n",
       "      <td>&lt;blockference.agent.Agent object at 0x1385f0640&gt;</td>\n",
       "      <td>&lt;blockference.agent.Agent object at 0x1385f6280&gt;</td>\n",
       "      <td>&lt;blockference.envs.grid_env.GridAgent object a...</td>\n",
       "      <td>[(3, 1), (6, 1)]</td>\n",
       "      <td>[0, 3]</td>\n",
       "      <td>[UP, UP]</td>\n",
       "      <td>0</td>\n",
       "      <td>0</td>\n",
       "      <td>1</td>\n",
       "      <td>1</td>\n",
       "      <td>17</td>\n",
       "    </tr>\n",
       "    <tr>\n",
       "      <th>18</th>\n",
       "      <td>&lt;blockference.agent.Agent object at 0x1385f0640&gt;</td>\n",
       "      <td>&lt;blockference.agent.Agent object at 0x1385f6280&gt;</td>\n",
       "      <td>&lt;blockference.envs.grid_env.GridAgent object a...</td>\n",
       "      <td>[(3, 1), (6, 1)]</td>\n",
       "      <td>[0, 3]</td>\n",
       "      <td>[UP, UP]</td>\n",
       "      <td>0</td>\n",
       "      <td>0</td>\n",
       "      <td>1</td>\n",
       "      <td>1</td>\n",
       "      <td>18</td>\n",
       "    </tr>\n",
       "    <tr>\n",
       "      <th>19</th>\n",
       "      <td>&lt;blockference.agent.Agent object at 0x1385f0640&gt;</td>\n",
       "      <td>&lt;blockference.agent.Agent object at 0x1385f6280&gt;</td>\n",
       "      <td>&lt;blockference.envs.grid_env.GridAgent object a...</td>\n",
       "      <td>[(3, 1), (6, 1)]</td>\n",
       "      <td>[0, 3]</td>\n",
       "      <td>[UP, UP]</td>\n",
       "      <td>0</td>\n",
       "      <td>0</td>\n",
       "      <td>1</td>\n",
       "      <td>1</td>\n",
       "      <td>19</td>\n",
       "    </tr>\n",
       "    <tr>\n",
       "      <th>20</th>\n",
       "      <td>&lt;blockference.agent.Agent object at 0x1385f0640&gt;</td>\n",
       "      <td>&lt;blockference.agent.Agent object at 0x1385f6280&gt;</td>\n",
       "      <td>&lt;blockference.envs.grid_env.GridAgent object a...</td>\n",
       "      <td>[(3, 1), (6, 1)]</td>\n",
       "      <td>[0, 3]</td>\n",
       "      <td>[UP, UP]</td>\n",
       "      <td>0</td>\n",
       "      <td>0</td>\n",
       "      <td>1</td>\n",
       "      <td>1</td>\n",
       "      <td>20</td>\n",
       "    </tr>\n",
       "  </tbody>\n",
       "</table>\n",
       "</div>"
      ],
      "text/plain": [
       "                                             agent_K  \\\n",
       "0   <blockference.agent.Agent object at 0x1385f0640>   \n",
       "1   <blockference.agent.Agent object at 0x1385f0640>   \n",
       "2   <blockference.agent.Agent object at 0x1385f0640>   \n",
       "3   <blockference.agent.Agent object at 0x1385f0640>   \n",
       "4   <blockference.agent.Agent object at 0x1385f0640>   \n",
       "5   <blockference.agent.Agent object at 0x1385f0640>   \n",
       "6   <blockference.agent.Agent object at 0x1385f0640>   \n",
       "7   <blockference.agent.Agent object at 0x1385f0640>   \n",
       "8   <blockference.agent.Agent object at 0x1385f0640>   \n",
       "9   <blockference.agent.Agent object at 0x1385f0640>   \n",
       "10  <blockference.agent.Agent object at 0x1385f0640>   \n",
       "11  <blockference.agent.Agent object at 0x1385f0640>   \n",
       "12  <blockference.agent.Agent object at 0x1385f0640>   \n",
       "13  <blockference.agent.Agent object at 0x1385f0640>   \n",
       "14  <blockference.agent.Agent object at 0x1385f0640>   \n",
       "15  <blockference.agent.Agent object at 0x1385f0640>   \n",
       "16  <blockference.agent.Agent object at 0x1385f0640>   \n",
       "17  <blockference.agent.Agent object at 0x1385f0640>   \n",
       "18  <blockference.agent.Agent object at 0x1385f0640>   \n",
       "19  <blockference.agent.Agent object at 0x1385f0640>   \n",
       "20  <blockference.agent.Agent object at 0x1385f0640>   \n",
       "\n",
       "                                             agent_T  \\\n",
       "0   <blockference.agent.Agent object at 0x1385f6280>   \n",
       "1   <blockference.agent.Agent object at 0x1385f6280>   \n",
       "2   <blockference.agent.Agent object at 0x1385f6280>   \n",
       "3   <blockference.agent.Agent object at 0x1385f6280>   \n",
       "4   <blockference.agent.Agent object at 0x1385f6280>   \n",
       "5   <blockference.agent.Agent object at 0x1385f6280>   \n",
       "6   <blockference.agent.Agent object at 0x1385f6280>   \n",
       "7   <blockference.agent.Agent object at 0x1385f6280>   \n",
       "8   <blockference.agent.Agent object at 0x1385f6280>   \n",
       "9   <blockference.agent.Agent object at 0x1385f6280>   \n",
       "10  <blockference.agent.Agent object at 0x1385f6280>   \n",
       "11  <blockference.agent.Agent object at 0x1385f6280>   \n",
       "12  <blockference.agent.Agent object at 0x1385f6280>   \n",
       "13  <blockference.agent.Agent object at 0x1385f6280>   \n",
       "14  <blockference.agent.Agent object at 0x1385f6280>   \n",
       "15  <blockference.agent.Agent object at 0x1385f6280>   \n",
       "16  <blockference.agent.Agent object at 0x1385f6280>   \n",
       "17  <blockference.agent.Agent object at 0x1385f6280>   \n",
       "18  <blockference.agent.Agent object at 0x1385f6280>   \n",
       "19  <blockference.agent.Agent object at 0x1385f6280>   \n",
       "20  <blockference.agent.Agent object at 0x1385f6280>   \n",
       "\n",
       "                                                  env               obs  \\\n",
       "0   <blockference.envs.grid_env.GridAgent object a...  [[0, 3], [3, 0]]   \n",
       "1   <blockference.envs.grid_env.GridAgent object a...  [(3, 1), (6, 1)]   \n",
       "2   <blockference.envs.grid_env.GridAgent object a...  [(3, 1), (6, 1)]   \n",
       "3   <blockference.envs.grid_env.GridAgent object a...  [(3, 1), (6, 1)]   \n",
       "4   <blockference.envs.grid_env.GridAgent object a...  [(3, 1), (6, 1)]   \n",
       "5   <blockference.envs.grid_env.GridAgent object a...  [(3, 1), (6, 1)]   \n",
       "6   <blockference.envs.grid_env.GridAgent object a...  [(3, 1), (6, 1)]   \n",
       "7   <blockference.envs.grid_env.GridAgent object a...  [(3, 1), (6, 1)]   \n",
       "8   <blockference.envs.grid_env.GridAgent object a...  [(3, 1), (6, 1)]   \n",
       "9   <blockference.envs.grid_env.GridAgent object a...  [(3, 1), (6, 1)]   \n",
       "10  <blockference.envs.grid_env.GridAgent object a...  [(3, 1), (6, 1)]   \n",
       "11  <blockference.envs.grid_env.GridAgent object a...  [(3, 1), (6, 1)]   \n",
       "12  <blockference.envs.grid_env.GridAgent object a...  [(3, 1), (6, 1)]   \n",
       "13  <blockference.envs.grid_env.GridAgent object a...  [(3, 1), (6, 1)]   \n",
       "14  <blockference.envs.grid_env.GridAgent object a...  [(3, 1), (6, 1)]   \n",
       "15  <blockference.envs.grid_env.GridAgent object a...  [(3, 1), (6, 1)]   \n",
       "16  <blockference.envs.grid_env.GridAgent object a...  [(3, 1), (6, 1)]   \n",
       "17  <blockference.envs.grid_env.GridAgent object a...  [(3, 1), (6, 1)]   \n",
       "18  <blockference.envs.grid_env.GridAgent object a...  [(3, 1), (6, 1)]   \n",
       "19  <blockference.envs.grid_env.GridAgent object a...  [(3, 1), (6, 1)]   \n",
       "20  <blockference.envs.grid_env.GridAgent object a...  [(3, 1), (6, 1)]   \n",
       "\n",
       "   locations       actions  simulation  subset  run  substep  timestep  \n",
       "0     [0, 3]  [None, None]           0       0    1        0         0  \n",
       "1     [0, 3]      [UP, UP]           0       0    1        1         1  \n",
       "2     [0, 3]      [UP, UP]           0       0    1        1         2  \n",
       "3     [0, 3]      [UP, UP]           0       0    1        1         3  \n",
       "4     [0, 3]      [UP, UP]           0       0    1        1         4  \n",
       "5     [0, 3]      [UP, UP]           0       0    1        1         5  \n",
       "6     [0, 3]      [UP, UP]           0       0    1        1         6  \n",
       "7     [0, 3]      [UP, UP]           0       0    1        1         7  \n",
       "8     [0, 3]      [UP, UP]           0       0    1        1         8  \n",
       "9     [0, 3]      [UP, UP]           0       0    1        1         9  \n",
       "10    [0, 3]      [UP, UP]           0       0    1        1        10  \n",
       "11    [0, 3]      [UP, UP]           0       0    1        1        11  \n",
       "12    [0, 3]      [UP, UP]           0       0    1        1        12  \n",
       "13    [0, 3]      [UP, UP]           0       0    1        1        13  \n",
       "14    [0, 3]      [UP, UP]           0       0    1        1        14  \n",
       "15    [0, 3]      [UP, UP]           0       0    1        1        15  \n",
       "16    [0, 3]      [UP, UP]           0       0    1        1        16  \n",
       "17    [0, 3]      [UP, UP]           0       0    1        1        17  \n",
       "18    [0, 3]      [UP, UP]           0       0    1        1        18  \n",
       "19    [0, 3]      [UP, UP]           0       0    1        1        19  \n",
       "20    [0, 3]      [UP, UP]           0       0    1        1        20  "
      ]
     },
     "execution_count": 80,
     "metadata": {},
     "output_type": "execute_result"
    }
   ],
   "source": [
    "df = pd.DataFrame(result)\n",
    "df"
   ]
  },
  {
   "cell_type": "markdown",
   "id": "b1a10cc0-b459-4453-af6b-ba65d012acd0",
   "metadata": {
    "tags": []
   },
   "source": [
    "## Playground"
   ]
  },
  {
   "cell_type": "code",
   "execution_count": null,
   "id": "0131a060",
   "metadata": {},
   "outputs": [],
   "source": [
    "test = -qs[factor].dot(prior[factor][:, np.newaxis]) # this is what breaks"
   ]
  },
  {
   "cell_type": "code",
   "execution_count": 50,
   "id": "bdbaa81c",
   "metadata": {},
   "outputs": [],
   "source": [
    "num_obs, num_states, num_modalities, num_factors = utils.get_model_dimensions(A = A)"
   ]
  },
  {
   "cell_type": "code",
   "execution_count": 56,
   "id": "a5ef3f5a",
   "metadata": {},
   "outputs": [
    {
     "data": {
      "text/plain": [
       "[9, 1, 9]"
      ]
     },
     "execution_count": 56,
     "metadata": {},
     "output_type": "execute_result"
    }
   ],
   "source": [
    "num_states"
   ]
  },
  {
   "cell_type": "code",
   "execution_count": 66,
   "id": "5be9d01b",
   "metadata": {},
   "outputs": [
    {
     "data": {
      "text/plain": [
       "array([[0., 0., 0., 0., 0., 0., 0., 0., 0.]])"
      ]
     },
     "execution_count": 66,
     "metadata": {},
     "output_type": "execute_result"
    }
   ],
   "source": [
    "A[0][-1][1]"
   ]
  },
  {
   "cell_type": "code",
   "execution_count": null,
   "id": "16f6e66b",
   "metadata": {},
   "outputs": [],
   "source": []
  },
  {
   "cell_type": "code",
   "execution_count": 38,
   "id": "0a5c2da6-8075-49ac-899f-355972c020cc",
   "metadata": {},
   "outputs": [],
   "source": [
    "test_array = np.array([1.0, 0.0, 0.0, 0.0, 0.0, 0.0, 0.0, 0.0, 0.0])"
   ]
  },
  {
   "cell_type": "code",
   "execution_count": 40,
   "id": "aa3f6d76-9038-416a-a4e7-84d3442fe242",
   "metadata": {},
   "outputs": [
    {
     "data": {
      "text/plain": [
       "(9,)"
      ]
     },
     "execution_count": 40,
     "metadata": {},
     "output_type": "execute_result"
    }
   ],
   "source": [
    "test_array.shape"
   ]
  },
  {
   "cell_type": "code",
   "execution_count": null,
   "id": "ba9825c3-defc-4431-9f5a-62d769bba449",
   "metadata": {},
   "outputs": [],
   "source": []
  },
  {
   "cell_type": "code",
   "execution_count": 41,
   "id": "84011aa5-94c4-4c53-9a54-0fc0c9e26624",
   "metadata": {},
   "outputs": [
    {
     "data": {
      "text/plain": [
       "array([  0.        , -36.84136149, -36.84136149, -36.84136149,\n",
       "       -36.84136149, -36.84136149, -36.84136149, -36.84136149,\n",
       "       -36.84136149])"
      ]
     },
     "execution_count": 41,
     "metadata": {},
     "output_type": "execute_result"
    }
   ],
   "source": [
    "np.log(test_array + 1e-16)"
   ]
  },
  {
   "cell_type": "code",
   "execution_count": null,
   "id": "85f683e6-e010-442b-bc5b-b73732d082cc",
   "metadata": {},
   "outputs": [],
   "source": [
    "np.log"
   ]
  },
  {
   "cell_type": "code",
   "execution_count": 36,
   "id": "8d86c738-7b16-41c1-8077-44e5a6aa3567",
   "metadata": {},
   "outputs": [],
   "source": [
    "def dot_likelihood(A,obs):\n",
    "\n",
    "    s = np.ones(np.ndim(A), dtype = int)\n",
    "    s[0] = obs.shape[0]\n",
    "    X = A * obs.reshape(tuple(s))\n",
    "    X = np.sum(X, axis=0, keepdims=True)\n",
    "    LL = np.squeeze(X)\n",
    "\n",
    "    # check to see if `LL` is a scalar\n",
    "    if np.prod(LL.shape) <= 1.0:\n",
    "        LL = LL.item()\n",
    "        LL = np.array([LL]).astype(\"float64\")\n",
    "\n",
    "    return LL"
   ]
  },
  {
   "cell_type": "code",
   "execution_count": null,
   "id": "660ffdc8-e62f-43ab-beee-1e3fad961be5",
   "metadata": {},
   "outputs": [],
   "source": [
    "dot_likelihood()"
   ]
  },
  {
   "cell_type": "code",
   "execution_count": null,
   "id": "3764a406-a855-45e4-b5a5-cc65d020946c",
   "metadata": {},
   "outputs": [],
   "source": []
  },
  {
   "cell_type": "code",
   "execution_count": 60,
   "id": "f9931070-4a2e-40b4-9ea5-ffa8a295325a",
   "metadata": {},
   "outputs": [
    {
     "data": {
      "text/plain": [
       "(3,)"
      ]
     },
     "execution_count": 60,
     "metadata": {},
     "output_type": "execute_result"
    }
   ],
   "source": [
    "agent_K.A.shape"
   ]
  },
  {
   "cell_type": "markdown",
   "id": "1478440f-27a0-4830-bb5c-7548c7e796bb",
   "metadata": {},
   "source": []
  },
  {
   "cell_type": "code",
   "execution_count": 90,
   "id": "0b107067-3885-4c57-99e7-6b79bc7e4a67",
   "metadata": {},
   "outputs": [
    {
     "data": {
      "text/plain": [
       "array([array([[[1., 0., 1., 0., 1.],\n",
       "               [0., 0., 1., 0., 0.],\n",
       "               [0., 0., 0., 0., 0.],\n",
       "               [1., 0., 0., 0., 0.],\n",
       "               [0., 0., 0., 0., 0.],\n",
       "               [0., 0., 0., 0., 0.],\n",
       "               [0., 0., 0., 0., 0.],\n",
       "               [0., 0., 0., 0., 0.],\n",
       "               [0., 0., 0., 0., 0.]],\n",
       "\n",
       "              [[0., 0., 0., 1., 0.],\n",
       "               [1., 0., 0., 0., 1.],\n",
       "               [0., 0., 1., 0., 0.],\n",
       "               [0., 0., 0., 0., 0.],\n",
       "               [1., 0., 0., 0., 0.],\n",
       "               [0., 0., 0., 0., 0.],\n",
       "               [0., 0., 0., 0., 0.],\n",
       "               [0., 0., 0., 0., 0.],\n",
       "               [0., 0., 0., 0., 0.]],\n",
       "\n",
       "              [[0., 0., 0., 0., 0.],\n",
       "               [0., 0., 0., 1., 0.],\n",
       "               [1., 0., 0., 1., 1.],\n",
       "               [0., 0., 0., 0., 0.],\n",
       "               [0., 0., 0., 0., 0.],\n",
       "               [1., 0., 0., 0., 0.],\n",
       "               [0., 0., 0., 0., 0.],\n",
       "               [0., 0., 0., 0., 0.],\n",
       "               [0., 0., 0., 0., 0.]],\n",
       "\n",
       "              [[0., 1., 0., 0., 0.],\n",
       "               [0., 0., 0., 0., 0.],\n",
       "               [0., 0., 0., 0., 0.],\n",
       "               [0., 0., 1., 0., 1.],\n",
       "               [0., 0., 1., 0., 0.],\n",
       "               [0., 0., 0., 0., 0.],\n",
       "               [1., 0., 0., 0., 0.],\n",
       "               [0., 0., 0., 0., 0.],\n",
       "               [0., 0., 0., 0., 0.]],\n",
       "\n",
       "              [[0., 0., 0., 0., 0.],\n",
       "               [0., 1., 0., 0., 0.],\n",
       "               [0., 0., 0., 0., 0.],\n",
       "               [0., 0., 0., 1., 0.],\n",
       "               [0., 0., 0., 0., 1.],\n",
       "               [0., 0., 1., 0., 0.],\n",
       "               [0., 0., 0., 0., 0.],\n",
       "               [1., 0., 0., 0., 0.],\n",
       "               [0., 0., 0., 0., 0.]],\n",
       "\n",
       "              [[0., 0., 0., 0., 0.],\n",
       "               [0., 0., 0., 0., 0.],\n",
       "               [0., 1., 0., 0., 0.],\n",
       "               [0., 0., 0., 0., 0.],\n",
       "               [0., 0., 0., 1., 0.],\n",
       "               [0., 0., 0., 1., 1.],\n",
       "               [0., 0., 0., 0., 0.],\n",
       "               [0., 0., 0., 0., 0.],\n",
       "               [1., 0., 0., 0., 0.]],\n",
       "\n",
       "              [[0., 0., 0., 0., 0.],\n",
       "               [0., 0., 0., 0., 0.],\n",
       "               [0., 0., 0., 0., 0.],\n",
       "               [0., 1., 0., 0., 0.],\n",
       "               [0., 0., 0., 0., 0.],\n",
       "               [0., 0., 0., 0., 0.],\n",
       "               [0., 1., 1., 0., 1.],\n",
       "               [0., 0., 1., 0., 0.],\n",
       "               [0., 0., 0., 0., 0.]],\n",
       "\n",
       "              [[0., 0., 0., 0., 0.],\n",
       "               [0., 0., 0., 0., 0.],\n",
       "               [0., 0., 0., 0., 0.],\n",
       "               [0., 0., 0., 0., 0.],\n",
       "               [0., 1., 0., 0., 0.],\n",
       "               [0., 0., 0., 0., 0.],\n",
       "               [0., 0., 0., 1., 0.],\n",
       "               [0., 1., 0., 0., 1.],\n",
       "               [0., 0., 1., 0., 0.]],\n",
       "\n",
       "              [[0., 0., 0., 0., 0.],\n",
       "               [0., 0., 0., 0., 0.],\n",
       "               [0., 0., 0., 0., 0.],\n",
       "               [0., 0., 0., 0., 0.],\n",
       "               [0., 0., 0., 0., 0.],\n",
       "               [0., 1., 0., 0., 0.],\n",
       "               [0., 0., 0., 0., 0.],\n",
       "               [0., 0., 0., 1., 0.],\n",
       "               [0., 1., 0., 1., 1.]]])], dtype=object)"
      ]
     },
     "execution_count": 90,
     "metadata": {},
     "output_type": "execute_result"
    }
   ],
   "source": [
    "B"
   ]
  },
  {
   "cell_type": "code",
   "execution_count": null,
   "id": "51c58b0f-24cf-4136-98f9-12817afdfb1e",
   "metadata": {},
   "outputs": [],
   "source": []
  },
  {
   "cell_type": "code",
   "execution_count": null,
   "id": "162721a0-99de-4a80-9785-bafaaa11f8ae",
   "metadata": {},
   "outputs": [],
   "source": []
  },
  {
   "cell_type": "code",
   "execution_count": 56,
   "id": "f4c47065-7e31-4271-bf1c-e219c0231d04",
   "metadata": {},
   "outputs": [
    {
     "data": {
      "text/plain": [
       "([9, 5], [9, 5], 2, 2)"
      ]
     },
     "execution_count": 56,
     "metadata": {},
     "output_type": "execute_result"
    }
   ],
   "source": [
    "utils.get_model_dimensions(agent_K.A, agent_K.B)"
   ]
  },
  {
   "cell_type": "code",
   "execution_count": 52,
   "id": "0f4ba887-98cc-4409-960f-8be26e27ea6c",
   "metadata": {},
   "outputs": [
    {
     "data": {
      "text/plain": [
       "[4, 2]"
      ]
     },
     "execution_count": 52,
     "metadata": {},
     "output_type": "execute_result"
    }
   ],
   "source": [
    "list(agent.A[0].shape[1:]) if utils.is_obj_array(agent.A) else list(agent.A.shape[1:])"
   ]
  },
  {
   "cell_type": "code",
   "execution_count": 56,
   "id": "da9c76a9-c87b-4ccd-99dc-77d307290817",
   "metadata": {},
   "outputs": [
    {
     "data": {
      "text/plain": [
       "(2,)"
      ]
     },
     "execution_count": 56,
     "metadata": {},
     "output_type": "execute_result"
    }
   ],
   "source": [
    "agent.B.shape"
   ]
  },
  {
   "cell_type": "code",
   "execution_count": 57,
   "id": "f0dba6c9-9763-4f40-a28b-94673d6b6a40",
   "metadata": {},
   "outputs": [
    {
     "data": {
      "text/plain": [
       "(2,)"
      ]
     },
     "execution_count": 57,
     "metadata": {},
     "output_type": "execute_result"
    }
   ],
   "source": [
    "agent_K.B.shape"
   ]
  },
  {
   "cell_type": "code",
   "execution_count": 75,
   "id": "75a62f1b-810e-4c9f-a016-e2997a196532",
   "metadata": {},
   "outputs": [
    {
     "data": {
      "text/plain": [
       "([4, 3, 2], [4, 2], 3, 2)"
      ]
     },
     "execution_count": 75,
     "metadata": {},
     "output_type": "execute_result"
    }
   ],
   "source": [
    "utils.get_model_dimensions(A = agent.A)"
   ]
  },
  {
   "cell_type": "code",
   "execution_count": 41,
   "id": "99d2db36-6fc2-43ad-b856-bb5f11ba4675",
   "metadata": {},
   "outputs": [
    {
     "data": {
      "text/plain": [
       "[9, 5]"
      ]
     },
     "execution_count": 41,
     "metadata": {},
     "output_type": "execute_result"
    }
   ],
   "source": [
    "num_obs"
   ]
  },
  {
   "cell_type": "code",
   "execution_count": 42,
   "id": "681c0500-db3b-4a8a-bedb-24b0721a6f98",
   "metadata": {},
   "outputs": [
    {
     "data": {
      "text/plain": [
       "[9]"
      ]
     },
     "execution_count": 42,
     "metadata": {},
     "output_type": "execute_result"
    }
   ],
   "source": [
    "num_states"
   ]
  },
  {
   "cell_type": "code",
   "execution_count": 66,
   "id": "f3fb06c2-cc02-4b5b-81c5-0cef2882acb4",
   "metadata": {},
   "outputs": [
    {
     "data": {
      "text/plain": [
       "array([array([[[1., 1.],\n",
       "               [0., 0.],\n",
       "               [0., 0.],\n",
       "               [0., 0.]],\n",
       "\n",
       "              [[0., 0.],\n",
       "               [1., 1.],\n",
       "               [0., 0.],\n",
       "               [0., 0.]],\n",
       "\n",
       "              [[0., 0.],\n",
       "               [0., 0.],\n",
       "               [1., 1.],\n",
       "               [0., 0.]],\n",
       "\n",
       "              [[0., 0.],\n",
       "               [0., 0.],\n",
       "               [0., 0.],\n",
       "               [1., 1.]]]), array([[[1.  , 1.  ],\n",
       "                                    [0.  , 0.  ],\n",
       "                                    [0.  , 0.  ],\n",
       "                                    [1.  , 1.  ]],\n",
       "\n",
       "                                   [[0.  , 0.  ],\n",
       "                                    [0.98, 0.02],\n",
       "                                    [0.02, 0.98],\n",
       "                                    [0.  , 0.  ]],\n",
       "\n",
       "                                   [[0.  , 0.  ],\n",
       "                                    [0.02, 0.98],\n",
       "                                    [0.98, 0.02],\n",
       "                                    [0.  , 0.  ]]]),\n",
       "       array([[[0.5, 0.5],\n",
       "               [0.5, 0.5],\n",
       "               [0.5, 0.5],\n",
       "               [1. , 0. ]],\n",
       "\n",
       "              [[0.5, 0.5],\n",
       "               [0.5, 0.5],\n",
       "               [0.5, 0.5],\n",
       "               [0. , 1. ]]])], dtype=object)"
      ]
     },
     "execution_count": 66,
     "metadata": {},
     "output_type": "execute_result"
    }
   ],
   "source": [
    "agent.A"
   ]
  },
  {
   "cell_type": "code",
   "execution_count": 82,
   "id": "4a8c512d-ae3f-4e2a-ae7f-fdc3f69e24e2",
   "metadata": {},
   "outputs": [
    {
     "data": {
      "text/plain": [
       "(5,)"
      ]
     },
     "execution_count": 82,
     "metadata": {},
     "output_type": "execute_result"
    }
   ],
   "source": [
    "agent_K.A[1][0].shape"
   ]
  },
  {
   "cell_type": "code",
   "execution_count": 77,
   "id": "8cbc5d4f-62a6-4978-8089-47dbe13a17d1",
   "metadata": {},
   "outputs": [
    {
     "data": {
      "text/plain": [
       "(4, 2)"
      ]
     },
     "execution_count": 77,
     "metadata": {},
     "output_type": "execute_result"
    }
   ],
   "source": [
    "agent.A[0][0].shape"
   ]
  },
  {
   "cell_type": "code",
   "execution_count": 44,
   "id": "2926e0a4-0164-41cc-8ba5-6ce92a186ce8",
   "metadata": {},
   "outputs": [],
   "source": [
    "# TMAZE\n",
    "import os\n",
    "import sys\n",
    "import pathlib\n",
    "import numpy as np\n",
    "import seaborn as sns\n",
    "import matplotlib.pyplot as plt\n",
    "import copy\n",
    "\n",
    "from pymdp.agent import Agent\n",
    "from pymdp import utils\n",
    "from pymdp.envs import TMazeEnv"
   ]
  },
  {
   "cell_type": "code",
   "execution_count": 45,
   "id": "698efe05-43f8-4753-850d-6cc088dc5bf1",
   "metadata": {},
   "outputs": [],
   "source": [
    "def plot_beliefs(belief_dist, title=\"\"):\n",
    "    plt.grid(zorder=0)\n",
    "    plt.bar(range(belief_dist.shape[0]), belief_dist, color='r', zorder=3)\n",
    "    plt.xticks(range(belief_dist.shape[0]))\n",
    "    plt.title(title)\n",
    "    plt.show()\n",
    "    \n",
    "def plot_likelihood(A, title=\"\"):\n",
    "    ax = sns.heatmap(A, cmap=\"OrRd\", linewidth=2.5)\n",
    "    plt.xticks(range(A.shape[1]))\n",
    "    plt.yticks(range(A.shape[0]))\n",
    "    plt.title(title)\n",
    "    plt.show()"
   ]
  },
  {
   "cell_type": "code",
   "execution_count": 46,
   "id": "a85b040f-5079-4a34-968c-22f35330929d",
   "metadata": {},
   "outputs": [],
   "source": [
    "reward_probabilities = [0.98, 0.02] # probabilities used in the original SPM T-maze demo\n",
    "env = TMazeEnv(reward_probs = reward_probabilities)\n",
    "# here, we can get the likelihood mapping directly from the environmental class. So this is the likelihood mapping that truly describes the relatinoship between the \n",
    "# environment's hidden state and the observations the agent will get\n",
    "\n",
    "A_gp = env.get_likelihood_dist()"
   ]
  },
  {
   "cell_type": "code",
   "execution_count": 47,
   "id": "3d9beac6-f699-4b9d-8f5e-6b0d27e718d2",
   "metadata": {},
   "outputs": [
    {
     "data": {
      "text/plain": [
       "array([array([[[1., 1.],\n",
       "               [0., 0.],\n",
       "               [0., 0.],\n",
       "               [0., 0.]],\n",
       "\n",
       "              [[0., 0.],\n",
       "               [1., 1.],\n",
       "               [0., 0.],\n",
       "               [0., 0.]],\n",
       "\n",
       "              [[0., 0.],\n",
       "               [0., 0.],\n",
       "               [1., 1.],\n",
       "               [0., 0.]],\n",
       "\n",
       "              [[0., 0.],\n",
       "               [0., 0.],\n",
       "               [0., 0.],\n",
       "               [1., 1.]]]), array([[[1.  , 1.  ],\n",
       "                                    [0.  , 0.  ],\n",
       "                                    [0.  , 0.  ],\n",
       "                                    [1.  , 1.  ]],\n",
       "\n",
       "                                   [[0.  , 0.  ],\n",
       "                                    [0.98, 0.02],\n",
       "                                    [0.02, 0.98],\n",
       "                                    [0.  , 0.  ]],\n",
       "\n",
       "                                   [[0.  , 0.  ],\n",
       "                                    [0.02, 0.98],\n",
       "                                    [0.98, 0.02],\n",
       "                                    [0.  , 0.  ]]]),\n",
       "       array([[[0.5, 0.5],\n",
       "               [0.5, 0.5],\n",
       "               [0.5, 0.5],\n",
       "               [1. , 0. ]],\n",
       "\n",
       "              [[0.5, 0.5],\n",
       "               [0.5, 0.5],\n",
       "               [0.5, 0.5],\n",
       "               [0. , 1. ]]])], dtype=object)"
      ]
     },
     "execution_count": 47,
     "metadata": {},
     "output_type": "execute_result"
    }
   ],
   "source": [
    "A_gp"
   ]
  },
  {
   "cell_type": "code",
   "execution_count": 48,
   "id": "3cf95ccc-63df-49df-bcde-5f22d8d8d20b",
   "metadata": {},
   "outputs": [],
   "source": [
    "B_gp = env.get_transition_dist()"
   ]
  },
  {
   "cell_type": "code",
   "execution_count": 49,
   "id": "37890a9d-9241-42c1-9fcf-cfe18b315605",
   "metadata": {},
   "outputs": [],
   "source": [
    "A_gm = copy.deepcopy(A_gp) # make a copy of the true observation likelihood to initialize the observation model\n",
    "B_gm = copy.deepcopy(B_gp) # make a copy of the true transition likelihood to initialize the transition model\n",
    "controllable_indices = [0] # this is a list of the indices of the hidden state factors that are controllable\n",
    "agent = Agent(A=A_gm, B=B_gm, control_fac_idx=controllable_indices)\n",
    "agent.C[1][1] = 3.0\n",
    "agent.C[1][2] = -3.0"
   ]
  },
  {
   "cell_type": "code",
   "execution_count": 50,
   "id": "ac33073f-e047-4e09-837e-e5f3ee295b58",
   "metadata": {},
   "outputs": [
    {
     "name": "stdout",
     "output_type": "stream",
     "text": [
      " === Starting experiment === \n",
      " Reward condition: Left, Observation: [CENTER, No reward, Cue Left]\n",
      "Observation is [0, 0, 1]\n",
      "type of num states is <class 'list'>\n",
      "modality is 0, length of A is 3, A[modality] is [[[1. 1.]\n",
      "  [0. 0.]\n",
      "  [0. 0.]\n",
      "  [0. 0.]]\n",
      "\n",
      " [[0. 0.]\n",
      "  [1. 1.]\n",
      "  [0. 0.]\n",
      "  [0. 0.]]\n",
      "\n",
      " [[0. 0.]\n",
      "  [0. 0.]\n",
      "  [1. 1.]\n",
      "  [0. 0.]]\n",
      "\n",
      " [[0. 0.]\n",
      "  [0. 0.]\n",
      "  [0. 0.]\n",
      "  [1. 1.]]] and obs[modality] is [1. 0. 0. 0.]\n",
      "ll is [[1. 1.]\n",
      " [1. 1.]\n",
      " [1. 1.]\n",
      " [1. 1.]]\n",
      "dot likelihood is [[1. 1.]\n",
      " [0. 0.]\n",
      " [0. 0.]\n",
      " [0. 0.]]\n",
      "modality is 1, length of A is 3, A[modality] is [[[1.   1.  ]\n",
      "  [0.   0.  ]\n",
      "  [0.   0.  ]\n",
      "  [1.   1.  ]]\n",
      "\n",
      " [[0.   0.  ]\n",
      "  [0.98 0.02]\n",
      "  [0.02 0.98]\n",
      "  [0.   0.  ]]\n",
      "\n",
      " [[0.   0.  ]\n",
      "  [0.02 0.98]\n",
      "  [0.98 0.02]\n",
      "  [0.   0.  ]]] and obs[modality] is [1. 0. 0.]\n",
      "ll is [[1. 1.]\n",
      " [0. 0.]\n",
      " [0. 0.]\n",
      " [0. 0.]]\n",
      "dot likelihood is [[1. 1.]\n",
      " [0. 0.]\n",
      " [0. 0.]\n",
      " [1. 1.]]\n",
      "modality is 2, length of A is 3, A[modality] is [[[0.5 0.5]\n",
      "  [0.5 0.5]\n",
      "  [0.5 0.5]\n",
      "  [1.  0. ]]\n",
      "\n",
      " [[0.5 0.5]\n",
      "  [0.5 0.5]\n",
      "  [0.5 0.5]\n",
      "  [0.  1. ]]] and obs[modality] is [0. 1.]\n",
      "ll is [[1. 1.]\n",
      " [0. 0.]\n",
      " [0. 0.]\n",
      " [0. 0.]]\n",
      "dot likelihood is [[0.5 0.5]\n",
      " [0.5 0.5]\n",
      " [0.5 0.5]\n",
      " [0.  1. ]]\n",
      "[Step 0] Action: [Move to CUE LOCATION]\n",
      "[Step 0] Observation: [CUE LOCATION,  No reward, Cue Left]\n",
      "Observation is [3, 0, 1]\n",
      "type of num states is <class 'list'>\n",
      "modality is 0, length of A is 3, A[modality] is [[[1. 1.]\n",
      "  [0. 0.]\n",
      "  [0. 0.]\n",
      "  [0. 0.]]\n",
      "\n",
      " [[0. 0.]\n",
      "  [1. 1.]\n",
      "  [0. 0.]\n",
      "  [0. 0.]]\n",
      "\n",
      " [[0. 0.]\n",
      "  [0. 0.]\n",
      "  [1. 1.]\n",
      "  [0. 0.]]\n",
      "\n",
      " [[0. 0.]\n",
      "  [0. 0.]\n",
      "  [0. 0.]\n",
      "  [1. 1.]]] and obs[modality] is [0. 0. 0. 1.]\n",
      "ll is [[1. 1.]\n",
      " [1. 1.]\n",
      " [1. 1.]\n",
      " [1. 1.]]\n",
      "dot likelihood is [[0. 0.]\n",
      " [0. 0.]\n",
      " [0. 0.]\n",
      " [1. 1.]]\n",
      "modality is 1, length of A is 3, A[modality] is [[[1.   1.  ]\n",
      "  [0.   0.  ]\n",
      "  [0.   0.  ]\n",
      "  [1.   1.  ]]\n",
      "\n",
      " [[0.   0.  ]\n",
      "  [0.98 0.02]\n",
      "  [0.02 0.98]\n",
      "  [0.   0.  ]]\n",
      "\n",
      " [[0.   0.  ]\n",
      "  [0.02 0.98]\n",
      "  [0.98 0.02]\n",
      "  [0.   0.  ]]] and obs[modality] is [1. 0. 0.]\n",
      "ll is [[0. 0.]\n",
      " [0. 0.]\n",
      " [0. 0.]\n",
      " [1. 1.]]\n",
      "dot likelihood is [[1. 1.]\n",
      " [0. 0.]\n",
      " [0. 0.]\n",
      " [1. 1.]]\n",
      "modality is 2, length of A is 3, A[modality] is [[[0.5 0.5]\n",
      "  [0.5 0.5]\n",
      "  [0.5 0.5]\n",
      "  [1.  0. ]]\n",
      "\n",
      " [[0.5 0.5]\n",
      "  [0.5 0.5]\n",
      "  [0.5 0.5]\n",
      "  [0.  1. ]]] and obs[modality] is [0. 1.]\n",
      "ll is [[0. 0.]\n",
      " [0. 0.]\n",
      " [0. 0.]\n",
      " [1. 1.]]\n",
      "dot likelihood is [[0.5 0.5]\n",
      " [0.5 0.5]\n",
      " [0.5 0.5]\n",
      " [0.  1. ]]\n",
      "[Step 1] Action: [Move to LEFT ARM]\n",
      "[Step 1] Observation: [LEFT ARM,  Reward!, Cue Right]\n",
      "Observation is [2, 1, 0]\n",
      "type of num states is <class 'list'>\n",
      "modality is 0, length of A is 3, A[modality] is [[[1. 1.]\n",
      "  [0. 0.]\n",
      "  [0. 0.]\n",
      "  [0. 0.]]\n",
      "\n",
      " [[0. 0.]\n",
      "  [1. 1.]\n",
      "  [0. 0.]\n",
      "  [0. 0.]]\n",
      "\n",
      " [[0. 0.]\n",
      "  [0. 0.]\n",
      "  [1. 1.]\n",
      "  [0. 0.]]\n",
      "\n",
      " [[0. 0.]\n",
      "  [0. 0.]\n",
      "  [0. 0.]\n",
      "  [1. 1.]]] and obs[modality] is [0. 0. 1. 0.]\n",
      "ll is [[1. 1.]\n",
      " [1. 1.]\n",
      " [1. 1.]\n",
      " [1. 1.]]\n",
      "dot likelihood is [[0. 0.]\n",
      " [0. 0.]\n",
      " [1. 1.]\n",
      " [0. 0.]]\n",
      "modality is 1, length of A is 3, A[modality] is [[[1.   1.  ]\n",
      "  [0.   0.  ]\n",
      "  [0.   0.  ]\n",
      "  [1.   1.  ]]\n",
      "\n",
      " [[0.   0.  ]\n",
      "  [0.98 0.02]\n",
      "  [0.02 0.98]\n",
      "  [0.   0.  ]]\n",
      "\n",
      " [[0.   0.  ]\n",
      "  [0.02 0.98]\n",
      "  [0.98 0.02]\n",
      "  [0.   0.  ]]] and obs[modality] is [0. 1. 0.]\n",
      "ll is [[0. 0.]\n",
      " [0. 0.]\n",
      " [1. 1.]\n",
      " [0. 0.]]\n",
      "dot likelihood is [[0.   0.  ]\n",
      " [0.98 0.02]\n",
      " [0.02 0.98]\n",
      " [0.   0.  ]]\n",
      "modality is 2, length of A is 3, A[modality] is [[[0.5 0.5]\n",
      "  [0.5 0.5]\n",
      "  [0.5 0.5]\n",
      "  [1.  0. ]]\n",
      "\n",
      " [[0.5 0.5]\n",
      "  [0.5 0.5]\n",
      "  [0.5 0.5]\n",
      "  [0.  1. ]]] and obs[modality] is [1. 0.]\n",
      "ll is [[0.   0.  ]\n",
      " [0.   0.  ]\n",
      " [0.02 0.98]\n",
      " [0.   0.  ]]\n",
      "dot likelihood is [[0.5 0.5]\n",
      " [0.5 0.5]\n",
      " [0.5 0.5]\n",
      " [1.  0. ]]\n",
      "[Step 2] Action: [Move to LEFT ARM]\n",
      "[Step 2] Observation: [LEFT ARM,  Reward!, Cue Left]\n",
      "Observation is [2, 1, 1]\n",
      "type of num states is <class 'list'>\n",
      "modality is 0, length of A is 3, A[modality] is [[[1. 1.]\n",
      "  [0. 0.]\n",
      "  [0. 0.]\n",
      "  [0. 0.]]\n",
      "\n",
      " [[0. 0.]\n",
      "  [1. 1.]\n",
      "  [0. 0.]\n",
      "  [0. 0.]]\n",
      "\n",
      " [[0. 0.]\n",
      "  [0. 0.]\n",
      "  [1. 1.]\n",
      "  [0. 0.]]\n",
      "\n",
      " [[0. 0.]\n",
      "  [0. 0.]\n",
      "  [0. 0.]\n",
      "  [1. 1.]]] and obs[modality] is [0. 0. 1. 0.]\n",
      "ll is [[1. 1.]\n",
      " [1. 1.]\n",
      " [1. 1.]\n",
      " [1. 1.]]\n",
      "dot likelihood is [[0. 0.]\n",
      " [0. 0.]\n",
      " [1. 1.]\n",
      " [0. 0.]]\n",
      "modality is 1, length of A is 3, A[modality] is [[[1.   1.  ]\n",
      "  [0.   0.  ]\n",
      "  [0.   0.  ]\n",
      "  [1.   1.  ]]\n",
      "\n",
      " [[0.   0.  ]\n",
      "  [0.98 0.02]\n",
      "  [0.02 0.98]\n",
      "  [0.   0.  ]]\n",
      "\n",
      " [[0.   0.  ]\n",
      "  [0.02 0.98]\n",
      "  [0.98 0.02]\n",
      "  [0.   0.  ]]] and obs[modality] is [0. 1. 0.]\n",
      "ll is [[0. 0.]\n",
      " [0. 0.]\n",
      " [1. 1.]\n",
      " [0. 0.]]\n",
      "dot likelihood is [[0.   0.  ]\n",
      " [0.98 0.02]\n",
      " [0.02 0.98]\n",
      " [0.   0.  ]]\n",
      "modality is 2, length of A is 3, A[modality] is [[[0.5 0.5]\n",
      "  [0.5 0.5]\n",
      "  [0.5 0.5]\n",
      "  [1.  0. ]]\n",
      "\n",
      " [[0.5 0.5]\n",
      "  [0.5 0.5]\n",
      "  [0.5 0.5]\n",
      "  [0.  1. ]]] and obs[modality] is [0. 1.]\n",
      "ll is [[0.   0.  ]\n",
      " [0.   0.  ]\n",
      " [0.02 0.98]\n",
      " [0.   0.  ]]\n",
      "dot likelihood is [[0.5 0.5]\n",
      " [0.5 0.5]\n",
      " [0.5 0.5]\n",
      " [0.  1. ]]\n",
      "[Step 3] Action: [Move to LEFT ARM]\n",
      "[Step 3] Observation: [LEFT ARM,  Reward!, Cue Right]\n",
      "Observation is [2, 1, 0]\n",
      "type of num states is <class 'list'>\n",
      "modality is 0, length of A is 3, A[modality] is [[[1. 1.]\n",
      "  [0. 0.]\n",
      "  [0. 0.]\n",
      "  [0. 0.]]\n",
      "\n",
      " [[0. 0.]\n",
      "  [1. 1.]\n",
      "  [0. 0.]\n",
      "  [0. 0.]]\n",
      "\n",
      " [[0. 0.]\n",
      "  [0. 0.]\n",
      "  [1. 1.]\n",
      "  [0. 0.]]\n",
      "\n",
      " [[0. 0.]\n",
      "  [0. 0.]\n",
      "  [0. 0.]\n",
      "  [1. 1.]]] and obs[modality] is [0. 0. 1. 0.]\n",
      "ll is [[1. 1.]\n",
      " [1. 1.]\n",
      " [1. 1.]\n",
      " [1. 1.]]\n",
      "dot likelihood is [[0. 0.]\n",
      " [0. 0.]\n",
      " [1. 1.]\n",
      " [0. 0.]]\n",
      "modality is 1, length of A is 3, A[modality] is [[[1.   1.  ]\n",
      "  [0.   0.  ]\n",
      "  [0.   0.  ]\n",
      "  [1.   1.  ]]\n",
      "\n",
      " [[0.   0.  ]\n",
      "  [0.98 0.02]\n",
      "  [0.02 0.98]\n",
      "  [0.   0.  ]]\n",
      "\n",
      " [[0.   0.  ]\n",
      "  [0.02 0.98]\n",
      "  [0.98 0.02]\n",
      "  [0.   0.  ]]] and obs[modality] is [0. 1. 0.]\n",
      "ll is [[0. 0.]\n",
      " [0. 0.]\n",
      " [1. 1.]\n",
      " [0. 0.]]\n",
      "dot likelihood is [[0.   0.  ]\n",
      " [0.98 0.02]\n",
      " [0.02 0.98]\n",
      " [0.   0.  ]]\n",
      "modality is 2, length of A is 3, A[modality] is [[[0.5 0.5]\n",
      "  [0.5 0.5]\n",
      "  [0.5 0.5]\n",
      "  [1.  0. ]]\n",
      "\n",
      " [[0.5 0.5]\n",
      "  [0.5 0.5]\n",
      "  [0.5 0.5]\n",
      "  [0.  1. ]]] and obs[modality] is [1. 0.]\n",
      "ll is [[0.   0.  ]\n",
      " [0.   0.  ]\n",
      " [0.02 0.98]\n",
      " [0.   0.  ]]\n",
      "dot likelihood is [[0.5 0.5]\n",
      " [0.5 0.5]\n",
      " [0.5 0.5]\n",
      " [1.  0. ]]\n",
      "[Step 4] Action: [Move to LEFT ARM]\n",
      "[Step 4] Observation: [LEFT ARM,  Reward!, Cue Left]\n"
     ]
    }
   ],
   "source": [
    "T = 5 # number of timesteps\n",
    "\n",
    "obs = env.reset() # reset the environment and get an initial observation\n",
    "\n",
    "# these are useful for displaying read-outs during the loop over time\n",
    "reward_conditions = [\"Right\", \"Left\"]\n",
    "location_observations = ['CENTER','RIGHT ARM','LEFT ARM','CUE LOCATION']\n",
    "reward_observations = ['No reward','Reward!','Loss!']\n",
    "cue_observations = ['Cue Right','Cue Left']\n",
    "msg = \"\"\" === Starting experiment === \\n Reward condition: {}, Observation: [{}, {}, {}]\"\"\"\n",
    "print(msg.format(reward_conditions[env.reward_condition], location_observations[obs[0]], reward_observations[obs[1]], cue_observations[obs[2]]))\n",
    "\n",
    "for t in range(T):\n",
    "    print(f'Observation is {obs}')\n",
    "    qx = agent.infer_states(obs)\n",
    "\n",
    "    q_pi, efe = agent.infer_policies()\n",
    "\n",
    "    action = agent.sample_action()\n",
    "\n",
    "    msg = \"\"\"[Step {}] Action: [Move to {}]\"\"\"\n",
    "    print(msg.format(t, location_observations[int(action[0])]))\n",
    "\n",
    "    obs = env.step(action)\n",
    "\n",
    "    msg = \"\"\"[Step {}] Observation: [{},  {}, {}]\"\"\"\n",
    "    print(msg.format(t, location_observations[obs[0]], reward_observations[obs[1]], cue_observations[obs[2]]))"
   ]
  },
  {
   "cell_type": "code",
   "execution_count": null,
   "id": "3abb15e4-e6b1-49b2-a63f-cf898f82769d",
   "metadata": {},
   "outputs": [],
   "source": []
  },
  {
   "cell_type": "code",
   "execution_count": null,
   "id": "b5e4522d-d4db-42d1-ac23-56588cac7e19",
   "metadata": {},
   "outputs": [],
   "source": []
  }
 ],
 "metadata": {
  "kernelspec": {
   "display_name": "Python 3.8.5 ('block')",
   "language": "python",
   "name": "python3"
  },
  "language_info": {
   "codemirror_mode": {
    "name": "ipython",
    "version": 3
   },
   "file_extension": ".py",
   "mimetype": "text/x-python",
   "name": "python",
   "nbconvert_exporter": "python",
   "pygments_lexer": "ipython3",
   "version": "3.8.5"
  },
  "vscode": {
   "interpreter": {
    "hash": "1c596f8ea73094ff366b4a78cb3d7a121270c7966eba71b4cca991db5b176f60"
   }
  }
 },
 "nbformat": 4,
 "nbformat_minor": 5
}
