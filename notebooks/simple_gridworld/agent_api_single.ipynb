{
 "cells": [
  {
   "cell_type": "markdown",
   "metadata": {},
   "source": [
    "# Active Inference cadCAD model\n",
    "\n",
    "This notebook explores active inference agent modeling in arbitrarily large grid worlds."
   ]
  },
  {
   "cell_type": "markdown",
   "metadata": {},
   "source": [
    "## Developing Active Inference Agents in cadCAD\n",
    "\n",
    "An active inference agent consists of the following matrices:\n",
    "- $A$ -> $P(o|s)$ the generative model's prior beliefs about how hidden states relate to observations\n",
    "- $B$ -> $𝑃(𝑠_𝑡∣𝑠_{𝑡−1},𝑢_{𝑡−1})$ the generative model's prior beliefs about controllable transitions between hidden states over time\n",
    "- $C$ -> $P(o)$ the biased generative model's prior preference for particular observations encoded in terms of probabilities\n",
    "- $D$ -> $P(s)$ the generative model's prior belief over hidden states at the first timestep\n",
    "- $E$ -> agent's affordances (in this notebook referred to as 'actions')"
   ]
  },
  {
   "cell_type": "markdown",
   "metadata": {},
   "source": [
    "## cadCAD Standard Notebook Layout"
   ]
  },
  {
   "cell_type": "markdown",
   "metadata": {},
   "source": [
    "### 0. Dependencies"
   ]
  },
  {
   "cell_type": "code",
   "execution_count": 14,
   "metadata": {
    "collapsed": true,
    "jupyter": {
     "outputs_hidden": true
    },
    "tags": []
   },
   "outputs": [
    {
     "name": "stdout",
     "output_type": "stream",
     "text": [
      "Requirement already satisfied: inferactively-pymdp in /Users/jakubsmekal/miniconda3/envs/dev/lib/python3.8/site-packages (0.0.5)\n",
      "Requirement already satisfied: autograd>=1.3 in /Users/jakubsmekal/miniconda3/envs/dev/lib/python3.8/site-packages (from inferactively-pymdp) (1.4)\n",
      "Requirement already satisfied: toml>=0.10.2 in /Users/jakubsmekal/miniconda3/envs/dev/lib/python3.8/site-packages (from inferactively-pymdp) (0.10.2)\n",
      "Requirement already satisfied: py>=1.10.0 in /Users/jakubsmekal/miniconda3/envs/dev/lib/python3.8/site-packages (from inferactively-pymdp) (1.11.0)\n",
      "Requirement already satisfied: matplotlib>=3.1.3 in /Users/jakubsmekal/miniconda3/envs/dev/lib/python3.8/site-packages (from inferactively-pymdp) (3.5.2)\n",
      "Requirement already satisfied: pytz>=2020.5 in /Users/jakubsmekal/miniconda3/envs/dev/lib/python3.8/site-packages (from inferactively-pymdp) (2022.1)\n",
      "Requirement already satisfied: python-dateutil>=2.8.1 in /Users/jakubsmekal/miniconda3/envs/dev/lib/python3.8/site-packages (from inferactively-pymdp) (2.8.2)\n",
      "Requirement already satisfied: attrs>=20.3.0 in /Users/jakubsmekal/miniconda3/envs/dev/lib/python3.8/site-packages (from inferactively-pymdp) (21.4.0)\n",
      "Requirement already satisfied: pandas>=1.2.4 in /Users/jakubsmekal/miniconda3/envs/dev/lib/python3.8/site-packages (from inferactively-pymdp) (1.4.2)\n",
      "Requirement already satisfied: seaborn>=0.11.1 in /Users/jakubsmekal/miniconda3/envs/dev/lib/python3.8/site-packages (from inferactively-pymdp) (0.11.2)\n",
      "Requirement already satisfied: packaging>=20.8 in /Users/jakubsmekal/miniconda3/envs/dev/lib/python3.8/site-packages (from inferactively-pymdp) (21.3)\n",
      "Requirement already satisfied: six>=1.15.0 in /Users/jakubsmekal/miniconda3/envs/dev/lib/python3.8/site-packages (from inferactively-pymdp) (1.16.0)\n",
      "Requirement already satisfied: iniconfig>=1.1.1 in /Users/jakubsmekal/miniconda3/envs/dev/lib/python3.8/site-packages (from inferactively-pymdp) (1.1.1)\n",
      "Requirement already satisfied: nose>=1.3.7 in /Users/jakubsmekal/miniconda3/envs/dev/lib/python3.8/site-packages (from inferactively-pymdp) (1.3.7)\n",
      "Requirement already satisfied: pyparsing>=2.4.7 in /Users/jakubsmekal/miniconda3/envs/dev/lib/python3.8/site-packages (from inferactively-pymdp) (3.0.9)\n",
      "Requirement already satisfied: numpy>=1.19.5 in /Users/jakubsmekal/miniconda3/envs/dev/lib/python3.8/site-packages (from inferactively-pymdp) (1.22.4)\n",
      "Requirement already satisfied: typing-extensions>=3.7.4.3 in /Users/jakubsmekal/miniconda3/envs/dev/lib/python3.8/site-packages (from inferactively-pymdp) (3.10.0.2)\n",
      "Requirement already satisfied: Pillow>=8.2.0pluggy>=0.13.1 in /Users/jakubsmekal/miniconda3/envs/dev/lib/python3.8/site-packages (from inferactively-pymdp) (9.1.1)\n",
      "Requirement already satisfied: sphinx-rtd-theme>=0.4 in /Users/jakubsmekal/miniconda3/envs/dev/lib/python3.8/site-packages (from inferactively-pymdp) (1.0.0)\n",
      "Requirement already satisfied: xlsxwriter>=1.4.3 in /Users/jakubsmekal/miniconda3/envs/dev/lib/python3.8/site-packages (from inferactively-pymdp) (3.0.3)\n",
      "Requirement already satisfied: openpyxl>=3.0.7 in /Users/jakubsmekal/miniconda3/envs/dev/lib/python3.8/site-packages (from inferactively-pymdp) (3.0.10)\n",
      "Requirement already satisfied: pytest>=6.2.1 in /Users/jakubsmekal/miniconda3/envs/dev/lib/python3.8/site-packages (from inferactively-pymdp) (6.2.5)\n",
      "Requirement already satisfied: cycler>=0.10.0 in /Users/jakubsmekal/miniconda3/envs/dev/lib/python3.8/site-packages (from inferactively-pymdp) (0.11.0)\n",
      "Requirement already satisfied: myst-nb>=0.13.1 in /Users/jakubsmekal/miniconda3/envs/dev/lib/python3.8/site-packages (from inferactively-pymdp) (0.15.0)\n",
      "Requirement already satisfied: kiwisolver>=1.3.1 in /Users/jakubsmekal/miniconda3/envs/dev/lib/python3.8/site-packages (from inferactively-pymdp) (1.4.2)\n",
      "Requirement already satisfied: scipy>=1.6.0 in /Users/jakubsmekal/miniconda3/envs/dev/lib/python3.8/site-packages (from inferactively-pymdp) (1.8.1)\n",
      "Requirement already satisfied: future>=0.15.2 in /Users/jakubsmekal/miniconda3/envs/dev/lib/python3.8/site-packages (from autograd>=1.3->inferactively-pymdp) (0.18.2)\n",
      "Requirement already satisfied: fonttools>=4.22.0 in /Users/jakubsmekal/miniconda3/envs/dev/lib/python3.8/site-packages (from matplotlib>=3.1.3->inferactively-pymdp) (4.33.3)\n",
      "Requirement already satisfied: sphinx<5,>=3.5 in /Users/jakubsmekal/miniconda3/envs/dev/lib/python3.8/site-packages (from myst-nb>=0.13.1->inferactively-pymdp) (4.5.0)\n",
      "Requirement already satisfied: nbformat~=5.0 in /Users/jakubsmekal/miniconda3/envs/dev/lib/python3.8/site-packages (from myst-nb>=0.13.1->inferactively-pymdp) (5.4.0)\n",
      "Requirement already satisfied: pyyaml in /Users/jakubsmekal/miniconda3/envs/dev/lib/python3.8/site-packages (from myst-nb>=0.13.1->inferactively-pymdp) (5.4.1)\n",
      "Requirement already satisfied: ipython in /Users/jakubsmekal/miniconda3/envs/dev/lib/python3.8/site-packages (from myst-nb>=0.13.1->inferactively-pymdp) (8.3.0)\n",
      "Requirement already satisfied: myst-parser~=0.17.2 in /Users/jakubsmekal/miniconda3/envs/dev/lib/python3.8/site-packages (from myst-nb>=0.13.1->inferactively-pymdp) (0.17.2)\n",
      "Requirement already satisfied: ipykernel in /Users/jakubsmekal/miniconda3/envs/dev/lib/python3.8/site-packages (from myst-nb>=0.13.1->inferactively-pymdp) (6.13.0)\n",
      "Requirement already satisfied: importlib_metadata in /Users/jakubsmekal/miniconda3/envs/dev/lib/python3.8/site-packages (from myst-nb>=0.13.1->inferactively-pymdp) (4.11.4)\n",
      "Requirement already satisfied: sphinx-togglebutton~=0.3.0 in /Users/jakubsmekal/miniconda3/envs/dev/lib/python3.8/site-packages (from myst-nb>=0.13.1->inferactively-pymdp) (0.3.1)\n",
      "Requirement already satisfied: docutils<0.18,>=0.15 in /Users/jakubsmekal/miniconda3/envs/dev/lib/python3.8/site-packages (from myst-nb>=0.13.1->inferactively-pymdp) (0.17.1)\n",
      "Requirement already satisfied: nbclient in /Users/jakubsmekal/miniconda3/envs/dev/lib/python3.8/site-packages (from myst-nb>=0.13.1->inferactively-pymdp) (0.5.13)\n",
      "Requirement already satisfied: jupyter-cache~=0.5.0 in /Users/jakubsmekal/miniconda3/envs/dev/lib/python3.8/site-packages (from myst-nb>=0.13.1->inferactively-pymdp) (0.5.0)\n",
      "Requirement already satisfied: tabulate in /Users/jakubsmekal/miniconda3/envs/dev/lib/python3.8/site-packages (from jupyter-cache~=0.5.0->myst-nb>=0.13.1->inferactively-pymdp) (0.8.9)\n",
      "Requirement already satisfied: click in /Users/jakubsmekal/miniconda3/envs/dev/lib/python3.8/site-packages (from jupyter-cache~=0.5.0->myst-nb>=0.13.1->inferactively-pymdp) (8.1.3)\n",
      "Requirement already satisfied: sqlalchemy<1.5,>=1.3.12 in /Users/jakubsmekal/miniconda3/envs/dev/lib/python3.8/site-packages (from jupyter-cache~=0.5.0->myst-nb>=0.13.1->inferactively-pymdp) (1.4.37)\n",
      "Requirement already satisfied: jinja2 in /Users/jakubsmekal/miniconda3/envs/dev/lib/python3.8/site-packages (from myst-parser~=0.17.2->myst-nb>=0.13.1->inferactively-pymdp) (3.0.3)\n",
      "Requirement already satisfied: markdown-it-py<3.0.0,>=1.0.0 in /Users/jakubsmekal/miniconda3/envs/dev/lib/python3.8/site-packages (from myst-parser~=0.17.2->myst-nb>=0.13.1->inferactively-pymdp) (2.1.0)\n",
      "Requirement already satisfied: mdit-py-plugins~=0.3.0 in /Users/jakubsmekal/miniconda3/envs/dev/lib/python3.8/site-packages (from myst-parser~=0.17.2->myst-nb>=0.13.1->inferactively-pymdp) (0.3.0)\n",
      "Requirement already satisfied: mdurl~=0.1 in /Users/jakubsmekal/miniconda3/envs/dev/lib/python3.8/site-packages (from markdown-it-py<3.0.0,>=1.0.0->myst-parser~=0.17.2->myst-nb>=0.13.1->inferactively-pymdp) (0.1.1)\n",
      "Requirement already satisfied: traitlets>=5.0.0 in /Users/jakubsmekal/miniconda3/envs/dev/lib/python3.8/site-packages (from nbclient->myst-nb>=0.13.1->inferactively-pymdp) (5.2.1.post0)\n",
      "Requirement already satisfied: nest-asyncio in /Users/jakubsmekal/.local/lib/python3.8/site-packages (from nbclient->myst-nb>=0.13.1->inferactively-pymdp) (1.5.4)\n",
      "Requirement already satisfied: jupyter-client>=6.1.5 in /Users/jakubsmekal/miniconda3/envs/dev/lib/python3.8/site-packages (from nbclient->myst-nb>=0.13.1->inferactively-pymdp) (7.3.1)\n",
      "Requirement already satisfied: jupyter-core>=4.9.2 in /Users/jakubsmekal/miniconda3/envs/dev/lib/python3.8/site-packages (from jupyter-client>=6.1.5->nbclient->myst-nb>=0.13.1->inferactively-pymdp) (4.10.0)\n",
      "Requirement already satisfied: tornado>=6.0 in /Users/jakubsmekal/.local/lib/python3.8/site-packages (from jupyter-client>=6.1.5->nbclient->myst-nb>=0.13.1->inferactively-pymdp) (6.1)\n",
      "Requirement already satisfied: pyzmq>=22.3 in /Users/jakubsmekal/miniconda3/envs/dev/lib/python3.8/site-packages (from jupyter-client>=6.1.5->nbclient->myst-nb>=0.13.1->inferactively-pymdp) (23.0.0)\n",
      "Requirement already satisfied: entrypoints in /Users/jakubsmekal/.local/lib/python3.8/site-packages (from jupyter-client>=6.1.5->nbclient->myst-nb>=0.13.1->inferactively-pymdp) (0.4)\n",
      "Requirement already satisfied: fastjsonschema in /Users/jakubsmekal/miniconda3/envs/dev/lib/python3.8/site-packages (from nbformat~=5.0->myst-nb>=0.13.1->inferactively-pymdp) (2.15.3)\n",
      "Requirement already satisfied: jsonschema>=2.6 in /Users/jakubsmekal/miniconda3/envs/dev/lib/python3.8/site-packages (from nbformat~=5.0->myst-nb>=0.13.1->inferactively-pymdp) (3.2.0)\n",
      "Requirement already satisfied: setuptools in /Users/jakubsmekal/miniconda3/envs/dev/lib/python3.8/site-packages (from jsonschema>=2.6->nbformat~=5.0->myst-nb>=0.13.1->inferactively-pymdp) (61.2.0)\n",
      "Requirement already satisfied: pyrsistent>=0.14.0 in /Users/jakubsmekal/miniconda3/envs/dev/lib/python3.8/site-packages (from jsonschema>=2.6->nbformat~=5.0->myst-nb>=0.13.1->inferactively-pymdp) (0.18.1)\n",
      "Requirement already satisfied: et-xmlfile in /Users/jakubsmekal/miniconda3/envs/dev/lib/python3.8/site-packages (from openpyxl>=3.0.7->inferactively-pymdp) (1.1.0)\n",
      "Requirement already satisfied: pluggy<2.0,>=0.12 in /Users/jakubsmekal/miniconda3/envs/dev/lib/python3.8/site-packages (from pytest>=6.2.1->inferactively-pymdp) (1.0.0)\n",
      "Requirement already satisfied: sphinxcontrib-jsmath in /Users/jakubsmekal/miniconda3/envs/dev/lib/python3.8/site-packages (from sphinx<5,>=3.5->myst-nb>=0.13.1->inferactively-pymdp) (1.0.1)\n",
      "Requirement already satisfied: snowballstemmer>=1.1 in /Users/jakubsmekal/miniconda3/envs/dev/lib/python3.8/site-packages (from sphinx<5,>=3.5->myst-nb>=0.13.1->inferactively-pymdp) (2.2.0)\n",
      "Requirement already satisfied: requests>=2.5.0 in /Users/jakubsmekal/miniconda3/envs/dev/lib/python3.8/site-packages (from sphinx<5,>=3.5->myst-nb>=0.13.1->inferactively-pymdp) (2.27.1)\n",
      "Requirement already satisfied: babel>=1.3 in /Users/jakubsmekal/miniconda3/envs/dev/lib/python3.8/site-packages (from sphinx<5,>=3.5->myst-nb>=0.13.1->inferactively-pymdp) (2.10.1)\n",
      "Requirement already satisfied: sphinxcontrib-applehelp in /Users/jakubsmekal/miniconda3/envs/dev/lib/python3.8/site-packages (from sphinx<5,>=3.5->myst-nb>=0.13.1->inferactively-pymdp) (1.0.2)\n",
      "Requirement already satisfied: Pygments>=2.0 in /Users/jakubsmekal/miniconda3/envs/dev/lib/python3.8/site-packages (from sphinx<5,>=3.5->myst-nb>=0.13.1->inferactively-pymdp) (2.12.0)\n",
      "Requirement already satisfied: sphinxcontrib-htmlhelp>=2.0.0 in /Users/jakubsmekal/miniconda3/envs/dev/lib/python3.8/site-packages (from sphinx<5,>=3.5->myst-nb>=0.13.1->inferactively-pymdp) (2.0.0)\n",
      "Requirement already satisfied: alabaster<0.8,>=0.7 in /Users/jakubsmekal/miniconda3/envs/dev/lib/python3.8/site-packages (from sphinx<5,>=3.5->myst-nb>=0.13.1->inferactively-pymdp) (0.7.12)\n",
      "Requirement already satisfied: imagesize in /Users/jakubsmekal/miniconda3/envs/dev/lib/python3.8/site-packages (from sphinx<5,>=3.5->myst-nb>=0.13.1->inferactively-pymdp) (1.3.0)\n",
      "Requirement already satisfied: sphinxcontrib-serializinghtml>=1.1.5 in /Users/jakubsmekal/miniconda3/envs/dev/lib/python3.8/site-packages (from sphinx<5,>=3.5->myst-nb>=0.13.1->inferactively-pymdp) (1.1.5)\n",
      "Requirement already satisfied: sphinxcontrib-devhelp in /Users/jakubsmekal/miniconda3/envs/dev/lib/python3.8/site-packages (from sphinx<5,>=3.5->myst-nb>=0.13.1->inferactively-pymdp) (1.0.2)\n",
      "Requirement already satisfied: sphinxcontrib-qthelp in /Users/jakubsmekal/miniconda3/envs/dev/lib/python3.8/site-packages (from sphinx<5,>=3.5->myst-nb>=0.13.1->inferactively-pymdp) (1.0.3)\n",
      "Requirement already satisfied: zipp>=0.5 in /Users/jakubsmekal/miniconda3/envs/dev/lib/python3.8/site-packages (from importlib_metadata->myst-nb>=0.13.1->inferactively-pymdp) (3.8.0)\n",
      "Requirement already satisfied: MarkupSafe>=2.0 in /Users/jakubsmekal/miniconda3/envs/dev/lib/python3.8/site-packages (from jinja2->myst-parser~=0.17.2->myst-nb>=0.13.1->inferactively-pymdp) (2.1.1)\n",
      "Requirement already satisfied: idna<4,>=2.5 in /Users/jakubsmekal/miniconda3/envs/dev/lib/python3.8/site-packages (from requests>=2.5.0->sphinx<5,>=3.5->myst-nb>=0.13.1->inferactively-pymdp) (3.3)\n",
      "Requirement already satisfied: charset-normalizer~=2.0.0 in /Users/jakubsmekal/miniconda3/envs/dev/lib/python3.8/site-packages (from requests>=2.5.0->sphinx<5,>=3.5->myst-nb>=0.13.1->inferactively-pymdp) (2.0.12)\n",
      "Requirement already satisfied: urllib3<1.27,>=1.21.1 in /Users/jakubsmekal/miniconda3/envs/dev/lib/python3.8/site-packages (from requests>=2.5.0->sphinx<5,>=3.5->myst-nb>=0.13.1->inferactively-pymdp) (1.26.9)\n",
      "Requirement already satisfied: certifi>=2017.4.17 in /Users/jakubsmekal/miniconda3/envs/dev/lib/python3.8/site-packages (from requests>=2.5.0->sphinx<5,>=3.5->myst-nb>=0.13.1->inferactively-pymdp) (2022.5.18.1)\n",
      "Requirement already satisfied: wheel in /Users/jakubsmekal/miniconda3/envs/dev/lib/python3.8/site-packages (from sphinx-togglebutton~=0.3.0->myst-nb>=0.13.1->inferactively-pymdp) (0.37.1)\n",
      "Requirement already satisfied: greenlet!=0.4.17 in /Users/jakubsmekal/miniconda3/envs/dev/lib/python3.8/site-packages (from sqlalchemy<1.5,>=1.3.12->jupyter-cache~=0.5.0->myst-nb>=0.13.1->inferactively-pymdp) (1.1.2)\n",
      "Requirement already satisfied: debugpy>=1.0 in /Users/jakubsmekal/miniconda3/envs/dev/lib/python3.8/site-packages (from ipykernel->myst-nb>=0.13.1->inferactively-pymdp) (1.6.0)\n",
      "Requirement already satisfied: psutil in /Users/jakubsmekal/miniconda3/envs/dev/lib/python3.8/site-packages (from ipykernel->myst-nb>=0.13.1->inferactively-pymdp) (5.9.1)\n",
      "Requirement already satisfied: matplotlib-inline>=0.1 in /Users/jakubsmekal/.local/lib/python3.8/site-packages (from ipykernel->myst-nb>=0.13.1->inferactively-pymdp) (0.1.3)\n",
      "Requirement already satisfied: appnope in /Users/jakubsmekal/miniconda3/envs/dev/lib/python3.8/site-packages (from ipykernel->myst-nb>=0.13.1->inferactively-pymdp) (0.1.3)\n",
      "Requirement already satisfied: pexpect>4.3 in /Users/jakubsmekal/.local/lib/python3.8/site-packages (from ipython->myst-nb>=0.13.1->inferactively-pymdp) (4.8.0)\n",
      "Requirement already satisfied: prompt-toolkit!=3.0.0,!=3.0.1,<3.1.0,>=2.0.0 in /Users/jakubsmekal/miniconda3/envs/dev/lib/python3.8/site-packages (from ipython->myst-nb>=0.13.1->inferactively-pymdp) (3.0.29)\n",
      "Requirement already satisfied: backcall in /Users/jakubsmekal/.local/lib/python3.8/site-packages (from ipython->myst-nb>=0.13.1->inferactively-pymdp) (0.2.0)\n",
      "Requirement already satisfied: pickleshare in /Users/jakubsmekal/.local/lib/python3.8/site-packages (from ipython->myst-nb>=0.13.1->inferactively-pymdp) (0.7.5)\n",
      "Requirement already satisfied: decorator in /Users/jakubsmekal/.local/lib/python3.8/site-packages (from ipython->myst-nb>=0.13.1->inferactively-pymdp) (5.1.1)\n",
      "Requirement already satisfied: jedi>=0.16 in /Users/jakubsmekal/.local/lib/python3.8/site-packages (from ipython->myst-nb>=0.13.1->inferactively-pymdp) (0.18.1)\n",
      "Requirement already satisfied: stack-data in /Users/jakubsmekal/.local/lib/python3.8/site-packages (from ipython->myst-nb>=0.13.1->inferactively-pymdp) (0.1.4)\n",
      "Requirement already satisfied: parso<0.9.0,>=0.8.0 in /Users/jakubsmekal/.local/lib/python3.8/site-packages (from jedi>=0.16->ipython->myst-nb>=0.13.1->inferactively-pymdp) (0.8.3)\n",
      "Requirement already satisfied: ptyprocess>=0.5 in /Users/jakubsmekal/.local/lib/python3.8/site-packages (from pexpect>4.3->ipython->myst-nb>=0.13.1->inferactively-pymdp) (0.7.0)\n",
      "Requirement already satisfied: wcwidth in /Users/jakubsmekal/.local/lib/python3.8/site-packages (from prompt-toolkit!=3.0.0,!=3.0.1,<3.1.0,>=2.0.0->ipython->myst-nb>=0.13.1->inferactively-pymdp) (0.2.5)\n",
      "Requirement already satisfied: asttokens in /Users/jakubsmekal/.local/lib/python3.8/site-packages (from stack-data->ipython->myst-nb>=0.13.1->inferactively-pymdp) (2.0.5)\n",
      "Requirement already satisfied: executing in /Users/jakubsmekal/.local/lib/python3.8/site-packages (from stack-data->ipython->myst-nb>=0.13.1->inferactively-pymdp) (0.8.2)\n",
      "Requirement already satisfied: pure-eval in /Users/jakubsmekal/.local/lib/python3.8/site-packages (from stack-data->ipython->myst-nb>=0.13.1->inferactively-pymdp) (0.2.2)\n"
     ]
    }
   ],
   "source": [
    "!pip install inferactively-pymdp"
   ]
  },
  {
   "cell_type": "code",
   "execution_count": 4,
   "metadata": {},
   "outputs": [],
   "source": [
    "import pandas as pd\n",
    "import numpy as np\n",
    "from random import normalvariate, random\n",
    "import plotly.express as px\n",
    "import matplotlib.pyplot as plt\n",
    "import seaborn as sns\n",
    "import sys\n",
    "\n",
    "sys.path.insert(0, '../../')\n",
    "\n",
    "from radcad import Model, Simulation, Experiment\n",
    "\n",
    "\n",
    "# Additional dependencies\n",
    "from pymdp.control import construct_policies\n",
    "from pymdp.maths import softmax\n",
    "import pymdp.utils as utils\n",
    "\n",
    "# For analytics\n",
    "import itertools\n",
    "\n",
    "# For visualization\n",
    "import plotly.express as px\n",
    "\n",
    "# local utils\n",
    "import blockference.utils.utils as u\n",
    "from blockference.agent import Agent\n",
    "from blockference.envs.grid_env import GridAgent\n",
    "# from blockference.gridference import ActiveGridference"
   ]
  },
  {
   "cell_type": "markdown",
   "metadata": {},
   "source": [
    "### 0. Setup"
   ]
  },
  {
   "cell_type": "code",
   "execution_count": 5,
   "metadata": {},
   "outputs": [],
   "source": [
    "env = GridAgent(grid_len=10, num_agents=1, grid_dim=2)"
   ]
  },
  {
   "cell_type": "code",
   "execution_count": 6,
   "metadata": {},
   "outputs": [],
   "source": [
    "A = np.eye(env.n_observations, env.n_states)"
   ]
  },
  {
   "cell_type": "code",
   "execution_count": 7,
   "metadata": {},
   "outputs": [],
   "source": [
    "E = [\"UP\", \"DOWN\", \"LEFT\", \"RIGHT\", \"STAY\"]"
   ]
  },
  {
   "cell_type": "code",
   "execution_count": 8,
   "metadata": {},
   "outputs": [],
   "source": [
    "B = np.zeros((len(env.grid), len(env.grid), len(E)))\n",
    "\n",
    "for action_id, action_label in enumerate(E):\n",
    "\n",
    "    for curr_state, grid_location in enumerate(env.grid):\n",
    "\n",
    "        y, x = grid_location\n",
    "\n",
    "        if action_label == \"UP\":\n",
    "            next_y = y - 1 if y > 0 else y\n",
    "            next_x = x\n",
    "        elif action_label == \"DOWN\":\n",
    "            next_y = y + 1 if y < env.border else y\n",
    "            next_x = x\n",
    "        elif action_label == \"LEFT\":\n",
    "            next_x = x - 1 if x > 0 else x\n",
    "            next_y = y\n",
    "        elif action_label == \"RIGHT\":\n",
    "            next_x = x + 1 if x < env.border else x\n",
    "            next_y = y\n",
    "        elif action_label == \"STAY\":\n",
    "            next_x = x\n",
    "            next_y = y\n",
    "        new_location = (next_y, next_x)\n",
    "        next_state = env.grid.index(new_location)\n",
    "        B[next_state, curr_state, action_id] = 1.0"
   ]
  },
  {
   "cell_type": "code",
   "execution_count": 9,
   "metadata": {},
   "outputs": [],
   "source": [
    "preferred_state = (9, 3)\n",
    "C = utils.onehot(env.grid.index(preferred_state), env.n_observations)"
   ]
  },
  {
   "cell_type": "code",
   "execution_count": 10,
   "metadata": {},
   "outputs": [],
   "source": [
    "initial_state = (0, 0)\n",
    "D = utils.onehot(env.grid.index(initial_state), env.n_states)\n",
    "prior = D"
   ]
  },
  {
   "cell_type": "code",
   "execution_count": 11,
   "metadata": {},
   "outputs": [],
   "source": [
    "policies = construct_policies([env.n_states], [len(E)], policy_len=2)"
   ]
  },
  {
   "cell_type": "code",
   "execution_count": 12,
   "metadata": {},
   "outputs": [],
   "source": [
    "act = Agent(A=A, B=B, policies=policies)"
   ]
  },
  {
   "cell_type": "markdown",
   "metadata": {},
   "source": [
    "### 1. State Variables"
   ]
  },
  {
   "cell_type": "code",
   "execution_count": 16,
   "metadata": {},
   "outputs": [],
   "source": [
    "initial_state = {\n",
    "    'A': softmax(act.A[0]),\n",
    "    'B': act.B[0],\n",
    "    'C': C,\n",
    "    'prior': softmax(D),\n",
    "    'env_state': env.grid[0],\n",
    "    'action': '',\n",
    "    'current_inference': ''\n",
    "}"
   ]
  },
  {
   "cell_type": "markdown",
   "metadata": {},
   "source": [
    "### 2. System Parameters"
   ]
  },
  {
   "cell_type": "code",
   "execution_count": 17,
   "metadata": {},
   "outputs": [],
   "source": [
    "params = {\n",
    "}"
   ]
  },
  {
   "cell_type": "markdown",
   "metadata": {},
   "source": [
    "### 3. Policy Functions\n",
    "\n",
    "- `get_observation`\n",
    "- `infer_states`\n",
    "- `calc_efe`\n",
    "- `calc_action_posterior`\n",
    "- `sample_action`\n",
    "- `calc_next_prior`\n",
    "- `update_env_state`"
   ]
  },
  {
   "cell_type": "code",
   "execution_count": 18,
   "metadata": {},
   "outputs": [
    {
     "data": {
      "text/plain": [
       "<function blockference.utils.utils.infer_states(observation_index, A, prior)>"
      ]
     },
     "execution_count": 18,
     "metadata": {},
     "output_type": "execute_result"
    }
   ],
   "source": [
    "u.infer_states"
   ]
  },
  {
   "cell_type": "code",
   "execution_count": 25,
   "metadata": {},
   "outputs": [],
   "source": [
    "def p_actinf(params, substep, state_history, previous_state):\n",
    "    # get obs_idx\n",
    "    obs_idx = env.grid.index(previous_state['env_state'])\n",
    "\n",
    "    # infer_states\n",
    "    qs_current = u.infer_states(obs_idx, previous_state['A'], previous_state['prior'])\n",
    "\n",
    "    # calc efe\n",
    "    G = u.calculate_G_policies(previous_state['A'], previous_state['B'], previous_state['C'], qs_current, policies=policies)\n",
    "\n",
    "    # calc action posterior\n",
    "    Q_pi = u.softmax(-G)\n",
    "\n",
    "    # compute the probability of each action\n",
    "    P_u = u.compute_prob_actions(act.E, policies, Q_pi)\n",
    "\n",
    "    # sample action\n",
    "    chosen_action = u.sample(P_u)\n",
    "\n",
    "    # calc next prior\n",
    "    prior = previous_state['B'][:,:,chosen_action].dot(qs_current) \n",
    "\n",
    "    # update env state\n",
    "    # action_label = params['actions'][chosen_action]\n",
    "\n",
    "    (Y, X) = previous_state['env_state']\n",
    "    Y_new = Y\n",
    "    X_new = X\n",
    "\n",
    "    if chosen_action == 0: # UP\n",
    "          \n",
    "        Y_new = Y - 1 if Y > 0 else Y\n",
    "        X_new = X\n",
    "\n",
    "    elif chosen_action == 1: # DOWN\n",
    "\n",
    "        Y_new = Y + 1 if Y < env.border else Y\n",
    "        X_new = X\n",
    "\n",
    "    elif chosen_action == 2: # LEFT\n",
    "        Y_new = Y\n",
    "        X_new = X - 1 if X > 0 else X\n",
    "\n",
    "    elif chosen_action == 3: # RIGHT\n",
    "        Y_new = Y\n",
    "        X_new = X +1 if X < env.border else X\n",
    "\n",
    "    elif chosen_action == 4: # STAY\n",
    "        Y_new, X_new = Y, X \n",
    "        \n",
    "    current_state = (Y_new, X_new) # store the new grid location\n",
    "\n",
    "    return {'update_prior': prior,\n",
    "            'update_env': current_state,\n",
    "            'update_action': chosen_action,\n",
    "            'update_inference': qs_current}"
   ]
  },
  {
   "cell_type": "markdown",
   "metadata": {},
   "source": [
    "### 4. State Update Functions"
   ]
  },
  {
   "cell_type": "code",
   "execution_count": 26,
   "metadata": {},
   "outputs": [],
   "source": [
    "def s_prior(params, substep, state_history, previous_state, policy_input):\n",
    "    updated_prior = policy_input['update_prior']\n",
    "    return 'prior', updated_prior\n",
    "\n",
    "def s_env(params, substep, state_history, previous_state, policy_input):\n",
    "    updated_env_state = policy_input['update_env']\n",
    "    return 'env_state', updated_env_state\n",
    "\n",
    "def s_action(params, substep, state_history, previous_state, policy_input):\n",
    "    return 'action', policy_input['update_action']\n",
    "\n",
    "def s_qs(params, substep, state_history, previous_state, policy_input):\n",
    "    return 'current_inference', policy_input['update_inference']"
   ]
  },
  {
   "cell_type": "markdown",
   "metadata": {},
   "source": [
    "### 5. Partial State Update Blocks"
   ]
  },
  {
   "cell_type": "code",
   "execution_count": 27,
   "metadata": {},
   "outputs": [],
   "source": [
    "state_update_blocks = [\n",
    "    {\n",
    "        'policies': {\n",
    "            'p_actinf': p_actinf\n",
    "        },\n",
    "        'variables': {\n",
    "            'prior': s_prior,\n",
    "            'env_state': s_env,\n",
    "            'action': s_action,\n",
    "            'current_inference': s_qs\n",
    "        }\n",
    "    }\n",
    "]"
   ]
  },
  {
   "cell_type": "markdown",
   "metadata": {},
   "source": [
    "### 6. Configuration"
   ]
  },
  {
   "cell_type": "code",
   "execution_count": 28,
   "metadata": {},
   "outputs": [],
   "source": [
    "model = Model(\n",
    "    # Model initial state\n",
    "    initial_state=initial_state,\n",
    "    # Model Partial State Update Blocks\n",
    "    state_update_blocks=state_update_blocks,\n",
    "    # System Parameters\n",
    "    params=params\n",
    ")"
   ]
  },
  {
   "cell_type": "markdown",
   "metadata": {},
   "source": [
    "### 7. Execution"
   ]
  },
  {
   "cell_type": "code",
   "execution_count": 29,
   "metadata": {},
   "outputs": [],
   "source": [
    "simulation = Simulation(\n",
    "    model=model,\n",
    "    timesteps=100,  # Number of timesteps\n",
    "    runs=1  # Number of Monte Carlo Runs\n",
    ")"
   ]
  },
  {
   "cell_type": "code",
   "execution_count": 30,
   "metadata": {},
   "outputs": [],
   "source": [
    "result = simulation.run()"
   ]
  },
  {
   "cell_type": "markdown",
   "metadata": {},
   "source": [
    "### 8. Analysis"
   ]
  },
  {
   "cell_type": "code",
   "execution_count": 31,
   "metadata": {},
   "outputs": [
    {
     "data": {
      "text/html": [
       "<div>\n",
       "<style scoped>\n",
       "    .dataframe tbody tr th:only-of-type {\n",
       "        vertical-align: middle;\n",
       "    }\n",
       "\n",
       "    .dataframe tbody tr th {\n",
       "        vertical-align: top;\n",
       "    }\n",
       "\n",
       "    .dataframe thead th {\n",
       "        text-align: right;\n",
       "    }\n",
       "</style>\n",
       "<table border=\"1\" class=\"dataframe\">\n",
       "  <thead>\n",
       "    <tr style=\"text-align: right;\">\n",
       "      <th></th>\n",
       "      <th>A</th>\n",
       "      <th>B</th>\n",
       "      <th>C</th>\n",
       "      <th>prior</th>\n",
       "      <th>env_state</th>\n",
       "      <th>action</th>\n",
       "      <th>current_inference</th>\n",
       "      <th>simulation</th>\n",
       "      <th>subset</th>\n",
       "      <th>run</th>\n",
       "      <th>substep</th>\n",
       "      <th>timestep</th>\n",
       "    </tr>\n",
       "  </thead>\n",
       "  <tbody>\n",
       "    <tr>\n",
       "      <th>0</th>\n",
       "      <td>[[0.02672363098939523, 0.009831074434450556, 0...</td>\n",
       "      <td>[[[1.0, 0.0, 1.0, 0.0, 1.0], [0.0, 0.0, 1.0, 0...</td>\n",
       "      <td>[0.0, 0.0, 0.0, 0.0, 0.0, 0.0, 0.0, 0.0, 0.0, ...</td>\n",
       "      <td>[0.02672363098939523, 0.009831074434450556, 0....</td>\n",
       "      <td>(0, 0)</td>\n",
       "      <td></td>\n",
       "      <td></td>\n",
       "      <td>0</td>\n",
       "      <td>0</td>\n",
       "      <td>1</td>\n",
       "      <td>0</td>\n",
       "      <td>0</td>\n",
       "    </tr>\n",
       "    <tr>\n",
       "      <th>1</th>\n",
       "      <td>[[0.02672363098939523, 0.009831074434450556, 0...</td>\n",
       "      <td>[[[1.0, 0.0, 1.0, 0.0, 1.0], [0.0, 0.0, 1.0, 0...</td>\n",
       "      <td>[0.0, 0.0, 0.0, 0.0, 0.0, 0.0, 0.0, 0.0, 0.0, ...</td>\n",
       "      <td>[0.0694531596563796, 0.00939946303377394, 0.00...</td>\n",
       "      <td>(0, 0)</td>\n",
       "      <td>4</td>\n",
       "      <td>[0.0694531596563796, 0.00939946303377394, 0.00...</td>\n",
       "      <td>0</td>\n",
       "      <td>0</td>\n",
       "      <td>1</td>\n",
       "      <td>1</td>\n",
       "      <td>1</td>\n",
       "    </tr>\n",
       "    <tr>\n",
       "      <th>2</th>\n",
       "      <td>[[0.02672363098939523, 0.009831074434450556, 0...</td>\n",
       "      <td>[[[1.0, 0.0, 1.0, 0.0, 1.0], [0.0, 0.0, 1.0, 0...</td>\n",
       "      <td>[0.0, 0.0, 0.0, 0.0, 0.0, 0.0, 0.0, 0.0, 0.0, ...</td>\n",
       "      <td>[0.16866478870681606, 0.008397325366597817, 0....</td>\n",
       "      <td>(0, 0)</td>\n",
       "      <td>4</td>\n",
       "      <td>[0.16866478870681606, 0.008397325366597817, 0....</td>\n",
       "      <td>0</td>\n",
       "      <td>0</td>\n",
       "      <td>1</td>\n",
       "      <td>1</td>\n",
       "      <td>2</td>\n",
       "    </tr>\n",
       "    <tr>\n",
       "      <th>3</th>\n",
       "      <td>[[0.02672363098939523, 0.009831074434450556, 0...</td>\n",
       "      <td>[[[1.0, 0.0, 1.0, 0.0, 1.0], [0.0, 0.0, 1.0, 0...</td>\n",
       "      <td>[0.0, 0.0, 0.0, 0.0, 0.0, 0.0, 0.0, 0.0, 0.0, ...</td>\n",
       "      <td>[0.3619714822160643, 0.013020990158855826, 0.0...</td>\n",
       "      <td>(0, 0)</td>\n",
       "      <td>0</td>\n",
       "      <td>[0.3554609871366364, 0.006510495079427913, 0.0...</td>\n",
       "      <td>0</td>\n",
       "      <td>0</td>\n",
       "      <td>1</td>\n",
       "      <td>1</td>\n",
       "      <td>3</td>\n",
       "    </tr>\n",
       "    <tr>\n",
       "      <th>4</th>\n",
       "      <td>[[0.02672363098939523, 0.009831074434450556, 0...</td>\n",
       "      <td>[[[1.0, 0.0, 1.0, 0.0, 1.0], [0.0, 0.0, 1.0, 0...</td>\n",
       "      <td>[0.0, 0.0, 0.0, 0.0, 0.0, 0.0, 0.0, 0.0, 0.0, ...</td>\n",
       "      <td>[0.6146612421088251, 0.008027890789399417, 0.0...</td>\n",
       "      <td>(0, 0)</td>\n",
       "      <td>2</td>\n",
       "      <td>[0.6066333513194258, 0.008027890789399417, 0.0...</td>\n",
       "      <td>0</td>\n",
       "      <td>0</td>\n",
       "      <td>1</td>\n",
       "      <td>1</td>\n",
       "      <td>4</td>\n",
       "    </tr>\n",
       "    <tr>\n",
       "      <th>...</th>\n",
       "      <td>...</td>\n",
       "      <td>...</td>\n",
       "      <td>...</td>\n",
       "      <td>...</td>\n",
       "      <td>...</td>\n",
       "      <td>...</td>\n",
       "      <td>...</td>\n",
       "      <td>...</td>\n",
       "      <td>...</td>\n",
       "      <td>...</td>\n",
       "      <td>...</td>\n",
       "      <td>...</td>\n",
       "    </tr>\n",
       "    <tr>\n",
       "      <th>96</th>\n",
       "      <td>[[0.02672363098939523, 0.009831074434450556, 0...</td>\n",
       "      <td>[[[1.0, 0.0, 1.0, 0.0, 1.0], [0.0, 0.0, 1.0, 0...</td>\n",
       "      <td>[0.0, 0.0, 0.0, 0.0, 0.0, 0.0, 0.0, 0.0, 0.0, ...</td>\n",
       "      <td>[0.0, 6.385500076446749e-17, 5.032147244080568...</td>\n",
       "      <td>(3, 9)</td>\n",
       "      <td>3</td>\n",
       "      <td>[6.385500076446749e-17, 5.032147244080568e-17,...</td>\n",
       "      <td>0</td>\n",
       "      <td>0</td>\n",
       "      <td>1</td>\n",
       "      <td>1</td>\n",
       "      <td>96</td>\n",
       "    </tr>\n",
       "    <tr>\n",
       "      <th>97</th>\n",
       "      <td>[[0.02672363098939523, 0.009831074434450556, 0...</td>\n",
       "      <td>[[[1.0, 0.0, 1.0, 0.0, 1.0], [0.0, 0.0, 1.0, 0...</td>\n",
       "      <td>[0.0, 0.0, 0.0, 0.0, 0.0, 0.0, 0.0, 0.0, 0.0, ...</td>\n",
       "      <td>[7.357588823428889e-17, 1.2918875980943952e-16...</td>\n",
       "      <td>(2, 9)</td>\n",
       "      <td>0</td>\n",
       "      <td>[3.6787944117144447e-17, 6.027888611437916e-17...</td>\n",
       "      <td>0</td>\n",
       "      <td>0</td>\n",
       "      <td>1</td>\n",
       "      <td>1</td>\n",
       "      <td>97</td>\n",
       "    </tr>\n",
       "    <tr>\n",
       "      <th>98</th>\n",
       "      <td>[[0.02672363098939523, 0.009831074434450556, 0...</td>\n",
       "      <td>[[[1.0, 0.0, 1.0, 0.0, 1.0], [0.0, 0.0, 1.0, 0...</td>\n",
       "      <td>[0.0, 0.0, 0.0, 0.0, 0.0, 0.0, 0.0, 0.0, 0.0, ...</td>\n",
       "      <td>[1.1417647320527316e-16, 1.4539917064444794e-1...</td>\n",
       "      <td>(1, 9)</td>\n",
       "      <td>0</td>\n",
       "      <td>[6.385500076446749e-17, 8.431383288147303e-17,...</td>\n",
       "      <td>0</td>\n",
       "      <td>0</td>\n",
       "      <td>1</td>\n",
       "      <td>1</td>\n",
       "      <td>98</td>\n",
       "    </tr>\n",
       "    <tr>\n",
       "      <th>99</th>\n",
       "      <td>[[0.02672363098939523, 0.009831074434450556, 0...</td>\n",
       "      <td>[[[1.0, 0.0, 1.0, 0.0, 1.0], [0.0, 0.0, 1.0, 0...</td>\n",
       "      <td>[0.0, 0.0, 0.0, 0.0, 0.0, 0.0, 0.0, 0.0, 0.0, ...</td>\n",
       "      <td>[0.0, 0.0, 0.0, 0.0, 0.0, 0.0, 0.0, 0.0, 0.0, ...</td>\n",
       "      <td>(2, 9)</td>\n",
       "      <td>1</td>\n",
       "      <td>[7.879112127482669e-17, 9.027730976061534e-17,...</td>\n",
       "      <td>0</td>\n",
       "      <td>0</td>\n",
       "      <td>1</td>\n",
       "      <td>1</td>\n",
       "      <td>99</td>\n",
       "    </tr>\n",
       "    <tr>\n",
       "      <th>100</th>\n",
       "      <td>[[0.02672363098939523, 0.009831074434450556, 0...</td>\n",
       "      <td>[[[1.0, 0.0, 1.0, 0.0, 1.0], [0.0, 0.0, 1.0, 0...</td>\n",
       "      <td>[0.0, 0.0, 0.0, 0.0, 0.0, 0.0, 0.0, 0.0, 0.0, ...</td>\n",
       "      <td>[3.6787944117144447e-17, 3.6787944117144447e-1...</td>\n",
       "      <td>(2, 9)</td>\n",
       "      <td>4</td>\n",
       "      <td>[3.6787944117144447e-17, 3.6787944117144447e-1...</td>\n",
       "      <td>0</td>\n",
       "      <td>0</td>\n",
       "      <td>1</td>\n",
       "      <td>1</td>\n",
       "      <td>100</td>\n",
       "    </tr>\n",
       "  </tbody>\n",
       "</table>\n",
       "<p>101 rows × 12 columns</p>\n",
       "</div>"
      ],
      "text/plain": [
       "                                                     A  \\\n",
       "0    [[0.02672363098939523, 0.009831074434450556, 0...   \n",
       "1    [[0.02672363098939523, 0.009831074434450556, 0...   \n",
       "2    [[0.02672363098939523, 0.009831074434450556, 0...   \n",
       "3    [[0.02672363098939523, 0.009831074434450556, 0...   \n",
       "4    [[0.02672363098939523, 0.009831074434450556, 0...   \n",
       "..                                                 ...   \n",
       "96   [[0.02672363098939523, 0.009831074434450556, 0...   \n",
       "97   [[0.02672363098939523, 0.009831074434450556, 0...   \n",
       "98   [[0.02672363098939523, 0.009831074434450556, 0...   \n",
       "99   [[0.02672363098939523, 0.009831074434450556, 0...   \n",
       "100  [[0.02672363098939523, 0.009831074434450556, 0...   \n",
       "\n",
       "                                                     B  \\\n",
       "0    [[[1.0, 0.0, 1.0, 0.0, 1.0], [0.0, 0.0, 1.0, 0...   \n",
       "1    [[[1.0, 0.0, 1.0, 0.0, 1.0], [0.0, 0.0, 1.0, 0...   \n",
       "2    [[[1.0, 0.0, 1.0, 0.0, 1.0], [0.0, 0.0, 1.0, 0...   \n",
       "3    [[[1.0, 0.0, 1.0, 0.0, 1.0], [0.0, 0.0, 1.0, 0...   \n",
       "4    [[[1.0, 0.0, 1.0, 0.0, 1.0], [0.0, 0.0, 1.0, 0...   \n",
       "..                                                 ...   \n",
       "96   [[[1.0, 0.0, 1.0, 0.0, 1.0], [0.0, 0.0, 1.0, 0...   \n",
       "97   [[[1.0, 0.0, 1.0, 0.0, 1.0], [0.0, 0.0, 1.0, 0...   \n",
       "98   [[[1.0, 0.0, 1.0, 0.0, 1.0], [0.0, 0.0, 1.0, 0...   \n",
       "99   [[[1.0, 0.0, 1.0, 0.0, 1.0], [0.0, 0.0, 1.0, 0...   \n",
       "100  [[[1.0, 0.0, 1.0, 0.0, 1.0], [0.0, 0.0, 1.0, 0...   \n",
       "\n",
       "                                                     C  \\\n",
       "0    [0.0, 0.0, 0.0, 0.0, 0.0, 0.0, 0.0, 0.0, 0.0, ...   \n",
       "1    [0.0, 0.0, 0.0, 0.0, 0.0, 0.0, 0.0, 0.0, 0.0, ...   \n",
       "2    [0.0, 0.0, 0.0, 0.0, 0.0, 0.0, 0.0, 0.0, 0.0, ...   \n",
       "3    [0.0, 0.0, 0.0, 0.0, 0.0, 0.0, 0.0, 0.0, 0.0, ...   \n",
       "4    [0.0, 0.0, 0.0, 0.0, 0.0, 0.0, 0.0, 0.0, 0.0, ...   \n",
       "..                                                 ...   \n",
       "96   [0.0, 0.0, 0.0, 0.0, 0.0, 0.0, 0.0, 0.0, 0.0, ...   \n",
       "97   [0.0, 0.0, 0.0, 0.0, 0.0, 0.0, 0.0, 0.0, 0.0, ...   \n",
       "98   [0.0, 0.0, 0.0, 0.0, 0.0, 0.0, 0.0, 0.0, 0.0, ...   \n",
       "99   [0.0, 0.0, 0.0, 0.0, 0.0, 0.0, 0.0, 0.0, 0.0, ...   \n",
       "100  [0.0, 0.0, 0.0, 0.0, 0.0, 0.0, 0.0, 0.0, 0.0, ...   \n",
       "\n",
       "                                                 prior env_state action  \\\n",
       "0    [0.02672363098939523, 0.009831074434450556, 0....    (0, 0)          \n",
       "1    [0.0694531596563796, 0.00939946303377394, 0.00...    (0, 0)      4   \n",
       "2    [0.16866478870681606, 0.008397325366597817, 0....    (0, 0)      4   \n",
       "3    [0.3619714822160643, 0.013020990158855826, 0.0...    (0, 0)      0   \n",
       "4    [0.6146612421088251, 0.008027890789399417, 0.0...    (0, 0)      2   \n",
       "..                                                 ...       ...    ...   \n",
       "96   [0.0, 6.385500076446749e-17, 5.032147244080568...    (3, 9)      3   \n",
       "97   [7.357588823428889e-17, 1.2918875980943952e-16...    (2, 9)      0   \n",
       "98   [1.1417647320527316e-16, 1.4539917064444794e-1...    (1, 9)      0   \n",
       "99   [0.0, 0.0, 0.0, 0.0, 0.0, 0.0, 0.0, 0.0, 0.0, ...    (2, 9)      1   \n",
       "100  [3.6787944117144447e-17, 3.6787944117144447e-1...    (2, 9)      4   \n",
       "\n",
       "                                     current_inference  simulation  subset  \\\n",
       "0                                                                0       0   \n",
       "1    [0.0694531596563796, 0.00939946303377394, 0.00...           0       0   \n",
       "2    [0.16866478870681606, 0.008397325366597817, 0....           0       0   \n",
       "3    [0.3554609871366364, 0.006510495079427913, 0.0...           0       0   \n",
       "4    [0.6066333513194258, 0.008027890789399417, 0.0...           0       0   \n",
       "..                                                 ...         ...     ...   \n",
       "96   [6.385500076446749e-17, 5.032147244080568e-17,...           0       0   \n",
       "97   [3.6787944117144447e-17, 6.027888611437916e-17...           0       0   \n",
       "98   [6.385500076446749e-17, 8.431383288147303e-17,...           0       0   \n",
       "99   [7.879112127482669e-17, 9.027730976061534e-17,...           0       0   \n",
       "100  [3.6787944117144447e-17, 3.6787944117144447e-1...           0       0   \n",
       "\n",
       "     run  substep  timestep  \n",
       "0      1        0         0  \n",
       "1      1        1         1  \n",
       "2      1        1         2  \n",
       "3      1        1         3  \n",
       "4      1        1         4  \n",
       "..   ...      ...       ...  \n",
       "96     1        1        96  \n",
       "97     1        1        97  \n",
       "98     1        1        98  \n",
       "99     1        1        99  \n",
       "100    1        1       100  \n",
       "\n",
       "[101 rows x 12 columns]"
      ]
     },
     "execution_count": 31,
     "metadata": {},
     "output_type": "execute_result"
    }
   ],
   "source": [
    "df = pd.DataFrame(result)\n",
    "df"
   ]
  },
  {
   "cell_type": "code",
   "execution_count": 32,
   "metadata": {},
   "outputs": [
    {
     "data": {
      "image/png": "[encoded data removed]",
      "text/plain": [
       "<Figure size 432x288 with 1 Axes>"
      ]
     },
     "metadata": {
      "needs_background": "light"
     },
     "output_type": "display_data"
    }
   ],
   "source": [
    "u.plot_beliefs(df['prior'][9])"
   ]
  },
  {
   "cell_type": "code",
   "execution_count": null,
   "metadata": {},
   "outputs": [],
   "source": []
  }
 ],
 "metadata": {
  "interpreter": {
   "hash": "1c40ef074ae3e469314ef3f88e628f0324534f8bca0228ef979810459d0a5ee0"
  },
  "kernelspec": {
   "display_name": "block",
   "language": "python",
   "name": "block"
  },
  "language_info": {
   "codemirror_mode": {
    "name": "ipython",
    "version": 3
   },
   "file_extension": ".py",
   "mimetype": "text/x-python",
   "name": "python",
   "nbconvert_exporter": "python",
   "pygments_lexer": "ipython3",
   "version": "3.10.5"
  }
 },
 "nbformat": 4,
 "nbformat_minor": 4
}
