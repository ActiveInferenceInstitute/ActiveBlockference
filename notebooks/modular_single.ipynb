{
 "cells": [
  {
   "cell_type": "markdown",
   "id": "38318d6e-b2a3-4330-8781-c3d5c1c54b4f",
   "metadata": {},
   "source": [
    "# Active Blockference Single Agent Revisited: Best Practices for Modular Blockference Development\n",
    "\n",
    "This notebook explores an alternative way of structuring the POMDP with a more granular approach."
   ]
  },
  {
   "cell_type": "code",
   "execution_count": null,
   "id": "65996f7b-9f83-4609-963d-8294a39d92b8",
   "metadata": {},
   "outputs": [],
   "source": [
    "from environment import Grid"
   ]
  },
  {
   "cell_type": "markdown",
   "id": "4ccdb040-651d-4870-8471-8e1fd96946e9",
   "metadata": {},
   "source": [
    "The `Agent` class holds information about the generative model, i.e. ABCDE.\n",
    "\n",
    "The `Grid` class represents the environment, in this case a grid-world. \n",
    "\n",
    "The `environment` module will gradually have more environments that can be used in simulations."
   ]
  },
  {
   "cell_type": "code",
   "execution_count": null,
   "id": "72100c92-f442-4949-b599-a2916c1ac886",
   "metadata": {},
   "outputs": [],
   "source": [
    "env = Grid()\n",
    "agent = Agent(env)"
   ]
  },
  {
   "cell_type": "markdown",
   "id": "b2d1a9c0-249c-45d9-97a3-b928135a0528",
   "metadata": {},
   "source": [
    "The `Agent` takes `env` as input to get information about the number of observations and the dynamics of the environment, also whether it's globally observable (i.e. $A$ and $B$ stay fixed) or only locally observable (i.e. $A$ and $B$ will be updated)."
   ]
  },
  {
   "cell_type": "code",
   "execution_count": null,
   "id": "a627d956-0385-429c-a586-3b32caa222ab",
   "metadata": {},
   "outputs": [],
   "source": [
    "initial_state = {\n",
    "    'agent': agent,\n",
    "    'env': env\n",
    "}"
   ]
  },
  {
   "cell_type": "code",
   "execution_count": null,
   "id": "0c8b0b7f-ca9b-42b3-8250-f92263a918dd",
   "metadata": {},
   "outputs": [],
   "source": [
    "params = {\n",
    "    \n",
    "}"
   ]
  }
 ],
 "metadata": {
  "kernelspec": {
   "display_name": "block",
   "language": "python",
   "name": "block"
  },
  "language_info": {
   "codemirror_mode": {
    "name": "ipython",
    "version": 3
   },
   "file_extension": ".py",
   "mimetype": "text/x-python",
   "name": "python",
   "nbconvert_exporter": "python",
   "pygments_lexer": "ipython3",
   "version": "3.10.5"
  }
 },
 "nbformat": 4,
 "nbformat_minor": 5
}
