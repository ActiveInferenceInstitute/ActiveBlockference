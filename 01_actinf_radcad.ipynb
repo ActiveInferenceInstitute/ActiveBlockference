{
 "cells": [
  {
   "cell_type": "markdown",
   "metadata": {},
   "source": [
    "# Active Inference cadCAD model\n",
    "\n",
    "This notebook explores active inference agent modeling \n",
    "This notebook adds a frontend interface for visualizing the model outputs and playing around with the parameters.\n",
    "![](opsci_baseline_stock&flow.png)"
   ]
  },
  {
   "cell_type": "markdown",
   "metadata": {},
   "source": [
    "## Developing Active Inference Agents in cadCAD\n",
    "\n",
    "An active inference agent consists of the following matrices:\n",
    "- $A$ -> $P(o|s)$ the generative model's prior beliefs about how hidden states relate to observations\n",
    "- $B$ -> $𝑃(𝑠_𝑡∣𝑠_{𝑡−1},𝑢_{𝑡−1})$ the generative model's prior beliefs about controllable transitions between hidden states over time\n",
    "- $C$ -> $P(o)$ the biased generative model's prior preference for particular observations encoded in terms of probabilities\n",
    "- $D$ -> $P(s)$ the generative model's prior belief over hidden states at the first timestep\n",
    "- $E$ -> agent's affordances (in this notebook referred to as 'actions')"
   ]
  },
  {
   "cell_type": "markdown",
   "metadata": {},
   "source": [
    "## cadCAD Standard Notebook Layout"
   ]
  },
  {
   "cell_type": "markdown",
   "metadata": {},
   "source": [
    "### 0. Dependencies"
   ]
  },
  {
   "cell_type": "code",
   "execution_count": 1,
   "metadata": {},
   "outputs": [],
   "source": [
    "import pandas as pd\n",
    "import numpy as np\n",
    "from random import normalvariate, random\n",
    "import plotly.express as px\n",
    "import matplotlib.pyplot as plt\n",
    "import seaborn as sns\n",
    "\n",
    "from radcad import Model, Simulation, Experiment\n",
    "\n",
    "from pymdp import utils\n",
    "from pymdp.maths import softmax\n",
    "\n",
    "# Additional dependencies\n",
    "\n",
    "# For analytics\n",
    "import itertools\n",
    "\n",
    "# For visualization\n",
    "import plotly.express as px\n",
    "\n",
    "# local utils\n",
    "import utils as u"
   ]
  },
  {
   "cell_type": "markdown",
   "metadata": {},
   "source": [
    "### 0. Useful functions"
   ]
  },
  {
   "cell_type": "code",
   "execution_count": 2,
   "metadata": {},
   "outputs": [],
   "source": [
    "actions = [\"UP\", \"DOWN\", \"LEFT\", \"RIGHT\", \"STAY\"]\n",
    "\n",
    "def create_B_matrix():\n",
    "  B = np.zeros( (len(grid_locations), len(grid_locations), len(actions)) )\n",
    "\n",
    "  for action_id, action_label in enumerate(actions):\n",
    "\n",
    "    for curr_state, grid_location in enumerate(grid_locations):\n",
    "\n",
    "      y, x = grid_location\n",
    "\n",
    "      if action_label == \"UP\":\n",
    "        next_y = y - 1 if y > 0 else y \n",
    "        next_x = x\n",
    "      elif action_label == \"DOWN\":\n",
    "        next_y = y + 1 if y < 2 else y \n",
    "        next_x = x\n",
    "      elif action_label == \"LEFT\":\n",
    "        next_x = x - 1 if x > 0 else x \n",
    "        next_y = y\n",
    "      elif action_label == \"RIGHT\":\n",
    "        next_x = x + 1 if x < 2 else x \n",
    "        next_y = y\n",
    "      elif action_label == \"STAY\":\n",
    "        next_x = x\n",
    "        next_y = y\n",
    "      new_location = (next_y, next_x)\n",
    "      next_state = grid_locations.index(new_location)\n",
    "      B[next_state, curr_state, action_id] = 1.0\n",
    "  return B"
   ]
  },
  {
   "cell_type": "code",
   "execution_count": 3,
   "metadata": {},
   "outputs": [
    {
     "name": "stdout",
     "output_type": "stream",
     "text": [
      "Dimensionality of hidden states: 9\n",
      "Dimensionality of observations: 9\n"
     ]
    },
    {
     "data": {
      "image/png": "[encoded data removed]",
      "text/plain": [
       "<Figure size 432x288 with 1 Axes>"
      ]
     },
     "metadata": {},
     "output_type": "display_data"
    }
   ],
   "source": [
    "grid_locations = list(itertools.product(range(3), repeat = 2))\n",
    "n_states = len(grid_locations)\n",
    "n_observations = len(grid_locations)\n",
    "\n",
    "print(f'Dimensionality of hidden states: {n_states}')\n",
    "print(f'Dimensionality of observations: {n_observations}')\n",
    "u.plot_grid(grid_locations)"
   ]
  },
  {
   "cell_type": "code",
   "execution_count": 4,
   "metadata": {},
   "outputs": [
    {
     "data": {
      "text/plain": [
       "(0, 0)"
      ]
     },
     "execution_count": 4,
     "metadata": {},
     "output_type": "execute_result"
    }
   ],
   "source": [
    "grid_locations[0]"
   ]
  },
  {
   "cell_type": "code",
   "execution_count": 5,
   "metadata": {},
   "outputs": [],
   "source": [
    "\"\"\" Fill out the components of the generative model \"\"\"\n",
    "\n",
    "A = np.eye(n_observations, n_states)\n",
    "\n",
    "B = create_B_matrix()\n",
    "\n",
    "C = utils.onehot(grid_locations.index( (2, 2) ), n_observations) # make the agent prefer location (2,2) (lower right corner of grid world)\n",
    "\n",
    "D = utils.onehot(grid_locations.index( (1,2) ), n_states) # start the agent with the prior belief that it starts in location (1,2) \n",
    "\n",
    "actions = [\"UP\", \"DOWN\", \"LEFT\", \"RIGHT\", \"STAY\"]"
   ]
  },
  {
   "cell_type": "markdown",
   "metadata": {},
   "source": [
    "The pymdp inference loop has the following steps:\n",
    "- initialize prior to the D matrix\n",
    "- get observation index from `grid_locations`\n",
    "- (q_s) perform inference over hidden states with `infer_states`, passing in the observation index, the A matrix, and the prior\n",
    "- calculate expected free energy, passing in the A, B, C matrices, the inferences (q_s) from the previous step, and available actions\n",
    "- compute action posterior (it's the softmax of -G)\n",
    "- sample the action posterior the get the action\n",
    "- compute the prior for next state with the dot product of the B matrix (indexed with the chosen action) and the current inference (q_s)\n",
    "\n",
    "In cadCAD terms:\n",
    "- possible policy subfunctions (contained in one policy function):\n",
    "    - `get_observation`\n",
    "    - `infer_states`\n",
    "    - `calc_efe`\n",
    "    - `calc_action_posterior`\n",
    "    - `sample_action`\n",
    "    - `calc_next_prior`\n",
    "    - `update_env_state`\n",
    "- states:\n",
    "    - `prior`\n",
    "    - `env_state`"
   ]
  },
  {
   "cell_type": "markdown",
   "metadata": {},
   "source": [
    "### 1. State Variables"
   ]
  },
  {
   "cell_type": "code",
   "execution_count": 32,
   "metadata": {},
   "outputs": [],
   "source": [
    "initial_state = {\n",
    "    'prior_A': A,\n",
    "    'prior_B': B,\n",
    "    'prior_C': C,\n",
    "    'prior': D,\n",
    "    'env_state': grid_locations[0],\n",
    "    'action': '',\n",
    "    'current_inference': 0\n",
    "}"
   ]
  },
  {
   "cell_type": "code",
   "execution_count": 7,
   "metadata": {},
   "outputs": [
    {
     "data": {
      "text/plain": [
       "0"
      ]
     },
     "execution_count": 7,
     "metadata": {},
     "output_type": "execute_result"
    }
   ],
   "source": [
    "grid_locations.index((0,0))"
   ]
  },
  {
   "cell_type": "markdown",
   "metadata": {},
   "source": [
    "### 2. System Parameters"
   ]
  },
  {
   "cell_type": "code",
   "execution_count": 33,
   "metadata": {},
   "outputs": [],
   "source": [
    "params = {\n",
    "    'prior_A': A,\n",
    "    'prior_B': B,\n",
    "    'prior_C': C,\n",
    "    'prior': D,\n",
    "    'env_state': grid_locations,\n",
    "    'actions': [\"UP\", \"DOWN\", \"LEFT\", \"RIGHT\", \"STAY\"]\n",
    "}"
   ]
  },
  {
   "cell_type": "markdown",
   "metadata": {},
   "source": [
    "### 3. Policy Functions\n",
    "\n",
    "- `get_observation`\n",
    "- `infer_states`\n",
    "- `calc_efe`\n",
    "- `calc_action_posterior`\n",
    "- `sample_action`\n",
    "- `calc_next_prior`\n",
    "- `update_env_state`"
   ]
  },
  {
   "cell_type": "code",
   "execution_count": 9,
   "metadata": {},
   "outputs": [
    {
     "data": {
      "text/plain": [
       "'UP'"
      ]
     },
     "execution_count": 9,
     "metadata": {},
     "output_type": "execute_result"
    }
   ],
   "source": [
    "params['actions'][0]"
   ]
  },
  {
   "cell_type": "code",
   "execution_count": 34,
   "metadata": {},
   "outputs": [],
   "source": [
    "def p_actinf(params, substep, state_history, previous_state):\n",
    "    # get obs_idx\n",
    "    obs_idx = grid_locations.index(previous_state['env_state'])\n",
    "\n",
    "    # infer_states\n",
    "    qs_current = u.infer_states(obs_idx, previous_state['prior_A'], previous_state['prior'])\n",
    "\n",
    "    # calc efe\n",
    "    G = u.calculate_G(previous_state['prior_A'], previous_state['prior_B'], previous_state['prior_C'], qs_current, params['actions'])\n",
    "\n",
    "    # calc action posterior\n",
    "    Q_u = softmax(-G)\n",
    "\n",
    "    # sample action\n",
    "    chosen_action = utils.sample(Q_u)\n",
    "\n",
    "    # calc next prior\n",
    "    prior = previous_state['prior_B'][:,:,chosen_action].dot(qs_current) \n",
    "\n",
    "    # update env state\n",
    "    # action_label = params['actions'][chosen_action]\n",
    "\n",
    "    (Y, X) = previous_state['env_state']\n",
    "    Y_new = Y\n",
    "    X_new = X\n",
    "\n",
    "    if chosen_action == 0: # UP\n",
    "          \n",
    "        Y_new = Y - 1 if Y > 0 else Y\n",
    "        X_new = X\n",
    "\n",
    "    elif chosen_action == 1: # DOWN\n",
    "\n",
    "        Y_new = Y + 1 if Y < 2 else Y\n",
    "        X_new = X\n",
    "\n",
    "    elif chosen_action == 2: # LEFT\n",
    "        Y_new = Y\n",
    "        X_new = X - 1 if X > 0 else X\n",
    "\n",
    "    elif chosen_action == 3: # RIGHT\n",
    "        Y_new = Y\n",
    "        X_new = X +1 if X < 2 else X\n",
    "\n",
    "    elif chosen_action == 4: # STAY\n",
    "        Y_new, X_new = Y, X \n",
    "        \n",
    "    current_state = (Y_new, X_new) # store the new grid location\n",
    "\n",
    "    return {'update_prior': prior,\n",
    "            'update_env': current_state,\n",
    "            'update_action': chosen_action,\n",
    "            'update_inference': qs_current}"
   ]
  },
  {
   "cell_type": "markdown",
   "metadata": {},
   "source": [
    "### 4. State Update Functions"
   ]
  },
  {
   "cell_type": "code",
   "execution_count": 35,
   "metadata": {},
   "outputs": [],
   "source": [
    "def s_prior(params, substep, state_history, previous_state, policy_input):\n",
    "    updated_prior = policy_input['update_prior']\n",
    "    return 'prior', updated_prior\n",
    "\n",
    "def s_env(params, substep, state_history, previous_state, policy_input):\n",
    "    updated_env_state = policy_input['update_env']\n",
    "    return 'env_state', updated_env_state\n",
    "\n",
    "def s_action(params, substep, state_history, previous_state, policy_input):\n",
    "    return 'action', policy_input['update_action']\n",
    "\n",
    "def s_qs(params, substep, state_history, previous_state, policy_input):\n",
    "    return 'current_inference', policy_input['update_inference']"
   ]
  },
  {
   "cell_type": "markdown",
   "metadata": {},
   "source": [
    "### 5. Partial State Update Blocks"
   ]
  },
  {
   "cell_type": "code",
   "execution_count": 36,
   "metadata": {},
   "outputs": [],
   "source": [
    "state_update_blocks = [\n",
    "    {\n",
    "        'policies': {\n",
    "            'p_actinf': p_actinf\n",
    "        },\n",
    "        'variables': {\n",
    "            'prior': s_prior,\n",
    "            'env_state': s_env,\n",
    "            'action': s_action,\n",
    "            'current_inference': s_qs\n",
    "        }\n",
    "    }\n",
    "]"
   ]
  },
  {
   "cell_type": "markdown",
   "metadata": {},
   "source": [
    "### 6. Configuration"
   ]
  },
  {
   "cell_type": "code",
   "execution_count": 37,
   "metadata": {},
   "outputs": [],
   "source": [
    "model = Model(\n",
    "    # Model initial state\n",
    "    initial_state=initial_state,\n",
    "    # Model Partial State Update Blocks\n",
    "    state_update_blocks=state_update_blocks,\n",
    "    # System Parameters\n",
    "    params=params\n",
    ")"
   ]
  },
  {
   "cell_type": "markdown",
   "metadata": {},
   "source": [
    "### 7. Execution"
   ]
  },
  {
   "cell_type": "code",
   "execution_count": 41,
   "metadata": {},
   "outputs": [],
   "source": [
    "simulation = Simulation(\n",
    "    model=model,\n",
    "    timesteps=100,  # Number of timesteps\n",
    "    runs=1  # Number of Monte Carlo Runs\n",
    ")"
   ]
  },
  {
   "cell_type": "code",
   "execution_count": 45,
   "metadata": {},
   "outputs": [],
   "source": [
    "result = simulation.run()"
   ]
  },
  {
   "cell_type": "markdown",
   "metadata": {},
   "source": [
    "### 8. Analysis"
   ]
  },
  {
   "cell_type": "code",
   "execution_count": 46,
   "metadata": {},
   "outputs": [
    {
     "data": {
      "text/html": [
       "<div>\n",
       "<style scoped>\n",
       "    .dataframe tbody tr th:only-of-type {\n",
       "        vertical-align: middle;\n",
       "    }\n",
       "\n",
       "    .dataframe tbody tr th {\n",
       "        vertical-align: top;\n",
       "    }\n",
       "\n",
       "    .dataframe thead th {\n",
       "        text-align: right;\n",
       "    }\n",
       "</style>\n",
       "<table border=\"1\" class=\"dataframe\">\n",
       "  <thead>\n",
       "    <tr style=\"text-align: right;\">\n",
       "      <th></th>\n",
       "      <th>prior_A</th>\n",
       "      <th>prior_B</th>\n",
       "      <th>prior_C</th>\n",
       "      <th>prior</th>\n",
       "      <th>env_state</th>\n",
       "      <th>action</th>\n",
       "      <th>current_inference</th>\n",
       "      <th>simulation</th>\n",
       "      <th>subset</th>\n",
       "      <th>run</th>\n",
       "      <th>substep</th>\n",
       "      <th>timestep</th>\n",
       "    </tr>\n",
       "  </thead>\n",
       "  <tbody>\n",
       "    <tr>\n",
       "      <th>0</th>\n",
       "      <td>[[1.0, 0.0, 0.0, 0.0, 0.0, 0.0, 0.0, 0.0, 0.0]...</td>\n",
       "      <td>[[[1.0, 0.0, 1.0, 0.0, 1.0], [0.0, 0.0, 1.0, 0...</td>\n",
       "      <td>[0.0, 0.0, 0.0, 0.0, 0.0, 0.0, 0.0, 0.0, 1.0]</td>\n",
       "      <td>[0.0, 0.0, 0.0, 0.0, 0.0, 1.0, 0.0, 0.0, 0.0]</td>\n",
       "      <td>(0, 0)</td>\n",
       "      <td></td>\n",
       "      <td>0</td>\n",
       "      <td>0</td>\n",
       "      <td>0</td>\n",
       "      <td>1</td>\n",
       "      <td>0</td>\n",
       "      <td>0</td>\n",
       "    </tr>\n",
       "    <tr>\n",
       "      <th>1</th>\n",
       "      <td>[[1.0, 0.0, 0.0, 0.0, 0.0, 0.0, 0.0, 0.0, 0.0]...</td>\n",
       "      <td>[[[1.0, 0.0, 1.0, 0.0, 1.0], [0.0, 0.0, 1.0, 0...</td>\n",
       "      <td>[0.0, 0.0, 0.0, 0.0, 0.0, 0.0, 0.0, 0.0, 1.0]</td>\n",
       "      <td>[0.0, 0.0, 0.0, 0.4999999999999999, 4.99999999...</td>\n",
       "      <td>(1, 0)</td>\n",
       "      <td>1</td>\n",
       "      <td>[0.4999999999999999, 4.9999999999999814e-17, 4...</td>\n",
       "      <td>0</td>\n",
       "      <td>0</td>\n",
       "      <td>1</td>\n",
       "      <td>1</td>\n",
       "      <td>1</td>\n",
       "    </tr>\n",
       "    <tr>\n",
       "      <th>2</th>\n",
       "      <td>[[1.0, 0.0, 0.0, 0.0, 0.0, 0.0, 0.0, 0.0, 0.0]...</td>\n",
       "      <td>[[[1.0, 0.0, 1.0, 0.0, 1.0], [0.0, 0.0, 1.0, 0...</td>\n",
       "      <td>[0.0, 0.0, 0.0, 0.0, 0.0, 0.0, 0.0, 0.0, 1.0]</td>\n",
       "      <td>[1.0, 4.999999999999962e-32, 4.999999999999962...</td>\n",
       "      <td>(0, 0)</td>\n",
       "      <td>0</td>\n",
       "      <td>[1.9999999999999897e-32, 1.9999999999999897e-3...</td>\n",
       "      <td>0</td>\n",
       "      <td>0</td>\n",
       "      <td>1</td>\n",
       "      <td>1</td>\n",
       "      <td>2</td>\n",
       "    </tr>\n",
       "    <tr>\n",
       "      <th>3</th>\n",
       "      <td>[[1.0, 0.0, 0.0, 0.0, 0.0, 0.0, 0.0, 0.0, 0.0]...</td>\n",
       "      <td>[[[1.0, 0.0, 1.0, 0.0, 1.0], [0.0, 0.0, 1.0, 0...</td>\n",
       "      <td>[0.0, 0.0, 0.0, 0.0, 0.0, 0.0, 0.0, 0.0, 1.0]</td>\n",
       "      <td>[1.0, 1.9999999999999862e-32, 2.99999999999998...</td>\n",
       "      <td>(0, 0)</td>\n",
       "      <td>0</td>\n",
       "      <td>[1.0, 9.999999999999931e-33, 9.999999999999931...</td>\n",
       "      <td>0</td>\n",
       "      <td>0</td>\n",
       "      <td>1</td>\n",
       "      <td>1</td>\n",
       "      <td>3</td>\n",
       "    </tr>\n",
       "    <tr>\n",
       "      <th>4</th>\n",
       "      <td>[[1.0, 0.0, 0.0, 0.0, 0.0, 0.0, 0.0, 0.0, 0.0]...</td>\n",
       "      <td>[[[1.0, 0.0, 1.0, 0.0, 1.0], [0.0, 0.0, 1.0, 0...</td>\n",
       "      <td>[0.0, 0.0, 0.0, 0.0, 0.0, 0.0, 0.0, 0.0, 1.0]</td>\n",
       "      <td>[1.0, 1.9999999999999862e-32, 1.99999999999998...</td>\n",
       "      <td>(0, 0)</td>\n",
       "      <td>0</td>\n",
       "      <td>[1.0, 9.999999999999931e-33, 9.999999999999931...</td>\n",
       "      <td>0</td>\n",
       "      <td>0</td>\n",
       "      <td>1</td>\n",
       "      <td>1</td>\n",
       "      <td>4</td>\n",
       "    </tr>\n",
       "    <tr>\n",
       "      <th>...</th>\n",
       "      <td>...</td>\n",
       "      <td>...</td>\n",
       "      <td>...</td>\n",
       "      <td>...</td>\n",
       "      <td>...</td>\n",
       "      <td>...</td>\n",
       "      <td>...</td>\n",
       "      <td>...</td>\n",
       "      <td>...</td>\n",
       "      <td>...</td>\n",
       "      <td>...</td>\n",
       "      <td>...</td>\n",
       "    </tr>\n",
       "    <tr>\n",
       "      <th>904</th>\n",
       "      <td>[[1.0, 0.0, 0.0, 0.0, 0.0, 0.0, 0.0, 0.0, 0.0]...</td>\n",
       "      <td>[[[1.0, 0.0, 1.0, 0.0, 1.0], [0.0, 0.0, 1.0, 0...</td>\n",
       "      <td>[0.0, 0.0, 0.0, 0.0, 0.0, 0.0, 0.0, 0.0, 1.0]</td>\n",
       "      <td>[0.0, 9.999999999999931e-33, 1.999999999999986...</td>\n",
       "      <td>(2, 2)</td>\n",
       "      <td>3</td>\n",
       "      <td>[9.999999999999931e-33, 9.999999999999931e-33,...</td>\n",
       "      <td>0</td>\n",
       "      <td>8</td>\n",
       "      <td>1</td>\n",
       "      <td>1</td>\n",
       "      <td>96</td>\n",
       "    </tr>\n",
       "    <tr>\n",
       "      <th>905</th>\n",
       "      <td>[[1.0, 0.0, 0.0, 0.0, 0.0, 0.0, 0.0, 0.0, 0.0]...</td>\n",
       "      <td>[[[1.0, 0.0, 1.0, 0.0, 1.0], [0.0, 0.0, 1.0, 0...</td>\n",
       "      <td>[0.0, 0.0, 0.0, 0.0, 0.0, 0.0, 0.0, 0.0, 1.0]</td>\n",
       "      <td>[0.0, 0.0, 0.0, 9.999999999999931e-33, 9.99999...</td>\n",
       "      <td>(2, 2)</td>\n",
       "      <td>1</td>\n",
       "      <td>[9.999999999999931e-33, 9.999999999999931e-33,...</td>\n",
       "      <td>0</td>\n",
       "      <td>8</td>\n",
       "      <td>1</td>\n",
       "      <td>1</td>\n",
       "      <td>97</td>\n",
       "    </tr>\n",
       "    <tr>\n",
       "      <th>906</th>\n",
       "      <td>[[1.0, 0.0, 0.0, 0.0, 0.0, 0.0, 0.0, 0.0, 0.0]...</td>\n",
       "      <td>[[[1.0, 0.0, 1.0, 0.0, 1.0], [0.0, 0.0, 1.0, 0...</td>\n",
       "      <td>[0.0, 0.0, 0.0, 0.0, 0.0, 0.0, 0.0, 0.0, 1.0]</td>\n",
       "      <td>[0.0, 0.0, 0.0, 9.999999999999931e-33, 9.99999...</td>\n",
       "      <td>(2, 2)</td>\n",
       "      <td>1</td>\n",
       "      <td>[9.999999999999931e-33, 9.999999999999931e-33,...</td>\n",
       "      <td>0</td>\n",
       "      <td>8</td>\n",
       "      <td>1</td>\n",
       "      <td>1</td>\n",
       "      <td>98</td>\n",
       "    </tr>\n",
       "    <tr>\n",
       "      <th>907</th>\n",
       "      <td>[[1.0, 0.0, 0.0, 0.0, 0.0, 0.0, 0.0, 0.0, 0.0]...</td>\n",
       "      <td>[[[1.0, 0.0, 1.0, 0.0, 1.0], [0.0, 0.0, 1.0, 0...</td>\n",
       "      <td>[0.0, 0.0, 0.0, 0.0, 0.0, 0.0, 0.0, 0.0, 1.0]</td>\n",
       "      <td>[0.0, 9.999999999999931e-33, 1.999999999999986...</td>\n",
       "      <td>(2, 2)</td>\n",
       "      <td>3</td>\n",
       "      <td>[9.999999999999931e-33, 9.999999999999931e-33,...</td>\n",
       "      <td>0</td>\n",
       "      <td>8</td>\n",
       "      <td>1</td>\n",
       "      <td>1</td>\n",
       "      <td>99</td>\n",
       "    </tr>\n",
       "    <tr>\n",
       "      <th>908</th>\n",
       "      <td>[[1.0, 0.0, 0.0, 0.0, 0.0, 0.0, 0.0, 0.0, 0.0]...</td>\n",
       "      <td>[[[1.0, 0.0, 1.0, 0.0, 1.0], [0.0, 0.0, 1.0, 0...</td>\n",
       "      <td>[0.0, 0.0, 0.0, 0.0, 0.0, 0.0, 0.0, 0.0, 1.0]</td>\n",
       "      <td>[0.0, 9.999999999999931e-33, 1.999999999999986...</td>\n",
       "      <td>(2, 2)</td>\n",
       "      <td>3</td>\n",
       "      <td>[9.999999999999931e-33, 9.999999999999931e-33,...</td>\n",
       "      <td>0</td>\n",
       "      <td>8</td>\n",
       "      <td>1</td>\n",
       "      <td>1</td>\n",
       "      <td>100</td>\n",
       "    </tr>\n",
       "  </tbody>\n",
       "</table>\n",
       "<p>909 rows × 12 columns</p>\n",
       "</div>"
      ],
      "text/plain": [
       "                                               prior_A  \\\n",
       "0    [[1.0, 0.0, 0.0, 0.0, 0.0, 0.0, 0.0, 0.0, 0.0]...   \n",
       "1    [[1.0, 0.0, 0.0, 0.0, 0.0, 0.0, 0.0, 0.0, 0.0]...   \n",
       "2    [[1.0, 0.0, 0.0, 0.0, 0.0, 0.0, 0.0, 0.0, 0.0]...   \n",
       "3    [[1.0, 0.0, 0.0, 0.0, 0.0, 0.0, 0.0, 0.0, 0.0]...   \n",
       "4    [[1.0, 0.0, 0.0, 0.0, 0.0, 0.0, 0.0, 0.0, 0.0]...   \n",
       "..                                                 ...   \n",
       "904  [[1.0, 0.0, 0.0, 0.0, 0.0, 0.0, 0.0, 0.0, 0.0]...   \n",
       "905  [[1.0, 0.0, 0.0, 0.0, 0.0, 0.0, 0.0, 0.0, 0.0]...   \n",
       "906  [[1.0, 0.0, 0.0, 0.0, 0.0, 0.0, 0.0, 0.0, 0.0]...   \n",
       "907  [[1.0, 0.0, 0.0, 0.0, 0.0, 0.0, 0.0, 0.0, 0.0]...   \n",
       "908  [[1.0, 0.0, 0.0, 0.0, 0.0, 0.0, 0.0, 0.0, 0.0]...   \n",
       "\n",
       "                                               prior_B  \\\n",
       "0    [[[1.0, 0.0, 1.0, 0.0, 1.0], [0.0, 0.0, 1.0, 0...   \n",
       "1    [[[1.0, 0.0, 1.0, 0.0, 1.0], [0.0, 0.0, 1.0, 0...   \n",
       "2    [[[1.0, 0.0, 1.0, 0.0, 1.0], [0.0, 0.0, 1.0, 0...   \n",
       "3    [[[1.0, 0.0, 1.0, 0.0, 1.0], [0.0, 0.0, 1.0, 0...   \n",
       "4    [[[1.0, 0.0, 1.0, 0.0, 1.0], [0.0, 0.0, 1.0, 0...   \n",
       "..                                                 ...   \n",
       "904  [[[1.0, 0.0, 1.0, 0.0, 1.0], [0.0, 0.0, 1.0, 0...   \n",
       "905  [[[1.0, 0.0, 1.0, 0.0, 1.0], [0.0, 0.0, 1.0, 0...   \n",
       "906  [[[1.0, 0.0, 1.0, 0.0, 1.0], [0.0, 0.0, 1.0, 0...   \n",
       "907  [[[1.0, 0.0, 1.0, 0.0, 1.0], [0.0, 0.0, 1.0, 0...   \n",
       "908  [[[1.0, 0.0, 1.0, 0.0, 1.0], [0.0, 0.0, 1.0, 0...   \n",
       "\n",
       "                                           prior_C  \\\n",
       "0    [0.0, 0.0, 0.0, 0.0, 0.0, 0.0, 0.0, 0.0, 1.0]   \n",
       "1    [0.0, 0.0, 0.0, 0.0, 0.0, 0.0, 0.0, 0.0, 1.0]   \n",
       "2    [0.0, 0.0, 0.0, 0.0, 0.0, 0.0, 0.0, 0.0, 1.0]   \n",
       "3    [0.0, 0.0, 0.0, 0.0, 0.0, 0.0, 0.0, 0.0, 1.0]   \n",
       "4    [0.0, 0.0, 0.0, 0.0, 0.0, 0.0, 0.0, 0.0, 1.0]   \n",
       "..                                             ...   \n",
       "904  [0.0, 0.0, 0.0, 0.0, 0.0, 0.0, 0.0, 0.0, 1.0]   \n",
       "905  [0.0, 0.0, 0.0, 0.0, 0.0, 0.0, 0.0, 0.0, 1.0]   \n",
       "906  [0.0, 0.0, 0.0, 0.0, 0.0, 0.0, 0.0, 0.0, 1.0]   \n",
       "907  [0.0, 0.0, 0.0, 0.0, 0.0, 0.0, 0.0, 0.0, 1.0]   \n",
       "908  [0.0, 0.0, 0.0, 0.0, 0.0, 0.0, 0.0, 0.0, 1.0]   \n",
       "\n",
       "                                                 prior env_state action  \\\n",
       "0        [0.0, 0.0, 0.0, 0.0, 0.0, 1.0, 0.0, 0.0, 0.0]    (0, 0)          \n",
       "1    [0.0, 0.0, 0.0, 0.4999999999999999, 4.99999999...    (1, 0)      1   \n",
       "2    [1.0, 4.999999999999962e-32, 4.999999999999962...    (0, 0)      0   \n",
       "3    [1.0, 1.9999999999999862e-32, 2.99999999999998...    (0, 0)      0   \n",
       "4    [1.0, 1.9999999999999862e-32, 1.99999999999998...    (0, 0)      0   \n",
       "..                                                 ...       ...    ...   \n",
       "904  [0.0, 9.999999999999931e-33, 1.999999999999986...    (2, 2)      3   \n",
       "905  [0.0, 0.0, 0.0, 9.999999999999931e-33, 9.99999...    (2, 2)      1   \n",
       "906  [0.0, 0.0, 0.0, 9.999999999999931e-33, 9.99999...    (2, 2)      1   \n",
       "907  [0.0, 9.999999999999931e-33, 1.999999999999986...    (2, 2)      3   \n",
       "908  [0.0, 9.999999999999931e-33, 1.999999999999986...    (2, 2)      3   \n",
       "\n",
       "                                     current_inference  simulation  subset  \\\n",
       "0                                                    0           0       0   \n",
       "1    [0.4999999999999999, 4.9999999999999814e-17, 4...           0       0   \n",
       "2    [1.9999999999999897e-32, 1.9999999999999897e-3...           0       0   \n",
       "3    [1.0, 9.999999999999931e-33, 9.999999999999931...           0       0   \n",
       "4    [1.0, 9.999999999999931e-33, 9.999999999999931...           0       0   \n",
       "..                                                 ...         ...     ...   \n",
       "904  [9.999999999999931e-33, 9.999999999999931e-33,...           0       8   \n",
       "905  [9.999999999999931e-33, 9.999999999999931e-33,...           0       8   \n",
       "906  [9.999999999999931e-33, 9.999999999999931e-33,...           0       8   \n",
       "907  [9.999999999999931e-33, 9.999999999999931e-33,...           0       8   \n",
       "908  [9.999999999999931e-33, 9.999999999999931e-33,...           0       8   \n",
       "\n",
       "     run  substep  timestep  \n",
       "0      1        0         0  \n",
       "1      1        1         1  \n",
       "2      1        1         2  \n",
       "3      1        1         3  \n",
       "4      1        1         4  \n",
       "..   ...      ...       ...  \n",
       "904    1        1        96  \n",
       "905    1        1        97  \n",
       "906    1        1        98  \n",
       "907    1        1        99  \n",
       "908    1        1       100  \n",
       "\n",
       "[909 rows x 12 columns]"
      ]
     },
     "execution_count": 46,
     "metadata": {},
     "output_type": "execute_result"
    }
   ],
   "source": [
    "df = pd.DataFrame(result)\n",
    "df"
   ]
  },
  {
   "cell_type": "code",
   "execution_count": 49,
   "metadata": {},
   "outputs": [
    {
     "data": {
      "image/png": "[encoded data removed]",
      "text/plain": [
       "<Figure size 432x288 with 1 Axes>"
      ]
     },
     "metadata": {},
     "output_type": "display_data"
    }
   ],
   "source": [
    "u.plot_beliefs(df['prior'][99])"
   ]
  },
  {
   "cell_type": "code",
   "execution_count": null,
   "metadata": {},
   "outputs": [],
   "source": []
  }
 ],
 "metadata": {
  "interpreter": {
   "hash": "1c40ef074ae3e469314ef3f88e628f0324534f8bca0228ef979810459d0a5ee0"
  },
  "kernelspec": {
   "display_name": "Python 3.8.0 ('cad')",
   "language": "python",
   "name": "python3"
  },
  "language_info": {
   "codemirror_mode": {
    "name": "ipython",
    "version": 3
   },
   "file_extension": ".py",
   "mimetype": "text/x-python",
   "name": "python",
   "nbconvert_exporter": "python",
   "pygments_lexer": "ipython3",
   "version": "3.8.0"
  },
  "orig_nbformat": 4
 },
 "nbformat": 4,
 "nbformat_minor": 2
}
