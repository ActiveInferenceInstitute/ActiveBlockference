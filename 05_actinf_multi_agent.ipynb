{
 "cells": [
  {
   "cell_type": "markdown",
   "metadata": {},
   "source": [
    "# Active Inference cadCAD model\n",
    "\n",
    "This notebook explores multi-agent active inference simulations by representing agents as nodes on a graph."
   ]
  },
  {
   "cell_type": "markdown",
   "metadata": {},
   "source": [
    "## cadCAD Standard Notebook Layout"
   ]
  },
  {
   "cell_type": "markdown",
   "metadata": {},
   "source": [
    "### 0. Dependencies"
   ]
  },
  {
   "cell_type": "code",
   "execution_count": 1,
   "metadata": {},
   "outputs": [],
   "source": [
    "import pandas as pd\n",
    "import numpy as np\n",
    "from random import normalvariate, random\n",
    "import plotly.express as px\n",
    "import matplotlib.pyplot as plt\n",
    "import seaborn as sns\n",
    "\n",
    "from radcad import Model, Simulation, Experiment\n",
    "\n",
    "from model import ActiveGridference\n",
    "\n",
    "# Additional dependencies\n",
    "\n",
    "# For analytics\n",
    "import itertools\n",
    "\n",
    "# local utils\n",
    "import utils as u\n",
    "from control import construct_policies\n",
    "import random as rand\n",
    "from pymdp.maths import softmax"
   ]
  },
  {
   "cell_type": "markdown",
   "metadata": {},
   "source": [
    "### Initializing Agent Network"
   ]
  },
  {
   "cell_type": "code",
   "execution_count": 2,
   "metadata": {},
   "outputs": [
    {
     "name": "stdout",
     "output_type": "stream",
     "text": [
      "(0, 0)\n"
     ]
    }
   ],
   "source": [
    "grid = list(itertools.product(range(10), repeat=2))\n",
    "print(grid[grid.index((0,0))])"
   ]
  },
  {
   "cell_type": "code",
   "execution_count": 3,
   "metadata": {},
   "outputs": [
    {
     "name": "stdout",
     "output_type": "stream",
     "text": [
      "Agents: {0: <model.ActiveGridference object at 0x10b7919d0>, 1: <model.ActiveGridference object at 0x109fe7d00>, 2: <model.ActiveGridference object at 0x10a02ffd0>, 3: <model.ActiveGridference object at 0x10a02fd90>, 4: <model.ActiveGridference object at 0x10abc7d90>, 5: <model.ActiveGridference object at 0x12438b400>, 6: <model.ActiveGridference object at 0x12438bf40>, 7: <model.ActiveGridference object at 0x12438b760>, 8: <model.ActiveGridference object at 0x12438b700>, 9: <model.ActiveGridference object at 0x1243cc520>}\n"
     ]
    }
   ],
   "source": [
    "# create a dict of agents\n",
    "agents = {}\n",
    "priors = {}\n",
    "env_states = {}\n",
    "inferences = {}\n",
    "actions = {}\n",
    "\n",
    "# Number of agents\n",
    "NUMBER_AGENTS = 10\n",
    "\n",
    "for a in range(NUMBER_AGENTS):\n",
    "    # create new agent\n",
    "    agent = ActiveGridference(grid)\n",
    "    # generate target state\n",
    "    target = (rand.randint(0,9), rand.randint(0,9))\n",
    "    # add target state\n",
    "    agent.get_C(target)\n",
    "    # all agents start in the same position\n",
    "    agent.get_D((0, 0))\n",
    "\n",
    "    agents[a] = agent\n",
    "    priors[a] = agent.D\n",
    "    env_states[a] = agent.env_state\n",
    "    inferences[a] = agent.current_inference\n",
    "    actions[a] = agent.current_action\n",
    "\n",
    "print(f\"Agents: {agents}\")"
   ]
  },
  {
   "cell_type": "markdown",
   "metadata": {},
   "source": [
    "### 1. State Variables"
   ]
  },
  {
   "cell_type": "code",
   "execution_count": 4,
   "metadata": {},
   "outputs": [],
   "source": [
    "initial_state = {\n",
    "    'agents': agents,\n",
    "    'priors': priors,\n",
    "    'env_states': env_states,\n",
    "    'actions': actions,\n",
    "    'inferences': inferences\n",
    "}"
   ]
  },
  {
   "cell_type": "markdown",
   "metadata": {},
   "source": [
    "### 2. System Parameters"
   ]
  },
  {
   "cell_type": "code",
   "execution_count": 5,
   "metadata": {},
   "outputs": [],
   "source": [
    "params = {\n",
    "    'preferred_state': grid,\n",
    "    'initial_state': grid,\n",
    "    'noise': [0.0, 0.1, 0.2, 0.3, 0.4, 0.5, 0.6, 0.7, 0.8, 0.9, 1.0]\n",
    "}"
   ]
  },
  {
   "cell_type": "markdown",
   "metadata": {},
   "source": [
    "### 3. Policy Functions\n",
    "\n",
    "- `get_observation`\n",
    "- `infer_states`\n",
    "- `calc_efe`\n",
    "- `calc_action_posterior`\n",
    "- `sample_action`\n",
    "- `calc_next_prior`\n",
    "- `update_env_state`"
   ]
  },
  {
   "cell_type": "code",
   "execution_count": 6,
   "metadata": {},
   "outputs": [],
   "source": [
    "def p_actinf(params, substep, state_history, previous_state):\n",
    "    # State Variables\n",
    "    agents = previous_state['agents']\n",
    "\n",
    "    # list of all updates to the agents in the network\n",
    "    agent_updates = []\n",
    "\n",
    "    for source, agent in agents.items():\n",
    "\n",
    "        policies = construct_policies([agent.n_states], [len(agent.E)], policy_len = agent.policy_len)\n",
    "        # get obs_idx\n",
    "        obs_idx = grid.index(agent.env_state)\n",
    "\n",
    "        # infer_states\n",
    "        qs_current = u.infer_states(obs_idx, agent.A, agent.prior, params['noise'])\n",
    "\n",
    "        # calc efe\n",
    "        _G = u.calculate_G_policies(agent.A, agent.B, agent.C, qs_current, policies=policies)\n",
    "\n",
    "        # calc action posterior\n",
    "        Q_pi = u.softmax(-_G, params['noise'])\n",
    "        # compute the probability of each action\n",
    "        P_u = u.compute_prob_actions(agent.E, policies, Q_pi)\n",
    "        \n",
    "        # sample action\n",
    "        chosen_action = u.sample(P_u)\n",
    "\n",
    "        # calc next prior\n",
    "        prior = agent.B[:,:,chosen_action].dot(qs_current) \n",
    "\n",
    "        # update env state\n",
    "        # action_label = params['actions'][chosen_action]\n",
    "\n",
    "        (Y, X) = agent.env_state\n",
    "        Y_new = Y\n",
    "        X_new = X\n",
    "        # here\n",
    "\n",
    "        if chosen_action == 0: # UP\n",
    "            \n",
    "            Y_new = Y - 1 if Y > 0 else Y\n",
    "            X_new = X\n",
    "\n",
    "        elif chosen_action == 1: # DOWN\n",
    "\n",
    "            Y_new = Y + 1 if Y < agent.border else Y\n",
    "            X_new = X\n",
    "\n",
    "        elif chosen_action == 2: # LEFT\n",
    "            Y_new = Y\n",
    "            X_new = X - 1 if X > 0 else X\n",
    "\n",
    "        elif chosen_action == 3: # RIGHT\n",
    "            Y_new = Y\n",
    "            X_new = X +1 if X < agent.border else X\n",
    "\n",
    "        elif chosen_action == 4: # STAY\n",
    "            Y_new, X_new = Y, X \n",
    "            \n",
    "        current_state = (Y_new, X_new) # store the new grid location\n",
    "        agent_update = {'source': source,\n",
    "                        'update_prior': prior,\n",
    "                        'update_env': current_state,\n",
    "                        'update_action': chosen_action,\n",
    "                        'update_inference': qs_current}\n",
    "        agent_updates.append(agent_update)\n",
    "\n",
    "    return {'agent_updates': agent_updates}"
   ]
  },
  {
   "cell_type": "markdown",
   "metadata": {},
   "source": [
    "### 4. State Update Functions"
   ]
  },
  {
   "cell_type": "code",
   "execution_count": 7,
   "metadata": {},
   "outputs": [],
   "source": [
    "def s_agents(params, substep, state_history, previous_state, policy_input):\n",
    "\n",
    "    agents_new = previous_state['agents'].copy()\n",
    "\n",
    "    agent_updates = policy_input['agent_updates']\n",
    "\n",
    "    if agent_updates != []:\n",
    "        for update in agent_updates:\n",
    "            s = update['source']\n",
    "            agent = agents_new[s]\n",
    "            update_prior = update['update_prior']\n",
    "            update_env = update['update_env']\n",
    "            update_action = update['update_action']\n",
    "            update_inference = update['update_inference']\n",
    "\n",
    "            agent.prior = update_prior\n",
    "            agent.env_state = update_env\n",
    "            agent.current_action = update_action\n",
    "            agent.current_inference = update_inference\n",
    "\n",
    "    return 'agents', agents_new\n",
    "\n",
    "def s_priors(params, substep, state_history, previous_state, policy_input):\n",
    "\n",
    "    priors_new = previous_state['priors'].copy()\n",
    "\n",
    "    agent_updates = policy_input['agent_updates']\n",
    "\n",
    "    if agent_updates != []:\n",
    "        for update in agent_updates:\n",
    "            s = update['source']\n",
    "            update_prior = update['update_prior']\n",
    "            priors_new[s] = update_prior\n",
    "\n",
    "    return 'priors', priors_new\n",
    "\n",
    "def s_env_states(params, substep, state_history, previous_state, policy_input):\n",
    "\n",
    "    env_states_new = previous_state['env_states'].copy()\n",
    "\n",
    "    agent_updates = policy_input['agent_updates']\n",
    "\n",
    "    if agent_updates != []:\n",
    "        for update in agent_updates:\n",
    "            s = update['source']\n",
    "            update_env = update['update_env']\n",
    "            env_states_new[s] = update_env\n",
    "\n",
    "    return 'env_states', env_states_new\n",
    "\n",
    "def s_actions(params, substep, state_history, previous_state, policy_input):\n",
    "\n",
    "    actions_new = previous_state['actions'].copy()\n",
    "\n",
    "    agent_updates = policy_input['agent_updates']\n",
    "\n",
    "    if agent_updates != []:\n",
    "        for update in agent_updates:\n",
    "            s = update['source']\n",
    "            update_action = update['update_action']\n",
    "            actions_new[s] = update_action\n",
    "\n",
    "    return 'actions', actions_new\n",
    "\n",
    "def s_inferences(params, substep, state_history, previous_state, policy_input):\n",
    "\n",
    "    inferences_new = previous_state['inferences'].copy()\n",
    "\n",
    "    agent_updates = policy_input['agent_updates']\n",
    "\n",
    "    if agent_updates != []:\n",
    "        for update in agent_updates:\n",
    "            s = update['source']\n",
    "            update_inference = update['update_inference']\n",
    "            inferences_new[s] = update_inference\n",
    "\n",
    "    return 'inferences', inferences_new\n",
    "            "
   ]
  },
  {
   "cell_type": "markdown",
   "metadata": {},
   "source": [
    "### 5. Partial State Update Blocks"
   ]
  },
  {
   "cell_type": "code",
   "execution_count": 8,
   "metadata": {},
   "outputs": [],
   "source": [
    "state_update_blocks = [\n",
    "    {\n",
    "        'policies': {\n",
    "            'p_actinf': p_actinf\n",
    "        },\n",
    "        'variables': {\n",
    "            'agents': s_agents\n",
    "        }\n",
    "    }\n",
    "]"
   ]
  },
  {
   "cell_type": "markdown",
   "metadata": {},
   "source": [
    "### 6. Configuration"
   ]
  },
  {
   "cell_type": "code",
   "execution_count": 9,
   "metadata": {},
   "outputs": [],
   "source": [
    "model = Model(\n",
    "    # Model initial state\n",
    "    initial_state=initial_state,\n",
    "    # Model Partial State Update Blocks\n",
    "    state_update_blocks=state_update_blocks,\n",
    "    # System Parameters\n",
    "    params=params\n",
    ")"
   ]
  },
  {
   "cell_type": "markdown",
   "metadata": {},
   "source": [
    "### 7. Execution"
   ]
  },
  {
   "cell_type": "code",
   "execution_count": 10,
   "metadata": {},
   "outputs": [],
   "source": [
    "simulation = Simulation(\n",
    "    model=model,\n",
    "    timesteps=10,  # Number of timesteps\n",
    "    runs=1  # Number of Monte Carlo Runs\n",
    ")"
   ]
  },
  {
   "cell_type": "code",
   "execution_count": 11,
   "metadata": {},
   "outputs": [
    {
     "name": "stdout",
     "output_type": "stream",
     "text": [
      "Traceback (most recent call last):\n",
      "  File \"/Users/jakubsmekal/miniconda3/envs/cad/lib/python3.8/site-packages/radcad/core.py\", line 100, in single_run\n",
      "    _single_run(\n",
      "  File \"/Users/jakubsmekal/miniconda3/envs/cad/lib/python3.8/site-packages/radcad/core.py\", line 76, in _single_run\n",
      "    substate.update(updated_state)\n",
      "  File \"/Users/jakubsmekal/miniconda3/envs/cad/lib/python3.8/site-packages/radcad/core.py\", line 13, in _update_state\n",
      "    state_key, state_value = function(\n",
      "ValueError: too many values to unpack (expected 2)\n",
      "\n"
     ]
    },
    {
     "name": "stderr",
     "output_type": "stream",
     "text": [
      "WARNING:root:Simulation 0 / run 0 / subset 0 failed! Returning partial results if Engine.raise_exceptions == False.\n"
     ]
    },
    {
     "name": "stdout",
     "output_type": "stream",
     "text": [
      "Traceback (most recent call last):\n",
      "  File \"/Users/jakubsmekal/miniconda3/envs/cad/lib/python3.8/site-packages/radcad/core.py\", line 100, in single_run\n",
      "    _single_run(\n",
      "  File \"/Users/jakubsmekal/miniconda3/envs/cad/lib/python3.8/site-packages/radcad/core.py\", line 76, in _single_run\n",
      "    substate.update(updated_state)\n",
      "  File \"/Users/jakubsmekal/miniconda3/envs/cad/lib/python3.8/site-packages/radcad/core.py\", line 13, in _update_state\n",
      "    state_key, state_value = function(\n",
      "ValueError: too many values to unpack (expected 2)\n",
      "\n"
     ]
    },
    {
     "name": "stderr",
     "output_type": "stream",
     "text": [
      "WARNING:root:Simulation 0 / run 0 / subset 9 failed! Returning partial results if Engine.raise_exceptions == False.\n"
     ]
    },
    {
     "name": "stdout",
     "output_type": "stream",
     "text": [
      "Traceback (most recent call last):\n",
      "  File \"/Users/jakubsmekal/miniconda3/envs/cad/lib/python3.8/site-packages/radcad/core.py\", line 100, in single_run\n",
      "    _single_run(\n",
      "  File \"/Users/jakubsmekal/miniconda3/envs/cad/lib/python3.8/site-packages/radcad/core.py\", line 76, in _single_run\n",
      "    substate.update(updated_state)\n",
      "  File \"/Users/jakubsmekal/miniconda3/envs/cad/lib/python3.8/site-packages/radcad/core.py\", line 13, in _update_state\n",
      "    state_key, state_value = function(\n",
      "ValueError: too many values to unpack (expected 2)\n",
      "\n"
     ]
    },
    {
     "name": "stderr",
     "output_type": "stream",
     "text": [
      "WARNING:root:Simulation 0 / run 0 / subset 18 failed! Returning partial results if Engine.raise_exceptions == False.\n"
     ]
    },
    {
     "name": "stdout",
     "output_type": "stream",
     "text": [
      "Traceback (most recent call last):\n",
      "  File \"/Users/jakubsmekal/miniconda3/envs/cad/lib/python3.8/site-packages/radcad/core.py\", line 100, in single_run\n",
      "    _single_run(\n",
      "  File \"/Users/jakubsmekal/miniconda3/envs/cad/lib/python3.8/site-packages/radcad/core.py\", line 76, in _single_run\n",
      "    substate.update(updated_state)\n",
      "  File \"/Users/jakubsmekal/miniconda3/envs/cad/lib/python3.8/site-packages/radcad/core.py\", line 13, in _update_state\n",
      "    state_key, state_value = function(\n",
      "ValueError: too many values to unpack (expected 2)\n",
      "\n"
     ]
    },
    {
     "name": "stderr",
     "output_type": "stream",
     "text": [
      "WARNING:root:Simulation 0 / run 0 / subset 27 failed! Returning partial results if Engine.raise_exceptions == False.\n"
     ]
    },
    {
     "name": "stdout",
     "output_type": "stream",
     "text": [
      "Traceback (most recent call last):\n",
      "  File \"/Users/jakubsmekal/miniconda3/envs/cad/lib/python3.8/site-packages/radcad/core.py\", line 100, in single_run\n",
      "    _single_run(\n",
      "  File \"/Users/jakubsmekal/miniconda3/envs/cad/lib/python3.8/site-packages/radcad/core.py\", line 76, in _single_run\n",
      "    substate.update(updated_state)\n",
      "  File \"/Users/jakubsmekal/miniconda3/envs/cad/lib/python3.8/site-packages/radcad/core.py\", line 13, in _update_state\n",
      "    state_key, state_value = function(\n",
      "ValueError: too many values to unpack (expected 2)\n",
      "\n"
     ]
    },
    {
     "name": "stderr",
     "output_type": "stream",
     "text": [
      "WARNING:root:Simulation 0 / run 0 / subset 36 failed! Returning partial results if Engine.raise_exceptions == False.\n"
     ]
    },
    {
     "name": "stdout",
     "output_type": "stream",
     "text": [
      "Traceback (most recent call last):\n",
      "  File \"/Users/jakubsmekal/miniconda3/envs/cad/lib/python3.8/site-packages/radcad/core.py\", line 100, in single_run\n",
      "    _single_run(\n",
      "  File \"/Users/jakubsmekal/miniconda3/envs/cad/lib/python3.8/site-packages/radcad/core.py\", line 76, in _single_run\n",
      "    substate.update(updated_state)\n",
      "  File \"/Users/jakubsmekal/miniconda3/envs/cad/lib/python3.8/site-packages/radcad/core.py\", line 13, in _update_state\n",
      "    state_key, state_value = function(\n",
      "ValueError: too many values to unpack (expected 2)\n",
      "\n"
     ]
    },
    {
     "name": "stderr",
     "output_type": "stream",
     "text": [
      "WARNING:root:Simulation 0 / run 0 / subset 45 failed! Returning partial results if Engine.raise_exceptions == False.\n"
     ]
    },
    {
     "name": "stdout",
     "output_type": "stream",
     "text": [
      "Traceback (most recent call last):\n",
      "  File \"/Users/jakubsmekal/miniconda3/envs/cad/lib/python3.8/site-packages/radcad/core.py\", line 100, in single_run\n",
      "    _single_run(\n",
      "  File \"/Users/jakubsmekal/miniconda3/envs/cad/lib/python3.8/site-packages/radcad/core.py\", line 76, in _single_run\n",
      "    substate.update(updated_state)\n",
      "  File \"/Users/jakubsmekal/miniconda3/envs/cad/lib/python3.8/site-packages/radcad/core.py\", line 13, in _update_state\n",
      "    state_key, state_value = function(\n",
      "ValueError: too many values to unpack (expected 2)\n",
      "\n"
     ]
    },
    {
     "name": "stderr",
     "output_type": "stream",
     "text": [
      "WARNING:root:Simulation 0 / run 0 / subset 54 failed! Returning partial results if Engine.raise_exceptions == False.\n"
     ]
    },
    {
     "name": "stdout",
     "output_type": "stream",
     "text": [
      "Traceback (most recent call last):\n",
      "  File \"/Users/jakubsmekal/miniconda3/envs/cad/lib/python3.8/site-packages/radcad/core.py\", line 100, in single_run\n",
      "    _single_run(\n",
      "  File \"/Users/jakubsmekal/miniconda3/envs/cad/lib/python3.8/site-packages/radcad/core.py\", line 76, in _single_run\n",
      "    substate.update(updated_state)\n",
      "  File \"/Users/jakubsmekal/miniconda3/envs/cad/lib/python3.8/site-packages/radcad/core.py\", line 13, in _update_state\n",
      "    state_key, state_value = function(\n",
      "ValueError: too many values to unpack (expected 2)\n"
     ]
    },
    {
     "name": "stderr",
     "output_type": "stream",
     "text": [
      "WARNING:root:Simulation 0 / run 0 / subset 63 failed! Returning partial results if Engine.raise_exceptions == False.\n"
     ]
    },
    {
     "name": "stdout",
     "output_type": "stream",
     "text": [
      "\n"
     ]
    },
    {
     "ename": "KeyboardInterrupt",
     "evalue": "",
     "output_type": "error",
     "traceback": [
      "\u001b[0;31m---------------------------------------------------------------------------\u001b[0m",
      "\u001b[0;31mKeyboardInterrupt\u001b[0m                         Traceback (most recent call last)",
      "\u001b[1;32m/Users/jakubsmekal/Development/actinf/ActiveBlockference/05_actinf_multi_agent.ipynb Cell 22'\u001b[0m in \u001b[0;36m<module>\u001b[0;34m\u001b[0m\n\u001b[0;32m----> <a href='vscode-notebook-cell:/Users/jakubsmekal/Development/actinf/ActiveBlockference/05_actinf_multi_agent.ipynb#ch0000021?line=0'>1</a>\u001b[0m result \u001b[39m=\u001b[39m simulation\u001b[39m.\u001b[39;49mrun()\n",
      "File \u001b[0;32m~/miniconda3/envs/cad/lib/python3.8/site-packages/radcad/wrappers.py:151\u001b[0m, in \u001b[0;36mSimulation.run\u001b[0;34m(self)\u001b[0m\n\u001b[1;32m    <a href='file:///~/miniconda3/envs/cad/lib/python3.8/site-packages/radcad/wrappers.py?line=149'>150</a>\u001b[0m \u001b[39mdef\u001b[39;00m \u001b[39mrun\u001b[39m(\u001b[39mself\u001b[39m):\n\u001b[0;32m--> <a href='file:///~/miniconda3/envs/cad/lib/python3.8/site-packages/radcad/wrappers.py?line=150'>151</a>\u001b[0m     \u001b[39mreturn\u001b[39;00m \u001b[39mself\u001b[39;49m\u001b[39m.\u001b[39;49mengine\u001b[39m.\u001b[39;49m_run(executable\u001b[39m=\u001b[39;49m\u001b[39mself\u001b[39;49m)\n",
      "File \u001b[0;32m~/miniconda3/envs/cad/lib/python3.8/site-packages/radcad/engine.py:80\u001b[0m, in \u001b[0;36mEngine._run\u001b[0;34m(self, executable, **kwargs)\u001b[0m\n\u001b[1;32m     <a href='file:///~/miniconda3/envs/cad/lib/python3.8/site-packages/radcad/engine.py?line=76'>77</a>\u001b[0m \u001b[39melse\u001b[39;00m:\n\u001b[1;32m     <a href='file:///~/miniconda3/envs/cad/lib/python3.8/site-packages/radcad/engine.py?line=77'>78</a>\u001b[0m     \u001b[39mraise\u001b[39;00m \u001b[39mException\u001b[39;00m(\u001b[39mf\u001b[39m\u001b[39m\"\u001b[39m\u001b[39mExecution backend must be one of \u001b[39m\u001b[39m{\u001b[39;00mBackend\u001b[39m.\u001b[39m_member_names_\u001b[39m}\u001b[39;00m\u001b[39m, not \u001b[39m\u001b[39m{\u001b[39;00m\u001b[39mself\u001b[39m\u001b[39m.\u001b[39mbackend\u001b[39m}\u001b[39;00m\u001b[39m\"\u001b[39m)\n\u001b[0;32m---> <a href='file:///~/miniconda3/envs/cad/lib/python3.8/site-packages/radcad/engine.py?line=79'>80</a>\u001b[0m result \u001b[39m=\u001b[39m Executor(\u001b[39mself\u001b[39;49m)\u001b[39m.\u001b[39;49mexecute_runs()\n\u001b[1;32m     <a href='file:///~/miniconda3/envs/cad/lib/python3.8/site-packages/radcad/engine.py?line=81'>82</a>\u001b[0m \u001b[39mself\u001b[39m\u001b[39m.\u001b[39mexecutable\u001b[39m.\u001b[39mresults, \u001b[39mself\u001b[39m\u001b[39m.\u001b[39mexecutable\u001b[39m.\u001b[39mexceptions \u001b[39m=\u001b[39m extract_exceptions(result)\n\u001b[1;32m     <a href='file:///~/miniconda3/envs/cad/lib/python3.8/site-packages/radcad/engine.py?line=82'>83</a>\u001b[0m \u001b[39mself\u001b[39m\u001b[39m.\u001b[39mexecutable\u001b[39m.\u001b[39m_after_experiment(experiment\u001b[39m=\u001b[39m(executable \u001b[39mif\u001b[39;00m \u001b[39misinstance\u001b[39m(executable, wrappers\u001b[39m.\u001b[39mExperiment) \u001b[39melse\u001b[39;00m \u001b[39mNone\u001b[39;00m))\n",
      "File \u001b[0;32m~/miniconda3/envs/cad/lib/python3.8/site-packages/radcad/backends/pathos.py:21\u001b[0m, in \u001b[0;36mExecutorPathos.execute_runs\u001b[0;34m(self)\u001b[0m\n\u001b[1;32m     <a href='file:///~/miniconda3/envs/cad/lib/python3.8/site-packages/radcad/backends/pathos.py?line=18'>19</a>\u001b[0m \u001b[39mdef\u001b[39;00m \u001b[39mexecute_runs\u001b[39m(\u001b[39mself\u001b[39m):\n\u001b[1;32m     <a href='file:///~/miniconda3/envs/cad/lib/python3.8/site-packages/radcad/backends/pathos.py?line=19'>20</a>\u001b[0m     \u001b[39mwith\u001b[39;00m ProcessPool(\u001b[39mself\u001b[39m\u001b[39m.\u001b[39mengine\u001b[39m.\u001b[39mprocesses) \u001b[39mas\u001b[39;00m pool:\n\u001b[0;32m---> <a href='file:///~/miniconda3/envs/cad/lib/python3.8/site-packages/radcad/backends/pathos.py?line=20'>21</a>\u001b[0m         result \u001b[39m=\u001b[39m pool\u001b[39m.\u001b[39;49mmap(\n\u001b[1;32m     <a href='file:///~/miniconda3/envs/cad/lib/python3.8/site-packages/radcad/backends/pathos.py?line=21'>22</a>\u001b[0m             core\u001b[39m.\u001b[39;49m_single_run_wrapper,\n\u001b[1;32m     <a href='file:///~/miniconda3/envs/cad/lib/python3.8/site-packages/radcad/backends/pathos.py?line=22'>23</a>\u001b[0m             [\n\u001b[1;32m     <a href='file:///~/miniconda3/envs/cad/lib/python3.8/site-packages/radcad/backends/pathos.py?line=23'>24</a>\u001b[0m                 (config, \u001b[39mself\u001b[39;49m\u001b[39m.\u001b[39;49mengine\u001b[39m.\u001b[39;49mraise_exceptions)\n\u001b[1;32m     <a href='file:///~/miniconda3/envs/cad/lib/python3.8/site-packages/radcad/backends/pathos.py?line=24'>25</a>\u001b[0m                 \u001b[39mfor\u001b[39;49;00m config \u001b[39min\u001b[39;49;00m \u001b[39mself\u001b[39;49m\u001b[39m.\u001b[39;49mengine\u001b[39m.\u001b[39;49m_run_generator\n\u001b[1;32m     <a href='file:///~/miniconda3/envs/cad/lib/python3.8/site-packages/radcad/backends/pathos.py?line=25'>26</a>\u001b[0m             ],\n\u001b[1;32m     <a href='file:///~/miniconda3/envs/cad/lib/python3.8/site-packages/radcad/backends/pathos.py?line=26'>27</a>\u001b[0m         )\n\u001b[1;32m     <a href='file:///~/miniconda3/envs/cad/lib/python3.8/site-packages/radcad/backends/pathos.py?line=27'>28</a>\u001b[0m         pool\u001b[39m.\u001b[39mclose()\n\u001b[1;32m     <a href='file:///~/miniconda3/envs/cad/lib/python3.8/site-packages/radcad/backends/pathos.py?line=28'>29</a>\u001b[0m         pool\u001b[39m.\u001b[39mjoin()\n",
      "File \u001b[0;32m~/miniconda3/envs/cad/lib/python3.8/site-packages/pathos/multiprocessing.py:139\u001b[0m, in \u001b[0;36mProcessPool.map\u001b[0;34m(self, f, *args, **kwds)\u001b[0m\n\u001b[1;32m    <a href='file:///~/miniconda3/envs/cad/lib/python3.8/site-packages/pathos/multiprocessing.py?line=136'>137</a>\u001b[0m AbstractWorkerPool\u001b[39m.\u001b[39m_AbstractWorkerPool__map(\u001b[39mself\u001b[39m, f, \u001b[39m*\u001b[39margs, \u001b[39m*\u001b[39m\u001b[39m*\u001b[39mkwds)\n\u001b[1;32m    <a href='file:///~/miniconda3/envs/cad/lib/python3.8/site-packages/pathos/multiprocessing.py?line=137'>138</a>\u001b[0m _pool \u001b[39m=\u001b[39m \u001b[39mself\u001b[39m\u001b[39m.\u001b[39m_serve()\n\u001b[0;32m--> <a href='file:///~/miniconda3/envs/cad/lib/python3.8/site-packages/pathos/multiprocessing.py?line=138'>139</a>\u001b[0m \u001b[39mreturn\u001b[39;00m _pool\u001b[39m.\u001b[39;49mmap(star(f), \u001b[39mzip\u001b[39;49m(\u001b[39m*\u001b[39;49margs))\n",
      "File \u001b[0;32m~/miniconda3/envs/cad/lib/python3.8/site-packages/multiprocess/pool.py:364\u001b[0m, in \u001b[0;36mPool.map\u001b[0;34m(self, func, iterable, chunksize)\u001b[0m\n\u001b[1;32m    <a href='file:///~/miniconda3/envs/cad/lib/python3.8/site-packages/multiprocess/pool.py?line=358'>359</a>\u001b[0m \u001b[39mdef\u001b[39;00m \u001b[39mmap\u001b[39m(\u001b[39mself\u001b[39m, func, iterable, chunksize\u001b[39m=\u001b[39m\u001b[39mNone\u001b[39;00m):\n\u001b[1;32m    <a href='file:///~/miniconda3/envs/cad/lib/python3.8/site-packages/multiprocess/pool.py?line=359'>360</a>\u001b[0m     \u001b[39m'''\u001b[39;00m\n\u001b[1;32m    <a href='file:///~/miniconda3/envs/cad/lib/python3.8/site-packages/multiprocess/pool.py?line=360'>361</a>\u001b[0m \u001b[39m    Apply `func` to each element in `iterable`, collecting the results\u001b[39;00m\n\u001b[1;32m    <a href='file:///~/miniconda3/envs/cad/lib/python3.8/site-packages/multiprocess/pool.py?line=361'>362</a>\u001b[0m \u001b[39m    in a list that is returned.\u001b[39;00m\n\u001b[1;32m    <a href='file:///~/miniconda3/envs/cad/lib/python3.8/site-packages/multiprocess/pool.py?line=362'>363</a>\u001b[0m \u001b[39m    '''\u001b[39;00m\n\u001b[0;32m--> <a href='file:///~/miniconda3/envs/cad/lib/python3.8/site-packages/multiprocess/pool.py?line=363'>364</a>\u001b[0m     \u001b[39mreturn\u001b[39;00m \u001b[39mself\u001b[39;49m\u001b[39m.\u001b[39;49m_map_async(func, iterable, mapstar, chunksize)\u001b[39m.\u001b[39;49mget()\n",
      "File \u001b[0;32m~/miniconda3/envs/cad/lib/python3.8/site-packages/multiprocess/pool.py:765\u001b[0m, in \u001b[0;36mApplyResult.get\u001b[0;34m(self, timeout)\u001b[0m\n\u001b[1;32m    <a href='file:///~/miniconda3/envs/cad/lib/python3.8/site-packages/multiprocess/pool.py?line=763'>764</a>\u001b[0m \u001b[39mdef\u001b[39;00m \u001b[39mget\u001b[39m(\u001b[39mself\u001b[39m, timeout\u001b[39m=\u001b[39m\u001b[39mNone\u001b[39;00m):\n\u001b[0;32m--> <a href='file:///~/miniconda3/envs/cad/lib/python3.8/site-packages/multiprocess/pool.py?line=764'>765</a>\u001b[0m     \u001b[39mself\u001b[39;49m\u001b[39m.\u001b[39;49mwait(timeout)\n\u001b[1;32m    <a href='file:///~/miniconda3/envs/cad/lib/python3.8/site-packages/multiprocess/pool.py?line=765'>766</a>\u001b[0m     \u001b[39mif\u001b[39;00m \u001b[39mnot\u001b[39;00m \u001b[39mself\u001b[39m\u001b[39m.\u001b[39mready():\n\u001b[1;32m    <a href='file:///~/miniconda3/envs/cad/lib/python3.8/site-packages/multiprocess/pool.py?line=766'>767</a>\u001b[0m         \u001b[39mraise\u001b[39;00m \u001b[39mTimeoutError\u001b[39;00m\n",
      "File \u001b[0;32m~/miniconda3/envs/cad/lib/python3.8/site-packages/multiprocess/pool.py:762\u001b[0m, in \u001b[0;36mApplyResult.wait\u001b[0;34m(self, timeout)\u001b[0m\n\u001b[1;32m    <a href='file:///~/miniconda3/envs/cad/lib/python3.8/site-packages/multiprocess/pool.py?line=760'>761</a>\u001b[0m \u001b[39mdef\u001b[39;00m \u001b[39mwait\u001b[39m(\u001b[39mself\u001b[39m, timeout\u001b[39m=\u001b[39m\u001b[39mNone\u001b[39;00m):\n\u001b[0;32m--> <a href='file:///~/miniconda3/envs/cad/lib/python3.8/site-packages/multiprocess/pool.py?line=761'>762</a>\u001b[0m     \u001b[39mself\u001b[39;49m\u001b[39m.\u001b[39;49m_event\u001b[39m.\u001b[39;49mwait(timeout)\n",
      "File \u001b[0;32m~/miniconda3/envs/cad/lib/python3.8/threading.py:558\u001b[0m, in \u001b[0;36mEvent.wait\u001b[0;34m(self, timeout)\u001b[0m\n\u001b[1;32m    <a href='file:///~/miniconda3/envs/cad/lib/python3.8/threading.py?line=555'>556</a>\u001b[0m signaled \u001b[39m=\u001b[39m \u001b[39mself\u001b[39m\u001b[39m.\u001b[39m_flag\n\u001b[1;32m    <a href='file:///~/miniconda3/envs/cad/lib/python3.8/threading.py?line=556'>557</a>\u001b[0m \u001b[39mif\u001b[39;00m \u001b[39mnot\u001b[39;00m signaled:\n\u001b[0;32m--> <a href='file:///~/miniconda3/envs/cad/lib/python3.8/threading.py?line=557'>558</a>\u001b[0m     signaled \u001b[39m=\u001b[39m \u001b[39mself\u001b[39;49m\u001b[39m.\u001b[39;49m_cond\u001b[39m.\u001b[39;49mwait(timeout)\n\u001b[1;32m    <a href='file:///~/miniconda3/envs/cad/lib/python3.8/threading.py?line=558'>559</a>\u001b[0m \u001b[39mreturn\u001b[39;00m signaled\n",
      "File \u001b[0;32m~/miniconda3/envs/cad/lib/python3.8/threading.py:302\u001b[0m, in \u001b[0;36mCondition.wait\u001b[0;34m(self, timeout)\u001b[0m\n\u001b[1;32m    <a href='file:///~/miniconda3/envs/cad/lib/python3.8/threading.py?line=299'>300</a>\u001b[0m \u001b[39mtry\u001b[39;00m:    \u001b[39m# restore state no matter what (e.g., KeyboardInterrupt)\u001b[39;00m\n\u001b[1;32m    <a href='file:///~/miniconda3/envs/cad/lib/python3.8/threading.py?line=300'>301</a>\u001b[0m     \u001b[39mif\u001b[39;00m timeout \u001b[39mis\u001b[39;00m \u001b[39mNone\u001b[39;00m:\n\u001b[0;32m--> <a href='file:///~/miniconda3/envs/cad/lib/python3.8/threading.py?line=301'>302</a>\u001b[0m         waiter\u001b[39m.\u001b[39;49macquire()\n\u001b[1;32m    <a href='file:///~/miniconda3/envs/cad/lib/python3.8/threading.py?line=302'>303</a>\u001b[0m         gotit \u001b[39m=\u001b[39m \u001b[39mTrue\u001b[39;00m\n\u001b[1;32m    <a href='file:///~/miniconda3/envs/cad/lib/python3.8/threading.py?line=303'>304</a>\u001b[0m     \u001b[39melse\u001b[39;00m:\n",
      "\u001b[0;31mKeyboardInterrupt\u001b[0m: "
     ]
    },
    {
     "name": "stdout",
     "output_type": "stream",
     "text": [
      "Traceback (most recent call last):\n",
      "  File \"/Users/jakubsmekal/miniconda3/envs/cad/lib/python3.8/site-packages/radcad/core.py\", line 100, in single_run\n",
      "    _single_run(\n",
      "  File \"/Users/jakubsmekal/miniconda3/envs/cad/lib/python3.8/site-packages/radcad/core.py\", line 76, in _single_run\n",
      "    substate.update(updated_state)\n",
      "  File \"/Users/jakubsmekal/miniconda3/envs/cad/lib/python3.8/site-packages/radcad/core.py\", line 13, in _update_state\n",
      "    state_key, state_value = function(\n",
      "ValueError: too many values to unpack (expected 2)\n",
      "\n"
     ]
    },
    {
     "name": "stderr",
     "output_type": "stream",
     "text": [
      "WARNING:root:Simulation 0 / run 0 / subset 72 failed! Returning partial results if Engine.raise_exceptions == False.\n"
     ]
    },
    {
     "name": "stdout",
     "output_type": "stream",
     "text": [
      "Traceback (most recent call last):\n",
      "  File \"/Users/jakubsmekal/miniconda3/envs/cad/lib/python3.8/site-packages/radcad/core.py\", line 100, in single_run\n",
      "    _single_run(\n",
      "  File \"/Users/jakubsmekal/miniconda3/envs/cad/lib/python3.8/site-packages/radcad/core.py\", line 76, in _single_run\n",
      "    substate.update(updated_state)\n",
      "  File \"/Users/jakubsmekal/miniconda3/envs/cad/lib/python3.8/site-packages/radcad/core.py\", line 13, in _update_state\n",
      "    state_key, state_value = function(\n",
      "ValueError: too many values to unpack (expected 2)\n",
      "\n"
     ]
    },
    {
     "name": "stderr",
     "output_type": "stream",
     "text": [
      "WARNING:root:Simulation 0 / run 0 / subset 81 failed! Returning partial results if Engine.raise_exceptions == False.\n"
     ]
    },
    {
     "name": "stdout",
     "output_type": "stream",
     "text": [
      "Traceback (most recent call last):\n",
      "  File \"/Users/jakubsmekal/miniconda3/envs/cad/lib/python3.8/site-packages/radcad/core.py\", line 100, in single_run\n",
      "    _single_run(\n",
      "  File \"/Users/jakubsmekal/miniconda3/envs/cad/lib/python3.8/site-packages/radcad/core.py\", line 76, in _single_run\n",
      "    substate.update(updated_state)\n",
      "  File \"/Users/jakubsmekal/miniconda3/envs/cad/lib/python3.8/site-packages/radcad/core.py\", line 13, in _update_state\n",
      "    state_key, state_value = function(\n",
      "ValueError: too many values to unpack (expected 2)\n",
      "\n"
     ]
    },
    {
     "name": "stderr",
     "output_type": "stream",
     "text": [
      "WARNING:root:Simulation 0 / run 0 / subset 90 failed! Returning partial results if Engine.raise_exceptions == False.\n"
     ]
    },
    {
     "name": "stdout",
     "output_type": "stream",
     "text": [
      "Traceback (most recent call last):\n",
      "  File \"/Users/jakubsmekal/miniconda3/envs/cad/lib/python3.8/site-packages/radcad/core.py\", line 100, in single_run\n",
      "    _single_run(\n",
      "  File \"/Users/jakubsmekal/miniconda3/envs/cad/lib/python3.8/site-packages/radcad/core.py\", line 76, in _single_run\n",
      "    substate.update(updated_state)\n",
      "  File \"/Users/jakubsmekal/miniconda3/envs/cad/lib/python3.8/site-packages/radcad/core.py\", line 13, in _update_state\n",
      "    state_key, state_value = function(\n",
      "ValueError: too many values to unpack (expected 2)\n",
      "\n"
     ]
    },
    {
     "name": "stderr",
     "output_type": "stream",
     "text": [
      "WARNING:root:Simulation 0 / run 0 / subset 99 failed! Returning partial results if Engine.raise_exceptions == False.\n"
     ]
    }
   ],
   "source": [
    "result = simulation.run()"
   ]
  },
  {
   "cell_type": "markdown",
   "metadata": {},
   "source": [
    "### 8. Analysis"
   ]
  },
  {
   "cell_type": "code",
   "execution_count": 12,
   "metadata": {},
   "outputs": [],
   "source": [
    "pd.options.plotting.backend = \"plotly\""
   ]
  },
  {
   "cell_type": "code",
   "execution_count": 13,
   "metadata": {},
   "outputs": [
    {
     "data": {
      "text/html": [
       "<div>\n",
       "<style scoped>\n",
       "    .dataframe tbody tr th:only-of-type {\n",
       "        vertical-align: middle;\n",
       "    }\n",
       "\n",
       "    .dataframe tbody tr th {\n",
       "        vertical-align: top;\n",
       "    }\n",
       "\n",
       "    .dataframe thead th {\n",
       "        text-align: right;\n",
       "    }\n",
       "</style>\n",
       "<table border=\"1\" class=\"dataframe\">\n",
       "  <thead>\n",
       "    <tr style=\"text-align: right;\">\n",
       "      <th></th>\n",
       "      <th>agents</th>\n",
       "      <th>simulation</th>\n",
       "      <th>subset</th>\n",
       "      <th>run</th>\n",
       "      <th>substep</th>\n",
       "      <th>timestep</th>\n",
       "    </tr>\n",
       "  </thead>\n",
       "  <tbody>\n",
       "    <tr>\n",
       "      <th>0</th>\n",
       "      <td>{0: &lt;model.ActiveGridference object at 0x12487...</td>\n",
       "      <td>0</td>\n",
       "      <td>0</td>\n",
       "      <td>1</td>\n",
       "      <td>0</td>\n",
       "      <td>0</td>\n",
       "    </tr>\n",
       "    <tr>\n",
       "      <th>1</th>\n",
       "      <td>{0: &lt;model.ActiveGridference object at 0x1250f...</td>\n",
       "      <td>0</td>\n",
       "      <td>0</td>\n",
       "      <td>1</td>\n",
       "      <td>1</td>\n",
       "      <td>1</td>\n",
       "    </tr>\n",
       "    <tr>\n",
       "      <th>2</th>\n",
       "      <td>{0: &lt;model.ActiveGridference object at 0x1250e...</td>\n",
       "      <td>0</td>\n",
       "      <td>0</td>\n",
       "      <td>1</td>\n",
       "      <td>1</td>\n",
       "      <td>2</td>\n",
       "    </tr>\n",
       "    <tr>\n",
       "      <th>3</th>\n",
       "      <td>{0: &lt;model.ActiveGridference object at 0x12510...</td>\n",
       "      <td>0</td>\n",
       "      <td>0</td>\n",
       "      <td>1</td>\n",
       "      <td>1</td>\n",
       "      <td>3</td>\n",
       "    </tr>\n",
       "    <tr>\n",
       "      <th>4</th>\n",
       "      <td>{0: &lt;model.ActiveGridference object at 0x12510...</td>\n",
       "      <td>0</td>\n",
       "      <td>0</td>\n",
       "      <td>1</td>\n",
       "      <td>1</td>\n",
       "      <td>4</td>\n",
       "    </tr>\n",
       "    <tr>\n",
       "      <th>5</th>\n",
       "      <td>{0: &lt;model.ActiveGridference object at 0x12511...</td>\n",
       "      <td>0</td>\n",
       "      <td>0</td>\n",
       "      <td>1</td>\n",
       "      <td>1</td>\n",
       "      <td>5</td>\n",
       "    </tr>\n",
       "    <tr>\n",
       "      <th>6</th>\n",
       "      <td>{0: &lt;model.ActiveGridference object at 0x12511...</td>\n",
       "      <td>0</td>\n",
       "      <td>0</td>\n",
       "      <td>1</td>\n",
       "      <td>1</td>\n",
       "      <td>6</td>\n",
       "    </tr>\n",
       "    <tr>\n",
       "      <th>7</th>\n",
       "      <td>{0: &lt;model.ActiveGridference object at 0x12512...</td>\n",
       "      <td>0</td>\n",
       "      <td>0</td>\n",
       "      <td>1</td>\n",
       "      <td>1</td>\n",
       "      <td>7</td>\n",
       "    </tr>\n",
       "    <tr>\n",
       "      <th>8</th>\n",
       "      <td>{0: &lt;model.ActiveGridference object at 0x12512...</td>\n",
       "      <td>0</td>\n",
       "      <td>0</td>\n",
       "      <td>1</td>\n",
       "      <td>1</td>\n",
       "      <td>8</td>\n",
       "    </tr>\n",
       "    <tr>\n",
       "      <th>9</th>\n",
       "      <td>{0: &lt;model.ActiveGridference object at 0x12d4f...</td>\n",
       "      <td>0</td>\n",
       "      <td>0</td>\n",
       "      <td>1</td>\n",
       "      <td>1</td>\n",
       "      <td>9</td>\n",
       "    </tr>\n",
       "    <tr>\n",
       "      <th>10</th>\n",
       "      <td>{0: &lt;model.ActiveGridference object at 0x12d50...</td>\n",
       "      <td>0</td>\n",
       "      <td>0</td>\n",
       "      <td>1</td>\n",
       "      <td>1</td>\n",
       "      <td>10</td>\n",
       "    </tr>\n",
       "  </tbody>\n",
       "</table>\n",
       "</div>"
      ],
      "text/plain": [
       "                                               agents  simulation  subset  \\\n",
       "0   {0: <model.ActiveGridference object at 0x12487...           0       0   \n",
       "1   {0: <model.ActiveGridference object at 0x1250f...           0       0   \n",
       "2   {0: <model.ActiveGridference object at 0x1250e...           0       0   \n",
       "3   {0: <model.ActiveGridference object at 0x12510...           0       0   \n",
       "4   {0: <model.ActiveGridference object at 0x12510...           0       0   \n",
       "5   {0: <model.ActiveGridference object at 0x12511...           0       0   \n",
       "6   {0: <model.ActiveGridference object at 0x12511...           0       0   \n",
       "7   {0: <model.ActiveGridference object at 0x12512...           0       0   \n",
       "8   {0: <model.ActiveGridference object at 0x12512...           0       0   \n",
       "9   {0: <model.ActiveGridference object at 0x12d4f...           0       0   \n",
       "10  {0: <model.ActiveGridference object at 0x12d50...           0       0   \n",
       "\n",
       "    run  substep  timestep  \n",
       "0     1        0         0  \n",
       "1     1        1         1  \n",
       "2     1        1         2  \n",
       "3     1        1         3  \n",
       "4     1        1         4  \n",
       "5     1        1         5  \n",
       "6     1        1         6  \n",
       "7     1        1         7  \n",
       "8     1        1         8  \n",
       "9     1        1         9  \n",
       "10    1        1        10  "
      ]
     },
     "execution_count": 13,
     "metadata": {},
     "output_type": "execute_result"
    }
   ],
   "source": [
    "df = pd.DataFrame(result)\n",
    "df"
   ]
  },
  {
   "cell_type": "code",
   "execution_count": null,
   "metadata": {},
   "outputs": [],
   "source": []
  }
 ],
 "metadata": {
  "interpreter": {
   "hash": "1c40ef074ae3e469314ef3f88e628f0324534f8bca0228ef979810459d0a5ee0"
  },
  "kernelspec": {
   "display_name": "Python 3.8.0 ('cad')",
   "language": "python",
   "name": "python3"
  },
  "language_info": {
   "codemirror_mode": {
    "name": "ipython",
    "version": 3
   },
   "file_extension": ".py",
   "mimetype": "text/x-python",
   "name": "python",
   "nbconvert_exporter": "python",
   "pygments_lexer": "ipython3",
   "version": "3.8.0"
  },
  "orig_nbformat": 4
 },
 "nbformat": 4,
 "nbformat_minor": 2
}
