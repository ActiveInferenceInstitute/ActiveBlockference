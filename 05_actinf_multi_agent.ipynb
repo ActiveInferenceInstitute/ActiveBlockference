{
 "cells": [
  {
   "cell_type": "markdown",
   "metadata": {},
   "source": [
    "# Active Inference cadCAD model\n",
    "\n",
    "This notebook explores multi-agent active inference simulations by representing agents and their locations in a dictionary format.."
   ]
  },
  {
   "cell_type": "markdown",
   "metadata": {},
   "source": [
    "## cadCAD Standard Notebook Layout"
   ]
  },
  {
   "cell_type": "markdown",
   "metadata": {},
   "source": [
    "### 0. Dependencies"
   ]
  },
  {
   "cell_type": "code",
   "execution_count": 26,
   "metadata": {},
   "outputs": [],
   "source": [
    "import pandas as pd\n",
    "import numpy as np\n",
    "from random import normalvariate, random\n",
    "import plotly.express as px\n",
    "import matplotlib.pyplot as plt\n",
    "import seaborn as sns\n",
    "\n",
    "from radcad import Model, Simulation, Experiment\n",
    "\n",
    "from tools.model import ActiveGridference\n",
    "\n",
    "# Additional dependencies\n",
    "\n",
    "# For analytics\n",
    "import itertools\n",
    "\n",
    "# local utils\n",
    "import tools.utils as u\n",
    "from tools.control import construct_policies\n",
    "import random as rand\n",
    "from pymdp.maths import softmax"
   ]
  },
  {
   "cell_type": "markdown",
   "metadata": {},
   "source": [
    "### Initializing Agent Network"
   ]
  },
  {
   "cell_type": "code",
   "execution_count": 27,
   "metadata": {},
   "outputs": [
    {
     "name": "stdout",
     "output_type": "stream",
     "text": [
      "(0, 0)\n"
     ]
    }
   ],
   "source": [
    "grid = list(itertools.product(range(10), repeat=2))\n",
    "print(grid[grid.index((0,0))])"
   ]
  },
  {
   "cell_type": "code",
   "execution_count": 28,
   "metadata": {},
   "outputs": [
    {
     "name": "stdout",
     "output_type": "stream",
     "text": [
      "Agents: {0: <tools.model.ActiveGridference object at 0x22db77b20>, 1: <tools.model.ActiveGridference object at 0x129cf8160>, 2: <tools.model.ActiveGridference object at 0x1904d6460>, 3: <tools.model.ActiveGridference object at 0x13eaef790>, 4: <tools.model.ActiveGridference object at 0x166b9f280>, 5: <tools.model.ActiveGridference object at 0x1985c5df0>, 6: <tools.model.ActiveGridference object at 0x12b136220>, 7: <tools.model.ActiveGridference object at 0x18e475f40>, 8: <tools.model.ActiveGridference object at 0x19c58d7f0>, 9: <tools.model.ActiveGridference object at 0x22db77bb0>}\n"
     ]
    }
   ],
   "source": [
    "# create a dict of agents\n",
    "agents = {}\n",
    "\n",
    "# Number of agents\n",
    "NUMBER_AGENTS = 10\n",
    "\n",
    "for a in range(NUMBER_AGENTS):\n",
    "    # create new agent\n",
    "    agent = ActiveGridference(grid)\n",
    "    # generate target state\n",
    "    target = (rand.randint(0,9), rand.randint(0,9))\n",
    "    # add target state\n",
    "    agent.get_C(target)\n",
    "    # all agents start in the same position\n",
    "    agent.get_D((0, 0))\n",
    "\n",
    "    agents[a] = agent\n",
    "\n",
    "print(f\"Agents: {agents}\")"
   ]
  },
  {
   "cell_type": "markdown",
   "metadata": {},
   "source": [
    "### 1. State Variables"
   ]
  },
  {
   "cell_type": "code",
   "execution_count": 29,
   "metadata": {},
   "outputs": [],
   "source": [
    "initial_state = {\n",
    "    'agents': agents\n",
    "}"
   ]
  },
  {
   "cell_type": "markdown",
   "metadata": {},
   "source": [
    "### 2. System Parameters"
   ]
  },
  {
   "cell_type": "code",
   "execution_count": 30,
   "metadata": {},
   "outputs": [],
   "source": [
    "params = {\n",
    "    'preferred_state': grid,\n",
    "    'initial_state': grid,\n",
    "    'noise': [0.00001, 0.1, 0.2, 0.3, 0.4, 0.5, 0.6, 0.7, 0.8, 0.9, 1.0]\n",
    "}"
   ]
  },
  {
   "cell_type": "markdown",
   "metadata": {},
   "source": [
    "### 3. Policy Functions\n",
    "\n",
    "- `get_observation`\n",
    "- `infer_states`\n",
    "- `calc_efe`\n",
    "- `calc_action_posterior`\n",
    "- `sample_action`\n",
    "- `calc_next_prior`\n",
    "- `update_env_state`"
   ]
  },
  {
   "cell_type": "code",
   "execution_count": 31,
   "metadata": {},
   "outputs": [],
   "source": [
    "def p_actinf(params, substep, state_history, previous_state):\n",
    "    # State Variables\n",
    "    agents = previous_state['agents']\n",
    "\n",
    "    # list of all updates to the agents in the network\n",
    "    agent_updates = []\n",
    "\n",
    "    for source, agent in agents.items():\n",
    "\n",
    "        policies = construct_policies([agent.n_states], [len(agent.E)], policy_len = agent.policy_len)\n",
    "        # get obs_idx\n",
    "        obs_idx = grid.index(agent.env_state)\n",
    "\n",
    "        # infer_states\n",
    "        qs_current = u.infer_states(obs_idx, agent.A, agent.prior, params['noise'])\n",
    "\n",
    "        # calc efe\n",
    "        _G = u.calculate_G_policies(agent.A, agent.B, agent.C, qs_current, policies=policies)\n",
    "\n",
    "        # calc action posterior\n",
    "        Q_pi = u.softmax(-_G, params['noise'])\n",
    "        # compute the probability of each action\n",
    "        P_u = u.compute_prob_actions(agent.E, policies, Q_pi)\n",
    "        \n",
    "        # sample action\n",
    "        chosen_action = u.sample(P_u)\n",
    "\n",
    "        # calc next prior\n",
    "        prior = agent.B[:,:,chosen_action].dot(qs_current) \n",
    "\n",
    "        # update env state\n",
    "        # action_label = params['actions'][chosen_action]\n",
    "\n",
    "        (Y, X) = agent.env_state\n",
    "        Y_new = Y\n",
    "        X_new = X\n",
    "        # here\n",
    "\n",
    "        if chosen_action == 0: # UP\n",
    "            \n",
    "            Y_new = Y - 1 if Y > 0 else Y\n",
    "            X_new = X\n",
    "\n",
    "        elif chosen_action == 1: # DOWN\n",
    "\n",
    "            Y_new = Y + 1 if Y < agent.border else Y\n",
    "            X_new = X\n",
    "\n",
    "        elif chosen_action == 2: # LEFT\n",
    "            Y_new = Y\n",
    "            X_new = X - 1 if X > 0 else X\n",
    "\n",
    "        elif chosen_action == 3: # RIGHT\n",
    "            Y_new = Y\n",
    "            X_new = X +1 if X < agent.border else X\n",
    "\n",
    "        elif chosen_action == 4: # STAY\n",
    "            Y_new, X_new = Y, X \n",
    "            \n",
    "        current_state = (Y_new, X_new) # store the new grid location\n",
    "        agent_update = {'source': source,\n",
    "                        'update_prior': prior,\n",
    "                        'update_env': current_state,\n",
    "                        'update_action': chosen_action,\n",
    "                        'update_inference': qs_current}\n",
    "        agent_updates.append(agent_update)\n",
    "\n",
    "    return {'agent_updates': agent_updates}"
   ]
  },
  {
   "cell_type": "markdown",
   "metadata": {},
   "source": [
    "### 4. State Update Functions"
   ]
  },
  {
   "cell_type": "code",
   "execution_count": 32,
   "metadata": {},
   "outputs": [],
   "source": [
    "def s_agents(params, substep, state_history, previous_state, policy_input):\n",
    "\n",
    "    agents_new = previous_state['agents'].copy()\n",
    "\n",
    "    agent_updates = policy_input['agent_updates']\n",
    "\n",
    "    if agent_updates != []:\n",
    "        for update in agent_updates:\n",
    "            s = update['source']\n",
    "            agent = agents_new[s]\n",
    "            update_prior = update['update_prior']\n",
    "            update_env = update['update_env']\n",
    "            update_action = update['update_action']\n",
    "            update_inference = update['update_inference']\n",
    "\n",
    "            agent.prior = update_prior\n",
    "            agent.env_state = update_env\n",
    "            agent.current_action = update_action\n",
    "            agent.current_inference = update_inference\n",
    "\n",
    "    return 'agents', agents_new"
   ]
  },
  {
   "cell_type": "markdown",
   "metadata": {},
   "source": [
    "### 5. Partial State Update Blocks"
   ]
  },
  {
   "cell_type": "code",
   "execution_count": 33,
   "metadata": {},
   "outputs": [],
   "source": [
    "state_update_blocks = [\n",
    "    {\n",
    "        'policies': {\n",
    "            'p_actinf': p_actinf\n",
    "        },\n",
    "        'variables': {\n",
    "            'agents': s_agents\n",
    "        }\n",
    "    }\n",
    "]"
   ]
  },
  {
   "cell_type": "markdown",
   "metadata": {},
   "source": [
    "### 6. Configuration"
   ]
  },
  {
   "cell_type": "code",
   "execution_count": 34,
   "metadata": {},
   "outputs": [],
   "source": [
    "model = Model(\n",
    "    # Model initial state\n",
    "    initial_state=initial_state,\n",
    "    # Model Partial State Update Blocks\n",
    "    state_update_blocks=state_update_blocks,\n",
    "    # System Parameters\n",
    "    params=params\n",
    ")"
   ]
  },
  {
   "cell_type": "markdown",
   "metadata": {},
   "source": [
    "### 7. Execution"
   ]
  },
  {
   "cell_type": "code",
   "execution_count": 35,
   "metadata": {},
   "outputs": [],
   "source": [
    "simulation = Simulation(\n",
    "    model=model,\n",
    "    timesteps=10,  # Number of timesteps\n",
    "    runs=1  # Number of Monte Carlo Runs\n",
    ")"
   ]
  },
  {
   "cell_type": "code",
   "execution_count": 36,
   "metadata": {},
   "outputs": [],
   "source": [
    "result = simulation.run()"
   ]
  },
  {
   "cell_type": "markdown",
   "metadata": {},
   "source": [
    "### 8. Analysis"
   ]
  },
  {
   "cell_type": "code",
   "execution_count": 14,
   "metadata": {},
   "outputs": [],
   "source": [
    "pd.options.plotting.backend = \"plotly\""
   ]
  },
  {
   "cell_type": "code",
   "execution_count": 37,
   "metadata": {},
   "outputs": [
    {
     "data": {
      "text/html": [
       "<div>\n",
       "<style scoped>\n",
       "    .dataframe tbody tr th:only-of-type {\n",
       "        vertical-align: middle;\n",
       "    }\n",
       "\n",
       "    .dataframe tbody tr th {\n",
       "        vertical-align: top;\n",
       "    }\n",
       "\n",
       "    .dataframe thead th {\n",
       "        text-align: right;\n",
       "    }\n",
       "</style>\n",
       "<table border=\"1\" class=\"dataframe\">\n",
       "  <thead>\n",
       "    <tr style=\"text-align: right;\">\n",
       "      <th></th>\n",
       "      <th>agents</th>\n",
       "      <th>simulation</th>\n",
       "      <th>subset</th>\n",
       "      <th>run</th>\n",
       "      <th>substep</th>\n",
       "      <th>timestep</th>\n",
       "    </tr>\n",
       "  </thead>\n",
       "  <tbody>\n",
       "    <tr>\n",
       "      <th>0</th>\n",
       "      <td>{0: &lt;tools.model.ActiveGridference object at 0...</td>\n",
       "      <td>0</td>\n",
       "      <td>0</td>\n",
       "      <td>1</td>\n",
       "      <td>0</td>\n",
       "      <td>0</td>\n",
       "    </tr>\n",
       "    <tr>\n",
       "      <th>1</th>\n",
       "      <td>{0: &lt;tools.model.ActiveGridference object at 0...</td>\n",
       "      <td>0</td>\n",
       "      <td>0</td>\n",
       "      <td>1</td>\n",
       "      <td>1</td>\n",
       "      <td>1</td>\n",
       "    </tr>\n",
       "    <tr>\n",
       "      <th>2</th>\n",
       "      <td>{0: &lt;tools.model.ActiveGridference object at 0...</td>\n",
       "      <td>0</td>\n",
       "      <td>0</td>\n",
       "      <td>1</td>\n",
       "      <td>1</td>\n",
       "      <td>2</td>\n",
       "    </tr>\n",
       "    <tr>\n",
       "      <th>3</th>\n",
       "      <td>{0: &lt;tools.model.ActiveGridference object at 0...</td>\n",
       "      <td>0</td>\n",
       "      <td>0</td>\n",
       "      <td>1</td>\n",
       "      <td>1</td>\n",
       "      <td>3</td>\n",
       "    </tr>\n",
       "    <tr>\n",
       "      <th>4</th>\n",
       "      <td>{0: &lt;tools.model.ActiveGridference object at 0...</td>\n",
       "      <td>0</td>\n",
       "      <td>0</td>\n",
       "      <td>1</td>\n",
       "      <td>1</td>\n",
       "      <td>4</td>\n",
       "    </tr>\n",
       "    <tr>\n",
       "      <th>...</th>\n",
       "      <td>...</td>\n",
       "      <td>...</td>\n",
       "      <td>...</td>\n",
       "      <td>...</td>\n",
       "      <td>...</td>\n",
       "      <td>...</td>\n",
       "    </tr>\n",
       "    <tr>\n",
       "      <th>1095</th>\n",
       "      <td>{0: &lt;tools.model.ActiveGridference object at 0...</td>\n",
       "      <td>0</td>\n",
       "      <td>99</td>\n",
       "      <td>1</td>\n",
       "      <td>1</td>\n",
       "      <td>6</td>\n",
       "    </tr>\n",
       "    <tr>\n",
       "      <th>1096</th>\n",
       "      <td>{0: &lt;tools.model.ActiveGridference object at 0...</td>\n",
       "      <td>0</td>\n",
       "      <td>99</td>\n",
       "      <td>1</td>\n",
       "      <td>1</td>\n",
       "      <td>7</td>\n",
       "    </tr>\n",
       "    <tr>\n",
       "      <th>1097</th>\n",
       "      <td>{0: &lt;tools.model.ActiveGridference object at 0...</td>\n",
       "      <td>0</td>\n",
       "      <td>99</td>\n",
       "      <td>1</td>\n",
       "      <td>1</td>\n",
       "      <td>8</td>\n",
       "    </tr>\n",
       "    <tr>\n",
       "      <th>1098</th>\n",
       "      <td>{0: &lt;tools.model.ActiveGridference object at 0...</td>\n",
       "      <td>0</td>\n",
       "      <td>99</td>\n",
       "      <td>1</td>\n",
       "      <td>1</td>\n",
       "      <td>9</td>\n",
       "    </tr>\n",
       "    <tr>\n",
       "      <th>1099</th>\n",
       "      <td>{0: &lt;tools.model.ActiveGridference object at 0...</td>\n",
       "      <td>0</td>\n",
       "      <td>99</td>\n",
       "      <td>1</td>\n",
       "      <td>1</td>\n",
       "      <td>10</td>\n",
       "    </tr>\n",
       "  </tbody>\n",
       "</table>\n",
       "<p>1100 rows × 6 columns</p>\n",
       "</div>"
      ],
      "text/plain": [
       "                                                 agents  simulation  subset  \\\n",
       "0     {0: <tools.model.ActiveGridference object at 0...           0       0   \n",
       "1     {0: <tools.model.ActiveGridference object at 0...           0       0   \n",
       "2     {0: <tools.model.ActiveGridference object at 0...           0       0   \n",
       "3     {0: <tools.model.ActiveGridference object at 0...           0       0   \n",
       "4     {0: <tools.model.ActiveGridference object at 0...           0       0   \n",
       "...                                                 ...         ...     ...   \n",
       "1095  {0: <tools.model.ActiveGridference object at 0...           0      99   \n",
       "1096  {0: <tools.model.ActiveGridference object at 0...           0      99   \n",
       "1097  {0: <tools.model.ActiveGridference object at 0...           0      99   \n",
       "1098  {0: <tools.model.ActiveGridference object at 0...           0      99   \n",
       "1099  {0: <tools.model.ActiveGridference object at 0...           0      99   \n",
       "\n",
       "      run  substep  timestep  \n",
       "0       1        0         0  \n",
       "1       1        1         1  \n",
       "2       1        1         2  \n",
       "3       1        1         3  \n",
       "4       1        1         4  \n",
       "...   ...      ...       ...  \n",
       "1095    1        1         6  \n",
       "1096    1        1         7  \n",
       "1097    1        1         8  \n",
       "1098    1        1         9  \n",
       "1099    1        1        10  \n",
       "\n",
       "[1100 rows x 6 columns]"
      ]
     },
     "execution_count": 37,
     "metadata": {},
     "output_type": "execute_result"
    }
   ],
   "source": [
    "df = pd.DataFrame(result)\n",
    "df"
   ]
  },
  {
   "cell_type": "code",
   "execution_count": 40,
   "metadata": {},
   "outputs": [
    {
     "data": {
      "text/plain": [
       "array([0., 0., 0., 0., 0., 0., 0., 0., 0., 0., 0., 0., 0., 0., 0., 0., 0.,\n",
       "       0., 0., 0., 0., 0., 0., 0., 0., 0., 0., 0., 0., 0., 0., 0., 0., 0.,\n",
       "       0., 0., 0., 0., 0., 0., 0., 0., 0., 0., 0., 0., 0., 0., 0., 0., 0.,\n",
       "       0., 0., 0., 0., 0., 0., 0., 0., 0., 0., 1., 0., 0., 0., 0., 0., 0.,\n",
       "       0., 0., 0., 0., 0., 0., 0., 0., 0., 0., 0., 0., 0., 0., 0., 0., 0.,\n",
       "       0., 0., 0., 0., 0., 0., 0., 0., 0., 0., 0., 0., 0., 0., 0.])"
      ]
     },
     "execution_count": 40,
     "metadata": {},
     "output_type": "execute_result"
    }
   ],
   "source": [
    "df['agents'][1099][0].C"
   ]
  },
  {
   "cell_type": "code",
   "execution_count": null,
   "metadata": {},
   "outputs": [],
   "source": []
  }
 ],
 "metadata": {
  "interpreter": {
   "hash": "1c40ef074ae3e469314ef3f88e628f0324534f8bca0228ef979810459d0a5ee0"
  },
  "kernelspec": {
   "display_name": "Python 3.8.0 ('cad')",
   "language": "python",
   "name": "python3"
  },
  "language_info": {
   "codemirror_mode": {
    "name": "ipython",
    "version": 3
   },
   "file_extension": ".py",
   "mimetype": "text/x-python",
   "name": "python",
   "nbconvert_exporter": "python",
   "pygments_lexer": "ipython3",
   "version": "3.8.0"
  },
  "orig_nbformat": 4
 },
 "nbformat": 4,
 "nbformat_minor": 2
}
